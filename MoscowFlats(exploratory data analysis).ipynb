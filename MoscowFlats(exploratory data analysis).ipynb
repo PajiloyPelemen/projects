{
 "cells": [
  {
   "cell_type": "markdown",
   "metadata": {},
   "source": [
    "Привет, Евгений!\n",
    "\n",
    "Меня зовут Вячеслав Погорелый, и я буду проводить ревью твоего проекта. \n",
    "\n",
    "Предлагаю перейти на \"ты\", если не против)\n",
    "\n",
    "Но если это не удобно - дай знать, и мы перейдем на \"вы\". Моя главная задача — не находить сделанные тобою ошибки, а передать свой опыт и помочь тебе стать аналитиком данных.\n",
    "\n",
    "Я отметил комментарии и замечания разным цветом далее по тексту markdown:\n",
    "\n",
    "---    \n",
    "<div class=\"alert alert-block alert-danger\">\n",
    "    \n",
    "### Ошибка\n",
    "    \n",
    "Критическое замечание, которые следует исправить.\n",
    "</div> \n",
    "    \n",
    "---\n",
    "    \n",
    "<div class=\"alert alert-block alert-warning\">\n",
    "    \n",
    "### Совет\n",
    "    \n",
    "Замечание\\совет на будущее.\n",
    "</div>\n",
    "    \n",
    "---\n",
    "    \n",
    "<div class=\"alert alert-block alert-success\">\n",
    "    \n",
    "### Успех\n",
    "    \n",
    "Когда всё сделано правильно.\n",
    "</div>\n",
    "    \n",
    "    \n",
    "    \n",
    "Будет здорово, если для ответов ты выберешь любой **<font color=\"maroon\">читабельный и заметный цвет</font>**, так мне будет проще все проверить.\n",
    "\n",
    "\n",
    "При доработке проекта попрошу тебя сохранить и не видоизменять заметки ревьюера, это осложняет повторную проверку."
   ]
  },
  {
   "cell_type": "markdown",
   "metadata": {},
   "source": [
    "<div class=\"alert alert-block alert-success\">\n",
    " \n",
    "# Итоговый Комментарий ревьюера ver.2 \n",
    "    \n",
    "#### Успех\n",
    "    \n",
    "Спасибо тебе за доработку проекта. Вот теперь я его могу принять. Ты отлично постарался и я желаю тебе успехов в дальнешей учебе. Ты точно справишься дальше, я уверен:) "
   ]
  },
  {
   "cell_type": "markdown",
   "metadata": {},
   "source": [
    "# Исследование объявлений о продаже квартир\n",
    "\n",
    "В вашем распоряжении данные сервиса Яндекс.Недвижимость — архив объявлений о продаже квартир в Санкт-Петербурге и соседних населённых пунктов за несколько лет. Нужно научиться определять рыночную стоимость объектов недвижимости. Ваша задача — установить параметры. Это позволит построить автоматизированную систему: она отследит аномалии и мошенническую деятельность. \n",
    "\n",
    "По каждой квартире на продажу доступны два вида данных. Первые вписаны пользователем, вторые — получены автоматически на основе картографических данных. Например, расстояние до центра, аэропорта, ближайшего парка и водоёма. "
   ]
  },
  {
   "cell_type": "markdown",
   "metadata": {},
   "source": [
    "<div class=\"alert alert-block alert-success\">\n",
    " \n",
    "### Комментарий ревьюера\n",
    "    \n",
    "#### Успех\n",
    "    \n",
    "Спасибо тебе за оформление оглавления к проекту "
   ]
  },
  {
   "cell_type": "markdown",
   "metadata": {},
   "source": [
    "### Откройте файл с данными и изучите общую информацию. "
   ]
  },
  {
   "cell_type": "code",
   "execution_count": 1,
   "metadata": {},
   "outputs": [
    {
     "name": "stdout",
     "output_type": "stream",
     "text": [
      "Requirement already satisfied: missingno in /opt/conda/lib/python3.9/site-packages (0.5.2)\n",
      "Requirement already satisfied: numpy in /opt/conda/lib/python3.9/site-packages (from missingno) (1.21.1)\n",
      "Requirement already satisfied: matplotlib in /opt/conda/lib/python3.9/site-packages (from missingno) (3.3.4)\n",
      "Requirement already satisfied: seaborn in /opt/conda/lib/python3.9/site-packages (from missingno) (0.11.1)\n",
      "Requirement already satisfied: scipy in /opt/conda/lib/python3.9/site-packages (from missingno) (1.9.1)\n",
      "Requirement already satisfied: pyparsing!=2.0.4,!=2.1.2,!=2.1.6,>=2.0.3 in /opt/conda/lib/python3.9/site-packages (from matplotlib->missingno) (2.4.7)\n",
      "Requirement already satisfied: kiwisolver>=1.0.1 in /opt/conda/lib/python3.9/site-packages (from matplotlib->missingno) (1.4.4)\n",
      "Requirement already satisfied: pillow>=6.2.0 in /opt/conda/lib/python3.9/site-packages (from matplotlib->missingno) (8.4.0)\n",
      "Requirement already satisfied: cycler>=0.10 in /opt/conda/lib/python3.9/site-packages (from matplotlib->missingno) (0.11.0)\n",
      "Requirement already satisfied: python-dateutil>=2.1 in /opt/conda/lib/python3.9/site-packages (from matplotlib->missingno) (2.8.1)\n",
      "Requirement already satisfied: six>=1.5 in /opt/conda/lib/python3.9/site-packages (from python-dateutil>=2.1->matplotlib->missingno) (1.16.0)\n",
      "Requirement already satisfied: pandas>=0.23 in /opt/conda/lib/python3.9/site-packages (from seaborn->missingno) (1.2.4)\n",
      "Requirement already satisfied: pytz>=2017.3 in /opt/conda/lib/python3.9/site-packages (from pandas>=0.23->seaborn->missingno) (2021.1)\n"
     ]
    }
   ],
   "source": [
    "!pip install missingno"
   ]
  },
  {
   "cell_type": "code",
   "execution_count": 2,
   "metadata": {},
   "outputs": [],
   "source": [
    "import pandas as pd\n",
    "import matplotlib.pyplot as plt\n",
    "import missingno as msno"
   ]
  },
  {
   "cell_type": "code",
   "execution_count": 3,
   "metadata": {},
   "outputs": [
    {
     "data": {
      "text/html": [
       "<div>\n",
       "<style scoped>\n",
       "    .dataframe tbody tr th:only-of-type {\n",
       "        vertical-align: middle;\n",
       "    }\n",
       "\n",
       "    .dataframe tbody tr th {\n",
       "        vertical-align: top;\n",
       "    }\n",
       "\n",
       "    .dataframe thead th {\n",
       "        text-align: right;\n",
       "    }\n",
       "</style>\n",
       "<table border=\"1\" class=\"dataframe\">\n",
       "  <thead>\n",
       "    <tr style=\"text-align: right;\">\n",
       "      <th></th>\n",
       "      <th>total_images</th>\n",
       "      <th>last_price</th>\n",
       "      <th>total_area</th>\n",
       "      <th>first_day_exposition</th>\n",
       "      <th>rooms</th>\n",
       "      <th>ceiling_height</th>\n",
       "      <th>floors_total</th>\n",
       "      <th>living_area</th>\n",
       "      <th>floor</th>\n",
       "      <th>is_apartment</th>\n",
       "      <th>...</th>\n",
       "      <th>kitchen_area</th>\n",
       "      <th>balcony</th>\n",
       "      <th>locality_name</th>\n",
       "      <th>airports_nearest</th>\n",
       "      <th>cityCenters_nearest</th>\n",
       "      <th>parks_around3000</th>\n",
       "      <th>parks_nearest</th>\n",
       "      <th>ponds_around3000</th>\n",
       "      <th>ponds_nearest</th>\n",
       "      <th>days_exposition</th>\n",
       "    </tr>\n",
       "  </thead>\n",
       "  <tbody>\n",
       "    <tr>\n",
       "      <th>0</th>\n",
       "      <td>20</td>\n",
       "      <td>13000000.0</td>\n",
       "      <td>108.0</td>\n",
       "      <td>2019-03-07T00:00:00</td>\n",
       "      <td>3</td>\n",
       "      <td>2.70</td>\n",
       "      <td>16.0</td>\n",
       "      <td>51.0</td>\n",
       "      <td>8</td>\n",
       "      <td>NaN</td>\n",
       "      <td>...</td>\n",
       "      <td>25.0</td>\n",
       "      <td>NaN</td>\n",
       "      <td>Санкт-Петербург</td>\n",
       "      <td>18863.0</td>\n",
       "      <td>16028.0</td>\n",
       "      <td>1.0</td>\n",
       "      <td>482.0</td>\n",
       "      <td>2.0</td>\n",
       "      <td>755.0</td>\n",
       "      <td>NaN</td>\n",
       "    </tr>\n",
       "    <tr>\n",
       "      <th>1</th>\n",
       "      <td>7</td>\n",
       "      <td>3350000.0</td>\n",
       "      <td>40.4</td>\n",
       "      <td>2018-12-04T00:00:00</td>\n",
       "      <td>1</td>\n",
       "      <td>NaN</td>\n",
       "      <td>11.0</td>\n",
       "      <td>18.6</td>\n",
       "      <td>1</td>\n",
       "      <td>NaN</td>\n",
       "      <td>...</td>\n",
       "      <td>11.0</td>\n",
       "      <td>2.0</td>\n",
       "      <td>посёлок Шушары</td>\n",
       "      <td>12817.0</td>\n",
       "      <td>18603.0</td>\n",
       "      <td>0.0</td>\n",
       "      <td>NaN</td>\n",
       "      <td>0.0</td>\n",
       "      <td>NaN</td>\n",
       "      <td>81.0</td>\n",
       "    </tr>\n",
       "    <tr>\n",
       "      <th>2</th>\n",
       "      <td>10</td>\n",
       "      <td>5196000.0</td>\n",
       "      <td>56.0</td>\n",
       "      <td>2015-08-20T00:00:00</td>\n",
       "      <td>2</td>\n",
       "      <td>NaN</td>\n",
       "      <td>5.0</td>\n",
       "      <td>34.3</td>\n",
       "      <td>4</td>\n",
       "      <td>NaN</td>\n",
       "      <td>...</td>\n",
       "      <td>8.3</td>\n",
       "      <td>0.0</td>\n",
       "      <td>Санкт-Петербург</td>\n",
       "      <td>21741.0</td>\n",
       "      <td>13933.0</td>\n",
       "      <td>1.0</td>\n",
       "      <td>90.0</td>\n",
       "      <td>2.0</td>\n",
       "      <td>574.0</td>\n",
       "      <td>558.0</td>\n",
       "    </tr>\n",
       "    <tr>\n",
       "      <th>3</th>\n",
       "      <td>0</td>\n",
       "      <td>64900000.0</td>\n",
       "      <td>159.0</td>\n",
       "      <td>2015-07-24T00:00:00</td>\n",
       "      <td>3</td>\n",
       "      <td>NaN</td>\n",
       "      <td>14.0</td>\n",
       "      <td>NaN</td>\n",
       "      <td>9</td>\n",
       "      <td>NaN</td>\n",
       "      <td>...</td>\n",
       "      <td>NaN</td>\n",
       "      <td>0.0</td>\n",
       "      <td>Санкт-Петербург</td>\n",
       "      <td>28098.0</td>\n",
       "      <td>6800.0</td>\n",
       "      <td>2.0</td>\n",
       "      <td>84.0</td>\n",
       "      <td>3.0</td>\n",
       "      <td>234.0</td>\n",
       "      <td>424.0</td>\n",
       "    </tr>\n",
       "    <tr>\n",
       "      <th>4</th>\n",
       "      <td>2</td>\n",
       "      <td>10000000.0</td>\n",
       "      <td>100.0</td>\n",
       "      <td>2018-06-19T00:00:00</td>\n",
       "      <td>2</td>\n",
       "      <td>3.03</td>\n",
       "      <td>14.0</td>\n",
       "      <td>32.0</td>\n",
       "      <td>13</td>\n",
       "      <td>NaN</td>\n",
       "      <td>...</td>\n",
       "      <td>41.0</td>\n",
       "      <td>NaN</td>\n",
       "      <td>Санкт-Петербург</td>\n",
       "      <td>31856.0</td>\n",
       "      <td>8098.0</td>\n",
       "      <td>2.0</td>\n",
       "      <td>112.0</td>\n",
       "      <td>1.0</td>\n",
       "      <td>48.0</td>\n",
       "      <td>121.0</td>\n",
       "    </tr>\n",
       "  </tbody>\n",
       "</table>\n",
       "<p>5 rows × 22 columns</p>\n",
       "</div>"
      ],
      "text/plain": [
       "   total_images  last_price  total_area first_day_exposition  rooms  \\\n",
       "0            20  13000000.0       108.0  2019-03-07T00:00:00      3   \n",
       "1             7   3350000.0        40.4  2018-12-04T00:00:00      1   \n",
       "2            10   5196000.0        56.0  2015-08-20T00:00:00      2   \n",
       "3             0  64900000.0       159.0  2015-07-24T00:00:00      3   \n",
       "4             2  10000000.0       100.0  2018-06-19T00:00:00      2   \n",
       "\n",
       "   ceiling_height  floors_total  living_area  floor is_apartment  ...  \\\n",
       "0            2.70          16.0         51.0      8          NaN  ...   \n",
       "1             NaN          11.0         18.6      1          NaN  ...   \n",
       "2             NaN           5.0         34.3      4          NaN  ...   \n",
       "3             NaN          14.0          NaN      9          NaN  ...   \n",
       "4            3.03          14.0         32.0     13          NaN  ...   \n",
       "\n",
       "   kitchen_area  balcony    locality_name  airports_nearest  \\\n",
       "0          25.0      NaN  Санкт-Петербург           18863.0   \n",
       "1          11.0      2.0   посёлок Шушары           12817.0   \n",
       "2           8.3      0.0  Санкт-Петербург           21741.0   \n",
       "3           NaN      0.0  Санкт-Петербург           28098.0   \n",
       "4          41.0      NaN  Санкт-Петербург           31856.0   \n",
       "\n",
       "  cityCenters_nearest  parks_around3000  parks_nearest  ponds_around3000  \\\n",
       "0             16028.0               1.0          482.0               2.0   \n",
       "1             18603.0               0.0            NaN               0.0   \n",
       "2             13933.0               1.0           90.0               2.0   \n",
       "3              6800.0               2.0           84.0               3.0   \n",
       "4              8098.0               2.0          112.0               1.0   \n",
       "\n",
       "   ponds_nearest  days_exposition  \n",
       "0          755.0              NaN  \n",
       "1            NaN             81.0  \n",
       "2          574.0            558.0  \n",
       "3          234.0            424.0  \n",
       "4           48.0            121.0  \n",
       "\n",
       "[5 rows x 22 columns]"
      ]
     },
     "execution_count": 3,
     "metadata": {},
     "output_type": "execute_result"
    }
   ],
   "source": [
    "data = pd.read_csv(\"/datasets/real_estate_data.csv\",sep=\"\\t\")\n",
    "\n",
    "old_data = data.shape[0] \n",
    "data.head(5)"
   ]
  },
  {
   "cell_type": "code",
   "execution_count": 4,
   "metadata": {},
   "outputs": [
    {
     "name": "stdout",
     "output_type": "stream",
     "text": [
      "<class 'pandas.core.frame.DataFrame'>\n",
      "RangeIndex: 23699 entries, 0 to 23698\n",
      "Data columns (total 22 columns):\n",
      " #   Column                Non-Null Count  Dtype  \n",
      "---  ------                --------------  -----  \n",
      " 0   total_images          23699 non-null  int64  \n",
      " 1   last_price            23699 non-null  float64\n",
      " 2   total_area            23699 non-null  float64\n",
      " 3   first_day_exposition  23699 non-null  object \n",
      " 4   rooms                 23699 non-null  int64  \n",
      " 5   ceiling_height        14504 non-null  float64\n",
      " 6   floors_total          23613 non-null  float64\n",
      " 7   living_area           21796 non-null  float64\n",
      " 8   floor                 23699 non-null  int64  \n",
      " 9   is_apartment          2775 non-null   object \n",
      " 10  studio                23699 non-null  bool   \n",
      " 11  open_plan             23699 non-null  bool   \n",
      " 12  kitchen_area          21421 non-null  float64\n",
      " 13  balcony               12180 non-null  float64\n",
      " 14  locality_name         23650 non-null  object \n",
      " 15  airports_nearest      18157 non-null  float64\n",
      " 16  cityCenters_nearest   18180 non-null  float64\n",
      " 17  parks_around3000      18181 non-null  float64\n",
      " 18  parks_nearest         8079 non-null   float64\n",
      " 19  ponds_around3000      18181 non-null  float64\n",
      " 20  ponds_nearest         9110 non-null   float64\n",
      " 21  days_exposition       20518 non-null  float64\n",
      "dtypes: bool(2), float64(14), int64(3), object(3)\n",
      "memory usage: 3.7+ MB\n"
     ]
    }
   ],
   "source": [
    "data.info()"
   ]
  },
  {
   "cell_type": "markdown",
   "metadata": {},
   "source": [
    "<div class=\"alert alert-block alert-success\">\n",
    " \n",
    "### Комментарий ревьюера\n",
    "    \n",
    "#### Успех\n",
    "    \n",
    "Первичная информация о данных получена. "
   ]
  },
  {
   "cell_type": "code",
   "execution_count": 5,
   "metadata": {},
   "outputs": [
    {
     "data": {
      "text/plain": [
       "array([[<AxesSubplot:title={'center':'total_images'}>,\n",
       "        <AxesSubplot:title={'center':'last_price'}>,\n",
       "        <AxesSubplot:title={'center':'total_area'}>,\n",
       "        <AxesSubplot:title={'center':'rooms'}>],\n",
       "       [<AxesSubplot:title={'center':'ceiling_height'}>,\n",
       "        <AxesSubplot:title={'center':'floors_total'}>,\n",
       "        <AxesSubplot:title={'center':'living_area'}>,\n",
       "        <AxesSubplot:title={'center':'floor'}>],\n",
       "       [<AxesSubplot:title={'center':'kitchen_area'}>,\n",
       "        <AxesSubplot:title={'center':'balcony'}>,\n",
       "        <AxesSubplot:title={'center':'airports_nearest'}>,\n",
       "        <AxesSubplot:title={'center':'cityCenters_nearest'}>],\n",
       "       [<AxesSubplot:title={'center':'parks_around3000'}>,\n",
       "        <AxesSubplot:title={'center':'parks_nearest'}>,\n",
       "        <AxesSubplot:title={'center':'ponds_around3000'}>,\n",
       "        <AxesSubplot:title={'center':'ponds_nearest'}>],\n",
       "       [<AxesSubplot:title={'center':'days_exposition'}>, <AxesSubplot:>,\n",
       "        <AxesSubplot:>, <AxesSubplot:>]], dtype=object)"
      ]
     },
     "execution_count": 5,
     "metadata": {},
     "output_type": "execute_result"
    },
    {
     "data": {
      "image/png": "[encoded data removed]",
      "text/plain": [
       "<Figure size 1080x1440 with 20 Axes>"
      ]
     },
     "metadata": {
      "needs_background": "light"
     },
     "output_type": "display_data"
    }
   ],
   "source": [
    "data.hist(figsize=(15, 20))\n"
   ]
  },
  {
   "cell_type": "markdown",
   "metadata": {},
   "source": [
    "**<font color=\"maroon\">В некоторых столбцах есть явные выбросы, возможно пользователи что-то перепутали ( потолок 100 метров), но некторые графики даже без обработки выглядят хорошо(ponds around например)</font>**"
   ]
  },
  {
   "cell_type": "markdown",
   "metadata": {},
   "source": [
    "<div class=\"alert alert-block alert-warning\">\n",
    " \n",
    "### Комментарий ревьюера\n",
    "    \n",
    "#### Совет\n",
    "    \n",
    "Чтобы убрать текстовые предупреждения с графиков, используй plt.show()"
   ]
  },
  {
   "cell_type": "markdown",
   "metadata": {},
   "source": [
    "<div class=\"alert alert-block alert-danger\">\n",
    " \n",
    "### Комментарий ревьюера\n",
    "    \n",
    "#### Ошибка\n",
    "    \n",
    "Сюда бы добавить небольшой промежуточный вывод по итогу знакомства с данными. "
   ]
  },
  {
   "cell_type": "markdown",
   "metadata": {},
   "source": [
    "<div class=\"alert alert-block alert-success\">\n",
    " \n",
    "# Комментарий ревьюера ver.2 \n",
    "    \n",
    "#### Успех\n",
    "    \n",
    "Исправлено"
   ]
  },
  {
   "cell_type": "markdown",
   "metadata": {},
   "source": [
    "### Предобработка данных"
   ]
  },
  {
   "cell_type": "code",
   "execution_count": 6,
   "metadata": {},
   "outputs": [
    {
     "name": "stdout",
     "output_type": "stream",
     "text": [
      "total_images 0\n",
      "last_price 0\n",
      "total_area 0\n",
      "first_day_exposition 0\n",
      "rooms 0\n",
      "ceiling_height 9195\n",
      "floors_total 86\n",
      "living_area 1903\n",
      "floor 0\n",
      "is_apartment 20924\n",
      "studio 0\n",
      "open_plan 0\n",
      "kitchen_area 2278\n",
      "balcony 11519\n",
      "locality_name 49\n",
      "airports_nearest 5542\n",
      "cityCenters_nearest 5519\n",
      "parks_around3000 5518\n",
      "parks_nearest 15620\n",
      "ponds_around3000 5518\n",
      "ponds_nearest 14589\n",
      "days_exposition 3181\n"
     ]
    }
   ],
   "source": [
    "for column in data.columns:\n",
    "    print(column,data[column].isna().sum())"
   ]
  },
  {
   "cell_type": "code",
   "execution_count": 7,
   "metadata": {},
   "outputs": [
    {
     "data": {
      "text/plain": [
       "<AxesSubplot:>"
      ]
     },
     "execution_count": 7,
     "metadata": {},
     "output_type": "execute_result"
    },
    {
     "data": {
      "image/png": "[encoded data removed]",
      "text/plain": [
       "<Figure size 1800x720 with 2 Axes>"
      ]
     },
     "metadata": {
      "needs_background": "light"
     },
     "output_type": "display_data"
    }
   ],
   "source": [
    "msno.matrix(data, labels=True)"
   ]
  },
  {
   "cell_type": "markdown",
   "metadata": {},
   "source": [
    "<div class=\"alert alert-block alert-warning\">\n",
    " \n",
    "### Комментарий ревьюера\n",
    "    \n",
    "#### Совет\n",
    "    \n",
    "Для визуализации пропусков лучше всего использовать такой метод https://russianblogs.com/article/5001266235/"
   ]
  },
  {
   "cell_type": "code",
   "execution_count": 8,
   "metadata": {},
   "outputs": [
    {
     "data": {
      "text/plain": [
       "False    2725\n",
       "True       50\n",
       "Name: is_apartment, dtype: int64"
      ]
     },
     "execution_count": 8,
     "metadata": {},
     "output_type": "execute_result"
    }
   ],
   "source": [
    "data[\"is_apartment\"].value_counts()\n"
   ]
  },
  {
   "cell_type": "code",
   "execution_count": 9,
   "metadata": {},
   "outputs": [
    {
     "data": {
      "text/plain": [
       "84869.0"
      ]
     },
     "execution_count": 9,
     "metadata": {},
     "output_type": "execute_result"
    }
   ],
   "source": [
    "data[\"airports_nearest\"].max()"
   ]
  },
  {
   "cell_type": "code",
   "execution_count": 10,
   "metadata": {},
   "outputs": [
    {
     "data": {
      "text/plain": [
       "0.6091211711198318"
      ]
     },
     "execution_count": 10,
     "metadata": {},
     "output_type": "execute_result"
    }
   ],
   "source": [
    "data['total_area'].corr(data['kitchen_area']) #корреляция есть, но слабая (0.6091211711198318), наверное лучше оставить NaN\n",
    "#(data[\"kitchen_area\"] / data['total_area']).median() #медианный коэфициент"
   ]
  },
  {
   "cell_type": "code",
   "execution_count": 11,
   "metadata": {},
   "outputs": [
    {
     "data": {
      "text/plain": [
       "0.5678598992678503"
      ]
     },
     "execution_count": 11,
     "metadata": {},
     "output_type": "execute_result"
    }
   ],
   "source": [
    "data['total_area'].corr(data['living_area']) #корреляция есть\n",
    "(data[\"living_area\"] / data['total_area']).median() #медианный коэфициент"
   ]
  },
  {
   "cell_type": "code",
   "execution_count": 12,
   "metadata": {},
   "outputs": [],
   "source": [
    "#Если пусто - значит нет\n",
    "data[\"balcony\"] = data[\"balcony\"].fillna(value=0)\n",
    "data[\"ponds_around3000\"] = data[\"ponds_around3000\"].fillna(value=0)\n",
    "data[\"parks_around3000\"] = data[\"parks_around3000\"].fillna(value=0)\n",
    "#Забыли внести, беру медиану\n",
    "data[\"ceiling_height\"] = data[\"ceiling_height\"].fillna(value=data[\"ceiling_height\"])\n",
    "#Если не указано что апартаменты - скорее всего это не апартаменты (False    23649,True        50)\n",
    "data[\"is_apartment\"] = data[\"is_apartment\"].fillna(value=False)\n",
    "#Между общей площадью и жилой есть кореляция 0.9, медианный коэфициент 0.5678598992678503\n",
    "data[\"living_area\"] = data[\"living_area\"].fillna(value=data['total_area']* 0.5678598992678503)"
   ]
  },
  {
   "cell_type": "markdown",
   "metadata": {},
   "source": [
    "airports_nearest NaN = Скорее всего до аэропорта больше 100 км (Везде населенные пункты это села или поселки, макс = 84км), пока не знаю нужно ли менять на большое число\n",
    "floors_total = Просто не указали\n",
    "kitchen_area = Не указали, корреляция с total_area есть, но слабая, наверное лучше оставить NaN\n",
    "parks_nearest ponds_nearest = парка или водоема рядом нет"
   ]
  },
  {
   "cell_type": "markdown",
   "metadata": {},
   "source": [
    "<div class=\"alert alert-block alert-success\">\n",
    " \n",
    "### Комментарий ревьюера\n",
    "    \n",
    "#### Успех\n",
    "    \n",
    "В целом, по замене пропусков согласен. Значения-заглушки это хорошее решение. "
   ]
  },
  {
   "cell_type": "code",
   "execution_count": 13,
   "metadata": {},
   "outputs": [
    {
     "name": "stdout",
     "output_type": "stream",
     "text": [
      "<class 'pandas.core.frame.DataFrame'>\n",
      "RangeIndex: 23699 entries, 0 to 23698\n",
      "Data columns (total 22 columns):\n",
      " #   Column                Non-Null Count  Dtype  \n",
      "---  ------                --------------  -----  \n",
      " 0   total_images          23699 non-null  int64  \n",
      " 1   last_price            23699 non-null  float64\n",
      " 2   total_area            23699 non-null  float64\n",
      " 3   first_day_exposition  23699 non-null  object \n",
      " 4   rooms                 23699 non-null  int64  \n",
      " 5   ceiling_height        14504 non-null  float64\n",
      " 6   floors_total          23613 non-null  float64\n",
      " 7   living_area           23699 non-null  float64\n",
      " 8   floor                 23699 non-null  int64  \n",
      " 9   is_apartment          23699 non-null  bool   \n",
      " 10  studio                23699 non-null  bool   \n",
      " 11  open_plan             23699 non-null  bool   \n",
      " 12  kitchen_area          21421 non-null  float64\n",
      " 13  balcony               23699 non-null  float64\n",
      " 14  locality_name         23650 non-null  object \n",
      " 15  airports_nearest      18157 non-null  float64\n",
      " 16  cityCenters_nearest   18180 non-null  float64\n",
      " 17  parks_around3000      23699 non-null  float64\n",
      " 18  parks_nearest         8079 non-null   float64\n",
      " 19  ponds_around3000      23699 non-null  float64\n",
      " 20  ponds_nearest         9110 non-null   float64\n",
      " 21  days_exposition       20518 non-null  float64\n",
      "dtypes: bool(3), float64(14), int64(3), object(2)\n",
      "memory usage: 3.5+ MB\n"
     ]
    }
   ],
   "source": [
    "data.info()\n",
    "#Нужно поменять first_day_exposition  "
   ]
  },
  {
   "cell_type": "code",
   "execution_count": 14,
   "metadata": {},
   "outputs": [
    {
     "name": "stdout",
     "output_type": "stream",
     "text": [
      "<class 'pandas.core.frame.DataFrame'>\n",
      "RangeIndex: 23699 entries, 0 to 23698\n",
      "Data columns (total 22 columns):\n",
      " #   Column                Non-Null Count  Dtype         \n",
      "---  ------                --------------  -----         \n",
      " 0   total_images          23699 non-null  int64         \n",
      " 1   last_price            23699 non-null  float64       \n",
      " 2   total_area            23699 non-null  float64       \n",
      " 3   first_day_exposition  23699 non-null  datetime64[ns]\n",
      " 4   rooms                 23699 non-null  int64         \n",
      " 5   ceiling_height        14504 non-null  float64       \n",
      " 6   floors_total          23613 non-null  float64       \n",
      " 7   living_area           23699 non-null  float64       \n",
      " 8   floor                 23699 non-null  int64         \n",
      " 9   is_apartment          23699 non-null  bool          \n",
      " 10  studio                23699 non-null  bool          \n",
      " 11  open_plan             23699 non-null  bool          \n",
      " 12  kitchen_area          21421 non-null  float64       \n",
      " 13  balcony               23699 non-null  float64       \n",
      " 14  locality_name         23650 non-null  object        \n",
      " 15  airports_nearest      18157 non-null  float64       \n",
      " 16  cityCenters_nearest   18180 non-null  float64       \n",
      " 17  parks_around3000      23699 non-null  float64       \n",
      " 18  parks_nearest         8079 non-null   float64       \n",
      " 19  ponds_around3000      23699 non-null  float64       \n",
      " 20  ponds_nearest         9110 non-null   float64       \n",
      " 21  days_exposition       20518 non-null  float64       \n",
      "dtypes: bool(3), datetime64[ns](1), float64(14), int64(3), object(1)\n",
      "memory usage: 3.5+ MB\n"
     ]
    }
   ],
   "source": [
    "#2018-10-02T00:00:00\n",
    "data[\"first_day_exposition\"] = pd.to_datetime(data[\"first_day_exposition\"], format=\"%Y-%m-%dT%H:%M:%S\")\n",
    "data.info()"
   ]
  },
  {
   "cell_type": "markdown",
   "metadata": {},
   "source": [
    "<div class=\"alert alert-block alert-success\">\n",
    " \n",
    "### Комментарий ревьюера\n",
    "    \n",
    "#### Успех\n",
    "    \n",
    "Классный метод тобой использован для приведения даты."
   ]
  },
  {
   "cell_type": "markdown",
   "metadata": {},
   "source": [
    "В виде даты, дата полезнее"
   ]
  },
  {
   "cell_type": "code",
   "execution_count": 15,
   "metadata": {},
   "outputs": [
    {
     "data": {
      "text/plain": [
       "365"
      ]
     },
     "execution_count": 15,
     "metadata": {},
     "output_type": "execute_result"
    }
   ],
   "source": [
    "len(data[\"locality_name\"].unique()) #Количество населенных пунктов с дупликатами"
   ]
  },
  {
   "cell_type": "code",
   "execution_count": 16,
   "metadata": {},
   "outputs": [],
   "source": [
    "data.loc[(data[\"locality_name\"]==\"поселок городского типа Рябово\") | (data[\"locality_name\"]==\"посёлок городского типа Рябово\"), \"locality_name\"] = 'поселок Рябово'\n",
    "#data.loc[data[\"locality_name\"] == 'городской посёлок Янино-1' ,\"locality_name\"] = 'городской поселок Янино-1'\n",
    "data.loc[(data[\"locality_name\"]=='посёлок Мурино') | (data[\"locality_name\"]=='поселок Мурино'), \"locality_name\"] = 'Мурино'\n",
    "data.loc[data[\"locality_name\"] == 'городской посёлок Фёдоровское' ,\"locality_name\"] = 'деревня Фёдоровское'\n",
    "data.loc[data[\"locality_name\"] == 'деревня Кудрово' ,\"locality_name\"] = 'Кудрово'\n",
    "data.loc[data[\"locality_name\"] == 'поселок при железнодорожной станции Вещево' ,\"locality_name\"] = 'поселок станции Вещево'\n",
    "data.loc[data[\"locality_name\"] == 'поселок при железнодорожной станции Приветнинское' ,\"locality_name\"] = 'поселок станции Приветнинское'\n",
    "data.loc[data[\"locality_name\"] == 'поселок Любань' ,\"locality_name\"] = 'Любань'\n",
    "data.loc[data[\"locality_name\"] == 'поселок Гарболово' ,\"locality_name\"] = 'деревня Гарболово'\n",
    "#data.loc[data[\"locality_name\"] == 'городской поселок Рощино' ,\"locality_name\"] = 'поселок городского типа Рощино'\n",
    "#data.loc[data[\"locality_name\"] == 'городской поселок Павлово' ,\"locality_name\"] = 'поселок городского типа Павлово'\n",
    "#data.loc[data[\"locality_name\"] == 'городской поселок Советский' ,\"locality_name\"] = 'поселок городского типа Советский'\n",
    "#data.loc[data[\"locality_name\"] == 'городской поселок Большая Ижора' ,\"locality_name\"] = 'поселок городского типа Большая Ижора'"
   ]
  },
  {
   "cell_type": "code",
   "execution_count": 17,
   "metadata": {},
   "outputs": [],
   "source": [
    "for name in data[\"locality_name\"]:\n",
    "    if isinstance(name,str):\n",
    "        if \"ё\" in name:\n",
    "            data.loc[data[\"locality_name\"] == name ,\"locality_name\"] = name.replace(\"ё\",\"е\")\n",
    "        "
   ]
  },
  {
   "cell_type": "code",
   "execution_count": 18,
   "metadata": {},
   "outputs": [],
   "source": [
    "for name in data[\"locality_name\"]:\n",
    "    if isinstance(name,str):\n",
    "        if \"городской поселок\" in name:\n",
    "            data.loc[data[\"locality_name\"] == name ,\"locality_name\"] = name.replace(\"городской поселок\",\"поселок городского типа\")"
   ]
  },
  {
   "cell_type": "code",
   "execution_count": 19,
   "metadata": {},
   "outputs": [
    {
     "name": "stdout",
     "output_type": "stream",
     "text": [
      "['Коммунар', 'поселок Коммунары']\n",
      "['поселок городского типа Красный Бор', 'Сосновый Бор', 'деревня Чудской Бор', 'деревня Бор', 'деревня Трубников Бор', 'поселок Пансионат Зеленый Бор', 'деревня Борисова Грива']\n",
      "['садовое товарищество Новая Ропша', 'поселок Ропша']\n",
      "['Кингисепп', 'поселок Кингисеппский']\n",
      "['деревня Старая', 'поселок Старая Малукса', 'село Старая Ладога', 'деревня Старая Пустошь']\n",
      "['поселок Новый Свет', 'Светогорск']\n",
      "['Никольское', 'село Никольское']\n",
      "['поселок городского типа Красный Бор', 'Сосновый Бор', 'деревня Чудской Бор', 'деревня Бор', 'деревня Трубников Бор', 'поселок Пансионат Зеленый Бор', 'деревня Борисова Грива']\n",
      "['поселок Романовка', 'деревня Малая Романовка']\n",
      "['Луга', 'поселок Усть-Луга']\n",
      "['село Павлово', 'поселок городского типа Павлово']\n",
      "['поселок городского типа Большая Ижора', 'поселок Усть-Ижора']\n",
      "['село Павлово', 'поселок городского типа Павлово']\n",
      "['поселок городского типа Рахья', 'садовое товарищество Рахья']\n",
      "['деревня Большие Колпаны', 'деревня Малые Колпаны']\n",
      "['Новая Ладога', 'село Старая Ладога']\n",
      "['поселок Зимитицы', 'деревня Зимитицы']\n",
      "['деревня Бегуницы', 'деревня Старые Бегуницы']\n",
      "['поселок станции Вещево', 'поселок при железнодорожной станции Вещево']\n",
      "['деревня Калитино', 'поселок Калитино']\n",
      "['поселок городского типа Красный Бор', 'Сосновый Бор', 'деревня Чудской Бор', 'деревня Бор', 'деревня Трубников Бор', 'поселок Пансионат Зеленый Бор', 'деревня Борисова Грива']\n",
      "['садовое товарищество Новая Ропша', 'поселок Ропша']\n",
      "['поселок городского типа Приладожский', 'садовое товарищество Приладожский']\n",
      "['поселок Щеглово', 'деревня Щеглово']\n",
      "['деревня Рабитицы', 'поселок Рабитицы']\n",
      "['деревня Большие Колпаны', 'деревня Малые Колпаны']\n",
      "['поселок городского типа Рахья', 'садовое товарищество Рахья']\n",
      "['деревня Бегуницы', 'деревня Старые Бегуницы']\n",
      "['поселок станции Приветнинское', 'поселок при железнодорожной станции Приветнинское']\n",
      "['Никольское', 'село Никольское']\n",
      "['Новая Ладога', 'село Старая Ладога']\n",
      "['поселок городского типа Дружная Горка', 'поселок Форт Красная Горка']\n",
      "['поселок Щеглово', 'деревня Щеглово']\n",
      "['поселок станции Вещево', 'поселок при железнодорожной станции Вещево']\n",
      "['поселок городского типа Дружная Горка', 'поселок Форт Красная Горка']\n",
      "['поселок станции Громово', 'поселок Громово']\n",
      "['поселок станции Приветнинское', 'поселок при железнодорожной станции Приветнинское']\n",
      "['поселок городского типа Красный Бор', 'Сосновый Бор', 'деревня Чудской Бор', 'деревня Бор', 'деревня Трубников Бор', 'поселок Пансионат Зеленый Бор', 'деревня Борисова Грива']\n",
      "['поселок Зимитицы', 'деревня Зимитицы']\n",
      "['поселок Лесное', 'коттеджный поселок Лесное']\n",
      "['поселок станции Свирь', 'поселок городского типа Свирьстрой']\n",
      "['село Русско-Высоцкое', 'Высоцк']\n",
      "['поселок станции Громово', 'поселок Громово']\n",
      "['поселок городского типа Красный Бор', 'Сосновый Бор', 'деревня Чудской Бор', 'деревня Бор', 'деревня Трубников Бор', 'поселок Пансионат Зеленый Бор', 'деревня Борисова Грива']\n",
      "['деревня Калитино', 'поселок Калитино']\n",
      "['поселок городского типа Приладожский', 'садовое товарищество Приладожский']\n",
      "['поселок городского типа Красный Бор', 'Сосновый Бор', 'деревня Чудской Бор', 'деревня Бор', 'деревня Трубников Бор', 'поселок Пансионат Зеленый Бор', 'деревня Борисова Грива']\n",
      "['деревня Рабитицы', 'поселок Рабитицы']\n",
      "['село Русско-Высоцкое', 'деревня Русско']\n",
      "['поселок Романовка', 'деревня Малая Романовка']\n",
      "['поселок Лесное', 'коттеджный поселок Лесное']\n"
     ]
    }
   ],
   "source": [
    "for name in data[\"locality_name\"].unique():\n",
    "    if isinstance(name,str):\n",
    "        name = name.split()\n",
    "        dupls = []\n",
    "        for name1 in data[\"locality_name\"].unique():\n",
    "            if isinstance(name1,str):\n",
    "                if name[-1] in name1:\n",
    "                    dupls.append(name1)\n",
    "        if len(dupls) > 1:\n",
    "            print(dupls)\n",
    "    \n",
    "#Никольское и село Никольское разные места\n",
    "#село Павлово поселок городского типа Павлово разные\n",
    "#['Коммунар', 'поселок Коммунары'] Разные\n",
    "#['поселок Зимитицы', 'деревня Зимитицы'] Разные (но оч близко)\n",
    "#['поселок станции Громово', 'поселок Громово'] Разные\n",
    "#['деревня Калитино', 'поселок Калитино'] Разные (но оч близко)\n",
    "#['поселок Щеглово', 'деревня Щеглово'] Разные\n",
    "#['поселок Лесное', 'коттеджный поселок Лесное'] Разное"
   ]
  },
  {
   "cell_type": "code",
   "execution_count": 20,
   "metadata": {},
   "outputs": [
    {
     "data": {
      "text/plain": [
       "318"
      ]
     },
     "execution_count": 20,
     "metadata": {},
     "output_type": "execute_result"
    }
   ],
   "source": [
    "len(data[\"locality_name\"].unique()) # Количетво населенных пунктов без дубликатов \n",
    "#365-308 = 57 неявных дубликатов"
   ]
  },
  {
   "cell_type": "markdown",
   "metadata": {},
   "source": [
    " **<font color=\"maroon\">убрали 57 неявных дубликатов</font>**"
   ]
  },
  {
   "cell_type": "markdown",
   "metadata": {},
   "source": [
    "<div class=\"alert alert-block alert-danger\">\n",
    " \n",
    "### Комментарий ревьюера\n",
    "    \n",
    "#### Ошибка\n",
    "    \n",
    "Надо бы здесь показать от какого количества неявных дублей нам удалось избавиться"
   ]
  },
  {
   "cell_type": "markdown",
   "metadata": {},
   "source": [
    "<div class=\"alert alert-block alert-success\">\n",
    " \n",
    "# Комментарий ревьюера ver.2 \n",
    "    \n",
    "#### Успех\n",
    "    \n",
    "И тут хорошо"
   ]
  },
  {
   "cell_type": "code",
   "execution_count": 21,
   "metadata": {},
   "outputs": [
    {
     "data": {
      "text/plain": [
       "<AxesSubplot:>"
      ]
     },
     "execution_count": 21,
     "metadata": {},
     "output_type": "execute_result"
    },
    {
     "data": {
      "image/png": "[encoded data removed]",
      "text/plain": [
       "<Figure size 432x288 with 1 Axes>"
      ]
     },
     "metadata": {
      "needs_background": "light"
     },
     "output_type": "display_data"
    }
   ],
   "source": [
    "data.boxplot(\"ceiling_height\")\n",
    "\n"
   ]
  },
  {
   "cell_type": "markdown",
   "metadata": {},
   "source": [
    "**<font color=\"maroon\">Потолок выше 20 метров - нереально, но то, что пользователь просто хотел написать, например, 2,5 метра, но забыл точку очень похоже на правду</font>**"
   ]
  },
  {
   "cell_type": "code",
   "execution_count": 22,
   "metadata": {},
   "outputs": [
    {
     "data": {
      "text/plain": [
       "<AxesSubplot:>"
      ]
     },
     "execution_count": 22,
     "metadata": {},
     "output_type": "execute_result"
    },
    {
     "data": {
      "image/png": "[encoded data removed]",
      "text/plain": [
       "<Figure size 432x288 with 1 Axes>"
      ]
     },
     "metadata": {
      "needs_background": "light"
     },
     "output_type": "display_data"
    }
   ],
   "source": [
    "data.loc[data[\"ceiling_height\"] >= 20,\"ceiling_height\"] = data.loc[data[\"ceiling_height\"] >= 20,\"ceiling_height\"] / 10\n",
    "data.boxplot(\"ceiling_height\")"
   ]
  },
  {
   "cell_type": "markdown",
   "metadata": {},
   "source": [
    "**<font color=\"maroon\">Потолок ниже 2 метров нереалистично, но непонятно почему так написали, поэтому удалим. выше 3.2 метра тоже уже редкие значения</font>**"
   ]
  },
  {
   "cell_type": "code",
   "execution_count": 23,
   "metadata": {},
   "outputs": [
    {
     "data": {
      "text/plain": [
       "<AxesSubplot:>"
      ]
     },
     "execution_count": 23,
     "metadata": {},
     "output_type": "execute_result"
    },
    {
     "data": {
      "image/png": "[encoded data removed]",
      "text/plain": [
       "<Figure size 432x288 with 1 Axes>"
      ]
     },
     "metadata": {
      "needs_background": "light"
     },
     "output_type": "display_data"
    }
   ],
   "source": [
    "data = data.loc[~(data[\"ceiling_height\"] >= 4.2),:]\n",
    "data = data.loc[~(data[\"ceiling_height\"] <= 2),:]\n",
    "data.boxplot(\"ceiling_height\")"
   ]
  },
  {
   "cell_type": "markdown",
   "metadata": {},
   "source": [
    "<div class=\"alert alert-block alert-danger\">\n",
    " \n",
    "### Комментарий ревьюера\n",
    "    \n",
    "#### Ошибка\n",
    "    \n",
    "В целом, согласен с действиями и здесь, но только не забывай добавлять выводы и пояснения. Надо добавить описание того, почему ты решаешь делать именно так. "
   ]
  },
  {
   "cell_type": "markdown",
   "metadata": {},
   "source": [
    "<div class=\"alert alert-block alert-success\">\n",
    " \n",
    "# Комментарий ревьюера ver.2 \n",
    "    \n",
    "#### Успех\n",
    "    \n",
    "Здорово"
   ]
  },
  {
   "cell_type": "code",
   "execution_count": 24,
   "metadata": {},
   "outputs": [
    {
     "data": {
      "text/plain": [
       "<AxesSubplot:>"
      ]
     },
     "execution_count": 24,
     "metadata": {},
     "output_type": "execute_result"
    },
    {
     "data": {
      "image/png": "[encoded data removed]",
      "text/plain": [
       "<Figure size 432x288 with 1 Axes>"
      ]
     },
     "metadata": {
      "needs_background": "light"
     },
     "output_type": "display_data"
    }
   ],
   "source": [
    "\n",
    "data.loc[data[\"total_area\"] >= 120,\"total_area\"] = data.loc[data[\"total_area\"] >= 120,\"total_area\"] / 10\n",
    "#data = data.loc[~(data[\"total_area\"] >= 110),:]\n",
    "\n",
    "data.boxplot(\"total_area\")\n"
   ]
  },
  {
   "cell_type": "code",
   "execution_count": 25,
   "metadata": {},
   "outputs": [
    {
     "data": {
      "text/plain": [
       "<AxesSubplot:>"
      ]
     },
     "execution_count": 25,
     "metadata": {},
     "output_type": "execute_result"
    },
    {
     "data": {
      "image/png": "[encoded data removed]",
      "text/plain": [
       "<Figure size 432x288 with 1 Axes>"
      ]
     },
     "metadata": {
      "needs_background": "light"
     },
     "output_type": "display_data"
    }
   ],
   "source": [
    "data.loc[(data[\"kitchen_area\"] >= data[\"total_area\"] //2),\"kitchen_area\"] = data.loc[(data[\"kitchen_area\"] >= data[\"total_area\"] //2),\"kitchen_area\"] / 10\n",
    "#data = data.loc[~(data[\"kitchen_area\"] >= 18),:]\n",
    "\n",
    "data.boxplot(\"kitchen_area\")\n"
   ]
  },
  {
   "cell_type": "code",
   "execution_count": 26,
   "metadata": {},
   "outputs": [
    {
     "data": {
      "text/plain": [
       "<AxesSubplot:>"
      ]
     },
     "execution_count": 26,
     "metadata": {},
     "output_type": "execute_result"
    },
    {
     "data": {
      "image/png": "[encoded data removed]",
      "text/plain": [
       "<Figure size 432x288 with 1 Axes>"
      ]
     },
     "metadata": {
      "needs_background": "light"
     },
     "output_type": "display_data"
    }
   ],
   "source": [
    "data = data.loc[~(data[\"rooms\"] >= 6),:]\n",
    "data.boxplot(\"rooms\")"
   ]
  },
  {
   "cell_type": "code",
   "execution_count": 27,
   "metadata": {},
   "outputs": [
    {
     "data": {
      "text/plain": [
       "<AxesSubplot:>"
      ]
     },
     "execution_count": 27,
     "metadata": {},
     "output_type": "execute_result"
    },
    {
     "data": {
      "image/png": "[encoded data removed]",
      "text/plain": [
       "<Figure size 432x288 with 1 Axes>"
      ]
     },
     "metadata": {
      "needs_background": "light"
     },
     "output_type": "display_data"
    }
   ],
   "source": [
    "data.loc[data[\"last_price\"] >= 20000000,\"last_price\"] = data.loc[data[\"last_price\"] >= 20000000,\"last_price\"] / 10\n",
    "#data = data.loc[~(data[\"last_price\"] >= 12000000),:]\n",
    "data.boxplot(\"last_price\")\n",
    "#data.sort_values(\"last_price\")"
   ]
  },
  {
   "cell_type": "code",
   "execution_count": 28,
   "metadata": {},
   "outputs": [
    {
     "data": {
      "text/plain": [
       "<AxesSubplot:>"
      ]
     },
     "execution_count": 28,
     "metadata": {},
     "output_type": "execute_result"
    },
    {
     "data": {
      "image/png": "[encoded data removed]",
      "text/plain": [
       "<Figure size 432x288 with 1 Axes>"
      ]
     },
     "metadata": {
      "needs_background": "light"
     },
     "output_type": "display_data"
    }
   ],
   "source": [
    "data.loc[(data[\"living_area\"] >= data[\"total_area\"] * 0.5678598992678503),\"living_area\"] = data.loc[(data[\"living_area\"] >= data[\"total_area\"] *0.5678598992678503),\"living_area\"] / 10\n",
    "data = data.loc[~(data[\"living_area\"] >= 60),:]\n",
    "data = data.loc[~(data[\"living_area\"] == 0),:]\n",
    "data.boxplot(\"living_area\")"
   ]
  },
  {
   "cell_type": "code",
   "execution_count": 29,
   "metadata": {},
   "outputs": [
    {
     "data": {
      "text/plain": [
       "<AxesSubplot:>"
      ]
     },
     "execution_count": 29,
     "metadata": {},
     "output_type": "execute_result"
    },
    {
     "data": {
      "image/png": "[encoded data removed]",
      "text/plain": [
       "<Figure size 432x288 with 1 Axes>"
      ]
     },
     "metadata": {
      "needs_background": "light"
     },
     "output_type": "display_data"
    }
   ],
   "source": [
    "data = data.loc[~(data[\"total_images\"] >= 26),:]\n",
    "data.boxplot(\"total_images\")"
   ]
  },
  {
   "cell_type": "code",
   "execution_count": 30,
   "metadata": {},
   "outputs": [
    {
     "data": {
      "text/plain": [
       "<AxesSubplot:>"
      ]
     },
     "execution_count": 30,
     "metadata": {},
     "output_type": "execute_result"
    },
    {
     "data": {
      "image/png": "[encoded data removed]",
      "text/plain": [
       "<Figure size 432x288 with 1 Axes>"
      ]
     },
     "metadata": {
      "needs_background": "light"
     },
     "output_type": "display_data"
    }
   ],
   "source": [
    "#data = data.loc[~(data[\"floors_total\"] >= 30),:]\n",
    "data.boxplot(\"floors_total\")\n",
    "#data[data[\"floors_total\"] >= 30]"
   ]
  },
  {
   "cell_type": "code",
   "execution_count": 31,
   "metadata": {},
   "outputs": [
    {
     "data": {
      "text/plain": [
       "<AxesSubplot:>"
      ]
     },
     "execution_count": 31,
     "metadata": {},
     "output_type": "execute_result"
    },
    {
     "data": {
      "image/png": "[encoded data removed]",
      "text/plain": [
       "<Figure size 432x288 with 1 Axes>"
      ]
     },
     "metadata": {
      "needs_background": "light"
     },
     "output_type": "display_data"
    }
   ],
   "source": [
    "data = data.loc[~(data[\"days_exposition\"] >= 500),:]\n",
    "data.boxplot(\"days_exposition\")"
   ]
  },
  {
   "cell_type": "markdown",
   "metadata": {},
   "source": [
    "<div class=\"alert alert-block alert-danger\">\n",
    " \n",
    "### Комментарий ревьюера\n",
    "    \n",
    "#### Ошибка\n",
    "    \n",
    "Вот согласен со всем, но только надо посчитать сколько данных у нас осталось после ограничения выбросов. Основаня цель оставить для анализа не менее 90% данных от первоначальных, иначе результат исследования может исказиться. "
   ]
  },
  {
   "cell_type": "markdown",
   "metadata": {},
   "source": [
    "<div class=\"alert alert-block alert-success\">\n",
    " \n",
    "# Комментарий ревьюера ver.2 \n",
    "    \n",
    "#### Успех\n",
    "    \n",
    "Так лучше. Мы убедились, что данных у нас осталось достаточно"
   ]
  },
  {
   "cell_type": "markdown",
   "metadata": {},
   "source": [
    "Автоматические данные сильно надежнее, много нереалистично больших цен, площадей и прочего. Возможно это тоже стоит автоматизировать или сделать более понятные инструкции при создании объявления"
   ]
  },
  {
   "cell_type": "code",
   "execution_count": 32,
   "metadata": {},
   "outputs": [
    {
     "data": {
      "text/plain": [
       "0.9134140681041394"
      ]
     },
     "execution_count": 32,
     "metadata": {},
     "output_type": "execute_result"
    }
   ],
   "source": [
    "#23699 строк изначально\n",
    "#17420 / 23699 = 0.7350521119034559   упс, щедро поудалял\n",
    "\n",
    "data.shape[0] / old_data # теперь нормально"
   ]
  },
  {
   "cell_type": "markdown",
   "metadata": {},
   "source": [
    "**<font color=\"maroon\">91% данных остался.</font>**"
   ]
  },
  {
   "cell_type": "markdown",
   "metadata": {},
   "source": [
    "### Посчитайте и добавьте в таблицу новые столбцы"
   ]
  },
  {
   "cell_type": "code",
   "execution_count": 33,
   "metadata": {},
   "outputs": [
    {
     "data": {
      "text/plain": [
       "<AxesSubplot:>"
      ]
     },
     "execution_count": 33,
     "metadata": {},
     "output_type": "execute_result"
    },
    {
     "data": {
      "image/png": "[encoded data removed]",
      "text/plain": [
       "<Figure size 432x288 with 1 Axes>"
      ]
     },
     "metadata": {
      "needs_background": "light"
     },
     "output_type": "display_data"
    }
   ],
   "source": [
    "data[\"m2_price\"] = data[\"last_price\"] / data[\"total_area\"]\n",
    "#data.hist(\"m2_price\",bins=100)\n",
    "data[data[\"m2_price\"] >= 1000000]\n",
    "data.boxplot(\"m2_price\")"
   ]
  },
  {
   "cell_type": "code",
   "execution_count": 34,
   "metadata": {},
   "outputs": [
    {
     "data": {
      "text/html": [
       "<div>\n",
       "<style scoped>\n",
       "    .dataframe tbody tr th:only-of-type {\n",
       "        vertical-align: middle;\n",
       "    }\n",
       "\n",
       "    .dataframe tbody tr th {\n",
       "        vertical-align: top;\n",
       "    }\n",
       "\n",
       "    .dataframe thead th {\n",
       "        text-align: right;\n",
       "    }\n",
       "</style>\n",
       "<table border=\"1\" class=\"dataframe\">\n",
       "  <thead>\n",
       "    <tr style=\"text-align: right;\">\n",
       "      <th></th>\n",
       "      <th>total_images</th>\n",
       "      <th>last_price</th>\n",
       "      <th>total_area</th>\n",
       "      <th>first_day_exposition</th>\n",
       "      <th>rooms</th>\n",
       "      <th>ceiling_height</th>\n",
       "      <th>floors_total</th>\n",
       "      <th>living_area</th>\n",
       "      <th>floor</th>\n",
       "      <th>is_apartment</th>\n",
       "      <th>...</th>\n",
       "      <th>cityCenters_nearest</th>\n",
       "      <th>parks_around3000</th>\n",
       "      <th>parks_nearest</th>\n",
       "      <th>ponds_around3000</th>\n",
       "      <th>ponds_nearest</th>\n",
       "      <th>days_exposition</th>\n",
       "      <th>m2_price</th>\n",
       "      <th>week_day</th>\n",
       "      <th>month</th>\n",
       "      <th>year</th>\n",
       "    </tr>\n",
       "  </thead>\n",
       "  <tbody>\n",
       "    <tr>\n",
       "      <th>0</th>\n",
       "      <td>20</td>\n",
       "      <td>13000000.0</td>\n",
       "      <td>108.0</td>\n",
       "      <td>2019-03-07</td>\n",
       "      <td>3</td>\n",
       "      <td>2.70</td>\n",
       "      <td>16.0</td>\n",
       "      <td>51.000000</td>\n",
       "      <td>8</td>\n",
       "      <td>False</td>\n",
       "      <td>...</td>\n",
       "      <td>16028.0</td>\n",
       "      <td>1.0</td>\n",
       "      <td>482.0</td>\n",
       "      <td>2.0</td>\n",
       "      <td>755.0</td>\n",
       "      <td>NaN</td>\n",
       "      <td>120370.370370</td>\n",
       "      <td>3</td>\n",
       "      <td>3</td>\n",
       "      <td>2019</td>\n",
       "    </tr>\n",
       "    <tr>\n",
       "      <th>1</th>\n",
       "      <td>7</td>\n",
       "      <td>3350000.0</td>\n",
       "      <td>40.4</td>\n",
       "      <td>2018-12-04</td>\n",
       "      <td>1</td>\n",
       "      <td>NaN</td>\n",
       "      <td>11.0</td>\n",
       "      <td>18.600000</td>\n",
       "      <td>1</td>\n",
       "      <td>False</td>\n",
       "      <td>...</td>\n",
       "      <td>18603.0</td>\n",
       "      <td>0.0</td>\n",
       "      <td>NaN</td>\n",
       "      <td>0.0</td>\n",
       "      <td>NaN</td>\n",
       "      <td>81.0</td>\n",
       "      <td>82920.792079</td>\n",
       "      <td>1</td>\n",
       "      <td>12</td>\n",
       "      <td>2018</td>\n",
       "    </tr>\n",
       "    <tr>\n",
       "      <th>3</th>\n",
       "      <td>0</td>\n",
       "      <td>6490000.0</td>\n",
       "      <td>15.9</td>\n",
       "      <td>2015-07-24</td>\n",
       "      <td>3</td>\n",
       "      <td>NaN</td>\n",
       "      <td>14.0</td>\n",
       "      <td>9.028972</td>\n",
       "      <td>9</td>\n",
       "      <td>False</td>\n",
       "      <td>...</td>\n",
       "      <td>6800.0</td>\n",
       "      <td>2.0</td>\n",
       "      <td>84.0</td>\n",
       "      <td>3.0</td>\n",
       "      <td>234.0</td>\n",
       "      <td>424.0</td>\n",
       "      <td>408176.100629</td>\n",
       "      <td>4</td>\n",
       "      <td>7</td>\n",
       "      <td>2015</td>\n",
       "    </tr>\n",
       "    <tr>\n",
       "      <th>4</th>\n",
       "      <td>2</td>\n",
       "      <td>10000000.0</td>\n",
       "      <td>100.0</td>\n",
       "      <td>2018-06-19</td>\n",
       "      <td>2</td>\n",
       "      <td>3.03</td>\n",
       "      <td>14.0</td>\n",
       "      <td>32.000000</td>\n",
       "      <td>13</td>\n",
       "      <td>False</td>\n",
       "      <td>...</td>\n",
       "      <td>8098.0</td>\n",
       "      <td>2.0</td>\n",
       "      <td>112.0</td>\n",
       "      <td>1.0</td>\n",
       "      <td>48.0</td>\n",
       "      <td>121.0</td>\n",
       "      <td>100000.000000</td>\n",
       "      <td>1</td>\n",
       "      <td>6</td>\n",
       "      <td>2018</td>\n",
       "    </tr>\n",
       "    <tr>\n",
       "      <th>5</th>\n",
       "      <td>10</td>\n",
       "      <td>2890000.0</td>\n",
       "      <td>30.4</td>\n",
       "      <td>2018-09-10</td>\n",
       "      <td>1</td>\n",
       "      <td>NaN</td>\n",
       "      <td>12.0</td>\n",
       "      <td>14.400000</td>\n",
       "      <td>5</td>\n",
       "      <td>False</td>\n",
       "      <td>...</td>\n",
       "      <td>NaN</td>\n",
       "      <td>0.0</td>\n",
       "      <td>NaN</td>\n",
       "      <td>0.0</td>\n",
       "      <td>NaN</td>\n",
       "      <td>55.0</td>\n",
       "      <td>95065.789474</td>\n",
       "      <td>0</td>\n",
       "      <td>9</td>\n",
       "      <td>2018</td>\n",
       "    </tr>\n",
       "  </tbody>\n",
       "</table>\n",
       "<p>5 rows × 26 columns</p>\n",
       "</div>"
      ],
      "text/plain": [
       "   total_images  last_price  total_area first_day_exposition  rooms  \\\n",
       "0            20  13000000.0       108.0           2019-03-07      3   \n",
       "1             7   3350000.0        40.4           2018-12-04      1   \n",
       "3             0   6490000.0        15.9           2015-07-24      3   \n",
       "4             2  10000000.0       100.0           2018-06-19      2   \n",
       "5            10   2890000.0        30.4           2018-09-10      1   \n",
       "\n",
       "   ceiling_height  floors_total  living_area  floor  is_apartment  ...  \\\n",
       "0            2.70          16.0    51.000000      8         False  ...   \n",
       "1             NaN          11.0    18.600000      1         False  ...   \n",
       "3             NaN          14.0     9.028972      9         False  ...   \n",
       "4            3.03          14.0    32.000000     13         False  ...   \n",
       "5             NaN          12.0    14.400000      5         False  ...   \n",
       "\n",
       "   cityCenters_nearest  parks_around3000  parks_nearest  ponds_around3000  \\\n",
       "0              16028.0               1.0          482.0               2.0   \n",
       "1              18603.0               0.0            NaN               0.0   \n",
       "3               6800.0               2.0           84.0               3.0   \n",
       "4               8098.0               2.0          112.0               1.0   \n",
       "5                  NaN               0.0            NaN               0.0   \n",
       "\n",
       "  ponds_nearest  days_exposition       m2_price  week_day  month  year  \n",
       "0         755.0              NaN  120370.370370         3      3  2019  \n",
       "1           NaN             81.0   82920.792079         1     12  2018  \n",
       "3         234.0            424.0  408176.100629         4      7  2015  \n",
       "4          48.0            121.0  100000.000000         1      6  2018  \n",
       "5           NaN             55.0   95065.789474         0      9  2018  \n",
       "\n",
       "[5 rows x 26 columns]"
      ]
     },
     "execution_count": 34,
     "metadata": {},
     "output_type": "execute_result"
    }
   ],
   "source": [
    "data[\"week_day\"] = data[\"first_day_exposition\"].dt.weekday\n",
    "data[\"month\"] = data[\"first_day_exposition\"].dt.month\n",
    "data[\"year\"] = data[\"first_day_exposition\"].dt.year\n",
    "data.head(5)"
   ]
  },
  {
   "cell_type": "markdown",
   "metadata": {},
   "source": [
    "<div class=\"alert alert-block alert-success\">\n",
    " \n",
    "### Комментарий ревьюера\n",
    "    \n",
    "#### Успех\n",
    "    \n",
    "Отлично здесь "
   ]
  },
  {
   "cell_type": "code",
   "execution_count": 35,
   "metadata": {},
   "outputs": [
    {
     "data": {
      "text/html": [
       "<div>\n",
       "<style scoped>\n",
       "    .dataframe tbody tr th:only-of-type {\n",
       "        vertical-align: middle;\n",
       "    }\n",
       "\n",
       "    .dataframe tbody tr th {\n",
       "        vertical-align: top;\n",
       "    }\n",
       "\n",
       "    .dataframe thead th {\n",
       "        text-align: right;\n",
       "    }\n",
       "</style>\n",
       "<table border=\"1\" class=\"dataframe\">\n",
       "  <thead>\n",
       "    <tr style=\"text-align: right;\">\n",
       "      <th></th>\n",
       "      <th>total_images</th>\n",
       "      <th>last_price</th>\n",
       "      <th>total_area</th>\n",
       "      <th>first_day_exposition</th>\n",
       "      <th>rooms</th>\n",
       "      <th>ceiling_height</th>\n",
       "      <th>floors_total</th>\n",
       "      <th>living_area</th>\n",
       "      <th>floor</th>\n",
       "      <th>is_apartment</th>\n",
       "      <th>...</th>\n",
       "      <th>parks_around3000</th>\n",
       "      <th>parks_nearest</th>\n",
       "      <th>ponds_around3000</th>\n",
       "      <th>ponds_nearest</th>\n",
       "      <th>days_exposition</th>\n",
       "      <th>m2_price</th>\n",
       "      <th>week_day</th>\n",
       "      <th>month</th>\n",
       "      <th>year</th>\n",
       "      <th>floor_type</th>\n",
       "    </tr>\n",
       "  </thead>\n",
       "  <tbody>\n",
       "    <tr>\n",
       "      <th>0</th>\n",
       "      <td>20</td>\n",
       "      <td>13000000.0</td>\n",
       "      <td>108.0</td>\n",
       "      <td>2019-03-07</td>\n",
       "      <td>3</td>\n",
       "      <td>2.70</td>\n",
       "      <td>16.0</td>\n",
       "      <td>51.000000</td>\n",
       "      <td>8</td>\n",
       "      <td>False</td>\n",
       "      <td>...</td>\n",
       "      <td>1.0</td>\n",
       "      <td>482.0</td>\n",
       "      <td>2.0</td>\n",
       "      <td>755.0</td>\n",
       "      <td>NaN</td>\n",
       "      <td>120370.370370</td>\n",
       "      <td>3</td>\n",
       "      <td>3</td>\n",
       "      <td>2019</td>\n",
       "      <td>другой</td>\n",
       "    </tr>\n",
       "    <tr>\n",
       "      <th>1</th>\n",
       "      <td>7</td>\n",
       "      <td>3350000.0</td>\n",
       "      <td>40.4</td>\n",
       "      <td>2018-12-04</td>\n",
       "      <td>1</td>\n",
       "      <td>NaN</td>\n",
       "      <td>11.0</td>\n",
       "      <td>18.600000</td>\n",
       "      <td>1</td>\n",
       "      <td>False</td>\n",
       "      <td>...</td>\n",
       "      <td>0.0</td>\n",
       "      <td>NaN</td>\n",
       "      <td>0.0</td>\n",
       "      <td>NaN</td>\n",
       "      <td>81.0</td>\n",
       "      <td>82920.792079</td>\n",
       "      <td>1</td>\n",
       "      <td>12</td>\n",
       "      <td>2018</td>\n",
       "      <td>первый</td>\n",
       "    </tr>\n",
       "    <tr>\n",
       "      <th>3</th>\n",
       "      <td>0</td>\n",
       "      <td>6490000.0</td>\n",
       "      <td>15.9</td>\n",
       "      <td>2015-07-24</td>\n",
       "      <td>3</td>\n",
       "      <td>NaN</td>\n",
       "      <td>14.0</td>\n",
       "      <td>9.028972</td>\n",
       "      <td>9</td>\n",
       "      <td>False</td>\n",
       "      <td>...</td>\n",
       "      <td>2.0</td>\n",
       "      <td>84.0</td>\n",
       "      <td>3.0</td>\n",
       "      <td>234.0</td>\n",
       "      <td>424.0</td>\n",
       "      <td>408176.100629</td>\n",
       "      <td>4</td>\n",
       "      <td>7</td>\n",
       "      <td>2015</td>\n",
       "      <td>другой</td>\n",
       "    </tr>\n",
       "    <tr>\n",
       "      <th>4</th>\n",
       "      <td>2</td>\n",
       "      <td>10000000.0</td>\n",
       "      <td>100.0</td>\n",
       "      <td>2018-06-19</td>\n",
       "      <td>2</td>\n",
       "      <td>3.03</td>\n",
       "      <td>14.0</td>\n",
       "      <td>32.000000</td>\n",
       "      <td>13</td>\n",
       "      <td>False</td>\n",
       "      <td>...</td>\n",
       "      <td>2.0</td>\n",
       "      <td>112.0</td>\n",
       "      <td>1.0</td>\n",
       "      <td>48.0</td>\n",
       "      <td>121.0</td>\n",
       "      <td>100000.000000</td>\n",
       "      <td>1</td>\n",
       "      <td>6</td>\n",
       "      <td>2018</td>\n",
       "      <td>другой</td>\n",
       "    </tr>\n",
       "    <tr>\n",
       "      <th>5</th>\n",
       "      <td>10</td>\n",
       "      <td>2890000.0</td>\n",
       "      <td>30.4</td>\n",
       "      <td>2018-09-10</td>\n",
       "      <td>1</td>\n",
       "      <td>NaN</td>\n",
       "      <td>12.0</td>\n",
       "      <td>14.400000</td>\n",
       "      <td>5</td>\n",
       "      <td>False</td>\n",
       "      <td>...</td>\n",
       "      <td>0.0</td>\n",
       "      <td>NaN</td>\n",
       "      <td>0.0</td>\n",
       "      <td>NaN</td>\n",
       "      <td>55.0</td>\n",
       "      <td>95065.789474</td>\n",
       "      <td>0</td>\n",
       "      <td>9</td>\n",
       "      <td>2018</td>\n",
       "      <td>другой</td>\n",
       "    </tr>\n",
       "  </tbody>\n",
       "</table>\n",
       "<p>5 rows × 27 columns</p>\n",
       "</div>"
      ],
      "text/plain": [
       "   total_images  last_price  total_area first_day_exposition  rooms  \\\n",
       "0            20  13000000.0       108.0           2019-03-07      3   \n",
       "1             7   3350000.0        40.4           2018-12-04      1   \n",
       "3             0   6490000.0        15.9           2015-07-24      3   \n",
       "4             2  10000000.0       100.0           2018-06-19      2   \n",
       "5            10   2890000.0        30.4           2018-09-10      1   \n",
       "\n",
       "   ceiling_height  floors_total  living_area  floor  is_apartment  ...  \\\n",
       "0            2.70          16.0    51.000000      8         False  ...   \n",
       "1             NaN          11.0    18.600000      1         False  ...   \n",
       "3             NaN          14.0     9.028972      9         False  ...   \n",
       "4            3.03          14.0    32.000000     13         False  ...   \n",
       "5             NaN          12.0    14.400000      5         False  ...   \n",
       "\n",
       "   parks_around3000  parks_nearest  ponds_around3000  ponds_nearest  \\\n",
       "0               1.0          482.0               2.0          755.0   \n",
       "1               0.0            NaN               0.0            NaN   \n",
       "3               2.0           84.0               3.0          234.0   \n",
       "4               2.0          112.0               1.0           48.0   \n",
       "5               0.0            NaN               0.0            NaN   \n",
       "\n",
       "  days_exposition       m2_price  week_day  month  year  floor_type  \n",
       "0             NaN  120370.370370         3      3  2019      другой  \n",
       "1            81.0   82920.792079         1     12  2018      первый  \n",
       "3           424.0  408176.100629         4      7  2015      другой  \n",
       "4           121.0  100000.000000         1      6  2018      другой  \n",
       "5            55.0   95065.789474         0      9  2018      другой  \n",
       "\n",
       "[5 rows x 27 columns]"
      ]
     },
     "execution_count": 35,
     "metadata": {},
     "output_type": "execute_result"
    }
   ],
   "source": [
    "data.loc[data[\"floor\"] == 1, \"floor_type\"] = \"первый\"\n",
    "data.loc[(data[\"floor\"] > 1) & (data[\"floor\"] < data[\"floors_total\"]) , \"floor_type\"] = \"другой\"\n",
    "data.loc[data[\"floor\"] == data[\"floors_total\"], \"floor_type\"] = \"последний\"\n",
    "data.head(5)"
   ]
  },
  {
   "cell_type": "markdown",
   "metadata": {},
   "source": [
    "<div class=\"alert alert-block alert-success\">\n",
    " \n",
    "### Комментарий ревьюера\n",
    "    \n",
    "#### Успех\n",
    "    \n",
    "Достаточно хороший способ категоризации. "
   ]
  },
  {
   "cell_type": "code",
   "execution_count": 36,
   "metadata": {},
   "outputs": [
    {
     "data": {
      "text/plain": [
       "0        16.0\n",
       "1        19.0\n",
       "3         7.0\n",
       "4         8.0\n",
       "5         NaN\n",
       "         ... \n",
       "23693    34.0\n",
       "23694     4.0\n",
       "23695     NaN\n",
       "23696     NaN\n",
       "23698     NaN\n",
       "Name: cityCenters_nearest_km, Length: 21647, dtype: float64"
      ]
     },
     "execution_count": 36,
     "metadata": {},
     "output_type": "execute_result"
    }
   ],
   "source": [
    "data[\"cityCenters_nearest_km\"] = data[\"cityCenters_nearest\"] / 1000\n",
    "data[\"cityCenters_nearest_km\"] = data[\"cityCenters_nearest_km\"].round(0)\n",
    "data[\"cityCenters_nearest_km\"]"
   ]
  },
  {
   "cell_type": "markdown",
   "metadata": {},
   "source": [
    "<div class=\"alert alert-block alert-success\">\n",
    " \n",
    "### Комментарий ревьюера\n",
    "    \n",
    "#### Успех\n",
    "    \n",
    "А теперь данные готовы к дальнейшему исследованию. "
   ]
  },
  {
   "cell_type": "markdown",
   "metadata": {},
   "source": [
    "### Проведите исследовательский анализ данных"
   ]
  },
  {
   "cell_type": "code",
   "execution_count": 37,
   "metadata": {},
   "outputs": [
    {
     "data": {
      "text/plain": [
       "<AxesSubplot:>"
      ]
     },
     "execution_count": 37,
     "metadata": {},
     "output_type": "execute_result"
    },
    {
     "data": {
      "image/png": "[encoded data removed]",
      "text/plain": [
       "<Figure size 432x288 with 1 Axes>"
      ]
     },
     "metadata": {
      "needs_background": "light"
     },
     "output_type": "display_data"
    }
   ],
   "source": [
    "data[\"total_area\"].hist(bins=100)\n",
    "#data[data[\"studio\"] == True]"
   ]
  },
  {
   "cell_type": "markdown",
   "metadata": {},
   "source": [
    "Очень много квартир 30 - 60 м2, выглядит правдоподобно. Квартиры < 30 - Студии"
   ]
  },
  {
   "cell_type": "markdown",
   "metadata": {},
   "source": [
    "<div class=\"alert alert-block alert-success\">\n",
    " \n",
    "### Комментарий ревьюера\n",
    "    \n",
    "#### Успех\n",
    "    \n",
    "Все так. Большая част ьквартир находится в рамках этого распределения "
   ]
  },
  {
   "cell_type": "code",
   "execution_count": 38,
   "metadata": {},
   "outputs": [
    {
     "data": {
      "text/html": [
       "<div>\n",
       "<style scoped>\n",
       "    .dataframe tbody tr th:only-of-type {\n",
       "        vertical-align: middle;\n",
       "    }\n",
       "\n",
       "    .dataframe tbody tr th {\n",
       "        vertical-align: top;\n",
       "    }\n",
       "\n",
       "    .dataframe thead th {\n",
       "        text-align: right;\n",
       "    }\n",
       "</style>\n",
       "<table border=\"1\" class=\"dataframe\">\n",
       "  <thead>\n",
       "    <tr style=\"text-align: right;\">\n",
       "      <th></th>\n",
       "      <th>total_images</th>\n",
       "      <th>last_price</th>\n",
       "      <th>total_area</th>\n",
       "      <th>first_day_exposition</th>\n",
       "      <th>rooms</th>\n",
       "      <th>ceiling_height</th>\n",
       "      <th>floors_total</th>\n",
       "      <th>living_area</th>\n",
       "      <th>floor</th>\n",
       "      <th>is_apartment</th>\n",
       "      <th>...</th>\n",
       "      <th>parks_nearest</th>\n",
       "      <th>ponds_around3000</th>\n",
       "      <th>ponds_nearest</th>\n",
       "      <th>days_exposition</th>\n",
       "      <th>m2_price</th>\n",
       "      <th>week_day</th>\n",
       "      <th>month</th>\n",
       "      <th>year</th>\n",
       "      <th>floor_type</th>\n",
       "      <th>cityCenters_nearest_km</th>\n",
       "    </tr>\n",
       "  </thead>\n",
       "  <tbody>\n",
       "    <tr>\n",
       "      <th>7</th>\n",
       "      <td>5</td>\n",
       "      <td>7915000.0</td>\n",
       "      <td>71.6</td>\n",
       "      <td>2019-04-18</td>\n",
       "      <td>2</td>\n",
       "      <td>NaN</td>\n",
       "      <td>24.0</td>\n",
       "      <td>4.065877</td>\n",
       "      <td>22</td>\n",
       "      <td>False</td>\n",
       "      <td>...</td>\n",
       "      <td>NaN</td>\n",
       "      <td>0.0</td>\n",
       "      <td>NaN</td>\n",
       "      <td>NaN</td>\n",
       "      <td>110544.692737</td>\n",
       "      <td>3</td>\n",
       "      <td>4</td>\n",
       "      <td>2019</td>\n",
       "      <td>другой</td>\n",
       "      <td>12.0</td>\n",
       "    </tr>\n",
       "    <tr>\n",
       "      <th>9</th>\n",
       "      <td>18</td>\n",
       "      <td>5400000.0</td>\n",
       "      <td>61.0</td>\n",
       "      <td>2017-02-26</td>\n",
       "      <td>3</td>\n",
       "      <td>2.50</td>\n",
       "      <td>9.0</td>\n",
       "      <td>4.360000</td>\n",
       "      <td>7</td>\n",
       "      <td>False</td>\n",
       "      <td>...</td>\n",
       "      <td>NaN</td>\n",
       "      <td>0.0</td>\n",
       "      <td>NaN</td>\n",
       "      <td>289.0</td>\n",
       "      <td>88524.590164</td>\n",
       "      <td>6</td>\n",
       "      <td>2</td>\n",
       "      <td>2017</td>\n",
       "      <td>другой</td>\n",
       "      <td>15.0</td>\n",
       "    </tr>\n",
       "    <tr>\n",
       "      <th>11</th>\n",
       "      <td>9</td>\n",
       "      <td>3300000.0</td>\n",
       "      <td>44.0</td>\n",
       "      <td>2018-08-27</td>\n",
       "      <td>2</td>\n",
       "      <td>NaN</td>\n",
       "      <td>5.0</td>\n",
       "      <td>3.100000</td>\n",
       "      <td>4</td>\n",
       "      <td>False</td>\n",
       "      <td>...</td>\n",
       "      <td>NaN</td>\n",
       "      <td>0.0</td>\n",
       "      <td>NaN</td>\n",
       "      <td>7.0</td>\n",
       "      <td>75000.000000</td>\n",
       "      <td>0</td>\n",
       "      <td>8</td>\n",
       "      <td>2018</td>\n",
       "      <td>другой</td>\n",
       "      <td>52.0</td>\n",
       "    </tr>\n",
       "    <tr>\n",
       "      <th>13</th>\n",
       "      <td>20</td>\n",
       "      <td>3550000.0</td>\n",
       "      <td>42.8</td>\n",
       "      <td>2017-07-01</td>\n",
       "      <td>2</td>\n",
       "      <td>2.56</td>\n",
       "      <td>5.0</td>\n",
       "      <td>2.700000</td>\n",
       "      <td>5</td>\n",
       "      <td>False</td>\n",
       "      <td>...</td>\n",
       "      <td>294.0</td>\n",
       "      <td>3.0</td>\n",
       "      <td>298.0</td>\n",
       "      <td>366.0</td>\n",
       "      <td>82943.925234</td>\n",
       "      <td>5</td>\n",
       "      <td>7</td>\n",
       "      <td>2017</td>\n",
       "      <td>последний</td>\n",
       "      <td>33.0</td>\n",
       "    </tr>\n",
       "    <tr>\n",
       "      <th>18</th>\n",
       "      <td>8</td>\n",
       "      <td>3250000.0</td>\n",
       "      <td>31.0</td>\n",
       "      <td>2017-01-27</td>\n",
       "      <td>1</td>\n",
       "      <td>2.50</td>\n",
       "      <td>5.0</td>\n",
       "      <td>1.940000</td>\n",
       "      <td>2</td>\n",
       "      <td>False</td>\n",
       "      <td>...</td>\n",
       "      <td>759.0</td>\n",
       "      <td>0.0</td>\n",
       "      <td>NaN</td>\n",
       "      <td>168.0</td>\n",
       "      <td>104838.709677</td>\n",
       "      <td>4</td>\n",
       "      <td>1</td>\n",
       "      <td>2017</td>\n",
       "      <td>другой</td>\n",
       "      <td>11.0</td>\n",
       "    </tr>\n",
       "    <tr>\n",
       "      <th>...</th>\n",
       "      <td>...</td>\n",
       "      <td>...</td>\n",
       "      <td>...</td>\n",
       "      <td>...</td>\n",
       "      <td>...</td>\n",
       "      <td>...</td>\n",
       "      <td>...</td>\n",
       "      <td>...</td>\n",
       "      <td>...</td>\n",
       "      <td>...</td>\n",
       "      <td>...</td>\n",
       "      <td>...</td>\n",
       "      <td>...</td>\n",
       "      <td>...</td>\n",
       "      <td>...</td>\n",
       "      <td>...</td>\n",
       "      <td>...</td>\n",
       "      <td>...</td>\n",
       "      <td>...</td>\n",
       "      <td>...</td>\n",
       "      <td>...</td>\n",
       "    </tr>\n",
       "    <tr>\n",
       "      <th>23686</th>\n",
       "      <td>8</td>\n",
       "      <td>3300000.0</td>\n",
       "      <td>31.0</td>\n",
       "      <td>2017-04-29</td>\n",
       "      <td>1</td>\n",
       "      <td>2.55</td>\n",
       "      <td>9.0</td>\n",
       "      <td>1.800000</td>\n",
       "      <td>6</td>\n",
       "      <td>False</td>\n",
       "      <td>...</td>\n",
       "      <td>140.0</td>\n",
       "      <td>1.0</td>\n",
       "      <td>317.0</td>\n",
       "      <td>193.0</td>\n",
       "      <td>106451.612903</td>\n",
       "      <td>5</td>\n",
       "      <td>4</td>\n",
       "      <td>2017</td>\n",
       "      <td>другой</td>\n",
       "      <td>12.0</td>\n",
       "    </tr>\n",
       "    <tr>\n",
       "      <th>23690</th>\n",
       "      <td>3</td>\n",
       "      <td>5500000.0</td>\n",
       "      <td>52.0</td>\n",
       "      <td>2018-07-19</td>\n",
       "      <td>2</td>\n",
       "      <td>NaN</td>\n",
       "      <td>5.0</td>\n",
       "      <td>3.100000</td>\n",
       "      <td>2</td>\n",
       "      <td>False</td>\n",
       "      <td>...</td>\n",
       "      <td>300.0</td>\n",
       "      <td>0.0</td>\n",
       "      <td>NaN</td>\n",
       "      <td>15.0</td>\n",
       "      <td>105769.230769</td>\n",
       "      <td>3</td>\n",
       "      <td>7</td>\n",
       "      <td>2018</td>\n",
       "      <td>другой</td>\n",
       "      <td>6.0</td>\n",
       "    </tr>\n",
       "    <tr>\n",
       "      <th>23692</th>\n",
       "      <td>2</td>\n",
       "      <td>1350000.0</td>\n",
       "      <td>30.0</td>\n",
       "      <td>2017-07-07</td>\n",
       "      <td>1</td>\n",
       "      <td>NaN</td>\n",
       "      <td>5.0</td>\n",
       "      <td>1.750000</td>\n",
       "      <td>4</td>\n",
       "      <td>False</td>\n",
       "      <td>...</td>\n",
       "      <td>NaN</td>\n",
       "      <td>0.0</td>\n",
       "      <td>NaN</td>\n",
       "      <td>413.0</td>\n",
       "      <td>45000.000000</td>\n",
       "      <td>4</td>\n",
       "      <td>7</td>\n",
       "      <td>2017</td>\n",
       "      <td>другой</td>\n",
       "      <td>NaN</td>\n",
       "    </tr>\n",
       "    <tr>\n",
       "      <th>23693</th>\n",
       "      <td>9</td>\n",
       "      <td>4600000.0</td>\n",
       "      <td>62.4</td>\n",
       "      <td>2016-08-05</td>\n",
       "      <td>3</td>\n",
       "      <td>2.60</td>\n",
       "      <td>9.0</td>\n",
       "      <td>4.000000</td>\n",
       "      <td>8</td>\n",
       "      <td>False</td>\n",
       "      <td>...</td>\n",
       "      <td>352.0</td>\n",
       "      <td>1.0</td>\n",
       "      <td>675.0</td>\n",
       "      <td>239.0</td>\n",
       "      <td>73717.948718</td>\n",
       "      <td>4</td>\n",
       "      <td>8</td>\n",
       "      <td>2016</td>\n",
       "      <td>другой</td>\n",
       "      <td>34.0</td>\n",
       "    </tr>\n",
       "    <tr>\n",
       "      <th>23695</th>\n",
       "      <td>14</td>\n",
       "      <td>3100000.0</td>\n",
       "      <td>59.0</td>\n",
       "      <td>2018-01-15</td>\n",
       "      <td>3</td>\n",
       "      <td>NaN</td>\n",
       "      <td>5.0</td>\n",
       "      <td>3.800000</td>\n",
       "      <td>4</td>\n",
       "      <td>False</td>\n",
       "      <td>...</td>\n",
       "      <td>NaN</td>\n",
       "      <td>0.0</td>\n",
       "      <td>NaN</td>\n",
       "      <td>45.0</td>\n",
       "      <td>52542.372881</td>\n",
       "      <td>0</td>\n",
       "      <td>1</td>\n",
       "      <td>2018</td>\n",
       "      <td>другой</td>\n",
       "      <td>NaN</td>\n",
       "    </tr>\n",
       "  </tbody>\n",
       "</table>\n",
       "<p>9624 rows × 28 columns</p>\n",
       "</div>"
      ],
      "text/plain": [
       "       total_images  last_price  total_area first_day_exposition  rooms  \\\n",
       "7                 5   7915000.0        71.6           2019-04-18      2   \n",
       "9                18   5400000.0        61.0           2017-02-26      3   \n",
       "11                9   3300000.0        44.0           2018-08-27      2   \n",
       "13               20   3550000.0        42.8           2017-07-01      2   \n",
       "18                8   3250000.0        31.0           2017-01-27      1   \n",
       "...             ...         ...         ...                  ...    ...   \n",
       "23686             8   3300000.0        31.0           2017-04-29      1   \n",
       "23690             3   5500000.0        52.0           2018-07-19      2   \n",
       "23692             2   1350000.0        30.0           2017-07-07      1   \n",
       "23693             9   4600000.0        62.4           2016-08-05      3   \n",
       "23695            14   3100000.0        59.0           2018-01-15      3   \n",
       "\n",
       "       ceiling_height  floors_total  living_area  floor  is_apartment  ...  \\\n",
       "7                 NaN          24.0     4.065877     22         False  ...   \n",
       "9                2.50           9.0     4.360000      7         False  ...   \n",
       "11                NaN           5.0     3.100000      4         False  ...   \n",
       "13               2.56           5.0     2.700000      5         False  ...   \n",
       "18               2.50           5.0     1.940000      2         False  ...   \n",
       "...               ...           ...          ...    ...           ...  ...   \n",
       "23686            2.55           9.0     1.800000      6         False  ...   \n",
       "23690             NaN           5.0     3.100000      2         False  ...   \n",
       "23692             NaN           5.0     1.750000      4         False  ...   \n",
       "23693            2.60           9.0     4.000000      8         False  ...   \n",
       "23695             NaN           5.0     3.800000      4         False  ...   \n",
       "\n",
       "       parks_nearest  ponds_around3000  ponds_nearest  days_exposition  \\\n",
       "7                NaN               0.0            NaN              NaN   \n",
       "9                NaN               0.0            NaN            289.0   \n",
       "11               NaN               0.0            NaN              7.0   \n",
       "13             294.0               3.0          298.0            366.0   \n",
       "18             759.0               0.0            NaN            168.0   \n",
       "...              ...               ...            ...              ...   \n",
       "23686          140.0               1.0          317.0            193.0   \n",
       "23690          300.0               0.0            NaN             15.0   \n",
       "23692            NaN               0.0            NaN            413.0   \n",
       "23693          352.0               1.0          675.0            239.0   \n",
       "23695            NaN               0.0            NaN             45.0   \n",
       "\n",
       "            m2_price  week_day  month  year  floor_type  \\\n",
       "7      110544.692737         3      4  2019      другой   \n",
       "9       88524.590164         6      2  2017      другой   \n",
       "11      75000.000000         0      8  2018      другой   \n",
       "13      82943.925234         5      7  2017   последний   \n",
       "18     104838.709677         4      1  2017      другой   \n",
       "...              ...       ...    ...   ...         ...   \n",
       "23686  106451.612903         5      4  2017      другой   \n",
       "23690  105769.230769         3      7  2018      другой   \n",
       "23692   45000.000000         4      7  2017      другой   \n",
       "23693   73717.948718         4      8  2016      другой   \n",
       "23695   52542.372881         0      1  2018      другой   \n",
       "\n",
       "       cityCenters_nearest_km  \n",
       "7                        12.0  \n",
       "9                        15.0  \n",
       "11                       52.0  \n",
       "13                       33.0  \n",
       "18                       11.0  \n",
       "...                       ...  \n",
       "23686                    12.0  \n",
       "23690                     6.0  \n",
       "23692                     NaN  \n",
       "23693                    34.0  \n",
       "23695                     NaN  \n",
       "\n",
       "[9624 rows x 28 columns]"
      ]
     },
     "execution_count": 38,
     "metadata": {},
     "output_type": "execute_result"
    },
    {
     "data": {
      "image/png": "[encoded data removed]",
      "text/plain": [
       "<Figure size 432x288 with 1 Axes>"
      ]
     },
     "metadata": {
      "needs_background": "light"
     },
     "output_type": "display_data"
    }
   ],
   "source": [
    "data[\"living_area\"].hist(bins=100)\n",
    "data[data[\"living_area\"] < 5]"
   ]
  },
  {
   "cell_type": "markdown",
   "metadata": {},
   "source": [
    "Я не уверен что тут делать. Жилая площадь это не вся квартира и может быть наверное одной комнатой"
   ]
  },
  {
   "cell_type": "code",
   "execution_count": 39,
   "metadata": {},
   "outputs": [
    {
     "data": {
      "text/plain": [
       "<AxesSubplot:>"
      ]
     },
     "execution_count": 39,
     "metadata": {},
     "output_type": "execute_result"
    },
    {
     "data": {
      "image/png": "[encoded data removed]",
      "text/plain": [
       "<Figure size 432x288 with 1 Axes>"
      ]
     },
     "metadata": {
      "needs_background": "light"
     },
     "output_type": "display_data"
    }
   ],
   "source": [
    "data[\"kitchen_area\"].hist(bins=100)"
   ]
  },
  {
   "cell_type": "markdown",
   "metadata": {},
   "source": [
    "<div class=\"alert alert-block alert-success\">\n",
    " \n",
    "### Комментарий ревьюера\n",
    "    \n",
    "#### Успех\n",
    "    \n",
    "Кухни у нас достаточно небольшие получаются. "
   ]
  },
  {
   "cell_type": "markdown",
   "metadata": {},
   "source": [
    "Пики можно объяснить тем, что люди просто округляют площадь"
   ]
  },
  {
   "cell_type": "code",
   "execution_count": 40,
   "metadata": {},
   "outputs": [
    {
     "data": {
      "text/plain": [
       "<AxesSubplot:>"
      ]
     },
     "execution_count": 40,
     "metadata": {},
     "output_type": "execute_result"
    },
    {
     "data": {
      "image/png": "[encoded data removed]",
      "text/plain": [
       "<Figure size 432x288 with 1 Axes>"
      ]
     },
     "metadata": {
      "needs_background": "light"
     },
     "output_type": "display_data"
    }
   ],
   "source": [
    "data[\"last_price\"].hist(bins=100)"
   ]
  },
  {
   "cell_type": "markdown",
   "metadata": {},
   "source": [
    "Хорошее распределение. Скачки - люди просто округляют цену. "
   ]
  },
  {
   "cell_type": "code",
   "execution_count": 41,
   "metadata": {},
   "outputs": [
    {
     "data": {
      "text/plain": [
       "<AxesSubplot:>"
      ]
     },
     "execution_count": 41,
     "metadata": {},
     "output_type": "execute_result"
    },
    {
     "data": {
      "image/png": "[encoded data removed]",
      "text/plain": [
       "<Figure size 432x288 with 1 Axes>"
      ]
     },
     "metadata": {
      "needs_background": "light"
     },
     "output_type": "display_data"
    }
   ],
   "source": [
    "data[\"rooms\"].hist(bins=100)"
   ]
  },
  {
   "cell_type": "markdown",
   "metadata": {},
   "source": [
    "<div class=\"alert alert-block alert-success\">\n",
    " \n",
    "### Комментарий ревьюера\n",
    "    \n",
    "#### Успех\n",
    "\n",
    "Распределение по комнатам примерно соотносится с распределением по площади. "
   ]
  },
  {
   "cell_type": "markdown",
   "metadata": {},
   "source": [
    "В основном продают квартиры с 1 и 2 комнатами"
   ]
  },
  {
   "cell_type": "code",
   "execution_count": 42,
   "metadata": {},
   "outputs": [
    {
     "data": {
      "text/plain": [
       "<AxesSubplot:>"
      ]
     },
     "execution_count": 42,
     "metadata": {},
     "output_type": "execute_result"
    },
    {
     "data": {
      "image/png": "[encoded data removed]",
      "text/plain": [
       "<Figure size 432x288 with 1 Axes>"
      ]
     },
     "metadata": {
      "needs_background": "light"
     },
     "output_type": "display_data"
    }
   ],
   "source": [
    "data[\"ceiling_height\"].hist(bins=100)"
   ]
  },
  {
   "cell_type": "markdown",
   "metadata": {},
   "source": [
    "<div class=\"alert alert-block alert-success\">\n",
    " \n",
    "### Комментарий ревьюера\n",
    "    \n",
    "#### Успех\n",
    "\n",
    "Потолки высотой более 3 метров могут говорить о наличии квартир дореволюционной застройки. "
   ]
  },
  {
   "cell_type": "markdown",
   "metadata": {},
   "source": [
    "2,5 метра - самая частая высота, головой уже не удариться."
   ]
  },
  {
   "cell_type": "code",
   "execution_count": 43,
   "metadata": {},
   "outputs": [
    {
     "data": {
      "text/plain": [
       "<AxesSubplot:>"
      ]
     },
     "execution_count": 43,
     "metadata": {},
     "output_type": "execute_result"
    },
    {
     "data": {
      "image/png": "[encoded data removed]",
      "text/plain": [
       "<Figure size 432x288 with 1 Axes>"
      ]
     },
     "metadata": {
      "needs_background": "light"
     },
     "output_type": "display_data"
    }
   ],
   "source": [
    "data[\"floor\"].hist(bins=100)"
   ]
  },
  {
   "cell_type": "markdown",
   "metadata": {},
   "source": [
    "Правильное распределение Пуассона, 1-5 этаж продают чаще всего тк пятиэтажек много"
   ]
  },
  {
   "cell_type": "code",
   "execution_count": 44,
   "metadata": {},
   "outputs": [
    {
     "data": {
      "text/plain": [
       "<AxesSubplot:>"
      ]
     },
     "execution_count": 44,
     "metadata": {},
     "output_type": "execute_result"
    },
    {
     "data": {
      "image/png": "[encoded data removed]",
      "text/plain": [
       "<Figure size 432x288 with 1 Axes>"
      ]
     },
     "metadata": {
      "needs_background": "light"
     },
     "output_type": "display_data"
    }
   ],
   "source": [
    "data[\"floor_type\"].hist()"
   ]
  },
  {
   "cell_type": "markdown",
   "metadata": {},
   "source": [
    "Других этажей больше, первых и последних примерно одинаково, выглядит норм."
   ]
  },
  {
   "cell_type": "code",
   "execution_count": 45,
   "metadata": {},
   "outputs": [
    {
     "data": {
      "text/plain": [
       "<AxesSubplot:>"
      ]
     },
     "execution_count": 45,
     "metadata": {},
     "output_type": "execute_result"
    },
    {
     "data": {
      "image/png": "[encoded data removed]",
      "text/plain": [
       "<Figure size 432x288 with 1 Axes>"
      ]
     },
     "metadata": {
      "needs_background": "light"
     },
     "output_type": "display_data"
    }
   ],
   "source": [
    "data[\"floors_total\"].hist(bins=60)"
   ]
  },
  {
   "cell_type": "markdown",
   "metadata": {},
   "source": [
    "<div class=\"alert alert-block alert-success\">\n",
    " \n",
    "### Комментарий ревьюера\n",
    "    \n",
    "#### Успех\n",
    "\n",
    "Тут мы видим, что у нас много вартир типовой застройки"
   ]
  },
  {
   "cell_type": "markdown",
   "metadata": {},
   "source": [
    "Пяти и девяти этажек действительно много"
   ]
  },
  {
   "cell_type": "code",
   "execution_count": 46,
   "metadata": {},
   "outputs": [
    {
     "data": {
      "text/plain": [
       "<AxesSubplot:>"
      ]
     },
     "execution_count": 46,
     "metadata": {},
     "output_type": "execute_result"
    },
    {
     "data": {
      "image/png": "[encoded data removed]",
      "text/plain": [
       "<Figure size 432x288 with 1 Axes>"
      ]
     },
     "metadata": {
      "needs_background": "light"
     },
     "output_type": "display_data"
    }
   ],
   "source": [
    "data[\"cityCenters_nearest\"].hist(bins=60)\n",
    "#data.loc[(data[\"cityCenters_nearest\"] >= 30000) & (data[\"cityCenters_nearest\"] <= 40000), \"locality_name\"]"
   ]
  },
  {
   "cell_type": "markdown",
   "metadata": {},
   "source": [
    "Большинство квартир продают в 10 - 20 км от центра, в 50 км находится Ломоносов в 30 км тоже крупные населенные пункты"
   ]
  },
  {
   "cell_type": "code",
   "execution_count": 47,
   "metadata": {},
   "outputs": [
    {
     "data": {
      "text/plain": [
       "<AxesSubplot:>"
      ]
     },
     "execution_count": 47,
     "metadata": {},
     "output_type": "execute_result"
    },
    {
     "data": {
      "image/png": "[encoded data removed]",
      "text/plain": [
       "<Figure size 432x288 with 1 Axes>"
      ]
     },
     "metadata": {
      "needs_background": "light"
     },
     "output_type": "display_data"
    }
   ],
   "source": [
    "data[\"airports_nearest\"].hist(bins=60)"
   ]
  },
  {
   "cell_type": "markdown",
   "metadata": {},
   "source": [
    "Большинство квартир продают в 10 - 40 км от аэропорта"
   ]
  },
  {
   "cell_type": "code",
   "execution_count": 48,
   "metadata": {},
   "outputs": [
    {
     "data": {
      "text/plain": [
       "<AxesSubplot:>"
      ]
     },
     "execution_count": 48,
     "metadata": {},
     "output_type": "execute_result"
    },
    {
     "data": {
      "image/png": "[encoded data removed]",
      "text/plain": [
       "<Figure size 432x288 with 1 Axes>"
      ]
     },
     "metadata": {
      "needs_background": "light"
     },
     "output_type": "display_data"
    }
   ],
   "source": [
    "data[\"parks_nearest\"].hist(bins=60)"
   ]
  },
  {
   "cell_type": "markdown",
   "metadata": {},
   "source": [
    "Большинство квартир продают в 500 метрах от парка"
   ]
  },
  {
   "cell_type": "code",
   "execution_count": 57,
   "metadata": {},
   "outputs": [
    {
     "data": {
      "text/plain": [
       "<AxesSubplot:>"
      ]
     },
     "execution_count": 57,
     "metadata": {},
     "output_type": "execute_result"
    },
    {
     "data": {
      "image/png": "[encoded data removed]",
      "text/plain": [
       "<Figure size 432x288 with 1 Axes>"
      ]
     },
     "metadata": {
      "needs_background": "light"
     },
     "output_type": "display_data"
    }
   ],
   "source": [
    "#data[\"first_day_exposition\"].dt.strftime('%d%m').hist(bins=10,figsize=(15,5))\n",
    "data[\"week_day\"].hist(bins=7)"
   ]
  },
  {
   "cell_type": "markdown",
   "metadata": {},
   "source": [
    "**<font color=\"maroon\">На выходных квартир продается сильно меньше, больше всего продают в четверг</font>**"
   ]
  },
  {
   "cell_type": "code",
   "execution_count": 60,
   "metadata": {},
   "outputs": [
    {
     "data": {
      "text/plain": [
       "<AxesSubplot:>"
      ]
     },
     "execution_count": 60,
     "metadata": {},
     "output_type": "execute_result"
    },
    {
     "data": {
      "image/png": "[encoded data removed]",
      "text/plain": [
       "<Figure size 432x288 with 1 Axes>"
      ]
     },
     "metadata": {
      "needs_background": "light"
     },
     "output_type": "display_data"
    }
   ],
   "source": [
    "data[\"month\"].hist(bins=12)"
   ]
  },
  {
   "cell_type": "markdown",
   "metadata": {},
   "source": [
    "**<font color=\"maroon\">В мае, декабре и январе сильные провалы, больше всего продаж в феврале </font>**"
   ]
  },
  {
   "cell_type": "markdown",
   "metadata": {},
   "source": [
    "<div class=\"alert alert-block alert-danger\">\n",
    " \n",
    "### Комментарий ревьюера\n",
    "    \n",
    "#### Ошибка\n",
    "\n",
    "Тут надо по дням и месяцам график построить. Ты же для этого специально выделял столбцы"
   ]
  },
  {
   "cell_type": "markdown",
   "metadata": {},
   "source": [
    "<div class=\"alert alert-block alert-success\">\n",
    " \n",
    "# Комментарий ревьюера ver.2 \n",
    "    \n",
    "#### Успех\n",
    "    \n",
    "Тут вот хорошо уже. Видишь, в выходные дни у нас меньше всего публикуют объявлений. "
   ]
  },
  {
   "cell_type": "markdown",
   "metadata": {},
   "source": [
    "А как читать? # К старому графику"
   ]
  },
  {
   "cell_type": "markdown",
   "metadata": {},
   "source": [
    "Как то непонятно все равно. Могу сделать два графика - один для дней, другой для месяцев"
   ]
  },
  {
   "cell_type": "code",
   "execution_count": 61,
   "metadata": {},
   "outputs": [
    {
     "data": {
      "text/plain": [
       "count    18548.000000\n",
       "mean       126.636457\n",
       "std        118.865919\n",
       "min          1.000000\n",
       "25%         41.000000\n",
       "50%         84.000000\n",
       "75%        180.000000\n",
       "max        499.000000\n",
       "Name: days_exposition, dtype: float64"
      ]
     },
     "execution_count": 61,
     "metadata": {},
     "output_type": "execute_result"
    },
    {
     "data": {
      "image/png": "[encoded data removed]",
      "text/plain": [
       "<Figure size 432x288 with 1 Axes>"
      ]
     },
     "metadata": {
      "needs_background": "light"
     },
     "output_type": "display_data"
    }
   ],
   "source": [
    "data[\"days_exposition\"].hist(bins=100)\n",
    "\n",
    "data[\"days_exposition\"].describe()"
   ]
  },
  {
   "cell_type": "markdown",
   "metadata": {},
   "source": [
    "**<font color=\"maroon\">Обычно продажа занимает до 84 дней. Необычно долгие продажи - после 180 дней, необчно быстрые - 41 день\n",
    "Пики на 45 и 60 днях. - 1,5 и 2 месяца. Довольно круглые числа, наверно люди соглашаются на предложения или просто забывают продлить объявление</font>**"
   ]
  },
  {
   "cell_type": "code",
   "execution_count": 64,
   "metadata": {},
   "outputs": [
    {
     "data": {
      "text/plain": [
       "days_exposition\n",
       "45.0     879\n",
       "60.0     536\n",
       "7.0      233\n",
       "30.0     205\n",
       "90.0     192\n",
       "        ... \n",
       "496.0      4\n",
       "2.0        3\n",
       "474.0      3\n",
       "373.0      3\n",
       "1.0        1\n",
       "Name: first_day_exposition, Length: 499, dtype: int64"
      ]
     },
     "execution_count": 64,
     "metadata": {},
     "output_type": "execute_result"
    }
   ],
   "source": [
    "data.groupby(\"days_exposition\")[\"first_day_exposition\"].count().sort_values(ascending=False)"
   ]
  },
  {
   "cell_type": "markdown",
   "metadata": {},
   "source": [
    "<div class=\"alert alert-block alert-danger\">\n",
    " \n",
    "### Комментарий ревьюера\n",
    "    \n",
    "#### Ошибка\n",
    "\n",
    "Так, хорошо, а почему не высказался о причинх возможного возникновения выбросов. Тут же они явно выделяются  "
   ]
  },
  {
   "cell_type": "markdown",
   "metadata": {},
   "source": [
    "<div class=\"alert alert-block alert-success\">\n",
    " \n",
    "# Комментарий ревьюера ver.2 \n",
    "    \n",
    "#### Успех\n",
    "    \n",
    "Все так. В эти дни система убирает с показа бесплатные объявления "
   ]
  },
  {
   "cell_type": "code",
   "execution_count": 51,
   "metadata": {},
   "outputs": [
    {
     "data": {
      "text/plain": [
       "<AxesSubplot:xlabel='year', ylabel='last_price'>"
      ]
     },
     "execution_count": 51,
     "metadata": {},
     "output_type": "execute_result"
    },
    {
     "data": {
      "image/png": "[encoded data removed]",
      "text/plain": [
       "<Figure size 432x288 with 1 Axes>"
      ]
     },
     "metadata": {
      "needs_background": "light"
     },
     "output_type": "display_data"
    },
    {
     "data": {
      "image/png": "[encoded data removed]",
      "text/plain": [
       "<Figure size 432x288 with 1 Axes>"
      ]
     },
     "metadata": {
      "needs_background": "light"
     },
     "output_type": "display_data"
    },
    {
     "data": {
      "image/png": "[encoded data removed]",
      "text/plain": [
       "<Figure size 432x288 with 1 Axes>"
      ]
     },
     "metadata": {
      "needs_background": "light"
     },
     "output_type": "display_data"
    },
    {
     "data": {
      "image/png": "[encoded data removed]",
      "text/plain": [
       "<Figure size 432x288 with 1 Axes>"
      ]
     },
     "metadata": {
      "needs_background": "light"
     },
     "output_type": "display_data"
    },
    {
     "data": {
      "image/png": "[encoded data removed]",
      "text/plain": [
       "<Figure size 432x288 with 1 Axes>"
      ]
     },
     "metadata": {
      "needs_background": "light"
     },
     "output_type": "display_data"
    },
    {
     "data": {
      "image/png": "[encoded data removed]",
      "text/plain": [
       "<Figure size 432x288 with 1 Axes>"
      ]
     },
     "metadata": {
      "needs_background": "light"
     },
     "output_type": "display_data"
    },
    {
     "data": {
      "image/png": "[encoded data removed]",
      "text/plain": [
       "<Figure size 432x288 with 1 Axes>"
      ]
     },
     "metadata": {
      "needs_background": "light"
     },
     "output_type": "display_data"
    },
    {
     "data": {
      "image/png": "[encoded data removed]",
      "text/plain": [
       "<Figure size 432x288 with 1 Axes>"
      ]
     },
     "metadata": {
      "needs_background": "light"
     },
     "output_type": "display_data"
    }
   ],
   "source": [
    "data.plot(x='total_area', y='last_price', kind='scatter') \n",
    "data.plot(x='living_area', y='last_price', kind='scatter') \n",
    "data.plot(x='kitchen_area', y='last_price', kind='scatter') \n",
    "data.plot(x='rooms', y='last_price', kind='scatter') \n",
    "\n",
    "\n",
    "data[\"floor_type_int\"] = data[\"floor_type\"].replace({\"первый\":0,\"другой\":1,\"последний\":2})\n",
    "data.plot(x='floor_type_int', y='last_price', kind='scatter') \n",
    "data.plot(x='week_day', y='last_price', kind='scatter') \n",
    "data.plot(x='month', y='last_price', kind='scatter') \n",
    "data.plot(x='year', y='last_price', kind='scatter') "
   ]
  },
  {
   "cell_type": "markdown",
   "metadata": {},
   "source": [
    "- Цена на рынке зависит от\n",
    "    1. Размера квартиры\n",
    "    2. Расстояния до центра города\n",
    "- Количество объявлений на платформе с 2014 года сильно выросло "
   ]
  },
  {
   "cell_type": "markdown",
   "metadata": {},
   "source": [
    "<div class=\"alert alert-block alert-success\">\n",
    " \n",
    "### Комментарий ревьюера\n",
    "    \n",
    "#### Успех\n",
    "\n",
    "В целом, тут хорошо вышло. Не хватает выводов только "
   ]
  },
  {
   "cell_type": "code",
   "execution_count": 52,
   "metadata": {},
   "outputs": [
    {
     "data": {
      "text/plain": [
       "locality_name\n",
       "Выборг                66818.383655\n",
       "Всеволожск            72021.909903\n",
       "Гатчина               73842.014868\n",
       "Колпино               77098.892453\n",
       "поселок Шушары        80442.387181\n",
       "Мурино                86332.225122\n",
       "поселок Парголово     90077.945322\n",
       "Кудрово               95399.101107\n",
       "Пушкин               129564.838995\n",
       "Санкт-Петербург      133269.739176\n",
       "Name: m2_price, dtype: float64"
      ]
     },
     "execution_count": 52,
     "metadata": {},
     "output_type": "execute_result"
    }
   ],
   "source": [
    "top10_locations = data.groupby(\"locality_name\")[\"last_price\"].count().sort_values(ascending=False).head(10)\n",
    "top10_locations\n",
    "avg_m2_price = data.query(\"locality_name in @top10_locations.index\").groupby(\"locality_name\")[\"m2_price\"].mean().sort_values()\n",
    "avg_m2_price\n",
    "#Самый дорогой - Санкт-Петербург самый дешевый - Выборг    \n"
   ]
  },
  {
   "cell_type": "markdown",
   "metadata": {},
   "source": [
    "<div class=\"alert alert-block alert-success\">\n",
    " \n",
    "### Комментарий ревьюера\n",
    "    \n",
    "#### Успех\n",
    "\n",
    "Рейтинг по городам получен. Супер. "
   ]
  },
  {
   "cell_type": "code",
   "execution_count": 68,
   "metadata": {},
   "outputs": [
    {
     "data": {
      "text/plain": [
       "<AxesSubplot:xlabel='cityCenters_nearest_km'>"
      ]
     },
     "execution_count": 68,
     "metadata": {},
     "output_type": "execute_result"
    },
    {
     "data": {
      "image/png": "[encoded data removed]",
      "text/plain": [
       "<Figure size 432x288 with 1 Axes>"
      ]
     },
     "metadata": {
      "needs_background": "light"
     },
     "output_type": "display_data"
    }
   ],
   "source": [
    "km_price = data[data[\"locality_name\"]==\"Санкт-Петербург\"].groupby(\"cityCenters_nearest_km\")[\"last_price\"].mean()\n",
    "km_price.plot()\n"
   ]
  },
  {
   "cell_type": "code",
   "execution_count": 71,
   "metadata": {},
   "outputs": [
    {
     "data": {
      "text/html": [
       "<div>\n",
       "<style scoped>\n",
       "    .dataframe tbody tr th:only-of-type {\n",
       "        vertical-align: middle;\n",
       "    }\n",
       "\n",
       "    .dataframe tbody tr th {\n",
       "        vertical-align: top;\n",
       "    }\n",
       "\n",
       "    .dataframe thead th {\n",
       "        text-align: right;\n",
       "    }\n",
       "</style>\n",
       "<table border=\"1\" class=\"dataframe\">\n",
       "  <thead>\n",
       "    <tr style=\"text-align: right;\">\n",
       "      <th></th>\n",
       "      <th>total_images</th>\n",
       "      <th>last_price</th>\n",
       "      <th>total_area</th>\n",
       "      <th>first_day_exposition</th>\n",
       "      <th>rooms</th>\n",
       "      <th>ceiling_height</th>\n",
       "      <th>floors_total</th>\n",
       "      <th>living_area</th>\n",
       "      <th>floor</th>\n",
       "      <th>is_apartment</th>\n",
       "      <th>...</th>\n",
       "      <th>ponds_around3000</th>\n",
       "      <th>ponds_nearest</th>\n",
       "      <th>days_exposition</th>\n",
       "      <th>m2_price</th>\n",
       "      <th>week_day</th>\n",
       "      <th>month</th>\n",
       "      <th>year</th>\n",
       "      <th>floor_type</th>\n",
       "      <th>cityCenters_nearest_km</th>\n",
       "      <th>floor_type_int</th>\n",
       "    </tr>\n",
       "  </thead>\n",
       "  <tbody>\n",
       "    <tr>\n",
       "      <th>748</th>\n",
       "      <td>13</td>\n",
       "      <td>14350000.0</td>\n",
       "      <td>74.0</td>\n",
       "      <td>2017-11-28</td>\n",
       "      <td>2</td>\n",
       "      <td>3.13</td>\n",
       "      <td>5.0</td>\n",
       "      <td>30.0</td>\n",
       "      <td>3</td>\n",
       "      <td>False</td>\n",
       "      <td>...</td>\n",
       "      <td>0.0</td>\n",
       "      <td>NaN</td>\n",
       "      <td>128.0</td>\n",
       "      <td>193918.918919</td>\n",
       "      <td>1</td>\n",
       "      <td>11</td>\n",
       "      <td>2017</td>\n",
       "      <td>другой</td>\n",
       "      <td>27.0</td>\n",
       "      <td>1.0</td>\n",
       "    </tr>\n",
       "    <tr>\n",
       "      <th>5961</th>\n",
       "      <td>6</td>\n",
       "      <td>2250000.0</td>\n",
       "      <td>32.0</td>\n",
       "      <td>2018-02-27</td>\n",
       "      <td>1</td>\n",
       "      <td>NaN</td>\n",
       "      <td>2.0</td>\n",
       "      <td>16.5</td>\n",
       "      <td>2</td>\n",
       "      <td>False</td>\n",
       "      <td>...</td>\n",
       "      <td>0.0</td>\n",
       "      <td>NaN</td>\n",
       "      <td>178.0</td>\n",
       "      <td>70312.500000</td>\n",
       "      <td>1</td>\n",
       "      <td>2</td>\n",
       "      <td>2018</td>\n",
       "      <td>последний</td>\n",
       "      <td>27.0</td>\n",
       "      <td>2.0</td>\n",
       "    </tr>\n",
       "  </tbody>\n",
       "</table>\n",
       "<p>2 rows × 29 columns</p>\n",
       "</div>"
      ],
      "text/plain": [
       "      total_images  last_price  total_area first_day_exposition  rooms  \\\n",
       "748             13  14350000.0        74.0           2017-11-28      2   \n",
       "5961             6   2250000.0        32.0           2018-02-27      1   \n",
       "\n",
       "      ceiling_height  floors_total  living_area  floor  is_apartment  ...  \\\n",
       "748             3.13           5.0         30.0      3         False  ...   \n",
       "5961             NaN           2.0         16.5      2         False  ...   \n",
       "\n",
       "      ponds_around3000  ponds_nearest  days_exposition       m2_price  \\\n",
       "748                0.0            NaN            128.0  193918.918919   \n",
       "5961               0.0            NaN            178.0   70312.500000   \n",
       "\n",
       "     week_day  month  year  floor_type  cityCenters_nearest_km  floor_type_int  \n",
       "748         1     11  2017      другой                    27.0             1.0  \n",
       "5961        1      2  2018   последний                    27.0             2.0  \n",
       "\n",
       "[2 rows x 29 columns]"
      ]
     },
     "execution_count": 71,
     "metadata": {},
     "output_type": "execute_result"
    }
   ],
   "source": [
    "data[(data[\"cityCenters_nearest_km\"]==27) & (data[\"locality_name\"]==\"Санкт-Петербург\")]"
   ]
  },
  {
   "cell_type": "markdown",
   "metadata": {},
   "source": [
    "\n",
    "\n",
    "\n",
    "\n",
    "<div class=\"alert alert-block alert-warning\">\n",
    " \n",
    "### Комментарий ревьюера\n",
    "    \n",
    "#### Совет\n",
    "\n",
    "Давай тут график выведем. Так результат будет лучше восприниматься.  "
   ]
  },
  {
   "cell_type": "markdown",
   "metadata": {},
   "source": [
    "**<font color=\"maroon\">Чем ближе к центру тем дороже, за некторыми редкими исключениями. Выброс на 27 км Скорее всего дорогой район, еще в интернете увидел, что там дворец стоит, может его продают?</font>**"
   ]
  },
  {
   "cell_type": "markdown",
   "metadata": {},
   "source": [
    "<div class=\"alert alert-block alert-success\">\n",
    " \n",
    "# Комментарий ревьюера ver.2 \n",
    "    \n",
    "#### Успех\n",
    "    \n",
    "Да, там есть выброс, который просто икажает представление из-аз своей высокой цены. "
   ]
  },
  {
   "cell_type": "markdown",
   "metadata": {},
   "source": [
    "### Общий вывод"
   ]
  },
  {
   "cell_type": "markdown",
   "metadata": {},
   "source": [
    "- Цена на рынке зависит от\n",
    "    1. Размера квартиры\n",
    "    2. Расстояния до центра города\n",
    "    3. Населенного пункта (Санкт-Петербург - самый дорогой)\n",
    "- Количество объявлений на платформе с 2014 года сильно выросло \n",
    "- Обычно продажа квартиры занимает до 84 дней \n",
    "- В основном продают квартиры с 1 и 2 комнатами, 2,5 метра - самая частая высота потолка \n",
    "- 5 и 9 этажных зданий сильно больше чем домов других этажностей. \n",
    "**<font color=\"maroon\">-Рекомендация: Добавить или изменить инструкцию при размещении объявления - очень много неадекватных площадей и цен, скорее всего люди путаются в точках. Если это можно атоматизировать (Мб с помощью кадастра) будет очень хорошо.\n",
    "-Итог: На цену влияет в основном расположение и размер, расположение даже сильнее. Остальные факторы не (этаж, площадь кухни и высота потолка и тд) незначительно влияют на стоимость.</font>**"
   ]
  },
  {
   "cell_type": "markdown",
   "metadata": {},
   "source": [
    "<div class=\"alert alert-block alert-danger\">\n",
    " \n",
    "### Комментарий ревьюера\n",
    "    \n",
    "#### Ошибка\n",
    "\n",
    "Вот за итоговый вывод похвалить не могу. Ты с одной стороны достаточно лаконично пишешь, но вывод без рекомендаций и резюмирующего итога неполноценен. Давай доработаем. "
   ]
  },
  {
   "cell_type": "markdown",
   "metadata": {},
   "source": [
    "<div class=\"alert alert-block alert-success\">\n",
    " \n",
    "# Комментарий ревьюера ver.2 \n",
    "    \n",
    "#### Успех\n",
    "    \n",
    "Вот а теперь другое дело. "
   ]
  },
  {
   "cell_type": "markdown",
   "metadata": {},
   "source": [
    "<div class=\"alert alert-block alert-info\">\n",
    "\n",
    "## Итоговый комментарии от ревьюера:\n",
    "    \n",
    "#### Успех\n",
    "\n",
    "Благодарю тебя за выполнение проекта. Мне очень понравилось, как ты разобрался с предобработкой данных. Твои проект лаконичен и все на своих местах. Ты подбираешь правильные методы для анализа и строишь хорошие графики. Однако, в проекте есть несколько замечаний, которые надо исправить:\n",
    "\n",
    "* Описать сколько данных у нас осталось после удаления выбросов и неявных дублей. \n",
    "* Добавить промежуточные выводы. \n",
    "* Пояснить выбросы на одном из графиков.\n",
    "* Построить график по дням и месяцам публикации. \n",
    "* Дорабртать итоговый вывод.\n",
    "       \n",
    "Еще я оставил рекомендации. Очень надеюсь, что ты учтешь их в этом и последующих проектах.\n",
    "       \n",
    "Жду проект после доработки. Уверен, ты справишься.\n",
    "</div>"
   ]
  },
  {
   "cell_type": "markdown",
   "metadata": {},
   "source": []
  },
  {
   "cell_type": "markdown",
   "metadata": {},
   "source": [
    "**Чек-лист готовности проекта**\n",
    "\n",
    "Поставьте 'x' в выполненных пунктах. Далее нажмите Shift+Enter."
   ]
  },
  {
   "cell_type": "markdown",
   "metadata": {},
   "source": [
    "- [x]  открыт файл\n",
    "- [ ]  файлы изучены (выведены первые строки, метод `info()`, гистограммы и т.д.)\n",
    "- [ ]  определены пропущенные значения\n",
    "- [ ]  заполнены пропущенные значения там, где это возможно\n",
    "- [ ]  есть пояснение, какие пропущенные значения обнаружены\n",
    "- [ ]  изменены типы данных\n",
    "- [ ]  есть пояснение, в каких столбцах изменены типы и почему\n",
    "- [ ]  устранены неявные дубликаты в названиях населённых пунктов\n",
    "- [ ]  устранены редкие и выбивающиеся значения (аномалии) во всех столбцах\n",
    "- [ ]  посчитано и добавлено в таблицу: цена одного квадратного метра\n",
    "- [ ]  посчитано и добавлено в таблицу: день публикации объявления (0 - понедельник, 1 - вторник и т.д.)\n",
    "- [ ]  посчитано и добавлено в таблицу: месяц публикации объявления\n",
    "- [ ]  посчитано и добавлено в таблицу: год публикации объявления\n",
    "- [ ]  посчитано и добавлено в таблицу: тип этажа квартиры (значения — «первый», «последний», «другой»)\n",
    "- [ ]  посчитано и добавлено в таблицу: расстояние в км до центра города\n",
    "- [ ]  изучены и описаны следующие параметры:\n",
    "        - общая площадь;\n",
    "        - жилая площадь;\n",
    "        - площадь кухни;\n",
    "        - цена объекта;\n",
    "        - количество комнат;\n",
    "        - высота потолков;\n",
    "        - этаж квартиры;\n",
    "        - тип этажа квартиры («первый», «последний», «другой»);\n",
    "        - общее количество этажей в доме;\n",
    "        - расстояние до центра города в метрах;\n",
    "        - расстояние до ближайшего аэропорта;\n",
    "        - расстояние до ближайшего парка;\n",
    "        - день и месяц публикации объявления\n",
    "- [ ]  построены гистограммы для каждого параметра\n",
    "- [ ]  выполнено задание: \"Изучите, как быстро продавались квартиры (столбец days_exposition). Этот параметр показывает, сколько дней «висело» каждое объявление.\n",
    "    - Постройте гистограмму.\n",
    "    - Посчитайте среднее и медиану.\n",
    "    - В ячейке типа markdown опишите, сколько обычно занимает продажа. Какие продажи можно считать быстрыми, а какие — необычно долгими?\"\n",
    "- [ ]  выполнено задание: \"Какие факторы больше всего влияют на общую (полную) стоимость объекта? Постройте графики, которые покажут зависимость цены от указанных ниже параметров. Для подготовки данных перед визуализацией вы можете использовать сводные таблицы.\"\n",
    "        - общей площади;\n",
    "        - жилой площади;\n",
    "        - площади кухни;\n",
    "        - количество комнат;\n",
    "        - типа этажа, на котором расположена квартира (первый, последний, другой);\n",
    "        - даты размещения (день недели, месяц, год);\n",
    "- [ ]  выполнено задание: \"Посчитайте среднюю цену одного квадратного метра в 10 населённых пунктах с наибольшим числом объявлений. Выделите населённые пункты с самой высокой и низкой стоимостью квадратного метра. Эти данные можно найти по имени в столбце `locality_name`.\"\n",
    "- [ ]  выполнено задание: \"Ранее вы посчитали расстояние до центра в километрах. Теперь выделите квартиры в Санкт-Петербурге с помощью столбца `locality_name` и вычислите среднюю цену каждого километра. Опишите, как стоимость объектов зависит от расстояния до центра города.\"\n",
    "- [ ]  в каждом этапе есть промежуточные выводы\n",
    "- [ ]  есть общий вывод"
   ]
  }
 ],
 "metadata": {
  "ExecuteTimeLog": [
   {
    "duration": 61,
    "start_time": "2023-06-27T09:36:04.512Z"
   },
   {
    "duration": 431,
    "start_time": "2023-06-27T09:36:07.599Z"
   },
   {
    "duration": 221,
    "start_time": "2023-06-27T09:36:09.315Z"
   },
   {
    "duration": 791,
    "start_time": "2023-06-27T09:36:59.234Z"
   },
   {
    "duration": 147,
    "start_time": "2023-06-27T09:38:14.764Z"
   },
   {
    "duration": 176,
    "start_time": "2023-06-27T09:38:39.037Z"
   },
   {
    "duration": 17,
    "start_time": "2023-06-27T09:39:26.312Z"
   },
   {
    "duration": 2607,
    "start_time": "2023-06-27T09:39:48.047Z"
   },
   {
    "duration": 31,
    "start_time": "2023-06-27T09:46:53.977Z"
   },
   {
    "duration": 20,
    "start_time": "2023-06-27T09:47:06.153Z"
   },
   {
    "duration": 57,
    "start_time": "2023-06-27T09:47:53.720Z"
   },
   {
    "duration": 47,
    "start_time": "2023-06-27T09:49:05.859Z"
   },
   {
    "duration": 3,
    "start_time": "2023-06-27T09:53:32.259Z"
   },
   {
    "duration": 4,
    "start_time": "2023-06-27T09:54:28.944Z"
   },
   {
    "duration": 5,
    "start_time": "2023-06-27T09:56:18.533Z"
   },
   {
    "duration": 9,
    "start_time": "2023-06-27T09:58:36.514Z"
   },
   {
    "duration": 44,
    "start_time": "2023-06-27T09:59:35.139Z"
   },
   {
    "duration": 33,
    "start_time": "2023-06-27T10:00:38.314Z"
   },
   {
    "duration": 9,
    "start_time": "2023-06-27T10:15:18.037Z"
   },
   {
    "duration": 25,
    "start_time": "2023-06-27T10:22:51.512Z"
   },
   {
    "duration": 43,
    "start_time": "2023-06-27T10:22:59.405Z"
   },
   {
    "duration": 118,
    "start_time": "2023-06-27T10:25:30.107Z"
   },
   {
    "duration": 72,
    "start_time": "2023-06-27T10:25:53.959Z"
   },
   {
    "duration": 81,
    "start_time": "2023-06-27T10:26:32.147Z"
   },
   {
    "duration": 7,
    "start_time": "2023-06-27T10:26:40.623Z"
   },
   {
    "duration": 57,
    "start_time": "2023-06-27T10:27:33.013Z"
   },
   {
    "duration": 15,
    "start_time": "2023-06-27T10:31:56.341Z"
   },
   {
    "duration": 23,
    "start_time": "2023-06-27T10:33:02.661Z"
   },
   {
    "duration": 21,
    "start_time": "2023-06-27T10:35:36.226Z"
   },
   {
    "duration": 6,
    "start_time": "2023-06-27T10:37:00.351Z"
   },
   {
    "duration": 54,
    "start_time": "2023-06-27T10:37:06.416Z"
   },
   {
    "duration": 5,
    "start_time": "2023-06-27T10:41:35.840Z"
   },
   {
    "duration": 10,
    "start_time": "2023-06-27T10:41:41.420Z"
   },
   {
    "duration": 75,
    "start_time": "2023-06-27T10:42:37.519Z"
   },
   {
    "duration": 6,
    "start_time": "2023-06-27T10:47:12.610Z"
   },
   {
    "duration": 8,
    "start_time": "2023-06-27T10:47:47.029Z"
   },
   {
    "duration": 13,
    "start_time": "2023-06-27T10:49:48.416Z"
   },
   {
    "duration": 7,
    "start_time": "2023-06-27T10:50:01.734Z"
   },
   {
    "duration": 10,
    "start_time": "2023-06-27T10:50:08.324Z"
   },
   {
    "duration": 10,
    "start_time": "2023-06-27T10:53:31.145Z"
   },
   {
    "duration": 11,
    "start_time": "2023-06-27T10:53:34.813Z"
   },
   {
    "duration": 1385,
    "start_time": "2023-06-27T10:57:12.210Z"
   },
   {
    "duration": 6,
    "start_time": "2023-06-27T10:57:25.943Z"
   },
   {
    "duration": 20,
    "start_time": "2023-06-27T11:02:02.442Z"
   },
   {
    "duration": 19,
    "start_time": "2023-06-27T11:11:02.165Z"
   },
   {
    "duration": 26,
    "start_time": "2023-06-27T11:11:26.401Z"
   },
   {
    "duration": 7,
    "start_time": "2023-06-27T11:13:24.716Z"
   },
   {
    "duration": 8,
    "start_time": "2023-06-27T12:27:16.843Z"
   },
   {
    "duration": 9,
    "start_time": "2023-06-27T12:27:30.034Z"
   },
   {
    "duration": 261,
    "start_time": "2023-06-27T12:30:03.225Z"
   },
   {
    "duration": 139,
    "start_time": "2023-06-27T12:30:19.243Z"
   },
   {
    "duration": 1806,
    "start_time": "2023-06-27T12:30:29.927Z"
   },
   {
    "duration": 7,
    "start_time": "2023-06-27T12:31:19.228Z"
   },
   {
    "duration": 23,
    "start_time": "2023-06-27T12:31:23.206Z"
   },
   {
    "duration": 16,
    "start_time": "2023-06-27T12:34:08.545Z"
   },
   {
    "duration": 9,
    "start_time": "2023-06-27T12:34:11.922Z"
   },
   {
    "duration": 18,
    "start_time": "2023-06-27T12:37:40.821Z"
   },
   {
    "duration": 10,
    "start_time": "2023-06-27T12:37:44.624Z"
   },
   {
    "duration": 3593,
    "start_time": "2023-06-27T12:41:59.953Z"
   },
   {
    "duration": 211,
    "start_time": "2023-06-27T12:42:13.127Z"
   },
   {
    "duration": 10,
    "start_time": "2023-06-27T12:42:45.339Z"
   },
   {
    "duration": 201,
    "start_time": "2023-06-27T12:42:51.221Z"
   },
   {
    "duration": 3293,
    "start_time": "2023-06-27T12:43:34.743Z"
   },
   {
    "duration": 17,
    "start_time": "2023-06-27T12:43:40.464Z"
   },
   {
    "duration": 255,
    "start_time": "2023-06-27T12:45:11.031Z"
   },
   {
    "duration": 9,
    "start_time": "2023-06-27T12:45:14.136Z"
   },
   {
    "duration": 39,
    "start_time": "2023-06-27T13:04:44.383Z"
   },
   {
    "duration": 14,
    "start_time": "2023-06-27T13:04:46.147Z"
   },
   {
    "duration": 8,
    "start_time": "2023-06-27T13:04:48.248Z"
   },
   {
    "duration": 37,
    "start_time": "2023-06-27T13:15:42.574Z"
   },
   {
    "duration": 9,
    "start_time": "2023-06-27T13:15:48.326Z"
   },
   {
    "duration": 17,
    "start_time": "2023-06-27T13:20:55.224Z"
   },
   {
    "duration": 401,
    "start_time": "2023-06-27T13:21:11.753Z"
   },
   {
    "duration": 93,
    "start_time": "2023-06-27T13:26:04.964Z"
   },
   {
    "duration": 29,
    "start_time": "2023-06-27T13:26:09.130Z"
   },
   {
    "duration": 10,
    "start_time": "2023-06-27T13:26:11.042Z"
   },
   {
    "duration": 15,
    "start_time": "2023-06-27T13:26:12.833Z"
   },
   {
    "duration": 615,
    "start_time": "2023-06-27T13:26:14.743Z"
   },
   {
    "duration": 47,
    "start_time": "2023-06-27T13:39:01.510Z"
   },
   {
    "duration": 23,
    "start_time": "2023-06-27T13:39:03.951Z"
   },
   {
    "duration": 14,
    "start_time": "2023-06-27T13:39:06.243Z"
   },
   {
    "duration": 533,
    "start_time": "2023-06-27T13:39:08.031Z"
   },
   {
    "duration": 38,
    "start_time": "2023-06-27T13:42:07.032Z"
   },
   {
    "duration": 10,
    "start_time": "2023-06-27T13:42:09.734Z"
   },
   {
    "duration": 20,
    "start_time": "2023-06-27T13:42:11.720Z"
   },
   {
    "duration": 509,
    "start_time": "2023-06-27T13:42:13.738Z"
   },
   {
    "duration": 26,
    "start_time": "2023-06-27T13:43:26.740Z"
   },
   {
    "duration": 9,
    "start_time": "2023-06-27T13:43:29.847Z"
   },
   {
    "duration": 30,
    "start_time": "2023-06-27T13:43:32.464Z"
   },
   {
    "duration": 538,
    "start_time": "2023-06-27T13:43:34.443Z"
   },
   {
    "duration": 28,
    "start_time": "2023-06-27T14:37:25.054Z"
   },
   {
    "duration": 11,
    "start_time": "2023-06-27T14:37:29.233Z"
   },
   {
    "duration": 174,
    "start_time": "2023-06-27T14:38:16.321Z"
   },
   {
    "duration": 11,
    "start_time": "2023-06-27T14:38:45.347Z"
   },
   {
    "duration": 885,
    "start_time": "2023-06-27T14:38:55.754Z"
   },
   {
    "duration": 306,
    "start_time": "2023-06-27T14:39:05.847Z"
   },
   {
    "duration": 213,
    "start_time": "2023-06-27T14:39:55.408Z"
   },
   {
    "duration": 248,
    "start_time": "2023-06-27T14:42:38.748Z"
   },
   {
    "duration": 281,
    "start_time": "2023-06-27T14:42:49.400Z"
   },
   {
    "duration": 26,
    "start_time": "2023-06-27T14:45:54.609Z"
   },
   {
    "duration": 437,
    "start_time": "2023-06-27T14:46:01.626Z"
   },
   {
    "duration": 17,
    "start_time": "2023-06-27T14:46:42.904Z"
   },
   {
    "duration": 60,
    "start_time": "2023-06-27T14:46:47.750Z"
   },
   {
    "duration": 6,
    "start_time": "2023-06-27T14:47:58.221Z"
   },
   {
    "duration": 232,
    "start_time": "2023-06-27T14:48:03.314Z"
   },
   {
    "duration": 215,
    "start_time": "2023-06-27T14:48:47.215Z"
   },
   {
    "duration": 309,
    "start_time": "2023-06-27T14:49:34.111Z"
   },
   {
    "duration": 207,
    "start_time": "2023-06-27T14:50:07.920Z"
   },
   {
    "duration": 93,
    "start_time": "2023-06-27T14:55:49.330Z"
   },
   {
    "duration": 191,
    "start_time": "2023-06-27T14:56:39.412Z"
   },
   {
    "duration": 215,
    "start_time": "2023-06-27T14:58:00.654Z"
   },
   {
    "duration": 45,
    "start_time": "2023-06-27T14:58:39.289Z"
   },
   {
    "duration": 29,
    "start_time": "2023-06-27T14:58:43.465Z"
   },
   {
    "duration": 179,
    "start_time": "2023-06-27T14:59:01.655Z"
   },
   {
    "duration": 248,
    "start_time": "2023-06-27T15:00:03.962Z"
   },
   {
    "duration": 156,
    "start_time": "2023-06-27T15:05:27.408Z"
   },
   {
    "duration": 162,
    "start_time": "2023-06-27T15:05:50.912Z"
   },
   {
    "duration": 160,
    "start_time": "2023-06-27T15:06:27.221Z"
   },
   {
    "duration": 288,
    "start_time": "2023-06-27T15:06:31.332Z"
   },
   {
    "duration": 150,
    "start_time": "2023-06-27T15:06:57.012Z"
   },
   {
    "duration": 159,
    "start_time": "2023-06-27T15:07:14.491Z"
   },
   {
    "duration": 153,
    "start_time": "2023-06-27T15:07:30.930Z"
   },
   {
    "duration": 186,
    "start_time": "2023-06-27T15:07:41.928Z"
   },
   {
    "duration": 5,
    "start_time": "2023-06-27T15:12:26.741Z"
   },
   {
    "duration": 144,
    "start_time": "2023-06-27T15:12:39.318Z"
   },
   {
    "duration": 172,
    "start_time": "2023-06-27T15:12:46.629Z"
   },
   {
    "duration": 185,
    "start_time": "2023-06-27T15:13:03.359Z"
   },
   {
    "duration": 340,
    "start_time": "2023-06-27T15:13:25.967Z"
   },
   {
    "duration": 310,
    "start_time": "2023-06-27T15:14:06.451Z"
   },
   {
    "duration": 499,
    "start_time": "2023-06-27T15:14:52.164Z"
   },
   {
    "duration": 397,
    "start_time": "2023-06-27T15:15:36.018Z"
   },
   {
    "duration": 403,
    "start_time": "2023-06-27T15:17:14.907Z"
   },
   {
    "duration": 351,
    "start_time": "2023-06-27T15:18:06.703Z"
   },
   {
    "duration": 387,
    "start_time": "2023-06-27T15:18:13.015Z"
   },
   {
    "duration": 364,
    "start_time": "2023-06-27T15:18:16.440Z"
   },
   {
    "duration": 533,
    "start_time": "2023-06-27T15:18:19.932Z"
   },
   {
    "duration": 63,
    "start_time": "2023-06-28T09:28:05.512Z"
   },
   {
    "duration": 436,
    "start_time": "2023-06-28T09:28:13.262Z"
   },
   {
    "duration": 184,
    "start_time": "2023-06-28T09:28:13.700Z"
   },
   {
    "duration": 22,
    "start_time": "2023-06-28T09:28:13.886Z"
   },
   {
    "duration": 2871,
    "start_time": "2023-06-28T09:28:13.911Z"
   },
   {
    "duration": 19,
    "start_time": "2023-06-28T09:28:16.784Z"
   },
   {
    "duration": 7,
    "start_time": "2023-06-28T09:28:16.805Z"
   },
   {
    "duration": 17,
    "start_time": "2023-06-28T09:28:16.814Z"
   },
   {
    "duration": 19,
    "start_time": "2023-06-28T09:28:16.833Z"
   },
   {
    "duration": 41,
    "start_time": "2023-06-28T09:28:16.854Z"
   },
   {
    "duration": 23,
    "start_time": "2023-06-28T09:28:16.898Z"
   },
   {
    "duration": 23,
    "start_time": "2023-06-28T09:28:16.923Z"
   },
   {
    "duration": 21,
    "start_time": "2023-06-28T09:28:16.948Z"
   },
   {
    "duration": 9,
    "start_time": "2023-06-28T09:28:16.972Z"
   },
   {
    "duration": 33,
    "start_time": "2023-06-28T09:28:16.983Z"
   },
   {
    "duration": 203,
    "start_time": "2023-06-28T09:28:17.018Z"
   },
   {
    "duration": 30,
    "start_time": "2023-06-28T09:28:17.223Z"
   },
   {
    "duration": 330,
    "start_time": "2023-06-28T09:28:17.255Z"
   },
   {
    "duration": 121,
    "start_time": "2023-06-28T09:28:17.586Z"
   },
   {
    "duration": 130,
    "start_time": "2023-06-28T09:28:17.708Z"
   },
   {
    "duration": 103,
    "start_time": "2023-06-28T09:28:17.840Z"
   },
   {
    "duration": 0,
    "start_time": "2023-06-28T09:28:17.945Z"
   },
   {
    "duration": 0,
    "start_time": "2023-06-28T09:28:17.947Z"
   },
   {
    "duration": 18,
    "start_time": "2023-06-28T09:30:23.245Z"
   },
   {
    "duration": 11,
    "start_time": "2023-06-28T09:31:09.207Z"
   },
   {
    "duration": 16,
    "start_time": "2023-06-28T09:32:57.371Z"
   },
   {
    "duration": 14,
    "start_time": "2023-06-28T09:35:33.777Z"
   },
   {
    "duration": 23,
    "start_time": "2023-06-28T09:35:57.733Z"
   },
   {
    "duration": 22,
    "start_time": "2023-06-28T09:36:11.376Z"
   },
   {
    "duration": 145,
    "start_time": "2023-06-28T09:36:28.455Z"
   },
   {
    "duration": 127,
    "start_time": "2023-06-28T09:36:52.075Z"
   },
   {
    "duration": 163,
    "start_time": "2023-06-28T09:37:51.920Z"
   },
   {
    "duration": 225,
    "start_time": "2023-06-28T09:37:59.161Z"
   },
   {
    "duration": 148,
    "start_time": "2023-06-28T09:40:49.092Z"
   },
   {
    "duration": 134,
    "start_time": "2023-06-28T09:41:39.962Z"
   },
   {
    "duration": 146,
    "start_time": "2023-06-28T09:42:53.992Z"
   },
   {
    "duration": 143,
    "start_time": "2023-06-28T09:45:46.641Z"
   },
   {
    "duration": 42,
    "start_time": "2023-06-28T09:46:37.908Z"
   },
   {
    "duration": 48,
    "start_time": "2023-06-28T09:47:00.734Z"
   },
   {
    "duration": 42,
    "start_time": "2023-06-28T09:47:08.201Z"
   },
   {
    "duration": 51,
    "start_time": "2023-06-28T09:52:18.331Z"
   },
   {
    "duration": 48,
    "start_time": "2023-06-28T09:53:45.952Z"
   },
   {
    "duration": 131,
    "start_time": "2023-06-28T09:54:39.690Z"
   },
   {
    "duration": 140,
    "start_time": "2023-06-28T09:55:12.064Z"
   },
   {
    "duration": 138,
    "start_time": "2023-06-28T09:55:23.533Z"
   },
   {
    "duration": 147,
    "start_time": "2023-06-28T09:56:42.522Z"
   },
   {
    "duration": 114,
    "start_time": "2023-06-28T09:57:21.645Z"
   },
   {
    "duration": 154,
    "start_time": "2023-06-28T11:58:10.236Z"
   },
   {
    "duration": 176,
    "start_time": "2023-06-28T11:58:18.066Z"
   },
   {
    "duration": 161,
    "start_time": "2023-06-28T12:04:06.080Z"
   },
   {
    "duration": 184,
    "start_time": "2023-06-28T12:04:49.307Z"
   },
   {
    "duration": 2748,
    "start_time": "2023-06-28T12:05:33.950Z"
   },
   {
    "duration": 128,
    "start_time": "2023-06-28T12:07:40.112Z"
   },
   {
    "duration": 181,
    "start_time": "2023-06-28T12:09:02.814Z"
   },
   {
    "duration": 293,
    "start_time": "2023-06-28T12:09:18.480Z"
   },
   {
    "duration": 222,
    "start_time": "2023-06-28T12:09:32.232Z"
   },
   {
    "duration": 241,
    "start_time": "2023-06-28T13:13:02.951Z"
   },
   {
    "duration": 222,
    "start_time": "2023-06-28T13:13:23.614Z"
   },
   {
    "duration": 288,
    "start_time": "2023-06-28T13:13:48.960Z"
   },
   {
    "duration": 212,
    "start_time": "2023-06-28T13:14:33.616Z"
   },
   {
    "duration": 255,
    "start_time": "2023-06-28T13:15:08.694Z"
   },
   {
    "duration": 198,
    "start_time": "2023-06-28T13:15:19.159Z"
   },
   {
    "duration": 497,
    "start_time": "2023-06-28T13:15:57.246Z"
   },
   {
    "duration": 165,
    "start_time": "2023-06-28T13:15:57.745Z"
   },
   {
    "duration": 25,
    "start_time": "2023-06-28T13:15:57.913Z"
   },
   {
    "duration": 3021,
    "start_time": "2023-06-28T13:15:57.941Z"
   },
   {
    "duration": 27,
    "start_time": "2023-06-28T13:16:00.964Z"
   },
   {
    "duration": 54,
    "start_time": "2023-06-28T13:16:00.994Z"
   },
   {
    "duration": 97,
    "start_time": "2023-06-28T13:16:01.050Z"
   },
   {
    "duration": 73,
    "start_time": "2023-06-28T13:16:01.149Z"
   },
   {
    "duration": 74,
    "start_time": "2023-06-28T13:16:01.224Z"
   },
   {
    "duration": 91,
    "start_time": "2023-06-28T13:16:01.303Z"
   },
   {
    "duration": 125,
    "start_time": "2023-06-28T13:16:01.398Z"
   },
   {
    "duration": 87,
    "start_time": "2023-06-28T13:16:01.526Z"
   },
   {
    "duration": 138,
    "start_time": "2023-06-28T13:16:01.615Z"
   },
   {
    "duration": 126,
    "start_time": "2023-06-28T13:16:01.756Z"
   },
   {
    "duration": 278,
    "start_time": "2023-06-28T13:16:01.906Z"
   },
   {
    "duration": 43,
    "start_time": "2023-06-28T13:16:02.186Z"
   },
   {
    "duration": 509,
    "start_time": "2023-06-28T13:16:02.231Z"
   },
   {
    "duration": 164,
    "start_time": "2023-06-28T13:16:02.742Z"
   },
   {
    "duration": 155,
    "start_time": "2023-06-28T13:16:02.909Z"
   },
   {
    "duration": 143,
    "start_time": "2023-06-28T13:16:03.068Z"
   },
   {
    "duration": 172,
    "start_time": "2023-06-28T13:16:03.215Z"
   },
   {
    "duration": 214,
    "start_time": "2023-06-28T13:16:03.389Z"
   },
   {
    "duration": 174,
    "start_time": "2023-06-28T13:16:03.604Z"
   },
   {
    "duration": 356,
    "start_time": "2023-06-28T13:16:03.781Z"
   },
   {
    "duration": 201,
    "start_time": "2023-06-28T13:16:04.140Z"
   },
   {
    "duration": 2857,
    "start_time": "2023-06-28T13:16:04.345Z"
   },
   {
    "duration": 322,
    "start_time": "2023-06-28T13:16:07.204Z"
   },
   {
    "duration": 212,
    "start_time": "2023-06-28T13:17:33.079Z"
   },
   {
    "duration": 3019,
    "start_time": "2023-06-28T13:17:39.908Z"
   },
   {
    "duration": 173,
    "start_time": "2023-06-28T13:19:01.936Z"
   },
   {
    "duration": 133,
    "start_time": "2023-06-28T13:19:13.316Z"
   },
   {
    "duration": 461,
    "start_time": "2023-06-28T13:19:28.394Z"
   },
   {
    "duration": 177,
    "start_time": "2023-06-28T13:19:28.859Z"
   },
   {
    "duration": 17,
    "start_time": "2023-06-28T13:19:29.038Z"
   },
   {
    "duration": 2998,
    "start_time": "2023-06-28T13:19:29.059Z"
   },
   {
    "duration": 31,
    "start_time": "2023-06-28T13:19:32.059Z"
   },
   {
    "duration": 45,
    "start_time": "2023-06-28T13:19:32.092Z"
   },
   {
    "duration": 46,
    "start_time": "2023-06-28T13:19:32.140Z"
   },
   {
    "duration": 25,
    "start_time": "2023-06-28T13:19:32.189Z"
   },
   {
    "duration": 22,
    "start_time": "2023-06-28T13:19:32.215Z"
   },
   {
    "duration": 19,
    "start_time": "2023-06-28T13:19:32.241Z"
   },
   {
    "duration": 37,
    "start_time": "2023-06-28T13:19:32.262Z"
   },
   {
    "duration": 43,
    "start_time": "2023-06-28T13:19:32.301Z"
   },
   {
    "duration": 17,
    "start_time": "2023-06-28T13:19:32.347Z"
   },
   {
    "duration": 49,
    "start_time": "2023-06-28T13:19:32.367Z"
   },
   {
    "duration": 244,
    "start_time": "2023-06-28T13:19:32.418Z"
   },
   {
    "duration": 41,
    "start_time": "2023-06-28T13:19:32.664Z"
   },
   {
    "duration": 382,
    "start_time": "2023-06-28T13:19:32.707Z"
   },
   {
    "duration": 150,
    "start_time": "2023-06-28T13:19:33.091Z"
   },
   {
    "duration": 160,
    "start_time": "2023-06-28T13:19:33.244Z"
   },
   {
    "duration": 152,
    "start_time": "2023-06-28T13:19:33.406Z"
   },
   {
    "duration": 178,
    "start_time": "2023-06-28T13:19:33.560Z"
   },
   {
    "duration": 174,
    "start_time": "2023-06-28T13:19:33.740Z"
   },
   {
    "duration": 191,
    "start_time": "2023-06-28T13:19:33.916Z"
   },
   {
    "duration": 339,
    "start_time": "2023-06-28T13:19:34.110Z"
   },
   {
    "duration": 178,
    "start_time": "2023-06-28T13:19:34.451Z"
   },
   {
    "duration": 2956,
    "start_time": "2023-06-28T13:19:34.632Z"
   },
   {
    "duration": 341,
    "start_time": "2023-06-28T13:19:37.591Z"
   },
   {
    "duration": 148,
    "start_time": "2023-06-28T13:20:48.941Z"
   },
   {
    "duration": 168,
    "start_time": "2023-06-28T13:21:08.244Z"
   },
   {
    "duration": 161,
    "start_time": "2023-06-28T13:21:16.924Z"
   },
   {
    "duration": 124,
    "start_time": "2023-06-28T13:21:22.936Z"
   },
   {
    "duration": 153,
    "start_time": "2023-06-28T13:21:28.130Z"
   },
   {
    "duration": 130,
    "start_time": "2023-06-28T13:21:31.708Z"
   },
   {
    "duration": 185,
    "start_time": "2023-06-28T13:22:09.407Z"
   },
   {
    "duration": 169,
    "start_time": "2023-06-28T13:22:24.568Z"
   },
   {
    "duration": 165,
    "start_time": "2023-06-28T13:22:40.013Z"
   },
   {
    "duration": 181,
    "start_time": "2023-06-28T13:22:44.443Z"
   },
   {
    "duration": 160,
    "start_time": "2023-06-28T13:22:47.196Z"
   },
   {
    "duration": 157,
    "start_time": "2023-06-28T13:22:51.888Z"
   },
   {
    "duration": 145,
    "start_time": "2023-06-28T13:22:58.314Z"
   },
   {
    "duration": 454,
    "start_time": "2023-06-28T13:23:05.916Z"
   },
   {
    "duration": 149,
    "start_time": "2023-06-28T13:23:06.377Z"
   },
   {
    "duration": 19,
    "start_time": "2023-06-28T13:23:06.527Z"
   },
   {
    "duration": 2792,
    "start_time": "2023-06-28T13:23:06.549Z"
   },
   {
    "duration": 20,
    "start_time": "2023-06-28T13:23:09.344Z"
   },
   {
    "duration": 26,
    "start_time": "2023-06-28T13:23:09.366Z"
   },
   {
    "duration": 9,
    "start_time": "2023-06-28T13:23:09.394Z"
   },
   {
    "duration": 20,
    "start_time": "2023-06-28T13:23:09.405Z"
   },
   {
    "duration": 36,
    "start_time": "2023-06-28T13:23:09.428Z"
   },
   {
    "duration": 30,
    "start_time": "2023-06-28T13:23:09.467Z"
   },
   {
    "duration": 29,
    "start_time": "2023-06-28T13:23:09.499Z"
   },
   {
    "duration": 22,
    "start_time": "2023-06-28T13:23:09.530Z"
   },
   {
    "duration": 32,
    "start_time": "2023-06-28T13:23:09.554Z"
   },
   {
    "duration": 29,
    "start_time": "2023-06-28T13:23:09.589Z"
   },
   {
    "duration": 262,
    "start_time": "2023-06-28T13:23:09.621Z"
   },
   {
    "duration": 36,
    "start_time": "2023-06-28T13:23:09.885Z"
   },
   {
    "duration": 420,
    "start_time": "2023-06-28T13:23:09.923Z"
   },
   {
    "duration": 145,
    "start_time": "2023-06-28T13:23:10.345Z"
   },
   {
    "duration": 148,
    "start_time": "2023-06-28T13:23:10.491Z"
   },
   {
    "duration": 161,
    "start_time": "2023-06-28T13:23:10.640Z"
   },
   {
    "duration": 186,
    "start_time": "2023-06-28T13:23:10.804Z"
   },
   {
    "duration": 156,
    "start_time": "2023-06-28T13:23:10.993Z"
   },
   {
    "duration": 163,
    "start_time": "2023-06-28T13:23:11.151Z"
   },
   {
    "duration": 284,
    "start_time": "2023-06-28T13:23:11.317Z"
   },
   {
    "duration": 186,
    "start_time": "2023-06-28T13:23:11.604Z"
   },
   {
    "duration": 146,
    "start_time": "2023-06-28T13:23:11.792Z"
   },
   {
    "duration": 2866,
    "start_time": "2023-06-28T13:23:11.940Z"
   },
   {
    "duration": 369,
    "start_time": "2023-06-28T13:23:14.809Z"
   },
   {
    "duration": 138,
    "start_time": "2023-06-28T13:23:34.941Z"
   },
   {
    "duration": 516,
    "start_time": "2023-06-28T13:23:54.001Z"
   },
   {
    "duration": 179,
    "start_time": "2023-06-28T13:23:54.520Z"
   },
   {
    "duration": 20,
    "start_time": "2023-06-28T13:23:54.701Z"
   },
   {
    "duration": 2969,
    "start_time": "2023-06-28T13:23:54.724Z"
   },
   {
    "duration": 21,
    "start_time": "2023-06-28T13:23:57.696Z"
   },
   {
    "duration": 10,
    "start_time": "2023-06-28T13:23:57.720Z"
   },
   {
    "duration": 13,
    "start_time": "2023-06-28T13:23:57.732Z"
   },
   {
    "duration": 11,
    "start_time": "2023-06-28T13:23:57.747Z"
   },
   {
    "duration": 13,
    "start_time": "2023-06-28T13:23:57.766Z"
   },
   {
    "duration": 16,
    "start_time": "2023-06-28T13:23:57.782Z"
   },
   {
    "duration": 31,
    "start_time": "2023-06-28T13:23:57.800Z"
   },
   {
    "duration": 23,
    "start_time": "2023-06-28T13:23:57.832Z"
   },
   {
    "duration": 11,
    "start_time": "2023-06-28T13:23:57.870Z"
   },
   {
    "duration": 36,
    "start_time": "2023-06-28T13:23:57.883Z"
   },
   {
    "duration": 240,
    "start_time": "2023-06-28T13:23:57.921Z"
   },
   {
    "duration": 52,
    "start_time": "2023-06-28T13:23:58.166Z"
   },
   {
    "duration": 475,
    "start_time": "2023-06-28T13:23:58.221Z"
   },
   {
    "duration": 164,
    "start_time": "2023-06-28T13:23:58.698Z"
   },
   {
    "duration": 156,
    "start_time": "2023-06-28T13:23:58.866Z"
   },
   {
    "duration": 172,
    "start_time": "2023-06-28T13:23:59.024Z"
   },
   {
    "duration": 133,
    "start_time": "2023-06-28T13:23:59.199Z"
   },
   {
    "duration": 163,
    "start_time": "2023-06-28T13:23:59.334Z"
   },
   {
    "duration": 166,
    "start_time": "2023-06-28T13:23:59.499Z"
   },
   {
    "duration": 292,
    "start_time": "2023-06-28T13:23:59.667Z"
   },
   {
    "duration": 165,
    "start_time": "2023-06-28T13:23:59.961Z"
   },
   {
    "duration": 167,
    "start_time": "2023-06-28T13:24:00.128Z"
   },
   {
    "duration": 2959,
    "start_time": "2023-06-28T13:24:00.298Z"
   },
   {
    "duration": 315,
    "start_time": "2023-06-28T13:24:03.268Z"
   },
   {
    "duration": 137,
    "start_time": "2023-06-28T13:25:06.653Z"
   },
   {
    "duration": 132,
    "start_time": "2023-06-28T13:25:17.501Z"
   },
   {
    "duration": 312,
    "start_time": "2023-06-28T13:28:10.015Z"
   },
   {
    "duration": 443,
    "start_time": "2023-06-28T13:28:35.898Z"
   },
   {
    "duration": 152,
    "start_time": "2023-06-28T13:28:36.343Z"
   },
   {
    "duration": 17,
    "start_time": "2023-06-28T13:28:36.497Z"
   },
   {
    "duration": 2914,
    "start_time": "2023-06-28T13:28:36.516Z"
   },
   {
    "duration": 26,
    "start_time": "2023-06-28T13:28:39.433Z"
   },
   {
    "duration": 29,
    "start_time": "2023-06-28T13:28:39.462Z"
   },
   {
    "duration": 6,
    "start_time": "2023-06-28T13:28:39.493Z"
   },
   {
    "duration": 10,
    "start_time": "2023-06-28T13:28:39.501Z"
   },
   {
    "duration": 12,
    "start_time": "2023-06-28T13:28:39.514Z"
   },
   {
    "duration": 14,
    "start_time": "2023-06-28T13:28:39.529Z"
   },
   {
    "duration": 37,
    "start_time": "2023-06-28T13:28:39.545Z"
   },
   {
    "duration": 27,
    "start_time": "2023-06-28T13:28:39.585Z"
   },
   {
    "duration": 11,
    "start_time": "2023-06-28T13:28:39.614Z"
   },
   {
    "duration": 74,
    "start_time": "2023-06-28T13:28:39.630Z"
   },
   {
    "duration": 246,
    "start_time": "2023-06-28T13:28:39.707Z"
   },
   {
    "duration": 55,
    "start_time": "2023-06-28T13:28:39.955Z"
   },
   {
    "duration": 398,
    "start_time": "2023-06-28T13:28:40.013Z"
   },
   {
    "duration": 139,
    "start_time": "2023-06-28T13:28:40.413Z"
   },
   {
    "duration": 180,
    "start_time": "2023-06-28T13:28:40.555Z"
   },
   {
    "duration": 158,
    "start_time": "2023-06-28T13:28:40.737Z"
   },
   {
    "duration": 158,
    "start_time": "2023-06-28T13:28:40.898Z"
   },
   {
    "duration": 165,
    "start_time": "2023-06-28T13:28:41.058Z"
   },
   {
    "duration": 149,
    "start_time": "2023-06-28T13:28:41.225Z"
   },
   {
    "duration": 309,
    "start_time": "2023-06-28T13:28:41.378Z"
   },
   {
    "duration": 163,
    "start_time": "2023-06-28T13:28:41.690Z"
   },
   {
    "duration": 154,
    "start_time": "2023-06-28T13:28:41.856Z"
   },
   {
    "duration": 2877,
    "start_time": "2023-06-28T13:28:42.013Z"
   },
   {
    "duration": 333,
    "start_time": "2023-06-28T13:28:44.892Z"
   },
   {
    "duration": 329,
    "start_time": "2023-06-28T13:29:31.902Z"
   },
   {
    "duration": 157,
    "start_time": "2023-06-28T13:29:45.765Z"
   },
   {
    "duration": 104,
    "start_time": "2023-06-28T13:34:59.958Z"
   },
   {
    "duration": 7,
    "start_time": "2023-06-28T13:35:06.536Z"
   },
   {
    "duration": 37,
    "start_time": "2023-06-28T13:35:20.095Z"
   },
   {
    "duration": 49,
    "start_time": "2023-06-28T13:36:55.474Z"
   },
   {
    "duration": 45,
    "start_time": "2023-06-28T13:37:18.707Z"
   },
   {
    "duration": 1304,
    "start_time": "2023-06-28T14:13:21.213Z"
   },
   {
    "duration": 102,
    "start_time": "2023-06-28T14:13:44.761Z"
   },
   {
    "duration": 70,
    "start_time": "2023-06-28T14:15:06.199Z"
   },
   {
    "duration": 76,
    "start_time": "2023-06-28T14:15:18.341Z"
   },
   {
    "duration": 14,
    "start_time": "2023-06-28T14:15:27.025Z"
   },
   {
    "duration": 22,
    "start_time": "2023-06-28T14:16:22.213Z"
   },
   {
    "duration": 25,
    "start_time": "2023-06-28T14:17:00.368Z"
   },
   {
    "duration": 22,
    "start_time": "2023-06-28T14:18:17.020Z"
   },
   {
    "duration": 3,
    "start_time": "2023-06-28T14:18:40.239Z"
   },
   {
    "duration": 6,
    "start_time": "2023-06-28T14:18:44.702Z"
   },
   {
    "duration": 25,
    "start_time": "2023-06-28T14:19:00.811Z"
   },
   {
    "duration": 1894,
    "start_time": "2023-06-28T14:19:04.598Z"
   },
   {
    "duration": 14,
    "start_time": "2023-06-28T14:19:26.241Z"
   },
   {
    "duration": 44,
    "start_time": "2023-06-28T14:23:28.150Z"
   },
   {
    "duration": 11,
    "start_time": "2023-06-28T14:24:02.260Z"
   },
   {
    "duration": 12,
    "start_time": "2023-06-28T14:25:50.827Z"
   },
   {
    "duration": 48,
    "start_time": "2023-06-28T14:25:58.609Z"
   },
   {
    "duration": 14,
    "start_time": "2023-06-28T14:29:57.363Z"
   },
   {
    "duration": 10,
    "start_time": "2023-06-28T14:30:03.632Z"
   },
   {
    "duration": 54,
    "start_time": "2023-06-28T17:11:25.617Z"
   },
   {
    "duration": 411,
    "start_time": "2023-06-28T17:11:34.035Z"
   },
   {
    "duration": 215,
    "start_time": "2023-06-28T17:11:34.448Z"
   },
   {
    "duration": 15,
    "start_time": "2023-06-28T17:11:34.665Z"
   },
   {
    "duration": 2637,
    "start_time": "2023-06-28T17:11:34.682Z"
   },
   {
    "duration": 25,
    "start_time": "2023-06-28T17:11:37.322Z"
   },
   {
    "duration": 11,
    "start_time": "2023-06-28T17:11:37.349Z"
   },
   {
    "duration": 7,
    "start_time": "2023-06-28T17:11:37.363Z"
   },
   {
    "duration": 19,
    "start_time": "2023-06-28T17:11:37.372Z"
   },
   {
    "duration": 29,
    "start_time": "2023-06-28T17:11:37.393Z"
   },
   {
    "duration": 29,
    "start_time": "2023-06-28T17:11:37.425Z"
   },
   {
    "duration": 27,
    "start_time": "2023-06-28T17:11:37.456Z"
   },
   {
    "duration": 30,
    "start_time": "2023-06-28T17:11:37.485Z"
   },
   {
    "duration": 8,
    "start_time": "2023-06-28T17:11:37.517Z"
   },
   {
    "duration": 47,
    "start_time": "2023-06-28T17:11:37.529Z"
   },
   {
    "duration": 223,
    "start_time": "2023-06-28T17:11:37.578Z"
   },
   {
    "duration": 35,
    "start_time": "2023-06-28T17:11:37.803Z"
   },
   {
    "duration": 390,
    "start_time": "2023-06-28T17:11:37.840Z"
   },
   {
    "duration": 133,
    "start_time": "2023-06-28T17:11:38.232Z"
   },
   {
    "duration": 126,
    "start_time": "2023-06-28T17:11:38.366Z"
   },
   {
    "duration": 135,
    "start_time": "2023-06-28T17:11:38.494Z"
   },
   {
    "duration": 125,
    "start_time": "2023-06-28T17:11:38.631Z"
   },
   {
    "duration": 133,
    "start_time": "2023-06-28T17:11:38.758Z"
   },
   {
    "duration": 196,
    "start_time": "2023-06-28T17:11:38.893Z"
   },
   {
    "duration": 165,
    "start_time": "2023-06-28T17:11:39.091Z"
   },
   {
    "duration": 143,
    "start_time": "2023-06-28T17:11:39.257Z"
   },
   {
    "duration": 124,
    "start_time": "2023-06-28T17:11:39.402Z"
   },
   {
    "duration": 169,
    "start_time": "2023-06-28T17:11:39.528Z"
   },
   {
    "duration": 46,
    "start_time": "2023-06-28T17:11:39.702Z"
   },
   {
    "duration": 40,
    "start_time": "2023-06-28T17:11:39.751Z"
   },
   {
    "duration": 26,
    "start_time": "2023-06-28T17:11:39.794Z"
   },
   {
    "duration": 2798,
    "start_time": "2023-06-28T17:11:39.823Z"
   },
   {
    "duration": 214,
    "start_time": "2023-06-28T17:13:17.032Z"
   },
   {
    "duration": 242,
    "start_time": "2023-06-28T17:13:36.415Z"
   },
   {
    "duration": 143,
    "start_time": "2023-06-28T17:13:45.062Z"
   },
   {
    "duration": 121,
    "start_time": "2023-06-28T17:13:56.427Z"
   },
   {
    "duration": 367,
    "start_time": "2023-06-28T17:14:14.688Z"
   },
   {
    "duration": 294,
    "start_time": "2023-06-28T17:20:24.143Z"
   },
   {
    "duration": 241,
    "start_time": "2023-06-28T17:21:13.162Z"
   },
   {
    "duration": 251,
    "start_time": "2023-06-28T17:22:00.660Z"
   },
   {
    "duration": 321,
    "start_time": "2023-06-28T17:28:26.327Z"
   },
   {
    "duration": 297,
    "start_time": "2023-06-28T17:39:43.134Z"
   },
   {
    "duration": 420,
    "start_time": "2023-06-28T18:16:40.246Z"
   },
   {
    "duration": 249,
    "start_time": "2023-06-28T18:17:02.750Z"
   },
   {
    "duration": 314,
    "start_time": "2023-06-28T18:22:08.645Z"
   },
   {
    "duration": 268,
    "start_time": "2023-06-28T18:29:26.447Z"
   },
   {
    "duration": 277,
    "start_time": "2023-06-28T18:32:23.162Z"
   },
   {
    "duration": 269,
    "start_time": "2023-06-28T18:37:31.561Z"
   },
   {
    "duration": 131,
    "start_time": "2023-06-28T18:37:55.247Z"
   },
   {
    "duration": 1338,
    "start_time": "2023-06-28T18:38:49.443Z"
   },
   {
    "duration": 150,
    "start_time": "2023-06-28T18:38:58.247Z"
   },
   {
    "duration": 267,
    "start_time": "2023-06-28T18:39:05.655Z"
   },
   {
    "duration": 403,
    "start_time": "2023-06-28T18:39:24.058Z"
   },
   {
    "duration": 143,
    "start_time": "2023-06-28T18:42:42.043Z"
   },
   {
    "duration": 195,
    "start_time": "2023-06-28T19:38:28.903Z"
   },
   {
    "duration": 148,
    "start_time": "2023-06-28T19:39:28.163Z"
   },
   {
    "duration": 436,
    "start_time": "2023-06-28T19:39:41.641Z"
   },
   {
    "duration": 215,
    "start_time": "2023-06-28T19:39:42.078Z"
   },
   {
    "duration": 16,
    "start_time": "2023-06-28T19:39:42.294Z"
   },
   {
    "duration": 2845,
    "start_time": "2023-06-28T19:39:42.312Z"
   },
   {
    "duration": 17,
    "start_time": "2023-06-28T19:39:45.160Z"
   },
   {
    "duration": 8,
    "start_time": "2023-06-28T19:39:45.179Z"
   },
   {
    "duration": 16,
    "start_time": "2023-06-28T19:39:45.188Z"
   },
   {
    "duration": 13,
    "start_time": "2023-06-28T19:39:45.205Z"
   },
   {
    "duration": 13,
    "start_time": "2023-06-28T19:39:45.230Z"
   },
   {
    "duration": 29,
    "start_time": "2023-06-28T19:39:45.245Z"
   },
   {
    "duration": 13,
    "start_time": "2023-06-28T19:39:45.276Z"
   },
   {
    "duration": 32,
    "start_time": "2023-06-28T19:39:45.291Z"
   },
   {
    "duration": 14,
    "start_time": "2023-06-28T19:39:45.327Z"
   },
   {
    "duration": 34,
    "start_time": "2023-06-28T19:39:45.345Z"
   },
   {
    "duration": 236,
    "start_time": "2023-06-28T19:39:45.381Z"
   },
   {
    "duration": 47,
    "start_time": "2023-06-28T19:39:45.619Z"
   },
   {
    "duration": 401,
    "start_time": "2023-06-28T19:39:45.675Z"
   },
   {
    "duration": 160,
    "start_time": "2023-06-28T19:39:46.078Z"
   },
   {
    "duration": 145,
    "start_time": "2023-06-28T19:39:46.240Z"
   },
   {
    "duration": 148,
    "start_time": "2023-06-28T19:39:46.387Z"
   },
   {
    "duration": 137,
    "start_time": "2023-06-28T19:39:46.539Z"
   },
   {
    "duration": 160,
    "start_time": "2023-06-28T19:39:46.678Z"
   },
   {
    "duration": 141,
    "start_time": "2023-06-28T19:39:46.840Z"
   },
   {
    "duration": 270,
    "start_time": "2023-06-28T19:39:46.983Z"
   },
   {
    "duration": 141,
    "start_time": "2023-06-28T19:39:47.256Z"
   },
   {
    "duration": 155,
    "start_time": "2023-06-28T19:39:47.398Z"
   },
   {
    "duration": 137,
    "start_time": "2023-06-28T19:39:47.555Z"
   },
   {
    "duration": 168,
    "start_time": "2023-06-28T19:39:47.694Z"
   },
   {
    "duration": 31,
    "start_time": "2023-06-28T19:39:47.864Z"
   },
   {
    "duration": 62,
    "start_time": "2023-06-28T19:39:47.897Z"
   },
   {
    "duration": 9,
    "start_time": "2023-06-28T19:39:47.964Z"
   },
   {
    "duration": 299,
    "start_time": "2023-06-28T19:39:47.975Z"
   },
   {
    "duration": 334,
    "start_time": "2023-06-28T19:39:48.276Z"
   },
   {
    "duration": 315,
    "start_time": "2023-06-28T19:39:48.614Z"
   },
   {
    "duration": 375,
    "start_time": "2023-06-28T19:39:48.931Z"
   },
   {
    "duration": 317,
    "start_time": "2023-06-28T19:39:49.308Z"
   },
   {
    "duration": 366,
    "start_time": "2023-06-28T19:39:49.628Z"
   },
   {
    "duration": 353,
    "start_time": "2023-06-28T19:39:49.996Z"
   },
   {
    "duration": 154,
    "start_time": "2023-06-28T19:39:50.351Z"
   },
   {
    "duration": 259,
    "start_time": "2023-06-28T19:39:50.507Z"
   },
   {
    "duration": 453,
    "start_time": "2023-06-28T19:42:45.336Z"
   },
   {
    "duration": 5,
    "start_time": "2023-06-28T19:45:23.456Z"
   },
   {
    "duration": 279,
    "start_time": "2023-06-28T19:45:28.062Z"
   },
   {
    "duration": 1769,
    "start_time": "2023-06-28T19:46:04.896Z"
   },
   {
    "duration": 225,
    "start_time": "2023-06-28T19:46:14.079Z"
   },
   {
    "duration": 275,
    "start_time": "2023-06-28T19:46:32.739Z"
   },
   {
    "duration": 267,
    "start_time": "2023-06-28T19:46:42.030Z"
   },
   {
    "duration": 247,
    "start_time": "2023-06-28T19:46:51.012Z"
   },
   {
    "duration": 232,
    "start_time": "2023-06-28T19:47:17.538Z"
   },
   {
    "duration": 375,
    "start_time": "2023-06-28T19:47:22.813Z"
   },
   {
    "duration": 218,
    "start_time": "2023-06-28T19:47:28.334Z"
   },
   {
    "duration": 261,
    "start_time": "2023-06-28T19:49:03.662Z"
   },
   {
    "duration": 30,
    "start_time": "2023-06-28T19:49:58.205Z"
   },
   {
    "duration": 10,
    "start_time": "2023-06-28T19:50:27.233Z"
   },
   {
    "duration": 5,
    "start_time": "2023-06-28T19:50:56.628Z"
   },
   {
    "duration": 208,
    "start_time": "2023-06-28T19:51:16.348Z"
   },
   {
    "duration": 217,
    "start_time": "2023-06-28T19:56:58.208Z"
   },
   {
    "duration": 13,
    "start_time": "2023-06-28T19:59:57.440Z"
   },
   {
    "duration": 20,
    "start_time": "2023-06-28T20:00:03.019Z"
   },
   {
    "duration": 5408,
    "start_time": "2023-06-28T20:00:11.456Z"
   },
   {
    "duration": 293,
    "start_time": "2023-06-28T20:00:34.099Z"
   },
   {
    "duration": 5278,
    "start_time": "2023-06-28T20:00:41.687Z"
   },
   {
    "duration": 5832,
    "start_time": "2023-06-28T20:00:58.637Z"
   },
   {
    "duration": 4954,
    "start_time": "2023-06-28T20:01:20.639Z"
   },
   {
    "duration": 5518,
    "start_time": "2023-06-28T20:01:28.333Z"
   },
   {
    "duration": 6,
    "start_time": "2023-06-28T20:02:40.367Z"
   },
   {
    "duration": 7,
    "start_time": "2023-06-28T20:04:45.790Z"
   },
   {
    "duration": 357,
    "start_time": "2023-06-28T20:04:51.804Z"
   },
   {
    "duration": 330,
    "start_time": "2023-06-28T20:05:56.086Z"
   },
   {
    "duration": 163,
    "start_time": "2023-06-28T20:07:01.216Z"
   },
   {
    "duration": 218,
    "start_time": "2023-06-28T20:07:25.995Z"
   },
   {
    "duration": 162,
    "start_time": "2023-06-28T20:07:33.772Z"
   },
   {
    "duration": 194,
    "start_time": "2023-06-28T20:07:44.988Z"
   },
   {
    "duration": 473,
    "start_time": "2023-06-28T20:07:58.697Z"
   },
   {
    "duration": 254,
    "start_time": "2023-06-28T20:07:59.172Z"
   },
   {
    "duration": 27,
    "start_time": "2023-06-28T20:07:59.428Z"
   },
   {
    "duration": 2998,
    "start_time": "2023-06-28T20:07:59.457Z"
   },
   {
    "duration": 25,
    "start_time": "2023-06-28T20:08:02.458Z"
   },
   {
    "duration": 14,
    "start_time": "2023-06-28T20:08:02.485Z"
   },
   {
    "duration": 8,
    "start_time": "2023-06-28T20:08:02.501Z"
   },
   {
    "duration": 13,
    "start_time": "2023-06-28T20:08:02.510Z"
   },
   {
    "duration": 11,
    "start_time": "2023-06-28T20:08:02.525Z"
   },
   {
    "duration": 14,
    "start_time": "2023-06-28T20:08:02.539Z"
   },
   {
    "duration": 23,
    "start_time": "2023-06-28T20:08:02.557Z"
   },
   {
    "duration": 59,
    "start_time": "2023-06-28T20:08:02.584Z"
   },
   {
    "duration": 10,
    "start_time": "2023-06-28T20:08:02.645Z"
   },
   {
    "duration": 37,
    "start_time": "2023-06-28T20:08:02.659Z"
   },
   {
    "duration": 242,
    "start_time": "2023-06-28T20:08:02.698Z"
   },
   {
    "duration": 43,
    "start_time": "2023-06-28T20:08:02.942Z"
   },
   {
    "duration": 380,
    "start_time": "2023-06-28T20:08:02.987Z"
   },
   {
    "duration": 142,
    "start_time": "2023-06-28T20:08:03.369Z"
   },
   {
    "duration": 163,
    "start_time": "2023-06-28T20:08:03.513Z"
   },
   {
    "duration": 156,
    "start_time": "2023-06-28T20:08:03.678Z"
   },
   {
    "duration": 134,
    "start_time": "2023-06-28T20:08:03.839Z"
   },
   {
    "duration": 178,
    "start_time": "2023-06-28T20:08:03.976Z"
   },
   {
    "duration": 145,
    "start_time": "2023-06-28T20:08:04.156Z"
   },
   {
    "duration": 259,
    "start_time": "2023-06-28T20:08:04.303Z"
   },
   {
    "duration": 153,
    "start_time": "2023-06-28T20:08:04.563Z"
   },
   {
    "duration": 145,
    "start_time": "2023-06-28T20:08:04.717Z"
   },
   {
    "duration": 131,
    "start_time": "2023-06-28T20:08:04.864Z"
   },
   {
    "duration": 162,
    "start_time": "2023-06-28T20:08:04.997Z"
   },
   {
    "duration": 137,
    "start_time": "2023-06-28T20:08:05.162Z"
   },
   {
    "duration": 55,
    "start_time": "2023-06-28T20:08:05.301Z"
   },
   {
    "duration": 38,
    "start_time": "2023-06-28T20:08:05.359Z"
   },
   {
    "duration": 38,
    "start_time": "2023-06-28T20:08:05.398Z"
   },
   {
    "duration": 321,
    "start_time": "2023-06-28T20:08:05.438Z"
   },
   {
    "duration": 385,
    "start_time": "2023-06-28T20:08:05.761Z"
   },
   {
    "duration": 470,
    "start_time": "2023-06-28T20:08:06.148Z"
   },
   {
    "duration": 367,
    "start_time": "2023-06-28T20:08:06.620Z"
   },
   {
    "duration": 346,
    "start_time": "2023-06-28T20:08:06.990Z"
   },
   {
    "duration": 327,
    "start_time": "2023-06-28T20:08:07.340Z"
   },
   {
    "duration": 291,
    "start_time": "2023-06-28T20:08:07.669Z"
   },
   {
    "duration": 155,
    "start_time": "2023-06-28T20:08:07.962Z"
   },
   {
    "duration": 253,
    "start_time": "2023-06-28T20:08:08.122Z"
   },
   {
    "duration": 390,
    "start_time": "2023-06-28T20:08:08.377Z"
   },
   {
    "duration": 259,
    "start_time": "2023-06-28T20:08:08.773Z"
   },
   {
    "duration": 246,
    "start_time": "2023-06-28T20:08:09.037Z"
   },
   {
    "duration": 5448,
    "start_time": "2023-06-28T20:08:09.286Z"
   },
   {
    "duration": 515,
    "start_time": "2023-06-28T20:08:14.740Z"
   },
   {
    "duration": 292,
    "start_time": "2023-06-28T20:11:56.559Z"
   },
   {
    "duration": 308,
    "start_time": "2023-06-28T20:12:12.690Z"
   },
   {
    "duration": 290,
    "start_time": "2023-06-28T20:13:08.729Z"
   },
   {
    "duration": 356,
    "start_time": "2023-06-28T20:15:14.438Z"
   },
   {
    "duration": 356,
    "start_time": "2023-06-28T20:15:33.365Z"
   },
   {
    "duration": 295,
    "start_time": "2023-06-28T20:15:42.648Z"
   },
   {
    "duration": 506,
    "start_time": "2023-06-28T20:15:49.805Z"
   },
   {
    "duration": 372,
    "start_time": "2023-06-28T20:16:03.529Z"
   },
   {
    "duration": 440,
    "start_time": "2023-06-28T20:16:07.509Z"
   },
   {
    "duration": 351,
    "start_time": "2023-06-28T20:16:14.460Z"
   },
   {
    "duration": 307,
    "start_time": "2023-06-28T20:16:26.762Z"
   },
   {
    "duration": 1167,
    "start_time": "2023-06-28T20:18:11.174Z"
   },
   {
    "duration": 298,
    "start_time": "2023-06-28T20:18:39.134Z"
   },
   {
    "duration": 248,
    "start_time": "2023-06-28T20:21:08.035Z"
   },
   {
    "duration": 1058,
    "start_time": "2023-06-28T20:28:55.300Z"
   },
   {
    "duration": 2186,
    "start_time": "2023-06-28T20:32:27.705Z"
   },
   {
    "duration": 2233,
    "start_time": "2023-06-28T20:35:18.305Z"
   },
   {
    "duration": 1813,
    "start_time": "2023-06-28T20:35:39.935Z"
   },
   {
    "duration": 1905,
    "start_time": "2023-06-28T20:36:53.583Z"
   },
   {
    "duration": 2170,
    "start_time": "2023-06-28T20:37:41.775Z"
   },
   {
    "duration": 720,
    "start_time": "2023-06-28T20:38:17.899Z"
   },
   {
    "duration": 1899,
    "start_time": "2023-06-28T20:40:56.752Z"
   },
   {
    "duration": 931,
    "start_time": "2023-06-28T20:41:10.536Z"
   },
   {
    "duration": 1027,
    "start_time": "2023-06-28T20:41:55.243Z"
   },
   {
    "duration": 1400,
    "start_time": "2023-06-28T20:42:15.062Z"
   },
   {
    "duration": 13,
    "start_time": "2023-06-28T20:44:36.733Z"
   },
   {
    "duration": 3,
    "start_time": "2023-06-28T20:44:50.392Z"
   },
   {
    "duration": 17,
    "start_time": "2023-06-28T20:45:44.197Z"
   },
   {
    "duration": 5,
    "start_time": "2023-06-28T20:47:19.063Z"
   },
   {
    "duration": 37,
    "start_time": "2023-06-28T20:47:28.743Z"
   },
   {
    "duration": 53,
    "start_time": "2023-06-28T20:47:34.442Z"
   },
   {
    "duration": 9,
    "start_time": "2023-06-28T20:49:19.022Z"
   },
   {
    "duration": 8,
    "start_time": "2023-06-28T20:49:23.364Z"
   },
   {
    "duration": 9,
    "start_time": "2023-06-28T20:50:02.302Z"
   },
   {
    "duration": 11,
    "start_time": "2023-06-28T20:50:19.352Z"
   },
   {
    "duration": 5,
    "start_time": "2023-06-28T20:50:33.060Z"
   },
   {
    "duration": 1704,
    "start_time": "2023-06-28T20:54:00.912Z"
   },
   {
    "duration": 8,
    "start_time": "2023-06-28T20:54:22.046Z"
   },
   {
    "duration": 11,
    "start_time": "2023-06-28T20:54:28.834Z"
   },
   {
    "duration": 1449,
    "start_time": "2023-06-28T20:55:19.519Z"
   },
   {
    "duration": 8,
    "start_time": "2023-06-28T20:55:35.059Z"
   },
   {
    "duration": 13,
    "start_time": "2023-06-28T20:59:12.640Z"
   },
   {
    "duration": 13,
    "start_time": "2023-06-28T20:59:16.893Z"
   },
   {
    "duration": 15,
    "start_time": "2023-06-28T20:59:28.736Z"
   },
   {
    "duration": 25,
    "start_time": "2023-06-28T20:59:34.900Z"
   },
   {
    "duration": 13,
    "start_time": "2023-06-28T20:59:51.559Z"
   },
   {
    "duration": 56,
    "start_time": "2023-06-28T21:00:01.275Z"
   },
   {
    "duration": 15,
    "start_time": "2023-06-28T21:01:00.887Z"
   },
   {
    "duration": 15,
    "start_time": "2023-06-28T21:01:30.490Z"
   },
   {
    "duration": 20,
    "start_time": "2023-06-28T21:03:07.158Z"
   },
   {
    "duration": 20,
    "start_time": "2023-06-28T21:03:32.183Z"
   },
   {
    "duration": 36,
    "start_time": "2023-06-28T21:05:47.036Z"
   },
   {
    "duration": 42,
    "start_time": "2023-06-28T21:05:54.709Z"
   },
   {
    "duration": 18,
    "start_time": "2023-06-28T21:06:08.038Z"
   },
   {
    "duration": 11,
    "start_time": "2023-06-28T21:06:43.108Z"
   },
   {
    "duration": 13,
    "start_time": "2023-06-28T21:06:47.244Z"
   },
   {
    "duration": 292,
    "start_time": "2023-06-28T22:19:12.642Z"
   },
   {
    "duration": 53,
    "start_time": "2023-06-29T09:54:25.048Z"
   },
   {
    "duration": 477,
    "start_time": "2023-06-29T09:54:32.149Z"
   },
   {
    "duration": 344,
    "start_time": "2023-06-29T09:54:32.628Z"
   },
   {
    "duration": 14,
    "start_time": "2023-06-29T09:54:32.973Z"
   },
   {
    "duration": 2616,
    "start_time": "2023-06-29T09:54:32.988Z"
   },
   {
    "duration": 0,
    "start_time": "2023-06-29T09:54:35.607Z"
   },
   {
    "duration": 0,
    "start_time": "2023-06-29T09:54:35.608Z"
   },
   {
    "duration": 0,
    "start_time": "2023-06-29T09:54:35.610Z"
   },
   {
    "duration": 0,
    "start_time": "2023-06-29T09:54:35.610Z"
   },
   {
    "duration": 0,
    "start_time": "2023-06-29T09:54:35.612Z"
   },
   {
    "duration": 0,
    "start_time": "2023-06-29T09:54:35.613Z"
   },
   {
    "duration": 1,
    "start_time": "2023-06-29T09:54:35.613Z"
   },
   {
    "duration": 0,
    "start_time": "2023-06-29T09:54:35.615Z"
   },
   {
    "duration": 0,
    "start_time": "2023-06-29T09:54:35.616Z"
   },
   {
    "duration": 0,
    "start_time": "2023-06-29T09:54:35.617Z"
   },
   {
    "duration": 0,
    "start_time": "2023-06-29T09:54:35.618Z"
   },
   {
    "duration": 0,
    "start_time": "2023-06-29T09:54:35.619Z"
   },
   {
    "duration": 0,
    "start_time": "2023-06-29T09:54:35.620Z"
   },
   {
    "duration": 0,
    "start_time": "2023-06-29T09:54:35.621Z"
   },
   {
    "duration": 0,
    "start_time": "2023-06-29T09:54:35.622Z"
   },
   {
    "duration": 0,
    "start_time": "2023-06-29T09:54:35.623Z"
   },
   {
    "duration": 0,
    "start_time": "2023-06-29T09:54:35.624Z"
   },
   {
    "duration": 0,
    "start_time": "2023-06-29T09:54:35.625Z"
   },
   {
    "duration": 0,
    "start_time": "2023-06-29T09:54:35.626Z"
   },
   {
    "duration": 0,
    "start_time": "2023-06-29T09:54:35.627Z"
   },
   {
    "duration": 0,
    "start_time": "2023-06-29T09:54:35.628Z"
   },
   {
    "duration": 0,
    "start_time": "2023-06-29T09:54:35.653Z"
   },
   {
    "duration": 0,
    "start_time": "2023-06-29T09:54:35.654Z"
   },
   {
    "duration": 0,
    "start_time": "2023-06-29T09:54:35.656Z"
   },
   {
    "duration": 0,
    "start_time": "2023-06-29T09:54:35.657Z"
   },
   {
    "duration": 0,
    "start_time": "2023-06-29T09:54:35.658Z"
   },
   {
    "duration": 0,
    "start_time": "2023-06-29T09:54:35.659Z"
   },
   {
    "duration": 0,
    "start_time": "2023-06-29T09:54:35.660Z"
   },
   {
    "duration": 0,
    "start_time": "2023-06-29T09:54:35.661Z"
   },
   {
    "duration": 0,
    "start_time": "2023-06-29T09:54:35.662Z"
   },
   {
    "duration": 0,
    "start_time": "2023-06-29T09:54:35.663Z"
   },
   {
    "duration": 0,
    "start_time": "2023-06-29T09:54:35.664Z"
   },
   {
    "duration": 0,
    "start_time": "2023-06-29T09:54:35.665Z"
   },
   {
    "duration": 0,
    "start_time": "2023-06-29T09:54:35.666Z"
   },
   {
    "duration": 0,
    "start_time": "2023-06-29T09:54:35.667Z"
   },
   {
    "duration": 0,
    "start_time": "2023-06-29T09:54:35.668Z"
   },
   {
    "duration": 0,
    "start_time": "2023-06-29T09:54:35.669Z"
   },
   {
    "duration": 0,
    "start_time": "2023-06-29T09:54:35.670Z"
   },
   {
    "duration": 0,
    "start_time": "2023-06-29T09:54:35.672Z"
   },
   {
    "duration": 0,
    "start_time": "2023-06-29T09:54:35.673Z"
   },
   {
    "duration": 0,
    "start_time": "2023-06-29T09:54:35.674Z"
   },
   {
    "duration": 0,
    "start_time": "2023-06-29T09:54:35.675Z"
   },
   {
    "duration": 0,
    "start_time": "2023-06-29T09:54:35.676Z"
   },
   {
    "duration": 0,
    "start_time": "2023-06-29T09:54:35.677Z"
   },
   {
    "duration": 0,
    "start_time": "2023-06-29T09:54:35.679Z"
   },
   {
    "duration": 2048,
    "start_time": "2023-06-29T09:55:38.597Z"
   },
   {
    "duration": 2088,
    "start_time": "2023-06-29T09:56:06.155Z"
   },
   {
    "duration": 1978,
    "start_time": "2023-06-29T09:56:43.304Z"
   },
   {
    "duration": 798,
    "start_time": "2023-06-29T09:56:52.009Z"
   },
   {
    "duration": 131,
    "start_time": "2023-06-29T09:56:52.809Z"
   },
   {
    "duration": 22,
    "start_time": "2023-06-29T09:56:52.942Z"
   },
   {
    "duration": 3448,
    "start_time": "2023-06-29T09:56:52.967Z"
   },
   {
    "duration": 0,
    "start_time": "2023-06-29T09:56:56.419Z"
   },
   {
    "duration": 0,
    "start_time": "2023-06-29T09:56:56.421Z"
   },
   {
    "duration": 0,
    "start_time": "2023-06-29T09:56:56.422Z"
   },
   {
    "duration": 0,
    "start_time": "2023-06-29T09:56:56.424Z"
   },
   {
    "duration": 0,
    "start_time": "2023-06-29T09:56:56.425Z"
   },
   {
    "duration": 0,
    "start_time": "2023-06-29T09:56:56.427Z"
   },
   {
    "duration": 0,
    "start_time": "2023-06-29T09:56:56.428Z"
   },
   {
    "duration": 0,
    "start_time": "2023-06-29T09:56:56.430Z"
   },
   {
    "duration": 0,
    "start_time": "2023-06-29T09:56:56.454Z"
   },
   {
    "duration": 0,
    "start_time": "2023-06-29T09:56:56.456Z"
   },
   {
    "duration": 0,
    "start_time": "2023-06-29T09:56:56.457Z"
   },
   {
    "duration": 0,
    "start_time": "2023-06-29T09:56:56.459Z"
   },
   {
    "duration": 0,
    "start_time": "2023-06-29T09:56:56.460Z"
   },
   {
    "duration": 0,
    "start_time": "2023-06-29T09:56:56.462Z"
   },
   {
    "duration": 0,
    "start_time": "2023-06-29T09:56:56.464Z"
   },
   {
    "duration": 0,
    "start_time": "2023-06-29T09:56:56.465Z"
   },
   {
    "duration": 0,
    "start_time": "2023-06-29T09:56:56.467Z"
   },
   {
    "duration": 0,
    "start_time": "2023-06-29T09:56:56.468Z"
   },
   {
    "duration": 0,
    "start_time": "2023-06-29T09:56:56.470Z"
   },
   {
    "duration": 0,
    "start_time": "2023-06-29T09:56:56.471Z"
   },
   {
    "duration": 0,
    "start_time": "2023-06-29T09:56:56.473Z"
   },
   {
    "duration": 0,
    "start_time": "2023-06-29T09:56:56.474Z"
   },
   {
    "duration": 0,
    "start_time": "2023-06-29T09:56:56.476Z"
   },
   {
    "duration": 0,
    "start_time": "2023-06-29T09:56:56.477Z"
   },
   {
    "duration": 0,
    "start_time": "2023-06-29T09:56:56.479Z"
   },
   {
    "duration": 0,
    "start_time": "2023-06-29T09:56:56.480Z"
   },
   {
    "duration": 0,
    "start_time": "2023-06-29T09:56:56.482Z"
   },
   {
    "duration": 0,
    "start_time": "2023-06-29T09:56:56.483Z"
   },
   {
    "duration": 0,
    "start_time": "2023-06-29T09:56:56.485Z"
   },
   {
    "duration": 0,
    "start_time": "2023-06-29T09:56:56.486Z"
   },
   {
    "duration": 0,
    "start_time": "2023-06-29T09:56:56.488Z"
   },
   {
    "duration": 0,
    "start_time": "2023-06-29T09:56:56.490Z"
   },
   {
    "duration": 0,
    "start_time": "2023-06-29T09:56:56.491Z"
   },
   {
    "duration": 0,
    "start_time": "2023-06-29T09:56:56.553Z"
   },
   {
    "duration": 0,
    "start_time": "2023-06-29T09:56:56.555Z"
   },
   {
    "duration": 0,
    "start_time": "2023-06-29T09:56:56.556Z"
   },
   {
    "duration": 0,
    "start_time": "2023-06-29T09:56:56.557Z"
   },
   {
    "duration": 0,
    "start_time": "2023-06-29T09:56:56.558Z"
   },
   {
    "duration": 0,
    "start_time": "2023-06-29T09:56:56.559Z"
   },
   {
    "duration": 0,
    "start_time": "2023-06-29T09:56:56.560Z"
   },
   {
    "duration": 0,
    "start_time": "2023-06-29T09:56:56.561Z"
   },
   {
    "duration": 0,
    "start_time": "2023-06-29T09:56:56.562Z"
   },
   {
    "duration": 0,
    "start_time": "2023-06-29T09:56:56.563Z"
   },
   {
    "duration": 0,
    "start_time": "2023-06-29T09:56:56.564Z"
   },
   {
    "duration": 0,
    "start_time": "2023-06-29T09:56:56.565Z"
   },
   {
    "duration": 10,
    "start_time": "2023-06-29T09:57:14.535Z"
   },
   {
    "duration": 2083,
    "start_time": "2023-06-29T09:57:26.380Z"
   },
   {
    "duration": 18,
    "start_time": "2023-06-29T10:01:00.301Z"
   },
   {
    "duration": 9,
    "start_time": "2023-06-29T10:01:54.635Z"
   },
   {
    "duration": 1100,
    "start_time": "2023-06-29T10:02:01.087Z"
   },
   {
    "duration": 0,
    "start_time": "2023-06-29T10:02:02.190Z"
   },
   {
    "duration": 0,
    "start_time": "2023-06-29T10:02:02.191Z"
   },
   {
    "duration": 0,
    "start_time": "2023-06-29T10:02:02.192Z"
   },
   {
    "duration": 0,
    "start_time": "2023-06-29T10:02:02.193Z"
   },
   {
    "duration": 0,
    "start_time": "2023-06-29T10:02:02.194Z"
   },
   {
    "duration": 0,
    "start_time": "2023-06-29T10:02:02.195Z"
   },
   {
    "duration": 0,
    "start_time": "2023-06-29T10:02:02.196Z"
   },
   {
    "duration": 0,
    "start_time": "2023-06-29T10:02:02.197Z"
   },
   {
    "duration": 0,
    "start_time": "2023-06-29T10:02:02.198Z"
   },
   {
    "duration": 0,
    "start_time": "2023-06-29T10:02:02.199Z"
   },
   {
    "duration": 0,
    "start_time": "2023-06-29T10:02:02.201Z"
   },
   {
    "duration": 0,
    "start_time": "2023-06-29T10:02:02.202Z"
   },
   {
    "duration": 0,
    "start_time": "2023-06-29T10:02:02.203Z"
   },
   {
    "duration": 0,
    "start_time": "2023-06-29T10:02:02.204Z"
   },
   {
    "duration": 0,
    "start_time": "2023-06-29T10:02:02.205Z"
   },
   {
    "duration": 0,
    "start_time": "2023-06-29T10:02:02.206Z"
   },
   {
    "duration": 0,
    "start_time": "2023-06-29T10:02:02.207Z"
   },
   {
    "duration": 0,
    "start_time": "2023-06-29T10:02:02.208Z"
   },
   {
    "duration": 0,
    "start_time": "2023-06-29T10:02:02.209Z"
   },
   {
    "duration": 0,
    "start_time": "2023-06-29T10:02:02.210Z"
   },
   {
    "duration": 0,
    "start_time": "2023-06-29T10:02:02.211Z"
   },
   {
    "duration": 0,
    "start_time": "2023-06-29T10:02:02.212Z"
   },
   {
    "duration": 0,
    "start_time": "2023-06-29T10:02:02.212Z"
   },
   {
    "duration": 0,
    "start_time": "2023-06-29T10:02:02.213Z"
   },
   {
    "duration": 0,
    "start_time": "2023-06-29T10:02:02.254Z"
   },
   {
    "duration": 0,
    "start_time": "2023-06-29T10:02:02.255Z"
   },
   {
    "duration": 0,
    "start_time": "2023-06-29T10:02:02.256Z"
   },
   {
    "duration": 0,
    "start_time": "2023-06-29T10:02:02.257Z"
   },
   {
    "duration": 0,
    "start_time": "2023-06-29T10:02:02.258Z"
   },
   {
    "duration": 0,
    "start_time": "2023-06-29T10:02:02.260Z"
   },
   {
    "duration": 0,
    "start_time": "2023-06-29T10:02:02.261Z"
   },
   {
    "duration": 0,
    "start_time": "2023-06-29T10:02:02.262Z"
   },
   {
    "duration": 0,
    "start_time": "2023-06-29T10:02:02.263Z"
   },
   {
    "duration": 0,
    "start_time": "2023-06-29T10:02:02.264Z"
   },
   {
    "duration": 0,
    "start_time": "2023-06-29T10:02:02.265Z"
   },
   {
    "duration": 0,
    "start_time": "2023-06-29T10:02:02.266Z"
   },
   {
    "duration": 0,
    "start_time": "2023-06-29T10:02:02.268Z"
   },
   {
    "duration": 0,
    "start_time": "2023-06-29T10:02:02.269Z"
   },
   {
    "duration": 0,
    "start_time": "2023-06-29T10:02:02.270Z"
   },
   {
    "duration": 0,
    "start_time": "2023-06-29T10:02:02.271Z"
   },
   {
    "duration": 0,
    "start_time": "2023-06-29T10:02:02.272Z"
   },
   {
    "duration": 0,
    "start_time": "2023-06-29T10:02:02.274Z"
   },
   {
    "duration": 0,
    "start_time": "2023-06-29T10:02:02.275Z"
   },
   {
    "duration": 0,
    "start_time": "2023-06-29T10:02:02.276Z"
   },
   {
    "duration": 0,
    "start_time": "2023-06-29T10:02:02.277Z"
   },
   {
    "duration": 0,
    "start_time": "2023-06-29T10:02:02.278Z"
   },
   {
    "duration": 0,
    "start_time": "2023-06-29T10:02:02.279Z"
   },
   {
    "duration": 0,
    "start_time": "2023-06-29T10:02:02.280Z"
   },
   {
    "duration": 0,
    "start_time": "2023-06-29T10:02:02.281Z"
   },
   {
    "duration": 7,
    "start_time": "2023-06-29T10:02:16.603Z"
   },
   {
    "duration": 4455,
    "start_time": "2023-06-29T10:04:50.783Z"
   },
   {
    "duration": 549,
    "start_time": "2023-06-29T10:04:57.300Z"
   },
   {
    "duration": 2764,
    "start_time": "2023-06-29T10:05:05.593Z"
   },
   {
    "duration": 1653,
    "start_time": "2023-06-29T10:05:08.360Z"
   },
   {
    "duration": 145,
    "start_time": "2023-06-29T10:05:10.015Z"
   },
   {
    "duration": 22,
    "start_time": "2023-06-29T10:05:10.163Z"
   },
   {
    "duration": 2324,
    "start_time": "2023-06-29T10:05:10.188Z"
   },
   {
    "duration": 26,
    "start_time": "2023-06-29T10:05:12.513Z"
   },
   {
    "duration": 1133,
    "start_time": "2023-06-29T10:05:12.541Z"
   },
   {
    "duration": 8,
    "start_time": "2023-06-29T10:05:13.676Z"
   },
   {
    "duration": 45,
    "start_time": "2023-06-29T10:05:13.686Z"
   },
   {
    "duration": 32,
    "start_time": "2023-06-29T10:05:13.733Z"
   },
   {
    "duration": 50,
    "start_time": "2023-06-29T10:05:13.766Z"
   },
   {
    "duration": 58,
    "start_time": "2023-06-29T10:05:13.817Z"
   },
   {
    "duration": 55,
    "start_time": "2023-06-29T10:05:13.877Z"
   },
   {
    "duration": 30,
    "start_time": "2023-06-29T10:05:13.934Z"
   },
   {
    "duration": 55,
    "start_time": "2023-06-29T10:05:13.966Z"
   },
   {
    "duration": 150,
    "start_time": "2023-06-29T10:05:14.024Z"
   },
   {
    "duration": 222,
    "start_time": "2023-06-29T10:05:14.176Z"
   },
   {
    "duration": 32,
    "start_time": "2023-06-29T10:05:14.400Z"
   },
   {
    "duration": 347,
    "start_time": "2023-06-29T10:05:14.434Z"
   },
   {
    "duration": 121,
    "start_time": "2023-06-29T10:05:14.782Z"
   },
   {
    "duration": 114,
    "start_time": "2023-06-29T10:05:14.905Z"
   },
   {
    "duration": 119,
    "start_time": "2023-06-29T10:05:15.020Z"
   },
   {
    "duration": 116,
    "start_time": "2023-06-29T10:05:15.141Z"
   },
   {
    "duration": 133,
    "start_time": "2023-06-29T10:05:15.259Z"
   },
   {
    "duration": 111,
    "start_time": "2023-06-29T10:05:15.394Z"
   },
   {
    "duration": 155,
    "start_time": "2023-06-29T10:05:15.507Z"
   },
   {
    "duration": 132,
    "start_time": "2023-06-29T10:05:15.664Z"
   },
   {
    "duration": 114,
    "start_time": "2023-06-29T10:05:15.799Z"
   },
   {
    "duration": 140,
    "start_time": "2023-06-29T10:05:15.916Z"
   },
   {
    "duration": 134,
    "start_time": "2023-06-29T10:05:16.058Z"
   },
   {
    "duration": 242,
    "start_time": "2023-06-29T10:05:16.193Z"
   },
   {
    "duration": 41,
    "start_time": "2023-06-29T10:05:16.437Z"
   },
   {
    "duration": 33,
    "start_time": "2023-06-29T10:05:16.480Z"
   },
   {
    "duration": 9,
    "start_time": "2023-06-29T10:05:16.516Z"
   },
   {
    "duration": 272,
    "start_time": "2023-06-29T10:05:16.554Z"
   },
   {
    "duration": 323,
    "start_time": "2023-06-29T10:05:16.827Z"
   },
   {
    "duration": 260,
    "start_time": "2023-06-29T10:05:17.153Z"
   },
   {
    "duration": 248,
    "start_time": "2023-06-29T10:05:17.415Z"
   },
   {
    "duration": 250,
    "start_time": "2023-06-29T10:05:17.665Z"
   },
   {
    "duration": 383,
    "start_time": "2023-06-29T10:05:17.917Z"
   },
   {
    "duration": 248,
    "start_time": "2023-06-29T10:05:18.302Z"
   },
   {
    "duration": 132,
    "start_time": "2023-06-29T10:05:18.553Z"
   },
   {
    "duration": 209,
    "start_time": "2023-06-29T10:05:18.687Z"
   },
   {
    "duration": 224,
    "start_time": "2023-06-29T10:05:18.898Z"
   },
   {
    "duration": 217,
    "start_time": "2023-06-29T10:05:19.123Z"
   },
   {
    "duration": 219,
    "start_time": "2023-06-29T10:05:19.342Z"
   },
   {
    "duration": 4590,
    "start_time": "2023-06-29T10:05:19.563Z"
   },
   {
    "duration": 301,
    "start_time": "2023-06-29T10:05:24.155Z"
   },
   {
    "duration": 1349,
    "start_time": "2023-06-29T10:05:24.458Z"
   },
   {
    "duration": 20,
    "start_time": "2023-06-29T10:05:25.809Z"
   },
   {
    "duration": 38,
    "start_time": "2023-06-29T10:05:25.831Z"
   },
   {
    "duration": 112,
    "start_time": "2023-06-29T10:06:57.569Z"
   },
   {
    "duration": 11,
    "start_time": "2023-06-29T10:07:09.022Z"
   },
   {
    "duration": 6,
    "start_time": "2023-06-29T10:07:23.371Z"
   },
   {
    "duration": 2423,
    "start_time": "2023-06-29T10:08:33.402Z"
   },
   {
    "duration": 1305,
    "start_time": "2023-06-29T10:08:35.827Z"
   },
   {
    "duration": 131,
    "start_time": "2023-06-29T10:08:37.134Z"
   },
   {
    "duration": 16,
    "start_time": "2023-06-29T10:08:37.267Z"
   },
   {
    "duration": 1942,
    "start_time": "2023-06-29T10:08:37.285Z"
   },
   {
    "duration": 18,
    "start_time": "2023-06-29T10:08:39.230Z"
   },
   {
    "duration": 1106,
    "start_time": "2023-06-29T10:08:39.250Z"
   },
   {
    "duration": 8,
    "start_time": "2023-06-29T10:08:40.358Z"
   },
   {
    "duration": 14,
    "start_time": "2023-06-29T10:08:40.367Z"
   },
   {
    "duration": 5,
    "start_time": "2023-06-29T10:08:40.384Z"
   },
   {
    "duration": 12,
    "start_time": "2023-06-29T10:08:40.391Z"
   },
   {
    "duration": 10,
    "start_time": "2023-06-29T10:08:40.405Z"
   },
   {
    "duration": 39,
    "start_time": "2023-06-29T10:08:40.416Z"
   },
   {
    "duration": 20,
    "start_time": "2023-06-29T10:08:40.457Z"
   },
   {
    "duration": 5,
    "start_time": "2023-06-29T10:08:40.479Z"
   },
   {
    "duration": 27,
    "start_time": "2023-06-29T10:08:40.486Z"
   },
   {
    "duration": 213,
    "start_time": "2023-06-29T10:08:40.515Z"
   },
   {
    "duration": 37,
    "start_time": "2023-06-29T10:08:40.729Z"
   },
   {
    "duration": 301,
    "start_time": "2023-06-29T10:08:40.767Z"
   },
   {
    "duration": 4,
    "start_time": "2023-06-29T10:08:41.070Z"
   },
   {
    "duration": 121,
    "start_time": "2023-06-29T10:08:41.075Z"
   },
   {
    "duration": 107,
    "start_time": "2023-06-29T10:08:41.198Z"
   },
   {
    "duration": 111,
    "start_time": "2023-06-29T10:08:41.306Z"
   },
   {
    "duration": 124,
    "start_time": "2023-06-29T10:08:41.419Z"
   },
   {
    "duration": 140,
    "start_time": "2023-06-29T10:08:41.544Z"
   },
   {
    "duration": 110,
    "start_time": "2023-06-29T10:08:41.686Z"
   },
   {
    "duration": 148,
    "start_time": "2023-06-29T10:08:41.798Z"
   },
   {
    "duration": 132,
    "start_time": "2023-06-29T10:08:41.956Z"
   },
   {
    "duration": 121,
    "start_time": "2023-06-29T10:08:42.090Z"
   },
   {
    "duration": 119,
    "start_time": "2023-06-29T10:08:42.213Z"
   },
   {
    "duration": 165,
    "start_time": "2023-06-29T10:08:42.333Z"
   },
   {
    "duration": 270,
    "start_time": "2023-06-29T10:08:42.500Z"
   },
   {
    "duration": 31,
    "start_time": "2023-06-29T10:08:42.772Z"
   },
   {
    "duration": 28,
    "start_time": "2023-06-29T10:08:42.805Z"
   },
   {
    "duration": 8,
    "start_time": "2023-06-29T10:08:42.854Z"
   },
   {
    "duration": 246,
    "start_time": "2023-06-29T10:08:42.864Z"
   },
   {
    "duration": 318,
    "start_time": "2023-06-29T10:08:43.112Z"
   },
   {
    "duration": 273,
    "start_time": "2023-06-29T10:08:43.432Z"
   },
   {
    "duration": 252,
    "start_time": "2023-06-29T10:08:43.707Z"
   },
   {
    "duration": 274,
    "start_time": "2023-06-29T10:08:43.961Z"
   },
   {
    "duration": 400,
    "start_time": "2023-06-29T10:08:44.237Z"
   },
   {
    "duration": 244,
    "start_time": "2023-06-29T10:08:44.638Z"
   },
   {
    "duration": 137,
    "start_time": "2023-06-29T10:08:44.884Z"
   },
   {
    "duration": 202,
    "start_time": "2023-06-29T10:08:45.022Z"
   },
   {
    "duration": 220,
    "start_time": "2023-06-29T10:08:45.226Z"
   },
   {
    "duration": 223,
    "start_time": "2023-06-29T10:08:45.447Z"
   },
   {
    "duration": 217,
    "start_time": "2023-06-29T10:08:45.672Z"
   },
   {
    "duration": 4573,
    "start_time": "2023-06-29T10:08:45.891Z"
   },
   {
    "duration": 285,
    "start_time": "2023-06-29T10:08:50.466Z"
   },
   {
    "duration": 1373,
    "start_time": "2023-06-29T10:08:50.753Z"
   },
   {
    "duration": 30,
    "start_time": "2023-06-29T10:08:52.129Z"
   },
   {
    "duration": 20,
    "start_time": "2023-06-29T10:08:52.161Z"
   },
   {
    "duration": 5,
    "start_time": "2023-06-29T10:09:15.314Z"
   },
   {
    "duration": 10,
    "start_time": "2023-06-29T10:09:28.149Z"
   },
   {
    "duration": 14,
    "start_time": "2023-06-29T10:09:46.256Z"
   },
   {
    "duration": 5,
    "start_time": "2023-06-29T10:09:59.426Z"
   },
   {
    "duration": 5,
    "start_time": "2023-06-29T10:10:25.173Z"
   },
   {
    "duration": 198,
    "start_time": "2023-06-29T10:21:32.111Z"
   },
   {
    "duration": 99,
    "start_time": "2023-06-29T10:21:36.469Z"
   },
   {
    "duration": 5,
    "start_time": "2023-06-29T10:22:35.004Z"
   },
   {
    "duration": 2533,
    "start_time": "2023-06-29T10:22:41.767Z"
   },
   {
    "duration": 1191,
    "start_time": "2023-06-29T10:22:44.302Z"
   },
   {
    "duration": 135,
    "start_time": "2023-06-29T10:22:45.495Z"
   },
   {
    "duration": 26,
    "start_time": "2023-06-29T10:22:45.633Z"
   },
   {
    "duration": 2205,
    "start_time": "2023-06-29T10:22:45.661Z"
   },
   {
    "duration": 20,
    "start_time": "2023-06-29T10:22:47.868Z"
   },
   {
    "duration": 1126,
    "start_time": "2023-06-29T10:22:47.890Z"
   },
   {
    "duration": 9,
    "start_time": "2023-06-29T10:22:49.018Z"
   },
   {
    "duration": 31,
    "start_time": "2023-06-29T10:22:49.029Z"
   },
   {
    "duration": 35,
    "start_time": "2023-06-29T10:22:49.064Z"
   },
   {
    "duration": 84,
    "start_time": "2023-06-29T10:22:49.100Z"
   },
   {
    "duration": 46,
    "start_time": "2023-06-29T10:22:49.187Z"
   },
   {
    "duration": 34,
    "start_time": "2023-06-29T10:22:49.235Z"
   },
   {
    "duration": 47,
    "start_time": "2023-06-29T10:22:49.271Z"
   },
   {
    "duration": 36,
    "start_time": "2023-06-29T10:22:49.320Z"
   },
   {
    "duration": 59,
    "start_time": "2023-06-29T10:22:49.358Z"
   },
   {
    "duration": 298,
    "start_time": "2023-06-29T10:22:49.419Z"
   },
   {
    "duration": 44,
    "start_time": "2023-06-29T10:22:49.719Z"
   },
   {
    "duration": 339,
    "start_time": "2023-06-29T10:22:49.765Z"
   },
   {
    "duration": 5,
    "start_time": "2023-06-29T10:22:50.106Z"
   },
   {
    "duration": 131,
    "start_time": "2023-06-29T10:22:50.113Z"
   },
   {
    "duration": 147,
    "start_time": "2023-06-29T10:22:50.246Z"
   },
   {
    "duration": 117,
    "start_time": "2023-06-29T10:22:50.395Z"
   },
   {
    "duration": 122,
    "start_time": "2023-06-29T10:22:50.514Z"
   },
   {
    "duration": 149,
    "start_time": "2023-06-29T10:22:50.639Z"
   },
   {
    "duration": 127,
    "start_time": "2023-06-29T10:22:50.791Z"
   },
   {
    "duration": 172,
    "start_time": "2023-06-29T10:22:50.920Z"
   },
   {
    "duration": 147,
    "start_time": "2023-06-29T10:22:51.096Z"
   },
   {
    "duration": 148,
    "start_time": "2023-06-29T10:22:51.245Z"
   },
   {
    "duration": 131,
    "start_time": "2023-06-29T10:22:51.395Z"
   },
   {
    "duration": 146,
    "start_time": "2023-06-29T10:22:51.528Z"
   },
   {
    "duration": 4,
    "start_time": "2023-06-29T10:22:51.676Z"
   },
   {
    "duration": 239,
    "start_time": "2023-06-29T10:22:51.681Z"
   },
   {
    "duration": 43,
    "start_time": "2023-06-29T10:22:51.922Z"
   },
   {
    "duration": 29,
    "start_time": "2023-06-29T10:22:51.966Z"
   },
   {
    "duration": 8,
    "start_time": "2023-06-29T10:22:51.997Z"
   },
   {
    "duration": 277,
    "start_time": "2023-06-29T10:22:52.007Z"
   },
   {
    "duration": 399,
    "start_time": "2023-06-29T10:22:52.285Z"
   },
   {
    "duration": 280,
    "start_time": "2023-06-29T10:22:52.687Z"
   },
   {
    "duration": 240,
    "start_time": "2023-06-29T10:22:52.969Z"
   },
   {
    "duration": 258,
    "start_time": "2023-06-29T10:22:53.211Z"
   },
   {
    "duration": 387,
    "start_time": "2023-06-29T10:22:53.471Z"
   },
   {
    "duration": 259,
    "start_time": "2023-06-29T10:22:53.860Z"
   },
   {
    "duration": 164,
    "start_time": "2023-06-29T10:22:54.121Z"
   },
   {
    "duration": 220,
    "start_time": "2023-06-29T10:22:54.286Z"
   },
   {
    "duration": 209,
    "start_time": "2023-06-29T10:22:54.509Z"
   },
   {
    "duration": 208,
    "start_time": "2023-06-29T10:22:54.720Z"
   },
   {
    "duration": 201,
    "start_time": "2023-06-29T10:22:54.930Z"
   },
   {
    "duration": 4571,
    "start_time": "2023-06-29T10:22:55.133Z"
   },
   {
    "duration": 288,
    "start_time": "2023-06-29T10:22:59.705Z"
   },
   {
    "duration": 1351,
    "start_time": "2023-06-29T10:22:59.995Z"
   },
   {
    "duration": 29,
    "start_time": "2023-06-29T10:23:01.348Z"
   },
   {
    "duration": 150,
    "start_time": "2023-06-29T10:23:01.379Z"
   },
   {
    "duration": 4,
    "start_time": "2023-06-29T10:23:34.527Z"
   },
   {
    "duration": 139,
    "start_time": "2023-06-29T10:24:51.497Z"
   },
   {
    "duration": 113,
    "start_time": "2023-06-29T10:25:14.402Z"
   },
   {
    "duration": 2359,
    "start_time": "2023-06-29T10:25:29.835Z"
   },
   {
    "duration": 1385,
    "start_time": "2023-06-29T10:25:32.196Z"
   },
   {
    "duration": 125,
    "start_time": "2023-06-29T10:25:33.582Z"
   },
   {
    "duration": 18,
    "start_time": "2023-06-29T10:25:33.709Z"
   },
   {
    "duration": 2131,
    "start_time": "2023-06-29T10:25:33.729Z"
   },
   {
    "duration": 25,
    "start_time": "2023-06-29T10:25:35.862Z"
   },
   {
    "duration": 1072,
    "start_time": "2023-06-29T10:25:35.890Z"
   },
   {
    "duration": 8,
    "start_time": "2023-06-29T10:25:36.963Z"
   },
   {
    "duration": 10,
    "start_time": "2023-06-29T10:25:36.972Z"
   },
   {
    "duration": 12,
    "start_time": "2023-06-29T10:25:36.985Z"
   },
   {
    "duration": 16,
    "start_time": "2023-06-29T10:25:36.999Z"
   },
   {
    "duration": 12,
    "start_time": "2023-06-29T10:25:37.017Z"
   },
   {
    "duration": 14,
    "start_time": "2023-06-29T10:25:37.031Z"
   },
   {
    "duration": 28,
    "start_time": "2023-06-29T10:25:37.047Z"
   },
   {
    "duration": 4,
    "start_time": "2023-06-29T10:25:37.077Z"
   },
   {
    "duration": 36,
    "start_time": "2023-06-29T10:25:37.083Z"
   },
   {
    "duration": 188,
    "start_time": "2023-06-29T10:25:37.121Z"
   },
   {
    "duration": 33,
    "start_time": "2023-06-29T10:25:37.355Z"
   },
   {
    "duration": 411,
    "start_time": "2023-06-29T10:25:37.390Z"
   },
   {
    "duration": 30,
    "start_time": "2023-06-29T10:25:37.803Z"
   },
   {
    "duration": 138,
    "start_time": "2023-06-29T10:25:37.835Z"
   },
   {
    "duration": 128,
    "start_time": "2023-06-29T10:25:37.975Z"
   },
   {
    "duration": 119,
    "start_time": "2023-06-29T10:25:38.105Z"
   },
   {
    "duration": 115,
    "start_time": "2023-06-29T10:25:38.226Z"
   },
   {
    "duration": 140,
    "start_time": "2023-06-29T10:25:38.343Z"
   },
   {
    "duration": 118,
    "start_time": "2023-06-29T10:25:38.485Z"
   },
   {
    "duration": 155,
    "start_time": "2023-06-29T10:25:38.605Z"
   },
   {
    "duration": 139,
    "start_time": "2023-06-29T10:25:38.764Z"
   },
   {
    "duration": 117,
    "start_time": "2023-06-29T10:25:38.905Z"
   },
   {
    "duration": 132,
    "start_time": "2023-06-29T10:25:39.024Z"
   },
   {
    "duration": 129,
    "start_time": "2023-06-29T10:25:39.158Z"
   },
   {
    "duration": 3,
    "start_time": "2023-06-29T10:25:39.288Z"
   },
   {
    "duration": 241,
    "start_time": "2023-06-29T10:25:39.293Z"
   },
   {
    "duration": 42,
    "start_time": "2023-06-29T10:25:39.536Z"
   },
   {
    "duration": 28,
    "start_time": "2023-06-29T10:25:39.580Z"
   },
   {
    "duration": 7,
    "start_time": "2023-06-29T10:25:39.610Z"
   },
   {
    "duration": 258,
    "start_time": "2023-06-29T10:25:39.619Z"
   },
   {
    "duration": 276,
    "start_time": "2023-06-29T10:25:39.879Z"
   },
   {
    "duration": 258,
    "start_time": "2023-06-29T10:25:40.157Z"
   },
   {
    "duration": 250,
    "start_time": "2023-06-29T10:25:40.416Z"
   },
   {
    "duration": 252,
    "start_time": "2023-06-29T10:25:40.668Z"
   },
   {
    "duration": 387,
    "start_time": "2023-06-29T10:25:40.921Z"
   },
   {
    "duration": 251,
    "start_time": "2023-06-29T10:25:41.309Z"
   },
   {
    "duration": 128,
    "start_time": "2023-06-29T10:25:41.561Z"
   },
   {
    "duration": 196,
    "start_time": "2023-06-29T10:25:41.690Z"
   },
   {
    "duration": 210,
    "start_time": "2023-06-29T10:25:41.888Z"
   },
   {
    "duration": 206,
    "start_time": "2023-06-29T10:25:42.100Z"
   },
   {
    "duration": 250,
    "start_time": "2023-06-29T10:25:42.308Z"
   },
   {
    "duration": 4475,
    "start_time": "2023-06-29T10:25:42.561Z"
   },
   {
    "duration": 269,
    "start_time": "2023-06-29T10:25:47.039Z"
   },
   {
    "duration": 1327,
    "start_time": "2023-06-29T10:25:47.310Z"
   },
   {
    "duration": 27,
    "start_time": "2023-06-29T10:25:48.639Z"
   },
   {
    "duration": 12,
    "start_time": "2023-06-29T10:25:48.667Z"
   },
   {
    "duration": 153,
    "start_time": "2023-06-29T10:29:17.467Z"
   },
   {
    "duration": 5,
    "start_time": "2023-06-29T10:30:46.261Z"
   },
   {
    "duration": 6,
    "start_time": "2023-06-29T10:31:02.930Z"
   },
   {
    "duration": 2414,
    "start_time": "2023-06-29T10:31:16.057Z"
   },
   {
    "duration": 1474,
    "start_time": "2023-06-29T10:31:18.473Z"
   },
   {
    "duration": 133,
    "start_time": "2023-06-29T10:31:19.949Z"
   },
   {
    "duration": 17,
    "start_time": "2023-06-29T10:31:20.084Z"
   },
   {
    "duration": 2181,
    "start_time": "2023-06-29T10:31:20.103Z"
   },
   {
    "duration": 20,
    "start_time": "2023-06-29T10:31:22.286Z"
   },
   {
    "duration": 1167,
    "start_time": "2023-06-29T10:31:22.308Z"
   },
   {
    "duration": 8,
    "start_time": "2023-06-29T10:31:23.477Z"
   },
   {
    "duration": 14,
    "start_time": "2023-06-29T10:31:23.487Z"
   },
   {
    "duration": 30,
    "start_time": "2023-06-29T10:31:23.505Z"
   },
   {
    "duration": 30,
    "start_time": "2023-06-29T10:31:23.537Z"
   },
   {
    "duration": 39,
    "start_time": "2023-06-29T10:31:23.569Z"
   },
   {
    "duration": 42,
    "start_time": "2023-06-29T10:31:23.610Z"
   },
   {
    "duration": 102,
    "start_time": "2023-06-29T10:31:23.654Z"
   },
   {
    "duration": 48,
    "start_time": "2023-06-29T10:31:23.757Z"
   },
   {
    "duration": 53,
    "start_time": "2023-06-29T10:31:23.806Z"
   },
   {
    "duration": 234,
    "start_time": "2023-06-29T10:31:23.861Z"
   },
   {
    "duration": 31,
    "start_time": "2023-06-29T10:31:24.097Z"
   },
   {
    "duration": 381,
    "start_time": "2023-06-29T10:31:24.130Z"
   },
   {
    "duration": 5,
    "start_time": "2023-06-29T10:31:24.513Z"
   },
   {
    "duration": 146,
    "start_time": "2023-06-29T10:31:24.520Z"
   },
   {
    "duration": 130,
    "start_time": "2023-06-29T10:31:24.668Z"
   },
   {
    "duration": 147,
    "start_time": "2023-06-29T10:31:24.800Z"
   },
   {
    "duration": 130,
    "start_time": "2023-06-29T10:31:24.953Z"
   },
   {
    "duration": 132,
    "start_time": "2023-06-29T10:31:25.085Z"
   },
   {
    "duration": 135,
    "start_time": "2023-06-29T10:31:25.220Z"
   },
   {
    "duration": 188,
    "start_time": "2023-06-29T10:31:25.357Z"
   },
   {
    "duration": 145,
    "start_time": "2023-06-29T10:31:25.557Z"
   },
   {
    "duration": 126,
    "start_time": "2023-06-29T10:31:25.704Z"
   },
   {
    "duration": 154,
    "start_time": "2023-06-29T10:31:25.831Z"
   },
   {
    "duration": 148,
    "start_time": "2023-06-29T10:31:25.988Z"
   },
   {
    "duration": 4,
    "start_time": "2023-06-29T10:31:26.137Z"
   },
   {
    "duration": 251,
    "start_time": "2023-06-29T10:31:26.153Z"
   },
   {
    "duration": 48,
    "start_time": "2023-06-29T10:31:26.407Z"
   },
   {
    "duration": 33,
    "start_time": "2023-06-29T10:31:26.457Z"
   },
   {
    "duration": 8,
    "start_time": "2023-06-29T10:31:26.492Z"
   },
   {
    "duration": 293,
    "start_time": "2023-06-29T10:31:26.501Z"
   },
   {
    "duration": 314,
    "start_time": "2023-06-29T10:31:26.796Z"
   },
   {
    "duration": 288,
    "start_time": "2023-06-29T10:31:27.112Z"
   },
   {
    "duration": 294,
    "start_time": "2023-06-29T10:31:27.402Z"
   },
   {
    "duration": 264,
    "start_time": "2023-06-29T10:31:27.697Z"
   },
   {
    "duration": 406,
    "start_time": "2023-06-29T10:31:27.964Z"
   },
   {
    "duration": 269,
    "start_time": "2023-06-29T10:31:28.372Z"
   },
   {
    "duration": 142,
    "start_time": "2023-06-29T10:31:28.654Z"
   },
   {
    "duration": 212,
    "start_time": "2023-06-29T10:31:28.797Z"
   },
   {
    "duration": 221,
    "start_time": "2023-06-29T10:31:29.011Z"
   },
   {
    "duration": 193,
    "start_time": "2023-06-29T10:31:29.233Z"
   },
   {
    "duration": 248,
    "start_time": "2023-06-29T10:31:29.428Z"
   },
   {
    "duration": 4731,
    "start_time": "2023-06-29T10:31:29.678Z"
   },
   {
    "duration": 275,
    "start_time": "2023-06-29T10:31:34.411Z"
   },
   {
    "duration": 1542,
    "start_time": "2023-06-29T10:31:34.688Z"
   },
   {
    "duration": 28,
    "start_time": "2023-06-29T10:31:36.232Z"
   },
   {
    "duration": 12,
    "start_time": "2023-06-29T10:31:36.262Z"
   },
   {
    "duration": 5,
    "start_time": "2023-06-29T10:31:36.279Z"
   },
   {
    "duration": 160,
    "start_time": "2023-06-29T10:32:00.546Z"
   },
   {
    "duration": 5,
    "start_time": "2023-06-29T10:32:18.626Z"
   },
   {
    "duration": 4,
    "start_time": "2023-06-29T10:32:27.847Z"
   },
   {
    "duration": 2581,
    "start_time": "2023-06-29T10:33:39.773Z"
   },
   {
    "duration": 1555,
    "start_time": "2023-06-29T10:33:42.358Z"
   },
   {
    "duration": 147,
    "start_time": "2023-06-29T10:33:43.915Z"
   },
   {
    "duration": 17,
    "start_time": "2023-06-29T10:33:44.064Z"
   },
   {
    "duration": 2117,
    "start_time": "2023-06-29T10:33:44.083Z"
   },
   {
    "duration": 19,
    "start_time": "2023-06-29T10:33:46.201Z"
   },
   {
    "duration": 946,
    "start_time": "2023-06-29T10:33:46.222Z"
   },
   {
    "duration": 7,
    "start_time": "2023-06-29T10:33:47.170Z"
   },
   {
    "duration": 11,
    "start_time": "2023-06-29T10:33:47.179Z"
   },
   {
    "duration": 17,
    "start_time": "2023-06-29T10:33:47.192Z"
   },
   {
    "duration": 18,
    "start_time": "2023-06-29T10:33:47.210Z"
   },
   {
    "duration": 13,
    "start_time": "2023-06-29T10:33:47.230Z"
   },
   {
    "duration": 15,
    "start_time": "2023-06-29T10:33:47.253Z"
   },
   {
    "duration": 20,
    "start_time": "2023-06-29T10:33:47.272Z"
   },
   {
    "duration": 6,
    "start_time": "2023-06-29T10:33:47.294Z"
   },
   {
    "duration": 53,
    "start_time": "2023-06-29T10:33:47.302Z"
   },
   {
    "duration": 209,
    "start_time": "2023-06-29T10:33:47.357Z"
   },
   {
    "duration": 36,
    "start_time": "2023-06-29T10:33:47.569Z"
   },
   {
    "duration": 368,
    "start_time": "2023-06-29T10:33:47.607Z"
   },
   {
    "duration": 6,
    "start_time": "2023-06-29T10:33:47.977Z"
   },
   {
    "duration": 135,
    "start_time": "2023-06-29T10:33:47.985Z"
   },
   {
    "duration": 133,
    "start_time": "2023-06-29T10:33:48.122Z"
   },
   {
    "duration": 140,
    "start_time": "2023-06-29T10:33:48.257Z"
   },
   {
    "duration": 122,
    "start_time": "2023-06-29T10:33:48.399Z"
   },
   {
    "duration": 125,
    "start_time": "2023-06-29T10:33:48.522Z"
   },
   {
    "duration": 128,
    "start_time": "2023-06-29T10:33:48.654Z"
   },
   {
    "duration": 161,
    "start_time": "2023-06-29T10:33:48.784Z"
   },
   {
    "duration": 135,
    "start_time": "2023-06-29T10:33:48.954Z"
   },
   {
    "duration": 126,
    "start_time": "2023-06-29T10:33:49.091Z"
   },
   {
    "duration": 135,
    "start_time": "2023-06-29T10:33:49.219Z"
   },
   {
    "duration": 140,
    "start_time": "2023-06-29T10:33:49.356Z"
   },
   {
    "duration": 6,
    "start_time": "2023-06-29T10:33:49.498Z"
   },
   {
    "duration": 250,
    "start_time": "2023-06-29T10:33:49.506Z"
   },
   {
    "duration": 34,
    "start_time": "2023-06-29T10:33:49.758Z"
   },
   {
    "duration": 32,
    "start_time": "2023-06-29T10:33:49.793Z"
   },
   {
    "duration": 32,
    "start_time": "2023-06-29T10:33:49.827Z"
   },
   {
    "duration": 288,
    "start_time": "2023-06-29T10:33:49.861Z"
   },
   {
    "duration": 324,
    "start_time": "2023-06-29T10:33:50.153Z"
   },
   {
    "duration": 265,
    "start_time": "2023-06-29T10:33:50.479Z"
   },
   {
    "duration": 261,
    "start_time": "2023-06-29T10:33:50.753Z"
   },
   {
    "duration": 278,
    "start_time": "2023-06-29T10:33:51.019Z"
   },
   {
    "duration": 411,
    "start_time": "2023-06-29T10:33:51.299Z"
   },
   {
    "duration": 273,
    "start_time": "2023-06-29T10:33:51.712Z"
   },
   {
    "duration": 148,
    "start_time": "2023-06-29T10:33:51.987Z"
   },
   {
    "duration": 218,
    "start_time": "2023-06-29T10:33:52.137Z"
   },
   {
    "duration": 300,
    "start_time": "2023-06-29T10:33:52.357Z"
   },
   {
    "duration": 224,
    "start_time": "2023-06-29T10:33:52.659Z"
   },
   {
    "duration": 221,
    "start_time": "2023-06-29T10:33:52.885Z"
   },
   {
    "duration": 4829,
    "start_time": "2023-06-29T10:33:53.108Z"
   },
   {
    "duration": 311,
    "start_time": "2023-06-29T10:33:57.939Z"
   },
   {
    "duration": 1343,
    "start_time": "2023-06-29T10:33:58.253Z"
   },
   {
    "duration": 19,
    "start_time": "2023-06-29T10:33:59.598Z"
   },
   {
    "duration": 12,
    "start_time": "2023-06-29T10:33:59.619Z"
   },
   {
    "duration": 27,
    "start_time": "2023-06-29T10:33:59.667Z"
   },
   {
    "duration": 100,
    "start_time": "2023-06-29T10:40:03.866Z"
   },
   {
    "duration": 2290,
    "start_time": "2023-06-29T10:40:10.103Z"
   },
   {
    "duration": 1214,
    "start_time": "2023-06-29T10:40:12.396Z"
   },
   {
    "duration": 128,
    "start_time": "2023-06-29T10:40:13.612Z"
   },
   {
    "duration": 23,
    "start_time": "2023-06-29T10:40:13.741Z"
   },
   {
    "duration": 2090,
    "start_time": "2023-06-29T10:40:13.766Z"
   },
   {
    "duration": 17,
    "start_time": "2023-06-29T10:40:15.857Z"
   },
   {
    "duration": 978,
    "start_time": "2023-06-29T10:40:15.875Z"
   },
   {
    "duration": 8,
    "start_time": "2023-06-29T10:40:16.855Z"
   },
   {
    "duration": 20,
    "start_time": "2023-06-29T10:40:16.864Z"
   },
   {
    "duration": 9,
    "start_time": "2023-06-29T10:40:16.885Z"
   },
   {
    "duration": 14,
    "start_time": "2023-06-29T10:40:16.896Z"
   },
   {
    "duration": 11,
    "start_time": "2023-06-29T10:40:16.911Z"
   },
   {
    "duration": 16,
    "start_time": "2023-06-29T10:40:16.923Z"
   },
   {
    "duration": 18,
    "start_time": "2023-06-29T10:40:16.955Z"
   },
   {
    "duration": 5,
    "start_time": "2023-06-29T10:40:16.975Z"
   },
   {
    "duration": 41,
    "start_time": "2023-06-29T10:40:16.981Z"
   },
   {
    "duration": 198,
    "start_time": "2023-06-29T10:40:17.024Z"
   },
   {
    "duration": 39,
    "start_time": "2023-06-29T10:40:17.224Z"
   },
   {
    "duration": 341,
    "start_time": "2023-06-29T10:40:17.265Z"
   },
   {
    "duration": 4,
    "start_time": "2023-06-29T10:40:17.608Z"
   },
   {
    "duration": 126,
    "start_time": "2023-06-29T10:40:17.614Z"
   },
   {
    "duration": 142,
    "start_time": "2023-06-29T10:40:17.742Z"
   },
   {
    "duration": 142,
    "start_time": "2023-06-29T10:40:17.886Z"
   },
   {
    "duration": 130,
    "start_time": "2023-06-29T10:40:18.030Z"
   },
   {
    "duration": 125,
    "start_time": "2023-06-29T10:40:18.162Z"
   },
   {
    "duration": 122,
    "start_time": "2023-06-29T10:40:18.289Z"
   },
   {
    "duration": 163,
    "start_time": "2023-06-29T10:40:18.413Z"
   },
   {
    "duration": 135,
    "start_time": "2023-06-29T10:40:18.578Z"
   },
   {
    "duration": 118,
    "start_time": "2023-06-29T10:40:18.715Z"
   },
   {
    "duration": 137,
    "start_time": "2023-06-29T10:40:18.835Z"
   },
   {
    "duration": 136,
    "start_time": "2023-06-29T10:40:18.974Z"
   },
   {
    "duration": 4,
    "start_time": "2023-06-29T10:40:19.112Z"
   },
   {
    "duration": 238,
    "start_time": "2023-06-29T10:40:19.117Z"
   },
   {
    "duration": 31,
    "start_time": "2023-06-29T10:40:19.357Z"
   },
   {
    "duration": 31,
    "start_time": "2023-06-29T10:40:19.390Z"
   },
   {
    "duration": 7,
    "start_time": "2023-06-29T10:40:19.423Z"
   },
   {
    "duration": 272,
    "start_time": "2023-06-29T10:40:19.454Z"
   },
   {
    "duration": 298,
    "start_time": "2023-06-29T10:40:19.728Z"
   },
   {
    "duration": 262,
    "start_time": "2023-06-29T10:40:20.027Z"
   },
   {
    "duration": 240,
    "start_time": "2023-06-29T10:40:20.291Z"
   },
   {
    "duration": 276,
    "start_time": "2023-06-29T10:40:20.535Z"
   },
   {
    "duration": 394,
    "start_time": "2023-06-29T10:40:20.813Z"
   },
   {
    "duration": 257,
    "start_time": "2023-06-29T10:40:21.209Z"
   },
   {
    "duration": 151,
    "start_time": "2023-06-29T10:40:21.468Z"
   },
   {
    "duration": 215,
    "start_time": "2023-06-29T10:40:21.621Z"
   },
   {
    "duration": 229,
    "start_time": "2023-06-29T10:40:21.839Z"
   },
   {
    "duration": 225,
    "start_time": "2023-06-29T10:40:22.070Z"
   },
   {
    "duration": 263,
    "start_time": "2023-06-29T10:40:22.297Z"
   },
   {
    "duration": 4640,
    "start_time": "2023-06-29T10:40:22.563Z"
   },
   {
    "duration": 264,
    "start_time": "2023-06-29T10:40:27.204Z"
   },
   {
    "duration": 1310,
    "start_time": "2023-06-29T10:40:27.469Z"
   },
   {
    "duration": 18,
    "start_time": "2023-06-29T10:40:28.781Z"
   },
   {
    "duration": 10,
    "start_time": "2023-06-29T10:40:28.801Z"
   },
   {
    "duration": 115,
    "start_time": "2023-06-29T10:42:01.414Z"
   },
   {
    "duration": 4,
    "start_time": "2023-06-29T10:42:09.192Z"
   },
   {
    "duration": 2443,
    "start_time": "2023-06-29T10:42:17.343Z"
   },
   {
    "duration": 1204,
    "start_time": "2023-06-29T10:42:19.789Z"
   },
   {
    "duration": 135,
    "start_time": "2023-06-29T10:42:20.995Z"
   },
   {
    "duration": 25,
    "start_time": "2023-06-29T10:42:21.132Z"
   },
   {
    "duration": 2280,
    "start_time": "2023-06-29T10:42:21.159Z"
   },
   {
    "duration": 21,
    "start_time": "2023-06-29T10:42:23.441Z"
   },
   {
    "duration": 1080,
    "start_time": "2023-06-29T10:42:23.464Z"
   },
   {
    "duration": 10,
    "start_time": "2023-06-29T10:42:24.546Z"
   },
   {
    "duration": 47,
    "start_time": "2023-06-29T10:42:24.558Z"
   },
   {
    "duration": 32,
    "start_time": "2023-06-29T10:42:24.608Z"
   },
   {
    "duration": 32,
    "start_time": "2023-06-29T10:42:24.641Z"
   },
   {
    "duration": 12,
    "start_time": "2023-06-29T10:42:24.675Z"
   },
   {
    "duration": 54,
    "start_time": "2023-06-29T10:42:24.689Z"
   },
   {
    "duration": 28,
    "start_time": "2023-06-29T10:42:24.745Z"
   },
   {
    "duration": 43,
    "start_time": "2023-06-29T10:42:24.775Z"
   },
   {
    "duration": 42,
    "start_time": "2023-06-29T10:42:24.820Z"
   },
   {
    "duration": 217,
    "start_time": "2023-06-29T10:42:24.864Z"
   },
   {
    "duration": 33,
    "start_time": "2023-06-29T10:42:25.082Z"
   },
   {
    "duration": 351,
    "start_time": "2023-06-29T10:42:25.117Z"
   },
   {
    "duration": 5,
    "start_time": "2023-06-29T10:42:25.469Z"
   },
   {
    "duration": 131,
    "start_time": "2023-06-29T10:42:25.476Z"
   },
   {
    "duration": 130,
    "start_time": "2023-06-29T10:42:25.609Z"
   },
   {
    "duration": 157,
    "start_time": "2023-06-29T10:42:25.742Z"
   },
   {
    "duration": 133,
    "start_time": "2023-06-29T10:42:25.901Z"
   },
   {
    "duration": 142,
    "start_time": "2023-06-29T10:42:26.036Z"
   },
   {
    "duration": 142,
    "start_time": "2023-06-29T10:42:26.181Z"
   },
   {
    "duration": 162,
    "start_time": "2023-06-29T10:42:26.324Z"
   },
   {
    "duration": 134,
    "start_time": "2023-06-29T10:42:26.489Z"
   },
   {
    "duration": 130,
    "start_time": "2023-06-29T10:42:26.625Z"
   },
   {
    "duration": 128,
    "start_time": "2023-06-29T10:42:26.757Z"
   },
   {
    "duration": 136,
    "start_time": "2023-06-29T10:42:26.886Z"
   },
   {
    "duration": 4,
    "start_time": "2023-06-29T10:42:27.024Z"
   },
   {
    "duration": 248,
    "start_time": "2023-06-29T10:42:27.029Z"
   },
   {
    "duration": 34,
    "start_time": "2023-06-29T10:42:27.279Z"
   },
   {
    "duration": 46,
    "start_time": "2023-06-29T10:42:27.315Z"
   },
   {
    "duration": 8,
    "start_time": "2023-06-29T10:42:27.363Z"
   },
   {
    "duration": 282,
    "start_time": "2023-06-29T10:42:27.373Z"
   },
   {
    "duration": 306,
    "start_time": "2023-06-29T10:42:27.656Z"
   },
   {
    "duration": 279,
    "start_time": "2023-06-29T10:42:27.964Z"
   },
   {
    "duration": 244,
    "start_time": "2023-06-29T10:42:28.244Z"
   },
   {
    "duration": 256,
    "start_time": "2023-06-29T10:42:28.490Z"
   },
   {
    "duration": 393,
    "start_time": "2023-06-29T10:42:28.748Z"
   },
   {
    "duration": 260,
    "start_time": "2023-06-29T10:42:29.142Z"
   },
   {
    "duration": 136,
    "start_time": "2023-06-29T10:42:29.403Z"
   },
   {
    "duration": 214,
    "start_time": "2023-06-29T10:42:29.541Z"
   },
   {
    "duration": 216,
    "start_time": "2023-06-29T10:42:29.756Z"
   },
   {
    "duration": 210,
    "start_time": "2023-06-29T10:42:29.973Z"
   },
   {
    "duration": 205,
    "start_time": "2023-06-29T10:42:30.185Z"
   },
   {
    "duration": 4600,
    "start_time": "2023-06-29T10:42:30.391Z"
   },
   {
    "duration": 270,
    "start_time": "2023-06-29T10:42:34.993Z"
   },
   {
    "duration": 1415,
    "start_time": "2023-06-29T10:42:35.265Z"
   },
   {
    "duration": 20,
    "start_time": "2023-06-29T10:42:36.682Z"
   },
   {
    "duration": 11,
    "start_time": "2023-06-29T10:42:36.704Z"
   },
   {
    "duration": 5,
    "start_time": "2023-06-29T10:42:43.711Z"
   },
   {
    "duration": 121,
    "start_time": "2023-06-29T10:43:10.098Z"
   },
   {
    "duration": 2412,
    "start_time": "2023-06-29T10:43:43.581Z"
   },
   {
    "duration": 1286,
    "start_time": "2023-06-29T10:43:45.995Z"
   },
   {
    "duration": 135,
    "start_time": "2023-06-29T10:43:47.283Z"
   },
   {
    "duration": 20,
    "start_time": "2023-06-29T10:43:47.420Z"
   },
   {
    "duration": 2204,
    "start_time": "2023-06-29T10:43:47.443Z"
   },
   {
    "duration": 19,
    "start_time": "2023-06-29T10:43:49.650Z"
   },
   {
    "duration": 1069,
    "start_time": "2023-06-29T10:43:49.670Z"
   },
   {
    "duration": 16,
    "start_time": "2023-06-29T10:43:50.742Z"
   },
   {
    "duration": 18,
    "start_time": "2023-06-29T10:43:50.760Z"
   },
   {
    "duration": 17,
    "start_time": "2023-06-29T10:43:50.780Z"
   },
   {
    "duration": 30,
    "start_time": "2023-06-29T10:43:50.798Z"
   },
   {
    "duration": 27,
    "start_time": "2023-06-29T10:43:50.830Z"
   },
   {
    "duration": 21,
    "start_time": "2023-06-29T10:43:50.860Z"
   },
   {
    "duration": 27,
    "start_time": "2023-06-29T10:43:50.886Z"
   },
   {
    "duration": 17,
    "start_time": "2023-06-29T10:43:50.916Z"
   },
   {
    "duration": 51,
    "start_time": "2023-06-29T10:43:50.935Z"
   },
   {
    "duration": 226,
    "start_time": "2023-06-29T10:43:50.988Z"
   },
   {
    "duration": 31,
    "start_time": "2023-06-29T10:43:51.216Z"
   },
   {
    "duration": 507,
    "start_time": "2023-06-29T10:43:51.255Z"
   },
   {
    "duration": 6,
    "start_time": "2023-06-29T10:43:51.764Z"
   },
   {
    "duration": 137,
    "start_time": "2023-06-29T10:43:51.771Z"
   },
   {
    "duration": 145,
    "start_time": "2023-06-29T10:43:51.910Z"
   },
   {
    "duration": 147,
    "start_time": "2023-06-29T10:43:52.057Z"
   },
   {
    "duration": 137,
    "start_time": "2023-06-29T10:43:52.207Z"
   },
   {
    "duration": 164,
    "start_time": "2023-06-29T10:43:52.346Z"
   },
   {
    "duration": 165,
    "start_time": "2023-06-29T10:43:52.512Z"
   },
   {
    "duration": 223,
    "start_time": "2023-06-29T10:43:52.679Z"
   },
   {
    "duration": 133,
    "start_time": "2023-06-29T10:43:52.903Z"
   },
   {
    "duration": 137,
    "start_time": "2023-06-29T10:43:53.038Z"
   },
   {
    "duration": 136,
    "start_time": "2023-06-29T10:43:53.177Z"
   },
   {
    "duration": 148,
    "start_time": "2023-06-29T10:43:53.315Z"
   },
   {
    "duration": 4,
    "start_time": "2023-06-29T10:43:53.464Z"
   },
   {
    "duration": 271,
    "start_time": "2023-06-29T10:43:53.470Z"
   },
   {
    "duration": 43,
    "start_time": "2023-06-29T10:43:53.743Z"
   },
   {
    "duration": 43,
    "start_time": "2023-06-29T10:43:53.788Z"
   },
   {
    "duration": 26,
    "start_time": "2023-06-29T10:43:53.833Z"
   },
   {
    "duration": 278,
    "start_time": "2023-06-29T10:43:53.861Z"
   },
   {
    "duration": 330,
    "start_time": "2023-06-29T10:43:54.141Z"
   },
   {
    "duration": 272,
    "start_time": "2023-06-29T10:43:54.473Z"
   },
   {
    "duration": 283,
    "start_time": "2023-06-29T10:43:54.747Z"
   },
   {
    "duration": 281,
    "start_time": "2023-06-29T10:43:55.034Z"
   },
   {
    "duration": 409,
    "start_time": "2023-06-29T10:43:55.316Z"
   },
   {
    "duration": 262,
    "start_time": "2023-06-29T10:43:55.727Z"
   },
   {
    "duration": 144,
    "start_time": "2023-06-29T10:43:55.991Z"
   },
   {
    "duration": 205,
    "start_time": "2023-06-29T10:43:56.137Z"
   },
   {
    "duration": 233,
    "start_time": "2023-06-29T10:43:56.344Z"
   },
   {
    "duration": 200,
    "start_time": "2023-06-29T10:43:56.579Z"
   },
   {
    "duration": 227,
    "start_time": "2023-06-29T10:43:56.781Z"
   },
   {
    "duration": 4618,
    "start_time": "2023-06-29T10:43:57.010Z"
   },
   {
    "duration": 289,
    "start_time": "2023-06-29T10:44:01.630Z"
   },
   {
    "duration": 1605,
    "start_time": "2023-06-29T10:44:01.920Z"
   },
   {
    "duration": 36,
    "start_time": "2023-06-29T10:44:03.527Z"
   },
   {
    "duration": 134,
    "start_time": "2023-06-29T10:44:03.564Z"
   },
   {
    "duration": 124,
    "start_time": "2023-06-29T10:44:11.032Z"
   },
   {
    "duration": 122,
    "start_time": "2023-06-29T10:44:19.356Z"
   },
   {
    "duration": 134,
    "start_time": "2023-06-29T10:44:24.126Z"
   },
   {
    "duration": 2453,
    "start_time": "2023-06-29T10:44:49.762Z"
   },
   {
    "duration": 1312,
    "start_time": "2023-06-29T10:44:52.217Z"
   },
   {
    "duration": 132,
    "start_time": "2023-06-29T10:44:53.531Z"
   },
   {
    "duration": 17,
    "start_time": "2023-06-29T10:44:53.665Z"
   },
   {
    "duration": 2132,
    "start_time": "2023-06-29T10:44:53.684Z"
   },
   {
    "duration": 17,
    "start_time": "2023-06-29T10:44:55.817Z"
   },
   {
    "duration": 1028,
    "start_time": "2023-06-29T10:44:55.836Z"
   },
   {
    "duration": 7,
    "start_time": "2023-06-29T10:44:56.866Z"
   },
   {
    "duration": 12,
    "start_time": "2023-06-29T10:44:56.875Z"
   },
   {
    "duration": 32,
    "start_time": "2023-06-29T10:44:56.889Z"
   },
   {
    "duration": 34,
    "start_time": "2023-06-29T10:44:56.923Z"
   },
   {
    "duration": 39,
    "start_time": "2023-06-29T10:44:56.959Z"
   },
   {
    "duration": 14,
    "start_time": "2023-06-29T10:44:57.000Z"
   },
   {
    "duration": 18,
    "start_time": "2023-06-29T10:44:57.016Z"
   },
   {
    "duration": 16,
    "start_time": "2023-06-29T10:44:57.036Z"
   },
   {
    "duration": 33,
    "start_time": "2023-06-29T10:44:57.054Z"
   },
   {
    "duration": 201,
    "start_time": "2023-06-29T10:44:57.089Z"
   },
   {
    "duration": 30,
    "start_time": "2023-06-29T10:44:57.292Z"
   },
   {
    "duration": 360,
    "start_time": "2023-06-29T10:44:57.324Z"
   },
   {
    "duration": 5,
    "start_time": "2023-06-29T10:44:57.685Z"
   },
   {
    "duration": 127,
    "start_time": "2023-06-29T10:44:57.692Z"
   },
   {
    "duration": 123,
    "start_time": "2023-06-29T10:44:57.820Z"
   },
   {
    "duration": 146,
    "start_time": "2023-06-29T10:44:57.945Z"
   },
   {
    "duration": 119,
    "start_time": "2023-06-29T10:44:58.093Z"
   },
   {
    "duration": 113,
    "start_time": "2023-06-29T10:44:58.214Z"
   },
   {
    "duration": 122,
    "start_time": "2023-06-29T10:44:58.328Z"
   },
   {
    "duration": 185,
    "start_time": "2023-06-29T10:44:58.454Z"
   },
   {
    "duration": 134,
    "start_time": "2023-06-29T10:44:58.653Z"
   },
   {
    "duration": 129,
    "start_time": "2023-06-29T10:44:58.789Z"
   },
   {
    "duration": 124,
    "start_time": "2023-06-29T10:44:58.920Z"
   },
   {
    "duration": 122,
    "start_time": "2023-06-29T10:44:59.046Z"
   },
   {
    "duration": 4,
    "start_time": "2023-06-29T10:44:59.170Z"
   },
   {
    "duration": 237,
    "start_time": "2023-06-29T10:44:59.175Z"
   },
   {
    "duration": 41,
    "start_time": "2023-06-29T10:44:59.414Z"
   },
   {
    "duration": 29,
    "start_time": "2023-06-29T10:44:59.456Z"
   },
   {
    "duration": 13,
    "start_time": "2023-06-29T10:44:59.487Z"
   },
   {
    "duration": 297,
    "start_time": "2023-06-29T10:44:59.502Z"
   },
   {
    "duration": 292,
    "start_time": "2023-06-29T10:44:59.801Z"
   },
   {
    "duration": 265,
    "start_time": "2023-06-29T10:45:00.095Z"
   },
   {
    "duration": 276,
    "start_time": "2023-06-29T10:45:00.362Z"
   },
   {
    "duration": 260,
    "start_time": "2023-06-29T10:45:00.640Z"
   },
   {
    "duration": 406,
    "start_time": "2023-06-29T10:45:00.902Z"
   },
   {
    "duration": 281,
    "start_time": "2023-06-29T10:45:01.310Z"
   },
   {
    "duration": 178,
    "start_time": "2023-06-29T10:45:01.593Z"
   },
   {
    "duration": 227,
    "start_time": "2023-06-29T10:45:01.773Z"
   },
   {
    "duration": 237,
    "start_time": "2023-06-29T10:45:02.002Z"
   },
   {
    "duration": 272,
    "start_time": "2023-06-29T10:45:02.241Z"
   },
   {
    "duration": 260,
    "start_time": "2023-06-29T10:45:02.516Z"
   },
   {
    "duration": 4471,
    "start_time": "2023-06-29T10:45:02.778Z"
   },
   {
    "duration": 265,
    "start_time": "2023-06-29T10:45:07.253Z"
   },
   {
    "duration": 1476,
    "start_time": "2023-06-29T10:45:07.520Z"
   },
   {
    "duration": 19,
    "start_time": "2023-06-29T10:45:08.998Z"
   },
   {
    "duration": 31,
    "start_time": "2023-06-29T10:45:09.019Z"
   },
   {
    "duration": 137,
    "start_time": "2023-06-29T10:45:37.568Z"
   },
   {
    "duration": 151,
    "start_time": "2023-06-29T10:46:15.009Z"
   },
   {
    "duration": 117,
    "start_time": "2023-06-29T10:46:58.788Z"
   },
   {
    "duration": 2741,
    "start_time": "2023-06-29T10:47:07.737Z"
   },
   {
    "duration": 1239,
    "start_time": "2023-06-29T10:47:10.481Z"
   },
   {
    "duration": 137,
    "start_time": "2023-06-29T10:47:11.723Z"
   },
   {
    "duration": 17,
    "start_time": "2023-06-29T10:47:11.863Z"
   },
   {
    "duration": 2266,
    "start_time": "2023-06-29T10:47:11.882Z"
   },
   {
    "duration": 20,
    "start_time": "2023-06-29T10:47:14.150Z"
   },
   {
    "duration": 1096,
    "start_time": "2023-06-29T10:47:14.172Z"
   },
   {
    "duration": 8,
    "start_time": "2023-06-29T10:47:15.270Z"
   },
   {
    "duration": 8,
    "start_time": "2023-06-29T10:47:15.281Z"
   },
   {
    "duration": 10,
    "start_time": "2023-06-29T10:47:15.291Z"
   },
   {
    "duration": 13,
    "start_time": "2023-06-29T10:47:15.303Z"
   },
   {
    "duration": 16,
    "start_time": "2023-06-29T10:47:15.318Z"
   },
   {
    "duration": 15,
    "start_time": "2023-06-29T10:47:15.353Z"
   },
   {
    "duration": 18,
    "start_time": "2023-06-29T10:47:15.369Z"
   },
   {
    "duration": 5,
    "start_time": "2023-06-29T10:47:15.389Z"
   },
   {
    "duration": 34,
    "start_time": "2023-06-29T10:47:15.396Z"
   },
   {
    "duration": 205,
    "start_time": "2023-06-29T10:47:15.432Z"
   },
   {
    "duration": 33,
    "start_time": "2023-06-29T10:47:15.639Z"
   },
   {
    "duration": 328,
    "start_time": "2023-06-29T10:47:15.674Z"
   },
   {
    "duration": 6,
    "start_time": "2023-06-29T10:47:16.003Z"
   },
   {
    "duration": 122,
    "start_time": "2023-06-29T10:47:16.011Z"
   },
   {
    "duration": 131,
    "start_time": "2023-06-29T10:47:16.135Z"
   },
   {
    "duration": 161,
    "start_time": "2023-06-29T10:47:16.268Z"
   },
   {
    "duration": 144,
    "start_time": "2023-06-29T10:47:16.431Z"
   },
   {
    "duration": 127,
    "start_time": "2023-06-29T10:47:16.576Z"
   },
   {
    "duration": 117,
    "start_time": "2023-06-29T10:47:16.706Z"
   },
   {
    "duration": 139,
    "start_time": "2023-06-29T10:47:16.825Z"
   },
   {
    "duration": 147,
    "start_time": "2023-06-29T10:47:16.969Z"
   },
   {
    "duration": 125,
    "start_time": "2023-06-29T10:47:17.119Z"
   },
   {
    "duration": 134,
    "start_time": "2023-06-29T10:47:17.253Z"
   },
   {
    "duration": 122,
    "start_time": "2023-06-29T10:47:17.389Z"
   },
   {
    "duration": 4,
    "start_time": "2023-06-29T10:47:17.513Z"
   },
   {
    "duration": 223,
    "start_time": "2023-06-29T10:47:17.519Z"
   },
   {
    "duration": 39,
    "start_time": "2023-06-29T10:47:17.743Z"
   },
   {
    "duration": 31,
    "start_time": "2023-06-29T10:47:17.784Z"
   },
   {
    "duration": 9,
    "start_time": "2023-06-29T10:47:17.817Z"
   },
   {
    "duration": 277,
    "start_time": "2023-06-29T10:47:17.828Z"
   },
   {
    "duration": 294,
    "start_time": "2023-06-29T10:47:18.106Z"
   },
   {
    "duration": 273,
    "start_time": "2023-06-29T10:47:18.402Z"
   },
   {
    "duration": 282,
    "start_time": "2023-06-29T10:47:18.677Z"
   },
   {
    "duration": 257,
    "start_time": "2023-06-29T10:47:18.962Z"
   },
   {
    "duration": 378,
    "start_time": "2023-06-29T10:47:19.220Z"
   },
   {
    "duration": 260,
    "start_time": "2023-06-29T10:47:19.600Z"
   },
   {
    "duration": 193,
    "start_time": "2023-06-29T10:47:19.862Z"
   },
   {
    "duration": 260,
    "start_time": "2023-06-29T10:47:20.057Z"
   },
   {
    "duration": 236,
    "start_time": "2023-06-29T10:47:20.319Z"
   },
   {
    "duration": 214,
    "start_time": "2023-06-29T10:47:20.557Z"
   },
   {
    "duration": 217,
    "start_time": "2023-06-29T10:47:20.772Z"
   },
   {
    "duration": 4700,
    "start_time": "2023-06-29T10:47:20.991Z"
   },
   {
    "duration": 288,
    "start_time": "2023-06-29T10:47:25.693Z"
   },
   {
    "duration": 1526,
    "start_time": "2023-06-29T10:47:25.983Z"
   },
   {
    "duration": 26,
    "start_time": "2023-06-29T10:47:27.511Z"
   },
   {
    "duration": 39,
    "start_time": "2023-06-29T10:47:27.555Z"
   },
   {
    "duration": 2355,
    "start_time": "2023-06-29T10:47:44.265Z"
   },
   {
    "duration": 1275,
    "start_time": "2023-06-29T10:47:46.624Z"
   },
   {
    "duration": 127,
    "start_time": "2023-06-29T10:47:47.901Z"
   },
   {
    "duration": 23,
    "start_time": "2023-06-29T10:47:48.030Z"
   },
   {
    "duration": 2193,
    "start_time": "2023-06-29T10:47:48.055Z"
   },
   {
    "duration": 19,
    "start_time": "2023-06-29T10:47:50.250Z"
   },
   {
    "duration": 1067,
    "start_time": "2023-06-29T10:47:50.270Z"
   },
   {
    "duration": 14,
    "start_time": "2023-06-29T10:47:51.339Z"
   },
   {
    "duration": 23,
    "start_time": "2023-06-29T10:47:51.355Z"
   },
   {
    "duration": 9,
    "start_time": "2023-06-29T10:47:51.381Z"
   },
   {
    "duration": 12,
    "start_time": "2023-06-29T10:47:51.392Z"
   },
   {
    "duration": 11,
    "start_time": "2023-06-29T10:47:51.405Z"
   },
   {
    "duration": 14,
    "start_time": "2023-06-29T10:47:51.417Z"
   },
   {
    "duration": 28,
    "start_time": "2023-06-29T10:47:51.433Z"
   },
   {
    "duration": 6,
    "start_time": "2023-06-29T10:47:51.462Z"
   },
   {
    "duration": 27,
    "start_time": "2023-06-29T10:47:51.470Z"
   },
   {
    "duration": 223,
    "start_time": "2023-06-29T10:47:51.499Z"
   },
   {
    "duration": 41,
    "start_time": "2023-06-29T10:47:51.724Z"
   },
   {
    "duration": 362,
    "start_time": "2023-06-29T10:47:51.767Z"
   },
   {
    "duration": 6,
    "start_time": "2023-06-29T10:47:52.131Z"
   },
   {
    "duration": 138,
    "start_time": "2023-06-29T10:47:52.139Z"
   },
   {
    "duration": 144,
    "start_time": "2023-06-29T10:47:52.279Z"
   },
   {
    "duration": 189,
    "start_time": "2023-06-29T10:47:52.425Z"
   },
   {
    "duration": 151,
    "start_time": "2023-06-29T10:47:52.616Z"
   },
   {
    "duration": 137,
    "start_time": "2023-06-29T10:47:52.769Z"
   },
   {
    "duration": 131,
    "start_time": "2023-06-29T10:47:52.908Z"
   },
   {
    "duration": 168,
    "start_time": "2023-06-29T10:47:53.041Z"
   },
   {
    "duration": 138,
    "start_time": "2023-06-29T10:47:53.215Z"
   },
   {
    "duration": 118,
    "start_time": "2023-06-29T10:47:53.356Z"
   },
   {
    "duration": 139,
    "start_time": "2023-06-29T10:47:53.476Z"
   },
   {
    "duration": 127,
    "start_time": "2023-06-29T10:47:53.617Z"
   },
   {
    "duration": 10,
    "start_time": "2023-06-29T10:47:53.746Z"
   },
   {
    "duration": 251,
    "start_time": "2023-06-29T10:47:53.757Z"
   },
   {
    "duration": 50,
    "start_time": "2023-06-29T10:47:54.010Z"
   },
   {
    "duration": 33,
    "start_time": "2023-06-29T10:47:54.061Z"
   },
   {
    "duration": 8,
    "start_time": "2023-06-29T10:47:54.096Z"
   },
   {
    "duration": 315,
    "start_time": "2023-06-29T10:47:54.106Z"
   },
   {
    "duration": 298,
    "start_time": "2023-06-29T10:47:54.423Z"
   },
   {
    "duration": 277,
    "start_time": "2023-06-29T10:47:54.723Z"
   },
   {
    "duration": 309,
    "start_time": "2023-06-29T10:47:55.002Z"
   },
   {
    "duration": 314,
    "start_time": "2023-06-29T10:47:55.313Z"
   },
   {
    "duration": 426,
    "start_time": "2023-06-29T10:47:55.630Z"
   },
   {
    "duration": 268,
    "start_time": "2023-06-29T10:47:56.058Z"
   },
   {
    "duration": 145,
    "start_time": "2023-06-29T10:47:56.328Z"
   },
   {
    "duration": 224,
    "start_time": "2023-06-29T10:47:56.475Z"
   },
   {
    "duration": 238,
    "start_time": "2023-06-29T10:47:56.701Z"
   },
   {
    "duration": 238,
    "start_time": "2023-06-29T10:47:56.941Z"
   },
   {
    "duration": 228,
    "start_time": "2023-06-29T10:47:57.181Z"
   },
   {
    "duration": 4611,
    "start_time": "2023-06-29T10:47:57.410Z"
   },
   {
    "duration": 277,
    "start_time": "2023-06-29T10:48:02.023Z"
   },
   {
    "duration": 1510,
    "start_time": "2023-06-29T10:48:02.302Z"
   },
   {
    "duration": 20,
    "start_time": "2023-06-29T10:48:03.813Z"
   },
   {
    "duration": 26,
    "start_time": "2023-06-29T10:48:03.835Z"
   },
   {
    "duration": 95,
    "start_time": "2023-06-29T10:50:11.186Z"
   },
   {
    "duration": 156,
    "start_time": "2023-06-29T10:53:53.400Z"
   },
   {
    "duration": 151,
    "start_time": "2023-06-29T10:54:01.709Z"
   },
   {
    "duration": 146,
    "start_time": "2023-06-29T10:54:09.295Z"
   },
   {
    "duration": 149,
    "start_time": "2023-06-29T10:56:17.990Z"
   },
   {
    "duration": 128,
    "start_time": "2023-06-29T10:56:36.249Z"
   },
   {
    "duration": 128,
    "start_time": "2023-06-29T10:56:40.388Z"
   },
   {
    "duration": 432,
    "start_time": "2023-06-29T11:16:27.708Z"
   },
   {
    "duration": 28,
    "start_time": "2023-06-29T11:18:18.901Z"
   },
   {
    "duration": 8,
    "start_time": "2023-06-29T11:18:46.424Z"
   },
   {
    "duration": 8,
    "start_time": "2023-06-29T11:18:59.616Z"
   },
   {
    "duration": 142,
    "start_time": "2023-06-29T11:23:09.793Z"
   },
   {
    "duration": 129,
    "start_time": "2023-06-29T11:24:29.282Z"
   },
   {
    "duration": 176,
    "start_time": "2023-06-29T11:28:42.318Z"
   },
   {
    "duration": 138,
    "start_time": "2023-06-29T11:29:10.517Z"
   },
   {
    "duration": 42,
    "start_time": "2023-06-29T11:31:48.331Z"
   },
   {
    "duration": 5,
    "start_time": "2023-06-29T11:32:31.011Z"
   },
   {
    "duration": 25,
    "start_time": "2023-06-29T11:32:41.389Z"
   }
  ],
  "kernelspec": {
   "display_name": "Python 3 (ipykernel)",
   "language": "python",
   "name": "python3"
  },
  "language_info": {
   "codemirror_mode": {
    "name": "ipython",
    "version": 3
   },
   "file_extension": ".py",
   "mimetype": "text/x-python",
   "name": "python",
   "nbconvert_exporter": "python",
   "pygments_lexer": "ipython3",
   "version": "3.9.5"
  },
  "toc": {
   "base_numbering": 1,
   "nav_menu": {},
   "number_sections": true,
   "sideBar": true,
   "skip_h1_title": true,
   "title_cell": "Table of Contents",
   "title_sidebar": "Contents",
   "toc_cell": false,
   "toc_position": {},
   "toc_section_display": true,
   "toc_window_display": false
  }
 },
 "nbformat": 4,
 "nbformat_minor": 2
}
