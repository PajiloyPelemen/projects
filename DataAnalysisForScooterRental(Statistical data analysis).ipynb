{
 "cells": [
  {
   "cell_type": "markdown",
   "id": "6f47ea46",
   "metadata": {},
   "source": [
    "<div style=\"border:solid Chocolate 2px; padding: 40px\">\n",
    "\n",
    "<b> Евгений, привет!</b>\n",
    "\n",
    "Меня зовут Евгений Головин, я буду ревьюером твоего проекта. Если ты не против, то предлагаю построить наше общение на \"ты\" ;) Если удобнее на \"вы\", то нет проблем, только скажи об этом. \n",
    "\n",
    "В ходе работы я оставил тебе комментарии <font color='green'>зеленого</font>, <font color='gold'>желтого</font> и <font color='red'>красного</font> цветов. Сейчас объясню, что они значат:\n",
    "\n",
    "<br/>\n",
    "\n",
    "<div class=\"alert alert-success\">\n",
    "<h2> Комментарий ревьюера <a class=\"tocSkip\"> </h2>\n",
    "\n",
    "<b>Все супер!👍:</b> Решение на этом шаге является полностью правильным.\n",
    "</div>\n",
    "\n",
    "<br/>\n",
    "\n",
    "<div class=\"alert alert-warning\">\n",
    "    <h2> Комментарий ревьюера <a class=\"tocSkip\"> </h2>\n",
    "    \n",
    "<b>Небольшие замечания и рекомендации💡:</b> Решение на этом шаге станет еще лучше, если внести небольшие коррективы.\n",
    "</div>\n",
    "\n",
    "\n",
    "<br/>\n",
    "<div class=\"alert alert-block alert-danger\">\n",
    "<h2> Комментарий ревьюера <a class=\"tocSkip\"></h2>\n",
    "\n",
    "    \n",
    "<b>На доработку🤔:</b>\n",
    " Решение на этом шаге требует существенной переработки и внесения правок. Напоминаю, что проект не может быть принят с первого раза, если ревью содержит комментарии, рекомендующие доработать шаги.\n",
    "</div>\n",
    "    \n",
    "Увидев мой комментарий, не удаляй его, он будет очень полезен в случае повторной проверки работы :)\n",
    "    \n",
    "<div class=\"alert alert-info\">\n",
    "<b>А свой помечай вот так, чтобы я его не потерял ;)</b> \n",
    "</div>\n",
    "    \n",
    "На мои комменатрии можно и нужно реагировать, только делать это стоит так, чтобы твои и мои комменты не смешались: выделяй свои цветами, сильно отличающимися от моих.\n",
    "    \n",
    "Увидев у тебя неточность, в первый раз я лишь укажу на ее наличие и дам тебе возможность самому найти и исправить ее. На реальной работе твой руководитель будет поступать также, и я пытаюсь подготовить тебя именно к работе аналитиком. Но если ты пока не справишься с такой задачей - при следующей проверке я дам более точную подсказку!"
   ]
  },
  {
   "cell_type": "markdown",
   "id": "2754a927",
   "metadata": {},
   "source": [
    "<div class=\"alert alert-block alert-danger\">\n",
    "<h2> Комментарий ревьюера v1 <a class=\"tocSkip\"></h2>\n",
    "\n",
    "<b>На доработку🤔:</b>  А давай начнем с введения? Добавим название проекта, поставим цель, напишем план работы и опишем данные? "
   ]
  },
  {
   "cell_type": "markdown",
   "id": "681c7b7e",
   "metadata": {},
   "source": []
  },
  {
   "cell_type": "markdown",
   "id": "d2a79daf",
   "metadata": {},
   "source": []
  },
  {
   "cell_type": "markdown",
   "id": "b39437e6",
   "metadata": {},
   "source": [
    "    \n",
    "<div class=\"alert alert-info\">\n",
    "<b>Анализ пользователей GoFast.\n",
    "    Цель: помочь бизнесу вырасти\n",
    "    План работы:\n",
    "    1. Загрузка данных\n",
    "    2. Предобработка данных\n",
    "    3. Исследовательский анализ данных\n",
    "    4. Объединение данных\n",
    "    5. Подсчёт выручки\n",
    "    6. Проверка гипотез\n",
    "    Данные:Пользователи — users_go.csv\n",
    "user_id\tуникальный идентификатор пользователя\n",
    "name\tимя пользователя\n",
    "age\tвозраст\n",
    "city\tгород\n",
    "subscription_type\tтип подписки (free, ultra)\n",
    "Поездки — rides_go.csv\n",
    "user_id\tуникальный идентификатор пользователя\n",
    "distance\tрасстояние, которое пользователь проехал в текущей сессии (в метрах)\n",
    "duration\tпродолжительность сессии (в минутах) — время с того момента, как пользователь нажал кнопку «Начать поездку» до момента, как он нажал кнопку «Завершить поездку»\n",
    "date\tдата совершения поездки\n",
    "Подписки — subscriptions_go.csv\n",
    "subscription_type\tтип подписки\n",
    "minute_price\tстоимость одной минуты поездки по данной подписке\n",
    "start_ride_price\tстоимость начала поездки\n",
    "subscription_fee\tстоимость ежемесячного платежа </b> \n",
    "</div>\n",
    "    "
   ]
  },
  {
   "cell_type": "markdown",
   "id": "30d1f53a",
   "metadata": {},
   "source": [
    "<div class=\"alert alert-success\">\n",
    "<h2> Комментарий ревьюера v2 <a class=\"tocSkip\"> </h2>\n",
    "\n",
    "<b>Все супер!👍:</b> Уже лучше) "
   ]
  },
  {
   "cell_type": "code",
   "execution_count": null,
   "id": "84891ce4",
   "metadata": {},
   "outputs": [],
   "source": []
  },
  {
   "cell_type": "code",
   "execution_count": null,
   "id": "63674ee0",
   "metadata": {},
   "outputs": [],
   "source": []
  },
  {
   "cell_type": "code",
   "execution_count": 1,
   "id": "72576667",
   "metadata": {},
   "outputs": [],
   "source": [
    "import pandas as pd\n",
    "import numpy as np\n",
    "from scipy import stats as st\n",
    "import warnings\n"
   ]
  },
  {
   "cell_type": "markdown",
   "id": "c42cbe00",
   "metadata": {},
   "source": [
    "#### Шаг 1. Загрузка данных"
   ]
  },
  {
   "cell_type": "code",
   "execution_count": 2,
   "id": "eff9f206",
   "metadata": {
    "scrolled": true
   },
   "outputs": [
    {
     "name": "stdout",
     "output_type": "stream",
     "text": [
      "<class 'pandas.core.frame.DataFrame'>\n",
      "RangeIndex: 1565 entries, 0 to 1564\n",
      "Data columns (total 5 columns):\n",
      " #   Column             Non-Null Count  Dtype \n",
      "---  ------             --------------  ----- \n",
      " 0   user_id            1565 non-null   int64 \n",
      " 1   name               1565 non-null   object\n",
      " 2   age                1565 non-null   int64 \n",
      " 3   city               1565 non-null   object\n",
      " 4   subscription_type  1565 non-null   object\n",
      "dtypes: int64(2), object(3)\n",
      "memory usage: 61.3+ KB\n"
     ]
    },
    {
     "data": {
      "text/html": [
       "<div>\n",
       "<style scoped>\n",
       "    .dataframe tbody tr th:only-of-type {\n",
       "        vertical-align: middle;\n",
       "    }\n",
       "\n",
       "    .dataframe tbody tr th {\n",
       "        vertical-align: top;\n",
       "    }\n",
       "\n",
       "    .dataframe thead th {\n",
       "        text-align: right;\n",
       "    }\n",
       "</style>\n",
       "<table border=\"1\" class=\"dataframe\">\n",
       "  <thead>\n",
       "    <tr style=\"text-align: right;\">\n",
       "      <th></th>\n",
       "      <th>user_id</th>\n",
       "      <th>name</th>\n",
       "      <th>age</th>\n",
       "      <th>city</th>\n",
       "      <th>subscription_type</th>\n",
       "    </tr>\n",
       "  </thead>\n",
       "  <tbody>\n",
       "    <tr>\n",
       "      <th>0</th>\n",
       "      <td>1</td>\n",
       "      <td>Кира</td>\n",
       "      <td>22</td>\n",
       "      <td>Тюмень</td>\n",
       "      <td>ultra</td>\n",
       "    </tr>\n",
       "    <tr>\n",
       "      <th>1</th>\n",
       "      <td>2</td>\n",
       "      <td>Станислав</td>\n",
       "      <td>31</td>\n",
       "      <td>Омск</td>\n",
       "      <td>ultra</td>\n",
       "    </tr>\n",
       "    <tr>\n",
       "      <th>2</th>\n",
       "      <td>3</td>\n",
       "      <td>Алексей</td>\n",
       "      <td>20</td>\n",
       "      <td>Москва</td>\n",
       "      <td>ultra</td>\n",
       "    </tr>\n",
       "    <tr>\n",
       "      <th>3</th>\n",
       "      <td>4</td>\n",
       "      <td>Константин</td>\n",
       "      <td>26</td>\n",
       "      <td>Ростов-на-Дону</td>\n",
       "      <td>ultra</td>\n",
       "    </tr>\n",
       "    <tr>\n",
       "      <th>4</th>\n",
       "      <td>5</td>\n",
       "      <td>Адель</td>\n",
       "      <td>28</td>\n",
       "      <td>Омск</td>\n",
       "      <td>ultra</td>\n",
       "    </tr>\n",
       "  </tbody>\n",
       "</table>\n",
       "</div>"
      ],
      "text/plain": [
       "   user_id        name  age            city subscription_type\n",
       "0        1        Кира   22          Тюмень             ultra\n",
       "1        2   Станислав   31            Омск             ultra\n",
       "2        3     Алексей   20          Москва             ultra\n",
       "3        4  Константин   26  Ростов-на-Дону             ultra\n",
       "4        5       Адель   28            Омск             ultra"
      ]
     },
     "execution_count": 2,
     "metadata": {},
     "output_type": "execute_result"
    }
   ],
   "source": [
    "users_go = pd.read_csv(\"/datasets/users_go.csv\")\n",
    "users_go.info()\n",
    "users_go.head(5)"
   ]
  },
  {
   "cell_type": "code",
   "execution_count": 3,
   "id": "d33e74d1",
   "metadata": {},
   "outputs": [
    {
     "name": "stdout",
     "output_type": "stream",
     "text": [
      "<class 'pandas.core.frame.DataFrame'>\n",
      "RangeIndex: 18068 entries, 0 to 18067\n",
      "Data columns (total 4 columns):\n",
      " #   Column    Non-Null Count  Dtype  \n",
      "---  ------    --------------  -----  \n",
      " 0   user_id   18068 non-null  int64  \n",
      " 1   distance  18068 non-null  float64\n",
      " 2   duration  18068 non-null  float64\n",
      " 3   date      18068 non-null  object \n",
      "dtypes: float64(2), int64(1), object(1)\n",
      "memory usage: 564.8+ KB\n"
     ]
    },
    {
     "data": {
      "text/html": [
       "<div>\n",
       "<style scoped>\n",
       "    .dataframe tbody tr th:only-of-type {\n",
       "        vertical-align: middle;\n",
       "    }\n",
       "\n",
       "    .dataframe tbody tr th {\n",
       "        vertical-align: top;\n",
       "    }\n",
       "\n",
       "    .dataframe thead th {\n",
       "        text-align: right;\n",
       "    }\n",
       "</style>\n",
       "<table border=\"1\" class=\"dataframe\">\n",
       "  <thead>\n",
       "    <tr style=\"text-align: right;\">\n",
       "      <th></th>\n",
       "      <th>user_id</th>\n",
       "      <th>distance</th>\n",
       "      <th>duration</th>\n",
       "      <th>date</th>\n",
       "    </tr>\n",
       "  </thead>\n",
       "  <tbody>\n",
       "    <tr>\n",
       "      <th>0</th>\n",
       "      <td>1</td>\n",
       "      <td>4409.919140</td>\n",
       "      <td>25.599769</td>\n",
       "      <td>2021-01-01</td>\n",
       "    </tr>\n",
       "    <tr>\n",
       "      <th>1</th>\n",
       "      <td>1</td>\n",
       "      <td>2617.592153</td>\n",
       "      <td>15.816871</td>\n",
       "      <td>2021-01-18</td>\n",
       "    </tr>\n",
       "    <tr>\n",
       "      <th>2</th>\n",
       "      <td>1</td>\n",
       "      <td>754.159807</td>\n",
       "      <td>6.232113</td>\n",
       "      <td>2021-04-20</td>\n",
       "    </tr>\n",
       "    <tr>\n",
       "      <th>3</th>\n",
       "      <td>1</td>\n",
       "      <td>2694.783254</td>\n",
       "      <td>18.511000</td>\n",
       "      <td>2021-08-11</td>\n",
       "    </tr>\n",
       "    <tr>\n",
       "      <th>4</th>\n",
       "      <td>1</td>\n",
       "      <td>4028.687306</td>\n",
       "      <td>26.265803</td>\n",
       "      <td>2021-08-28</td>\n",
       "    </tr>\n",
       "  </tbody>\n",
       "</table>\n",
       "</div>"
      ],
      "text/plain": [
       "   user_id     distance   duration        date\n",
       "0        1  4409.919140  25.599769  2021-01-01\n",
       "1        1  2617.592153  15.816871  2021-01-18\n",
       "2        1   754.159807   6.232113  2021-04-20\n",
       "3        1  2694.783254  18.511000  2021-08-11\n",
       "4        1  4028.687306  26.265803  2021-08-28"
      ]
     },
     "execution_count": 3,
     "metadata": {},
     "output_type": "execute_result"
    }
   ],
   "source": [
    "rides_go = pd.read_csv(\"/datasets/rides_go.csv\")\n",
    "rides_go.info()\n",
    "rides_go.head(5)"
   ]
  },
  {
   "cell_type": "code",
   "execution_count": 4,
   "id": "89aef005",
   "metadata": {
    "scrolled": true
   },
   "outputs": [
    {
     "name": "stdout",
     "output_type": "stream",
     "text": [
      "<class 'pandas.core.frame.DataFrame'>\n",
      "RangeIndex: 2 entries, 0 to 1\n",
      "Data columns (total 4 columns):\n",
      " #   Column             Non-Null Count  Dtype \n",
      "---  ------             --------------  ----- \n",
      " 0   subscription_type  2 non-null      object\n",
      " 1   minute_price       2 non-null      int64 \n",
      " 2   start_ride_price   2 non-null      int64 \n",
      " 3   subscription_fee   2 non-null      int64 \n",
      "dtypes: int64(3), object(1)\n",
      "memory usage: 192.0+ bytes\n"
     ]
    },
    {
     "data": {
      "text/html": [
       "<div>\n",
       "<style scoped>\n",
       "    .dataframe tbody tr th:only-of-type {\n",
       "        vertical-align: middle;\n",
       "    }\n",
       "\n",
       "    .dataframe tbody tr th {\n",
       "        vertical-align: top;\n",
       "    }\n",
       "\n",
       "    .dataframe thead th {\n",
       "        text-align: right;\n",
       "    }\n",
       "</style>\n",
       "<table border=\"1\" class=\"dataframe\">\n",
       "  <thead>\n",
       "    <tr style=\"text-align: right;\">\n",
       "      <th></th>\n",
       "      <th>subscription_type</th>\n",
       "      <th>minute_price</th>\n",
       "      <th>start_ride_price</th>\n",
       "      <th>subscription_fee</th>\n",
       "    </tr>\n",
       "  </thead>\n",
       "  <tbody>\n",
       "    <tr>\n",
       "      <th>0</th>\n",
       "      <td>free</td>\n",
       "      <td>8</td>\n",
       "      <td>50</td>\n",
       "      <td>0</td>\n",
       "    </tr>\n",
       "    <tr>\n",
       "      <th>1</th>\n",
       "      <td>ultra</td>\n",
       "      <td>6</td>\n",
       "      <td>0</td>\n",
       "      <td>199</td>\n",
       "    </tr>\n",
       "  </tbody>\n",
       "</table>\n",
       "</div>"
      ],
      "text/plain": [
       "  subscription_type  minute_price  start_ride_price  subscription_fee\n",
       "0              free             8                50                 0\n",
       "1             ultra             6                 0               199"
      ]
     },
     "execution_count": 4,
     "metadata": {},
     "output_type": "execute_result"
    }
   ],
   "source": [
    "subscriptions_go = pd.read_csv(\"/datasets/subscriptions_go.csv\")\n",
    "subscriptions_go.info()\n",
    "subscriptions_go.head(5)"
   ]
  },
  {
   "cell_type": "markdown",
   "id": "5c1b729e",
   "metadata": {},
   "source": [
    "<div class=\"alert alert-block alert-danger\">\n",
    "<h2> Комментарий ревьюера v1 <a class=\"tocSkip\"></h2>\n",
    "\n",
    "<b>На доработку🤔:</b>  А рассмотрим подробнее каждый датафрейм?) И было бы круто сдлеать промежуточный вывод"
   ]
  },
  {
   "cell_type": "markdown",
   "id": "c3f74183",
   "metadata": {},
   "source": [
    "    \n",
    "<div class=\"alert alert-info\">\n",
    "<b>3 разных датафрейма, но у них есть связывающие столбцы. Для пользователей и поездок - user_id, для пользователей и подписок - subscribtion type. Все в нужных форматах, кроме даты.</b> \n",
    "</div>\n",
    "    "
   ]
  },
  {
   "cell_type": "markdown",
   "id": "3e98a6a7",
   "metadata": {},
   "source": [
    "<div class=\"alert alert-success\">\n",
    "<h2> Комментарий ревьюера v2 <a class=\"tocSkip\"> </h2>\n",
    "\n",
    "<b>Все супер!👍:</b> Исправлено "
   ]
  },
  {
   "cell_type": "markdown",
   "id": "e95ebca7",
   "metadata": {},
   "source": [
    "#### Шаг 2. Предобработка данных"
   ]
  },
  {
   "cell_type": "code",
   "execution_count": 5,
   "id": "af6d202c",
   "metadata": {
    "scrolled": true
   },
   "outputs": [
    {
     "name": "stdout",
     "output_type": "stream",
     "text": [
      "<class 'pandas.core.frame.DataFrame'>\n",
      "RangeIndex: 18068 entries, 0 to 18067\n",
      "Data columns (total 4 columns):\n",
      " #   Column    Non-Null Count  Dtype         \n",
      "---  ------    --------------  -----         \n",
      " 0   user_id   18068 non-null  int64         \n",
      " 1   distance  18068 non-null  float64       \n",
      " 2   duration  18068 non-null  float64       \n",
      " 3   date      18068 non-null  datetime64[ns]\n",
      "dtypes: datetime64[ns](1), float64(2), int64(1)\n",
      "memory usage: 564.8 KB\n"
     ]
    }
   ],
   "source": [
    "rides_go[\"date\"] = pd.to_datetime(rides_go[\"date\"],format = \"%Y-%m-%d\")\n",
    "\n",
    "rides_go.info()"
   ]
  },
  {
   "cell_type": "markdown",
   "id": "4a777192",
   "metadata": {},
   "source": [
    "<div class=\"alert alert-success\">\n",
    "<h2> Комментарий ревьюера v1 <a class=\"tocSkip\"> </h2>\n",
    "\n",
    "<b>Все супер!👍:</b> Согласен, дата должна быть датой"
   ]
  },
  {
   "cell_type": "code",
   "execution_count": 6,
   "id": "322ed0ab",
   "metadata": {
    "scrolled": true
   },
   "outputs": [
    {
     "data": {
      "text/html": [
       "<div>\n",
       "<style scoped>\n",
       "    .dataframe tbody tr th:only-of-type {\n",
       "        vertical-align: middle;\n",
       "    }\n",
       "\n",
       "    .dataframe tbody tr th {\n",
       "        vertical-align: top;\n",
       "    }\n",
       "\n",
       "    .dataframe thead th {\n",
       "        text-align: right;\n",
       "    }\n",
       "</style>\n",
       "<table border=\"1\" class=\"dataframe\">\n",
       "  <thead>\n",
       "    <tr style=\"text-align: right;\">\n",
       "      <th></th>\n",
       "      <th>user_id</th>\n",
       "      <th>distance</th>\n",
       "      <th>duration</th>\n",
       "      <th>date</th>\n",
       "      <th>month</th>\n",
       "    </tr>\n",
       "  </thead>\n",
       "  <tbody>\n",
       "    <tr>\n",
       "      <th>0</th>\n",
       "      <td>1</td>\n",
       "      <td>4409.919140</td>\n",
       "      <td>25.599769</td>\n",
       "      <td>2021-01-01</td>\n",
       "      <td>1</td>\n",
       "    </tr>\n",
       "    <tr>\n",
       "      <th>1</th>\n",
       "      <td>1</td>\n",
       "      <td>2617.592153</td>\n",
       "      <td>15.816871</td>\n",
       "      <td>2021-01-18</td>\n",
       "      <td>1</td>\n",
       "    </tr>\n",
       "    <tr>\n",
       "      <th>2</th>\n",
       "      <td>1</td>\n",
       "      <td>754.159807</td>\n",
       "      <td>6.232113</td>\n",
       "      <td>2021-04-20</td>\n",
       "      <td>4</td>\n",
       "    </tr>\n",
       "    <tr>\n",
       "      <th>3</th>\n",
       "      <td>1</td>\n",
       "      <td>2694.783254</td>\n",
       "      <td>18.511000</td>\n",
       "      <td>2021-08-11</td>\n",
       "      <td>8</td>\n",
       "    </tr>\n",
       "    <tr>\n",
       "      <th>4</th>\n",
       "      <td>1</td>\n",
       "      <td>4028.687306</td>\n",
       "      <td>26.265803</td>\n",
       "      <td>2021-08-28</td>\n",
       "      <td>8</td>\n",
       "    </tr>\n",
       "  </tbody>\n",
       "</table>\n",
       "</div>"
      ],
      "text/plain": [
       "   user_id     distance   duration       date  month\n",
       "0        1  4409.919140  25.599769 2021-01-01      1\n",
       "1        1  2617.592153  15.816871 2021-01-18      1\n",
       "2        1   754.159807   6.232113 2021-04-20      4\n",
       "3        1  2694.783254  18.511000 2021-08-11      8\n",
       "4        1  4028.687306  26.265803 2021-08-28      8"
      ]
     },
     "execution_count": 6,
     "metadata": {},
     "output_type": "execute_result"
    }
   ],
   "source": [
    "rides_go[\"month\"] = rides_go[\"date\"].dt.month\n",
    "rides_go.head(5)"
   ]
  },
  {
   "cell_type": "markdown",
   "id": "6f3c4fb5",
   "metadata": {},
   "source": [
    "<div class=\"alert alert-success\">\n",
    "<h2> Комментарий ревьюера v1 <a class=\"tocSkip\"> </h2>\n",
    "\n",
    "<b>Все супер!👍:</b> Столбец добавлен верно "
   ]
  },
  {
   "cell_type": "code",
   "execution_count": 7,
   "id": "477212d7",
   "metadata": {},
   "outputs": [
    {
     "data": {
      "text/plain": [
       "user_id     0\n",
       "distance    0\n",
       "duration    0\n",
       "date        0\n",
       "month       0\n",
       "dtype: int64"
      ]
     },
     "execution_count": 7,
     "metadata": {},
     "output_type": "execute_result"
    }
   ],
   "source": [
    "rides_go.isna().sum()"
   ]
  },
  {
   "cell_type": "code",
   "execution_count": 8,
   "id": "5fd8ed78",
   "metadata": {},
   "outputs": [
    {
     "data": {
      "text/plain": [
       "user_id              0\n",
       "name                 0\n",
       "age                  0\n",
       "city                 0\n",
       "subscription_type    0\n",
       "dtype: int64"
      ]
     },
     "execution_count": 8,
     "metadata": {},
     "output_type": "execute_result"
    }
   ],
   "source": [
    "users_go.isna().sum()"
   ]
  },
  {
   "cell_type": "code",
   "execution_count": 9,
   "id": "68170664",
   "metadata": {
    "scrolled": true
   },
   "outputs": [
    {
     "data": {
      "text/plain": [
       "subscription_type    0\n",
       "minute_price         0\n",
       "start_ride_price     0\n",
       "subscription_fee     0\n",
       "dtype: int64"
      ]
     },
     "execution_count": 9,
     "metadata": {},
     "output_type": "execute_result"
    }
   ],
   "source": [
    "subscriptions_go.isna().sum()"
   ]
  },
  {
   "cell_type": "markdown",
   "id": "d46897dc",
   "metadata": {},
   "source": [
    "<div class=\"alert alert-success\">\n",
    "<h2> Комментарий ревьюера v1 <a class=\"tocSkip\"> </h2>\n",
    "\n",
    "<b>Все супер!👍:</b> Пропусков нет"
   ]
  },
  {
   "cell_type": "code",
   "execution_count": 10,
   "id": "05226a23",
   "metadata": {},
   "outputs": [
    {
     "data": {
      "text/plain": [
       "31"
      ]
     },
     "execution_count": 10,
     "metadata": {},
     "output_type": "execute_result"
    }
   ],
   "source": [
    "users_go[\"user_id\"].duplicated().sum()"
   ]
  },
  {
   "cell_type": "code",
   "execution_count": 11,
   "id": "aee99322",
   "metadata": {},
   "outputs": [
    {
     "data": {
      "text/plain": [
       "0"
      ]
     },
     "execution_count": 11,
     "metadata": {},
     "output_type": "execute_result"
    }
   ],
   "source": [
    "users_go = users_go.drop_duplicates(subset=['user_id'], keep='first')\n",
    "users_go[\"user_id\"].duplicated().sum()"
   ]
  },
  {
   "cell_type": "code",
   "execution_count": 12,
   "id": "4d5bc81c",
   "metadata": {
    "scrolled": true
   },
   "outputs": [
    {
     "data": {
      "text/plain": [
       "0"
      ]
     },
     "execution_count": 12,
     "metadata": {},
     "output_type": "execute_result"
    }
   ],
   "source": [
    "rides_go.duplicated().sum()"
   ]
  },
  {
   "cell_type": "markdown",
   "id": "d7d7cb15",
   "metadata": {},
   "source": [
    "<div class=\"alert alert-block alert-danger\">\n",
    "<h2> Комментарий ревьюера v1 <a class=\"tocSkip\"></h2>\n",
    "\n",
    "<b>На доработку🤔:</b>  А были дубликаты? "
   ]
  },
  {
   "cell_type": "markdown",
   "id": "621a6e33",
   "metadata": {},
   "source": [
    "<div class=\"alert alert-block alert-danger\">\n",
    "<h2> Комментарий ревьюера v1 <a class=\"tocSkip\"></h2>\n",
    "\n",
    "<b>На доработку🤔:</b> Сделаем вывод по предобработке данных? "
   ]
  },
  {
   "cell_type": "markdown",
   "id": "9058561c",
   "metadata": {},
   "source": [
    "    \n",
    "<div class=\"alert alert-info\">\n",
    "<b>Чистые данные, всего 31 дубликат в одном датафрейме. Пропусков нет, неявных дубликатов тоже не может быть - нет названий.</b> \n",
    "</div>\n",
    "    "
   ]
  },
  {
   "cell_type": "markdown",
   "id": "e69c685c",
   "metadata": {},
   "source": [
    "<div class=\"alert alert-success\">\n",
    "<h2> Комментарий ревьюера v2 <a class=\"tocSkip\"> </h2>\n",
    "\n",
    "<b>Все супер!👍:</b> Хорошо)"
   ]
  },
  {
   "cell_type": "markdown",
   "id": "212593c7",
   "metadata": {},
   "source": [
    "#### Шаг 3. Исследовательский анализ данных"
   ]
  },
  {
   "cell_type": "markdown",
   "id": "024820db",
   "metadata": {},
   "source": [
    "<div class=\"alert alert-block alert-danger\">\n",
    "<h2> Комментарий ревьюера v1 <a class=\"tocSkip\"></h2>\n",
    "\n",
    "<b>На доработку🤔:</b>  А исследование частоты встречаемости городов? "
   ]
  },
  {
   "cell_type": "code",
   "execution_count": 13,
   "id": "44b95a3d",
   "metadata": {},
   "outputs": [
    {
     "data": {
      "text/plain": [
       "Text(0.5, 0, 'Город')"
      ]
     },
     "execution_count": 13,
     "metadata": {},
     "output_type": "execute_result"
    },
    {
     "data": {
      "image/png": "[encoded data removed]",
      "text/plain": [
       "<Figure size 360x360 with 1 Axes>"
      ]
     },
     "metadata": {
      "needs_background": "light"
     },
     "output_type": "display_data"
    }
   ],
   "source": [
    "ax = users_go.groupby(\"city\").count().sort_values(by=\"user_id\").plot(kind=\"bar\",y=\"user_id\",figsize = (5,5),legend = False ,title = \"Частота встречаемости городов\")\n",
    "ax.set_ylabel(\"Частота\")\n",
    "ax.set_xlabel(\"Город\")"
   ]
  },
  {
   "cell_type": "code",
   "execution_count": null,
   "id": "8925fe46",
   "metadata": {},
   "outputs": [],
   "source": []
  },
  {
   "cell_type": "markdown",
   "id": "9c02e31a",
   "metadata": {},
   "source": [
    "\n",
    "<div class=\"alert alert-info\">\n",
    "<b>Пользователи равномерно распределены по стране</b> \n",
    "</div>"
   ]
  },
  {
   "cell_type": "markdown",
   "id": "7e9cb6ac",
   "metadata": {},
   "source": [
    "<div class=\"alert alert-block alert-danger\">\n",
    "<h2> Комментарий ревьюера v2 <a class=\"tocSkip\"></h2>\n",
    "   \n",
    "<b>На доработку🤔:</b> Крговая диаграмма хороша максимум на 5 секторов, т.к. у секторной диаграммы очень много недостатков. Во-первых, человеческий глаз не может нормально сравнить длину дуги окружности, поскольку секторы направлены в различные стороны. Во-вторых, человеческое зрение не приспособлено к сравнению углов в принципе. Выберем другой тип графика?"
   ]
  },
  {
   "cell_type": "markdown",
   "id": "c21f0d5e",
   "metadata": {},
   "source": [
    "<div class=\"alert alert-block alert-danger\">\n",
    "<h2> Комментарий ревьюера v3 <a class=\"tocSkip\"></h2>\n",
    "   \n",
    "<b>На доработку🤔:</b> Все отлчино, но давай еще отсортируем?"
   ]
  },
  {
   "cell_type": "markdown",
   "id": "3ee6fa8f",
   "metadata": {},
   "source": [
    "<div class=\"alert alert-success\">\n",
    "<h2> Комментарий ревьюера v4 <a class=\"tocSkip\"> </h2>\n",
    "\n",
    "<b>Все супер!👍:</b> Вот теперь хорошечно "
   ]
  },
  {
   "cell_type": "code",
   "execution_count": 14,
   "id": "1c522c98",
   "metadata": {},
   "outputs": [
    {
     "data": {
      "text/plain": [
       "<AxesSubplot:title={'center':'Отношение пользователей с подпиской и без'}, ylabel='user_id'>"
      ]
     },
     "execution_count": 14,
     "metadata": {},
     "output_type": "execute_result"
    },
    {
     "data": {
      "image/png": "[encoded data removed]",
      "text/plain": [
       "<Figure size 360x360 with 1 Axes>"
      ]
     },
     "metadata": {},
     "output_type": "display_data"
    }
   ],
   "source": [
    "users_go.groupby(\"subscription_type\").count().plot(kind=\"pie\",y=\"user_id\",autopct='%1.0f%%',figsize = (5,5),legend = False, title = \"Отношение пользователей с подпиской и без\")\n",
    "\n"
   ]
  },
  {
   "cell_type": "markdown",
   "id": "d527a5ed",
   "metadata": {},
   "source": [
    "\n",
    "\n",
    "<div class=\"alert alert-info\">\n",
    "<b>Очень много пользователей с подпиской, что понятно - 200 руб в месяц окупаются 4 поездками. Но все еще есть, кого привлекать</b> \n",
    "</div>"
   ]
  },
  {
   "cell_type": "markdown",
   "id": "52cfbe73",
   "metadata": {},
   "source": [
    "<div class=\"alert alert-block alert-danger\">\n",
    "<h2> Комментарий ревьюера v1 <a class=\"tocSkip\"></h2>\n",
    "\n",
    "<b>На доработку🤔:</b>  Согласен) Только давай подпишем заголовок? Не забывай про выводы\n",
    "    "
   ]
  },
  {
   "cell_type": "markdown",
   "id": "50a9e824",
   "metadata": {},
   "source": [
    "<div class=\"alert alert-success\">\n",
    "<h2> Комментарий ревьюера v2 <a class=\"tocSkip\"> </h2>\n",
    "\n",
    "<b>Все супер!👍:</b> Хорошо) \n",
    "    "
   ]
  },
  {
   "cell_type": "code",
   "execution_count": 15,
   "id": "ad8b30b7",
   "metadata": {},
   "outputs": [
    {
     "data": {
      "text/plain": [
       "count    1534.000000\n",
       "mean       24.903520\n",
       "std         4.572367\n",
       "min        12.000000\n",
       "25%        22.000000\n",
       "50%        25.000000\n",
       "75%        28.000000\n",
       "max        43.000000\n",
       "Name: age, dtype: float64"
      ]
     },
     "execution_count": 15,
     "metadata": {},
     "output_type": "execute_result"
    },
    {
     "data": {
      "image/png": "[encoded data removed]",
      "text/plain": [
       "<Figure size 432x288 with 1 Axes>"
      ]
     },
     "metadata": {
      "needs_background": "light"
     },
     "output_type": "display_data"
    }
   ],
   "source": [
    "ax = users_go[\"age\"].plot.hist(bins=30, title=\"Возраст пользователей\")\n",
    "ax.set_ylabel(\"Количество\")\n",
    "ax.set_xlabel(\"Возраст\")\n",
    "users_go[\"age\"].describe()"
   ]
  },
  {
   "cell_type": "markdown",
   "id": "7b7c0353",
   "metadata": {},
   "source": [
    "<div class=\"alert alert-info\">\n",
    "<b>Основная база пользователей 22-28 лет, самый старший - 43 года.</b> \n",
    "</div>"
   ]
  },
  {
   "cell_type": "code",
   "execution_count": 16,
   "id": "a36ceab4",
   "metadata": {},
   "outputs": [
    {
     "data": {
      "text/plain": [
       "count    18068.000000\n",
       "mean      3070.659976\n",
       "std       1116.831209\n",
       "min          0.855683\n",
       "25%       2543.226360\n",
       "50%       3133.609994\n",
       "75%       3776.222735\n",
       "max       7211.007745\n",
       "Name: distance, dtype: float64"
      ]
     },
     "execution_count": 16,
     "metadata": {},
     "output_type": "execute_result"
    },
    {
     "data": {
      "image/png": "[encoded data removed]",
      "text/plain": [
       "<Figure size 432x288 with 1 Axes>"
      ]
     },
     "metadata": {
      "needs_background": "light"
     },
     "output_type": "display_data"
    }
   ],
   "source": [
    "ax = rides_go[\"distance\"].plot.hist(bins=100,title=\"Расстояние поездки\")\n",
    "ax.set_ylabel(\"Количество поездок\")\n",
    "ax.set_xlabel(\"Расстояние, м\")\n",
    "rides_go[\"distance\"].describe()"
   ]
  },
  {
   "cell_type": "markdown",
   "id": "9b461754",
   "metadata": {},
   "source": [
    "<div class=\"alert alert-info\">\n",
    "<b>Большинство поездок 2,5 - 3,8 км. Некоторые пользователи ездят недалеко - скорее всего поездки до метро.</b> \n",
    "</div>"
   ]
  },
  {
   "cell_type": "code",
   "execution_count": 17,
   "id": "74233689",
   "metadata": {
    "scrolled": true
   },
   "outputs": [
    {
     "data": {
      "text/plain": [
       "count    18068.000000\n",
       "mean        17.805011\n",
       "std          6.091051\n",
       "min          0.500000\n",
       "25%         13.597563\n",
       "50%         17.678395\n",
       "75%         21.724800\n",
       "max         40.823963\n",
       "Name: duration, dtype: float64"
      ]
     },
     "execution_count": 17,
     "metadata": {},
     "output_type": "execute_result"
    },
    {
     "data": {
      "image/png": "[encoded data removed]",
      "text/plain": [
       "<Figure size 432x288 with 1 Axes>"
      ]
     },
     "metadata": {
      "needs_background": "light"
     },
     "output_type": "display_data"
    }
   ],
   "source": [
    "ax = rides_go[\"duration\"].plot(kind=\"hist\",title=\"Длительность поездки\", bins=100)\n",
    "ax.set_ylabel(\"Количество поездок\")\n",
    "ax.set_xlabel(\"Длительность, мин\")\n",
    "rides_go[\"duration\"].describe()"
   ]
  },
  {
   "cell_type": "markdown",
   "id": "fcc66c28",
   "metadata": {},
   "source": [
    "\n",
    "<div class=\"alert alert-info\">\n",
    "<b>Обычно поездки длятся 13 - 21 минуту, есть выброс у нуля, наверное пользователи берут самокат по ошибке</b> \n",
    "</div>"
   ]
  },
  {
   "cell_type": "markdown",
   "id": "d90a020d",
   "metadata": {},
   "source": [
    "<div class=\"alert alert-block alert-danger\">\n",
    "<h2> Комментарий ревьюера v1 <a class=\"tocSkip\"></h2>\n",
    "\n",
    "<b>На доработку🤔:</b>  Необходимо добавить подписи осей и заголовков на русском языке"
   ]
  },
  {
   "cell_type": "markdown",
   "id": "49a4a89d",
   "metadata": {},
   "source": [
    "<div class=\"alert alert-block alert-danger\">\n",
    "<h2> Комментарий ревьюера v1 <a class=\"tocSkip\"></h2>\n",
    "\n",
    "<b>На доработку🤔:</b>  Также давай сделаем выводы и для этого рассмотрим метод describe()"
   ]
  },
  {
   "cell_type": "markdown",
   "id": "ade98ba4",
   "metadata": {},
   "source": [
    "<div class=\"alert alert-success\">\n",
    "<h2> Комментарий ревьюера v2 <a class=\"tocSkip\"> </h2>\n",
    "\n",
    "<b>Все супер!👍:</b> Так-то лучше"
   ]
  },
  {
   "cell_type": "markdown",
   "id": "4ef51331",
   "metadata": {},
   "source": [
    "#### Шаг 4. Объединение данных"
   ]
  },
  {
   "cell_type": "code",
   "execution_count": 18,
   "id": "72e860b9",
   "metadata": {},
   "outputs": [
    {
     "data": {
      "text/plain": [
       "(2, 4)"
      ]
     },
     "execution_count": 18,
     "metadata": {},
     "output_type": "execute_result"
    }
   ],
   "source": [
    "subscriptions_go.shape"
   ]
  },
  {
   "cell_type": "code",
   "execution_count": 19,
   "id": "284c7579",
   "metadata": {},
   "outputs": [
    {
     "data": {
      "text/plain": [
       "(18068, 5)"
      ]
     },
     "execution_count": 19,
     "metadata": {},
     "output_type": "execute_result"
    }
   ],
   "source": [
    "rides_go.shape"
   ]
  },
  {
   "cell_type": "code",
   "execution_count": 20,
   "id": "bc0b24c7",
   "metadata": {},
   "outputs": [
    {
     "data": {
      "text/plain": [
       "(1534, 5)"
      ]
     },
     "execution_count": 20,
     "metadata": {},
     "output_type": "execute_result"
    }
   ],
   "source": [
    "users_go.shape"
   ]
  },
  {
   "cell_type": "code",
   "execution_count": 21,
   "id": "6bf288b5",
   "metadata": {
    "scrolled": true
   },
   "outputs": [
    {
     "data": {
      "text/plain": [
       "(18068, 12)"
      ]
     },
     "execution_count": 21,
     "metadata": {},
     "output_type": "execute_result"
    }
   ],
   "source": [
    "data = pd.merge(users_go,rides_go)\n",
    "data = data.merge(subscriptions_go)\n",
    "data.shape"
   ]
  },
  {
   "cell_type": "markdown",
   "id": "8def9aa4",
   "metadata": {},
   "source": [
    "<div class=\"alert alert-block alert-danger\">\n",
    "<h2> Комментарий ревьюера v1 <a class=\"tocSkip\"></h2>\n",
    "\n",
    "<b>На доработку🤔:</b>  Проверим размерность таблиц до и после объединения?"
   ]
  },
  {
   "cell_type": "markdown",
   "id": "ece6b274",
   "metadata": {},
   "source": [
    "<div class=\"alert alert-success\">\n",
    "<h2> Комментарий ревьюера v2 <a class=\"tocSkip\"> </h2>\n",
    "\n",
    "<b>Все супер!👍:</b>Хорошечно "
   ]
  },
  {
   "cell_type": "code",
   "execution_count": 22,
   "id": "e74d8989",
   "metadata": {},
   "outputs": [],
   "source": [
    "free_users = data.query(\"subscription_type == 'free'\")\n",
    "ultra_users = data.query(\"subscription_type == 'ultra'\")\n"
   ]
  },
  {
   "cell_type": "markdown",
   "id": "3fd98dfb",
   "metadata": {},
   "source": [
    "<div class=\"alert alert-success\">\n",
    "<h2> Комментарий ревьюера v1 <a class=\"tocSkip\"> </h2>\n",
    "\n",
    "<b>Все супер!👍:</b> Хорошо) "
   ]
  },
  {
   "cell_type": "code",
   "execution_count": 23,
   "id": "683b0111",
   "metadata": {},
   "outputs": [
    {
     "data": {
      "text/plain": [
       "<matplotlib.legend.Legend at 0x7f67a3e9adc0>"
      ]
     },
     "execution_count": 23,
     "metadata": {},
     "output_type": "execute_result"
    },
    {
     "data": {
      "image/png": "[encoded data removed]",
      "text/plain": [
       "<Figure size 432x288 with 1 Axes>"
      ]
     },
     "metadata": {
      "needs_background": "light"
     },
     "output_type": "display_data"
    },
    {
     "data": {
      "image/png": "[encoded data removed]",
      "text/plain": [
       "<Figure size 432x288 with 1 Axes>"
      ]
     },
     "metadata": {
      "needs_background": "light"
     },
     "output_type": "display_data"
    }
   ],
   "source": [
    "ax = ultra_users.plot(kind=\"kde\",y=\"distance\",title = \"Расстояние поездок\")\n",
    "free_users.plot(ax=ax,kind=\"kde\",y=\"distance\")\n",
    "ax.legend([\"Ultra\",\"Без подписки\"])\n",
    "ax.set_ylabel(\"Плотность\")\n",
    "ax.set_xlabel(\"Дистанция, м\")\n",
    "ax = ultra_users.plot(kind=\"kde\",y=\"duration\",title = \"Длительность поездок\")\n",
    "free_users.plot(ax=ax,kind=\"kde\",y=\"duration\")\n",
    "ax.set_ylabel(\"Плотность\")\n",
    "ax.set_xlabel(\"Длительность, мин\")\n",
    "ax.legend([\"Ultra\",\"Без подписки\"])"
   ]
  },
  {
   "cell_type": "markdown",
   "id": "633305e1",
   "metadata": {},
   "source": [
    "\n",
    "<div class=\"alert alert-info\">\n",
    "<b>Пользователи без подписок ездят меньше и по времени и по расстоянию</b> \n",
    "</div>"
   ]
  },
  {
   "cell_type": "markdown",
   "id": "25140ac0",
   "metadata": {},
   "source": [
    "<div class=\"alert alert-block alert-danger\">\n",
    "<h2> Комментарий ревьюера v1 <a class=\"tocSkip\"></h2>\n",
    "\n",
    "<b>На доработку🤔:</b>  Супер, что совместил графики, только давай доработаем оформление и сделаем вывод \n",
    "    "
   ]
  },
  {
   "cell_type": "markdown",
   "id": "c258e5b4",
   "metadata": {},
   "source": [
    "<div class=\"alert alert-success\">\n",
    "<h2> Комментарий ревьюера v2 <a class=\"tocSkip\"> </h2>\n",
    "\n",
    "<b>Все супер!👍:</b> Молодец, хорошая работа!"
   ]
  },
  {
   "cell_type": "markdown",
   "id": "402d620f",
   "metadata": {},
   "source": [
    "#### Шаг 5. Подсчёт выручки"
   ]
  },
  {
   "cell_type": "markdown",
   "id": "4577282c",
   "metadata": {},
   "source": [
    "<div class=\"alert alert-warning\">\n",
    "    <h2> Комментарий ревьюера v1<a class=\"tocSkip\"> </h2>\n",
    "    \n",
    "<b>Небольшие замечания и рекомендации💡:</b> Упс, появились предпреждения. Для борьбы с ними могу посоветовать такой прием (импорт ставь в самом начале):\n",
    "    \n",
    "    import warnings\n",
    "\n",
    "    warnings.filterwarnings(\"ignore\")"
   ]
  },
  {
   "cell_type": "code",
   "execution_count": 24,
   "id": "53049e0a",
   "metadata": {},
   "outputs": [
    {
     "data": {
      "text/html": [
       "<div>\n",
       "<style scoped>\n",
       "    .dataframe tbody tr th:only-of-type {\n",
       "        vertical-align: middle;\n",
       "    }\n",
       "\n",
       "    .dataframe tbody tr th {\n",
       "        vertical-align: top;\n",
       "    }\n",
       "\n",
       "    .dataframe thead th {\n",
       "        text-align: right;\n",
       "    }\n",
       "</style>\n",
       "<table border=\"1\" class=\"dataframe\">\n",
       "  <thead>\n",
       "    <tr style=\"text-align: right;\">\n",
       "      <th></th>\n",
       "      <th>user_id</th>\n",
       "      <th>name</th>\n",
       "      <th>age</th>\n",
       "      <th>city</th>\n",
       "      <th>subscription_type</th>\n",
       "      <th>distance</th>\n",
       "      <th>duration</th>\n",
       "      <th>date</th>\n",
       "      <th>month</th>\n",
       "      <th>minute_price</th>\n",
       "      <th>start_ride_price</th>\n",
       "      <th>subscription_fee</th>\n",
       "      <th>amount</th>\n",
       "      <th>profit</th>\n",
       "    </tr>\n",
       "    <tr>\n",
       "      <th>user_id</th>\n",
       "      <th></th>\n",
       "      <th></th>\n",
       "      <th></th>\n",
       "      <th></th>\n",
       "      <th></th>\n",
       "      <th></th>\n",
       "      <th></th>\n",
       "      <th></th>\n",
       "      <th></th>\n",
       "      <th></th>\n",
       "      <th></th>\n",
       "      <th></th>\n",
       "      <th></th>\n",
       "      <th></th>\n",
       "    </tr>\n",
       "  </thead>\n",
       "  <tbody>\n",
       "    <tr>\n",
       "      <th>1</th>\n",
       "      <td>1</td>\n",
       "      <td>Кира</td>\n",
       "      <td>22</td>\n",
       "      <td>Тюмень</td>\n",
       "      <td>ultra</td>\n",
       "      <td>34070.182066</td>\n",
       "      <td>205.0</td>\n",
       "      <td>2021-01-01</td>\n",
       "      <td>1</td>\n",
       "      <td>6</td>\n",
       "      <td>0</td>\n",
       "      <td>199</td>\n",
       "      <td>12</td>\n",
       "      <td>1429.0</td>\n",
       "    </tr>\n",
       "    <tr>\n",
       "      <th>2</th>\n",
       "      <td>2</td>\n",
       "      <td>Станислав</td>\n",
       "      <td>31</td>\n",
       "      <td>Омск</td>\n",
       "      <td>ultra</td>\n",
       "      <td>33964.058614</td>\n",
       "      <td>198.0</td>\n",
       "      <td>2021-03-15</td>\n",
       "      <td>3</td>\n",
       "      <td>6</td>\n",
       "      <td>0</td>\n",
       "      <td>199</td>\n",
       "      <td>11</td>\n",
       "      <td>1387.0</td>\n",
       "    </tr>\n",
       "    <tr>\n",
       "      <th>3</th>\n",
       "      <td>3</td>\n",
       "      <td>Алексей</td>\n",
       "      <td>20</td>\n",
       "      <td>Москва</td>\n",
       "      <td>ultra</td>\n",
       "      <td>36907.597866</td>\n",
       "      <td>234.0</td>\n",
       "      <td>2021-01-31</td>\n",
       "      <td>1</td>\n",
       "      <td>6</td>\n",
       "      <td>0</td>\n",
       "      <td>199</td>\n",
       "      <td>12</td>\n",
       "      <td>1603.0</td>\n",
       "    </tr>\n",
       "    <tr>\n",
       "      <th>4</th>\n",
       "      <td>4</td>\n",
       "      <td>Константин</td>\n",
       "      <td>26</td>\n",
       "      <td>Ростов-на-Дону</td>\n",
       "      <td>ultra</td>\n",
       "      <td>44837.189916</td>\n",
       "      <td>289.0</td>\n",
       "      <td>2021-02-10</td>\n",
       "      <td>2</td>\n",
       "      <td>6</td>\n",
       "      <td>0</td>\n",
       "      <td>199</td>\n",
       "      <td>14</td>\n",
       "      <td>1933.0</td>\n",
       "    </tr>\n",
       "    <tr>\n",
       "      <th>5</th>\n",
       "      <td>5</td>\n",
       "      <td>Адель</td>\n",
       "      <td>28</td>\n",
       "      <td>Омск</td>\n",
       "      <td>ultra</td>\n",
       "      <td>35556.949649</td>\n",
       "      <td>175.0</td>\n",
       "      <td>2021-01-18</td>\n",
       "      <td>1</td>\n",
       "      <td>6</td>\n",
       "      <td>0</td>\n",
       "      <td>199</td>\n",
       "      <td>11</td>\n",
       "      <td>1249.0</td>\n",
       "    </tr>\n",
       "    <tr>\n",
       "      <th>...</th>\n",
       "      <td>...</td>\n",
       "      <td>...</td>\n",
       "      <td>...</td>\n",
       "      <td>...</td>\n",
       "      <td>...</td>\n",
       "      <td>...</td>\n",
       "      <td>...</td>\n",
       "      <td>...</td>\n",
       "      <td>...</td>\n",
       "      <td>...</td>\n",
       "      <td>...</td>\n",
       "      <td>...</td>\n",
       "      <td>...</td>\n",
       "      <td>...</td>\n",
       "    </tr>\n",
       "    <tr>\n",
       "      <th>1530</th>\n",
       "      <td>1530</td>\n",
       "      <td>Ростислав</td>\n",
       "      <td>29</td>\n",
       "      <td>Сочи</td>\n",
       "      <td>free</td>\n",
       "      <td>46758.469822</td>\n",
       "      <td>293.0</td>\n",
       "      <td>2021-01-10</td>\n",
       "      <td>1</td>\n",
       "      <td>8</td>\n",
       "      <td>50</td>\n",
       "      <td>0</td>\n",
       "      <td>17</td>\n",
       "      <td>3194.0</td>\n",
       "    </tr>\n",
       "    <tr>\n",
       "      <th>1531</th>\n",
       "      <td>1531</td>\n",
       "      <td>Никита</td>\n",
       "      <td>25</td>\n",
       "      <td>Пятигорск</td>\n",
       "      <td>free</td>\n",
       "      <td>67054.794222</td>\n",
       "      <td>409.0</td>\n",
       "      <td>2021-01-03</td>\n",
       "      <td>1</td>\n",
       "      <td>8</td>\n",
       "      <td>50</td>\n",
       "      <td>0</td>\n",
       "      <td>23</td>\n",
       "      <td>4422.0</td>\n",
       "    </tr>\n",
       "    <tr>\n",
       "      <th>1532</th>\n",
       "      <td>1532</td>\n",
       "      <td>Алексей</td>\n",
       "      <td>26</td>\n",
       "      <td>Тюмень</td>\n",
       "      <td>free</td>\n",
       "      <td>33902.203192</td>\n",
       "      <td>213.0</td>\n",
       "      <td>2021-01-06</td>\n",
       "      <td>1</td>\n",
       "      <td>8</td>\n",
       "      <td>50</td>\n",
       "      <td>0</td>\n",
       "      <td>13</td>\n",
       "      <td>2354.0</td>\n",
       "    </tr>\n",
       "    <tr>\n",
       "      <th>1533</th>\n",
       "      <td>1533</td>\n",
       "      <td>Степан</td>\n",
       "      <td>22</td>\n",
       "      <td>Краснодар</td>\n",
       "      <td>free</td>\n",
       "      <td>36890.192211</td>\n",
       "      <td>241.0</td>\n",
       "      <td>2021-01-07</td>\n",
       "      <td>1</td>\n",
       "      <td>8</td>\n",
       "      <td>50</td>\n",
       "      <td>0</td>\n",
       "      <td>13</td>\n",
       "      <td>2578.0</td>\n",
       "    </tr>\n",
       "    <tr>\n",
       "      <th>1534</th>\n",
       "      <td>1534</td>\n",
       "      <td>Альберт</td>\n",
       "      <td>25</td>\n",
       "      <td>Краснодар</td>\n",
       "      <td>free</td>\n",
       "      <td>41898.442847</td>\n",
       "      <td>230.0</td>\n",
       "      <td>2021-01-20</td>\n",
       "      <td>1</td>\n",
       "      <td>8</td>\n",
       "      <td>50</td>\n",
       "      <td>0</td>\n",
       "      <td>13</td>\n",
       "      <td>2490.0</td>\n",
       "    </tr>\n",
       "  </tbody>\n",
       "</table>\n",
       "<p>1534 rows × 14 columns</p>\n",
       "</div>"
      ],
      "text/plain": [
       "         user_id        name  age            city subscription_type  \\\n",
       "user_id                                                               \n",
       "1              1        Кира   22          Тюмень             ultra   \n",
       "2              2   Станислав   31            Омск             ultra   \n",
       "3              3     Алексей   20          Москва             ultra   \n",
       "4              4  Константин   26  Ростов-на-Дону             ultra   \n",
       "5              5       Адель   28            Омск             ultra   \n",
       "...          ...         ...  ...             ...               ...   \n",
       "1530        1530   Ростислав   29            Сочи              free   \n",
       "1531        1531      Никита   25       Пятигорск              free   \n",
       "1532        1532     Алексей   26          Тюмень              free   \n",
       "1533        1533      Степан   22       Краснодар              free   \n",
       "1534        1534     Альберт   25       Краснодар              free   \n",
       "\n",
       "             distance  duration       date  month  minute_price  \\\n",
       "user_id                                                           \n",
       "1        34070.182066     205.0 2021-01-01      1             6   \n",
       "2        33964.058614     198.0 2021-03-15      3             6   \n",
       "3        36907.597866     234.0 2021-01-31      1             6   \n",
       "4        44837.189916     289.0 2021-02-10      2             6   \n",
       "5        35556.949649     175.0 2021-01-18      1             6   \n",
       "...               ...       ...        ...    ...           ...   \n",
       "1530     46758.469822     293.0 2021-01-10      1             8   \n",
       "1531     67054.794222     409.0 2021-01-03      1             8   \n",
       "1532     33902.203192     213.0 2021-01-06      1             8   \n",
       "1533     36890.192211     241.0 2021-01-07      1             8   \n",
       "1534     41898.442847     230.0 2021-01-20      1             8   \n",
       "\n",
       "         start_ride_price  subscription_fee  amount  profit  \n",
       "user_id                                                      \n",
       "1                       0               199      12  1429.0  \n",
       "2                       0               199      11  1387.0  \n",
       "3                       0               199      12  1603.0  \n",
       "4                       0               199      14  1933.0  \n",
       "5                       0               199      11  1249.0  \n",
       "...                   ...               ...     ...     ...  \n",
       "1530                   50                 0      17  3194.0  \n",
       "1531                   50                 0      23  4422.0  \n",
       "1532                   50                 0      13  2354.0  \n",
       "1533                   50                 0      13  2578.0  \n",
       "1534                   50                 0      13  2490.0  \n",
       "\n",
       "[1534 rows x 14 columns]"
      ]
     },
     "execution_count": 24,
     "metadata": {},
     "output_type": "execute_result"
    }
   ],
   "source": [
    "agr = pd.DataFrame()\n",
    "warnings.filterwarnings(\"ignore\")\n",
    "agr = data.drop_duplicates(subset=\"user_id\",ignore_index = True)\n",
    "agr.index = agr[\"user_id\"]\n",
    "agr[\"distance\"] = data.groupby(\"user_id\")[\"distance\"].sum()\n",
    "agr[\"duration\"] = data.groupby(\"user_id\")[\"duration\"].sum()\n",
    "agr[\"amount\"] =  data.groupby(\"user_id\")[\"duration\"].count()\n",
    "\n",
    "agr['duration'] = np.ceil(agr['duration']) \n",
    "agr[\"profit\"] = (agr[\"start_ride_price\"] * agr[\"amount\"]) + agr[\"duration\"] * agr[\"minute_price\"] + agr[\"subscription_fee\"]\n",
    "agr"
   ]
  },
  {
   "cell_type": "markdown",
   "id": "680bfb9a",
   "metadata": {},
   "source": [
    "<div class=\"alert alert-success\">\n",
    "<h2> Комментарий ревьюера v1 <a class=\"tocSkip\"> </h2>\n",
    "\n",
    "<b>Все супер!👍:</b> Хорошо) "
   ]
  },
  {
   "cell_type": "markdown",
   "id": "41545ac0",
   "metadata": {},
   "source": [
    "#### Шаг 6. Проверка гипотез"
   ]
  },
  {
   "cell_type": "markdown",
   "id": "7495ca9d",
   "metadata": {},
   "source": [
    "<div class=\"alert alert-info\">\n",
    "<b>Нулевая: Пользователи с подпиской трятят столько же времени на поездки сколько и пользователи без подписки. Если да, то они \"выгоднее\"\n",
    "   Альтернативная:Пользователи с подпиской трятят больше времени на поездки </b> \n",
    "</div>"
   ]
  },
  {
   "cell_type": "code",
   "execution_count": 25,
   "id": "23ea867b",
   "metadata": {},
   "outputs": [
    {
     "name": "stdout",
     "output_type": "stream",
     "text": [
      "Пользователи с подпиской выгоднее\n"
     ]
    }
   ],
   "source": [
    "\n",
    "if data.loc[data[\"subscription_type\"] == \"free\",\"duration\"].mean() < data.loc[data[\"subscription_type\"] == \"ultra\",\"duration\"].mean():\n",
    "    print(\"Пользователи с подпиской выгоднее\")"
   ]
  },
  {
   "cell_type": "markdown",
   "id": "37c1eeb3",
   "metadata": {},
   "source": [
    "<div class=\"alert alert-info\">\n",
    "<b>Нулевая гипотеза не подтвердилась, Пользователи с подпиской трятят больше времени на поездки Нужно убеждать пользователей покупать подписку</b> \n",
    "</div>"
   ]
  },
  {
   "cell_type": "markdown",
   "id": "66443248",
   "metadata": {},
   "source": [
    "<div class=\"alert alert-info\">\n",
    "<b>Нулевая: Пользователи с подпиской проезжают 3130 метров\n",
    "    Альтернативная: Пользователи с подпиской проезжают больше 3130 метров </b> \n",
    "</div>"
   ]
  },
  {
   "cell_type": "code",
   "execution_count": 26,
   "id": "cfb962b8",
   "metadata": {},
   "outputs": [
    {
     "name": "stdout",
     "output_type": "stream",
     "text": [
      "p-значение: 0.9195368847849785\n",
      "расстояние, которое проезжают пользователи с подпиской за одну поездку, не превышает 3130 метров\n"
     ]
    }
   ],
   "source": [
    "optimal_distance = 3130\n",
    "\n",
    "alpha = 0.05 # уровень статистической значимости\n",
    "\n",
    "results = st.ttest_1samp(\n",
    "    data.loc[data[\"subscription_type\"] == \"ultra\",\"distance\"], \n",
    "    optimal_distance,\n",
    "      alternative='greater')\n",
    "\n",
    "print('p-значение:', results.pvalue)\n",
    "\n",
    "if (results.pvalue < alpha):\n",
    "    print('Отвергаем нулевую гипотезу')\n",
    "else:\n",
    "    print('расстояние, которое проезжают пользователи с подпиской за одну поездку, не превышает 3130 метров') "
   ]
  },
  {
   "cell_type": "markdown",
   "id": "0de5d4f9",
   "metadata": {},
   "source": [
    "<div class=\"alert alert-info\">\n",
    "<b>Альтернативная гипотеза не подтвердилась Пользователи с подпиской ездят оптимально и не портят самокаты </b> \n",
    "</div>"
   ]
  },
  {
   "cell_type": "markdown",
   "id": "c703b240",
   "metadata": {},
   "source": [
    "<div class=\"alert alert-info\">\n",
    "<b>Нулевая: помесячная выручка от пользователей с подпиской по месяцам равна выручка от пользователей без подписки.\n",
    "    Альтернвтивная: помесячная выручка от пользователей с подпиской по месяцам Меньше, чем выручка от пользователей без подписки.</b> \n",
    "</div>"
   ]
  },
  {
   "cell_type": "code",
   "execution_count": 27,
   "id": "2bf37a4c",
   "metadata": {
    "scrolled": true
   },
   "outputs": [
    {
     "name": "stdout",
     "output_type": "stream",
     "text": [
      "p-значение: 1.371693041919783e-289\n",
      "Отвергаем нулевую гипотезу\n"
     ]
    }
   ],
   "source": [
    "\n",
    "\n",
    "alpha = 0.05 # уровень статистической значимости\n",
    "\n",
    "results = st.ttest_ind(\n",
    "    agr.loc[agr[\"subscription_type\"] == \"ultra\",\"profit\"], \n",
    "     agr.loc[agr[\"subscription_type\"] == \"free\",\"profit\"].iloc[0:6500],\n",
    "      alternative='less')\n",
    "\n",
    "print('p-значение:', results.pvalue)\n",
    "\n",
    "if (results.pvalue < alpha):\n",
    "    print('Отвергаем нулевую гипотезу')\n",
    "else:\n",
    "    print('Пользователи с подпиской выгоднее') "
   ]
  },
  {
   "cell_type": "markdown",
   "id": "1cc77689",
   "metadata": {},
   "source": [
    "<div class=\"alert alert-info\">\n",
    "<b>Отвергаем нулевую гипотезу.  помесячная выручка от пользователей с подпиской по месяцам Меньше Нужно что то менять с подпиской</b> \n",
    "</div>"
   ]
  },
  {
   "cell_type": "markdown",
   "id": "c0923e88",
   "metadata": {},
   "source": [
    "<div class=\"alert alert-block alert-danger\">\n",
    "<h2> Комментарий ревьюера v1 <a class=\"tocSkip\"></h2>\n",
    "\n",
    "<b>На доработку🤔:</b>  Давай для начала сформулируем гипотезы и сделаем выводы по каждой"
   ]
  },
  {
   "cell_type": "markdown",
   "id": "88799630",
   "metadata": {},
   "source": [
    "<div class=\"alert alert-block alert-danger\">\n",
    "<h2> Комментарий ревьюера v2 <a class=\"tocSkip\"></h2>\n",
    "   \n",
    "<b>На доработку🤔:</b> Сформулируем гипотезы стандартным методом? Нулевая/альтернативная?"
   ]
  },
  {
   "cell_type": "markdown",
   "id": "239edac0",
   "metadata": {},
   "source": [
    "<div class=\"alert alert-block alert-danger\">\n",
    "<h2> Комментарий ревьюера v3 <a class=\"tocSkip\"></h2>\n",
    "   \n",
    "<b>На доработку🤔:</b> Помнишь, что нулевая гипотеза всегда о равенстве? А первая наоборот"
   ]
  },
  {
   "cell_type": "markdown",
   "id": "7f3389a4",
   "metadata": {},
   "source": [
    "<div class=\"alert alert-success\">\n",
    "<h2> Комментарий ревьюера v4 <a class=\"tocSkip\"> </h2>\n",
    "\n",
    "<b>Все супер!👍:</b> Исправлено) "
   ]
  },
  {
   "cell_type": "markdown",
   "id": "3afaecf0",
   "metadata": {},
   "source": [
    "Данные зависимы, поэтому поможет Гипотеза о равенстве средних для зависимых (парных) выборок и t тест. В Пайтон это выглядит примерно так:\n",
    "results = st.ttest_rel(before, after)"
   ]
  },
  {
   "cell_type": "markdown",
   "id": "2c35d179",
   "metadata": {},
   "source": [
    "<div class=\"alert alert-success\">\n",
    "<h2> Комментарий ревьюера v1 <a class=\"tocSkip\"> </h2>\n",
    "\n",
    "<b>Все супер!👍:</b> Хорошо"
   ]
  },
  {
   "cell_type": "markdown",
   "id": "61213c5e",
   "metadata": {},
   "source": [
    "#### Шаг 7. Распределения"
   ]
  },
  {
   "cell_type": "markdown",
   "id": "f230c617",
   "metadata": {},
   "source": [
    "<div class=\"alert alert-block alert-danger\">\n",
    "<h2> Комментарий ревьюера v1 <a class=\"tocSkip\"></h2>\n",
    "\n",
    "<b>На доработку🤔:</b>  А вывод по проделанной работе?)"
   ]
  },
  {
   "cell_type": "markdown",
   "id": "3de416fc",
   "metadata": {},
   "source": [
    "<div class=\"alert alert-info\">\n",
    "<b>Вывод: Не Все гипотезы оказались верны, пользователи с подпиской не выгоднее, что-то нужно в ней менять. Зато они никак не портят самокаты. Их много (46%), но все равно есть пользователи, которые могут купить подписку. Пользователи молодые, живут равномерно по всей стране, рекламу подписки стоит направлять на молодую аудиторию, но не только из столицы </b> \n",
    "</div>"
   ]
  },
  {
   "cell_type": "markdown",
   "id": "347d6364",
   "metadata": {},
   "source": [
    "<div class=\"alert alert-warning\">\n",
    "    <h2> Комментарий ревьюера v4 <a class=\"tocSkip\"> </h2>\n",
    "    \n",
    "<b>Небольшие замечания и рекомендации💡:</b> Вывод было бы супер сделать подробнее) "
   ]
  },
  {
   "cell_type": "markdown",
   "id": "16876507",
   "metadata": {},
   "source": [
    "<div style=\"border:solid Chocolate 2px; padding: 40px\">\n",
    "    \n",
    "**Общий вывод по проекту ревьювера**:\n",
    "Евгений, спасибо за  проект! Ты приложил много усилий, чтобы довести его до конца, проделана огромная работа, и это видно невооруженным глазом, ты большой молодец!\n",
    "    \n",
    "**Отмечу положительные моменты**:\n",
    "    \n",
    "    1. Все разложено по полочкам, всегда понятен ход твоих мыслей, приятно смотреть\n",
    "    \n",
    "    2. Отличные визуализации\n",
    "    \n",
    "    3. На разных шагах проекта ты предлагал очень интересные решения и методы для их реализации. Хорошая работа!\n",
    "    \n",
    "    \n",
    "**На что стоит обратить внимание**:\n",
    "    \n",
    "    1. Оформление визуализаций\n",
    "\n",
    "    2. Нет выводов\n",
    "    \n",
    "    \n",
    "**Удачи и жду твой проект на повторное ревью!**"
   ]
  },
  {
   "cell_type": "markdown",
   "id": "cfbadf97",
   "metadata": {},
   "source": [
    "<div style=\"border:solid Chocolate 2px; padding: 40px\">\n",
    "    \n",
    "**Общий вывод по проекту ревьювера v2**:\n",
    "Евгений, продолжаем работу"
   ]
  },
  {
   "cell_type": "markdown",
   "id": "0ba9fb8c",
   "metadata": {},
   "source": [
    "<div style=\"border:solid Chocolate 2px; padding: 40px\">\n",
    "    \n",
    "**Общий вывод по проекту ревьювера v3**:\n",
    "Евгений, пара моментов и проект будет зачтен"
   ]
  },
  {
   "cell_type": "markdown",
   "id": "8773980d",
   "metadata": {},
   "source": [
    "<div style=\"border:solid Chocolate 2px; padding: 40px\">\n",
    "    \n",
    "**Общий вывод по проекту ревьювера v4**:\n",
    "Евгений, ошибки исправлены, проект принят, поздравляю тебя! Успешной учебы и еще увидимся в Практикуме!"
   ]
  },
  {
   "cell_type": "code",
   "execution_count": null,
   "id": "5e738f28",
   "metadata": {},
   "outputs": [],
   "source": []
  }
 ],
 "metadata": {
  "ExecuteTimeLog": [
   {
    "duration": 48,
    "start_time": "2023-07-11T11:35:32.017Z"
   },
   {
    "duration": 434,
    "start_time": "2023-07-11T11:35:35.201Z"
   },
   {
    "duration": 93,
    "start_time": "2023-07-11T11:35:37.484Z"
   },
   {
    "duration": 86,
    "start_time": "2023-07-13T12:21:47.227Z"
   },
   {
    "duration": 516,
    "start_time": "2023-07-13T12:21:51.114Z"
   },
   {
    "duration": 119,
    "start_time": "2023-07-13T12:21:53.034Z"
   },
   {
    "duration": 116,
    "start_time": "2023-07-13T12:21:55.030Z"
   },
   {
    "duration": 76,
    "start_time": "2023-07-13T12:22:32.498Z"
   },
   {
    "duration": 9,
    "start_time": "2023-07-13T12:30:50.329Z"
   },
   {
    "duration": 25,
    "start_time": "2023-07-13T12:31:07.633Z"
   },
   {
    "duration": 5,
    "start_time": "2023-07-13T12:34:29.941Z"
   },
   {
    "duration": 13,
    "start_time": "2023-07-13T12:34:47.374Z"
   },
   {
    "duration": 14,
    "start_time": "2023-07-13T12:36:11.529Z"
   },
   {
    "duration": 10,
    "start_time": "2023-07-13T12:36:21.023Z"
   },
   {
    "duration": 71,
    "start_time": "2023-07-13T12:36:35.771Z"
   },
   {
    "duration": 10,
    "start_time": "2023-07-13T12:36:45.145Z"
   },
   {
    "duration": 45,
    "start_time": "2023-07-13T12:36:50.526Z"
   },
   {
    "duration": 11,
    "start_time": "2023-07-13T12:37:01.149Z"
   },
   {
    "duration": 7,
    "start_time": "2023-07-13T12:37:27.272Z"
   },
   {
    "duration": 15,
    "start_time": "2023-07-13T12:37:55.304Z"
   },
   {
    "duration": 8,
    "start_time": "2023-07-13T12:38:50.232Z"
   },
   {
    "duration": 9,
    "start_time": "2023-07-13T12:47:11.180Z"
   },
   {
    "duration": 9,
    "start_time": "2023-07-13T12:49:11.140Z"
   },
   {
    "duration": 8,
    "start_time": "2023-07-13T12:49:32.149Z"
   },
   {
    "duration": 17,
    "start_time": "2023-07-13T12:51:01.121Z"
   },
   {
    "duration": 8,
    "start_time": "2023-07-13T12:51:26.765Z"
   },
   {
    "duration": 8,
    "start_time": "2023-07-13T12:51:48.212Z"
   },
   {
    "duration": 8,
    "start_time": "2023-07-13T12:52:12.370Z"
   },
   {
    "duration": 11,
    "start_time": "2023-07-13T12:52:57.321Z"
   },
   {
    "duration": 50,
    "start_time": "2023-07-14T00:36:01.067Z"
   },
   {
    "duration": 381,
    "start_time": "2023-07-14T00:36:08.802Z"
   },
   {
    "duration": 101,
    "start_time": "2023-07-14T00:36:09.185Z"
   },
   {
    "duration": 154,
    "start_time": "2023-07-14T00:36:09.288Z"
   },
   {
    "duration": 62,
    "start_time": "2023-07-14T00:36:09.444Z"
   },
   {
    "duration": 15,
    "start_time": "2023-07-14T00:36:09.507Z"
   },
   {
    "duration": 11,
    "start_time": "2023-07-14T00:36:09.524Z"
   },
   {
    "duration": 6,
    "start_time": "2023-07-14T00:36:09.536Z"
   },
   {
    "duration": 9,
    "start_time": "2023-07-14T00:36:09.543Z"
   },
   {
    "duration": 13,
    "start_time": "2023-07-14T00:36:09.553Z"
   },
   {
    "duration": 9,
    "start_time": "2023-07-14T00:36:09.568Z"
   },
   {
    "duration": 9,
    "start_time": "2023-07-14T00:36:09.578Z"
   },
   {
    "duration": 72,
    "start_time": "2023-07-14T00:36:09.588Z"
   },
   {
    "duration": 1040,
    "start_time": "2023-07-14T00:36:28.362Z"
   },
   {
    "duration": 12,
    "start_time": "2023-07-14T00:37:00.663Z"
   },
   {
    "duration": 67,
    "start_time": "2023-07-14T00:37:09.725Z"
   },
   {
    "duration": 8,
    "start_time": "2023-07-14T00:37:13.993Z"
   },
   {
    "duration": 524,
    "start_time": "2023-07-14T00:37:22.310Z"
   },
   {
    "duration": 119,
    "start_time": "2023-07-14T00:39:35.407Z"
   },
   {
    "duration": 123,
    "start_time": "2023-07-14T00:39:49.840Z"
   },
   {
    "duration": 122,
    "start_time": "2023-07-14T00:40:05.204Z"
   },
   {
    "duration": 181,
    "start_time": "2023-07-14T00:40:12.634Z"
   },
   {
    "duration": 115,
    "start_time": "2023-07-14T00:40:24.976Z"
   },
   {
    "duration": 24,
    "start_time": "2023-07-14T00:42:12.540Z"
   },
   {
    "duration": 269,
    "start_time": "2023-07-14T00:42:25.703Z"
   },
   {
    "duration": 10,
    "start_time": "2023-07-14T00:44:35.749Z"
   },
   {
    "duration": 272,
    "start_time": "2023-07-14T00:44:44.675Z"
   },
   {
    "duration": 300,
    "start_time": "2023-07-14T00:46:09.472Z"
   },
   {
    "duration": 1053,
    "start_time": "2023-07-14T00:47:21.433Z"
   },
   {
    "duration": 284,
    "start_time": "2023-07-14T00:47:36.784Z"
   },
   {
    "duration": 1245,
    "start_time": "2023-07-14T00:49:24.232Z"
   },
   {
    "duration": 17,
    "start_time": "2023-07-14T00:49:32.474Z"
   },
   {
    "duration": 11,
    "start_time": "2023-07-14T00:49:52.010Z"
   },
   {
    "duration": 14,
    "start_time": "2023-07-14T00:50:11.636Z"
   },
   {
    "duration": 127,
    "start_time": "2023-07-14T00:50:38.466Z"
   },
   {
    "duration": 127,
    "start_time": "2023-07-14T00:51:11.315Z"
   },
   {
    "duration": 577,
    "start_time": "2023-07-14T00:53:03.649Z"
   },
   {
    "duration": 814,
    "start_time": "2023-07-14T00:53:59.805Z"
   },
   {
    "duration": 158,
    "start_time": "2023-07-14T00:54:12.462Z"
   },
   {
    "duration": 9,
    "start_time": "2023-07-14T00:54:53.561Z"
   },
   {
    "duration": 135,
    "start_time": "2023-07-14T00:54:57.701Z"
   },
   {
    "duration": 201,
    "start_time": "2023-07-14T00:55:15.197Z"
   },
   {
    "duration": 167,
    "start_time": "2023-07-14T00:55:51.326Z"
   },
   {
    "duration": 1099,
    "start_time": "2023-07-14T00:58:47.730Z"
   },
   {
    "duration": 577,
    "start_time": "2023-07-14T00:59:53.874Z"
   },
   {
    "duration": 560,
    "start_time": "2023-07-14T00:59:58.565Z"
   },
   {
    "duration": 614,
    "start_time": "2023-07-14T01:02:35.857Z"
   },
   {
    "duration": 571,
    "start_time": "2023-07-14T01:02:46.876Z"
   },
   {
    "duration": 12,
    "start_time": "2023-07-14T01:08:41.818Z"
   },
   {
    "duration": 27,
    "start_time": "2023-07-14T01:08:45.375Z"
   },
   {
    "duration": 43,
    "start_time": "2023-07-14T01:10:15.727Z"
   },
   {
    "duration": 45,
    "start_time": "2023-07-14T01:11:04.148Z"
   },
   {
    "duration": 18,
    "start_time": "2023-07-14T01:11:15.891Z"
   },
   {
    "duration": 45,
    "start_time": "2023-07-14T01:11:19.327Z"
   },
   {
    "duration": 60,
    "start_time": "2023-07-14T01:13:01.311Z"
   },
   {
    "duration": 8,
    "start_time": "2023-07-14T01:13:15.316Z"
   },
   {
    "duration": 7,
    "start_time": "2023-07-14T01:13:28.148Z"
   },
   {
    "duration": 21,
    "start_time": "2023-07-14T01:13:35.116Z"
   },
   {
    "duration": 9,
    "start_time": "2023-07-14T01:14:10.375Z"
   },
   {
    "duration": 141,
    "start_time": "2023-07-14T01:18:36.206Z"
   },
   {
    "duration": 22,
    "start_time": "2023-07-14T01:19:01.398Z"
   },
   {
    "duration": 17,
    "start_time": "2023-07-14T01:20:24.434Z"
   },
   {
    "duration": 12,
    "start_time": "2023-07-14T01:20:40.610Z"
   },
   {
    "duration": 7,
    "start_time": "2023-07-14T01:21:13.385Z"
   },
   {
    "duration": 459,
    "start_time": "2023-07-14T01:21:24.592Z"
   },
   {
    "duration": 12,
    "start_time": "2023-07-14T01:21:46.280Z"
   },
   {
    "duration": 27,
    "start_time": "2023-07-14T01:22:01.198Z"
   },
   {
    "duration": 9,
    "start_time": "2023-07-14T01:22:14.389Z"
   },
   {
    "duration": 17,
    "start_time": "2023-07-14T01:23:11.025Z"
   },
   {
    "duration": 14,
    "start_time": "2023-07-14T01:23:42.738Z"
   },
   {
    "duration": 13,
    "start_time": "2023-07-14T01:24:05.757Z"
   },
   {
    "duration": 232,
    "start_time": "2023-07-14T01:29:29.112Z"
   },
   {
    "duration": 563,
    "start_time": "2023-07-14T01:29:52.076Z"
   },
   {
    "duration": 887,
    "start_time": "2023-07-14T01:31:40.926Z"
   },
   {
    "duration": 644,
    "start_time": "2023-07-14T01:31:58.815Z"
   },
   {
    "duration": 275,
    "start_time": "2023-07-14T01:32:09.858Z"
   },
   {
    "duration": 234,
    "start_time": "2023-07-14T01:32:55.600Z"
   },
   {
    "duration": 440,
    "start_time": "2023-07-14T01:33:30.283Z"
   },
   {
    "duration": 753,
    "start_time": "2023-07-14T01:34:01.398Z"
   },
   {
    "duration": 1156,
    "start_time": "2023-07-14T01:35:51.123Z"
   },
   {
    "duration": 47,
    "start_time": "2023-07-14T11:05:22.436Z"
   },
   {
    "duration": 391,
    "start_time": "2023-07-14T11:05:29.314Z"
   },
   {
    "duration": 96,
    "start_time": "2023-07-14T11:05:29.708Z"
   },
   {
    "duration": 393,
    "start_time": "2023-07-14T11:05:29.806Z"
   },
   {
    "duration": 61,
    "start_time": "2023-07-14T11:05:30.201Z"
   },
   {
    "duration": 17,
    "start_time": "2023-07-14T11:05:30.264Z"
   },
   {
    "duration": 46,
    "start_time": "2023-07-14T11:05:30.283Z"
   },
   {
    "duration": 61,
    "start_time": "2023-07-14T11:05:30.331Z"
   },
   {
    "duration": 32,
    "start_time": "2023-07-14T11:05:30.395Z"
   },
   {
    "duration": 44,
    "start_time": "2023-07-14T11:05:30.429Z"
   },
   {
    "duration": 72,
    "start_time": "2023-07-14T11:05:30.476Z"
   },
   {
    "duration": 51,
    "start_time": "2023-07-14T11:05:30.550Z"
   },
   {
    "duration": 619,
    "start_time": "2023-07-14T11:05:30.602Z"
   },
   {
    "duration": 198,
    "start_time": "2023-07-14T11:05:31.223Z"
   },
   {
    "duration": 181,
    "start_time": "2023-07-14T11:05:31.425Z"
   },
   {
    "duration": 1140,
    "start_time": "2023-07-14T11:05:31.608Z"
   },
   {
    "duration": 37,
    "start_time": "2023-07-14T11:05:32.750Z"
   },
   {
    "duration": 11,
    "start_time": "2023-07-14T11:05:32.789Z"
   },
   {
    "duration": 1089,
    "start_time": "2023-07-14T11:05:32.802Z"
   },
   {
    "duration": 241,
    "start_time": "2023-07-14T11:05:59.179Z"
   },
   {
    "duration": 3,
    "start_time": "2023-07-14T11:13:29.295Z"
   },
   {
    "duration": 4,
    "start_time": "2023-07-14T11:13:34.588Z"
   },
   {
    "duration": 18,
    "start_time": "2023-07-14T11:13:46.281Z"
   },
   {
    "duration": 10,
    "start_time": "2023-07-14T11:15:35.889Z"
   },
   {
    "duration": 11,
    "start_time": "2023-07-14T11:16:02.799Z"
   },
   {
    "duration": 19,
    "start_time": "2023-07-14T11:16:22.683Z"
   },
   {
    "duration": 18,
    "start_time": "2023-07-14T11:16:45.482Z"
   },
   {
    "duration": 373,
    "start_time": "2023-07-14T11:18:36.750Z"
   },
   {
    "duration": 400,
    "start_time": "2023-07-14T11:22:57.138Z"
   },
   {
    "duration": 317,
    "start_time": "2023-07-14T11:23:10.145Z"
   },
   {
    "duration": 323,
    "start_time": "2023-07-14T11:23:26.039Z"
   },
   {
    "duration": 413,
    "start_time": "2023-07-14T11:24:19.295Z"
   },
   {
    "duration": 391,
    "start_time": "2023-07-14T11:24:38.948Z"
   },
   {
    "duration": 449,
    "start_time": "2023-07-14T11:24:53.941Z"
   },
   {
    "duration": 424,
    "start_time": "2023-07-14T11:24:57.882Z"
   },
   {
    "duration": 13,
    "start_time": "2023-07-14T11:25:12.803Z"
   },
   {
    "duration": 392,
    "start_time": "2023-07-14T11:27:42.563Z"
   },
   {
    "duration": 39,
    "start_time": "2023-07-14T11:27:42.957Z"
   },
   {
    "duration": 31,
    "start_time": "2023-07-14T11:27:42.999Z"
   },
   {
    "duration": 22,
    "start_time": "2023-07-14T11:27:43.031Z"
   },
   {
    "duration": 28,
    "start_time": "2023-07-14T11:27:43.056Z"
   },
   {
    "duration": 16,
    "start_time": "2023-07-14T11:27:43.086Z"
   },
   {
    "duration": 8,
    "start_time": "2023-07-14T11:27:43.104Z"
   },
   {
    "duration": 6,
    "start_time": "2023-07-14T11:27:43.114Z"
   },
   {
    "duration": 7,
    "start_time": "2023-07-14T11:27:43.122Z"
   },
   {
    "duration": 14,
    "start_time": "2023-07-14T11:27:43.131Z"
   },
   {
    "duration": 29,
    "start_time": "2023-07-14T11:27:43.146Z"
   },
   {
    "duration": 360,
    "start_time": "2023-07-14T11:27:43.177Z"
   },
   {
    "duration": 163,
    "start_time": "2023-07-14T11:27:43.539Z"
   },
   {
    "duration": 271,
    "start_time": "2023-07-14T11:27:43.705Z"
   },
   {
    "duration": 1060,
    "start_time": "2023-07-14T11:27:43.979Z"
   },
   {
    "duration": 56,
    "start_time": "2023-07-14T11:27:45.041Z"
   },
   {
    "duration": 13,
    "start_time": "2023-07-14T11:27:45.099Z"
   },
   {
    "duration": 1177,
    "start_time": "2023-07-14T11:27:45.114Z"
   },
   {
    "duration": 22,
    "start_time": "2023-07-14T11:27:46.293Z"
   },
   {
    "duration": 30,
    "start_time": "2023-07-14T11:29:35.161Z"
   },
   {
    "duration": 144,
    "start_time": "2023-07-14T11:31:32.204Z"
   },
   {
    "duration": 1230,
    "start_time": "2023-07-14T11:32:07.072Z"
   },
   {
    "duration": 31,
    "start_time": "2023-07-14T11:33:14.231Z"
   },
   {
    "duration": 1054,
    "start_time": "2023-07-14T11:36:35.368Z"
   },
   {
    "duration": 21,
    "start_time": "2023-07-14T11:37:28.332Z"
   },
   {
    "duration": 19,
    "start_time": "2023-07-14T11:37:48.469Z"
   },
   {
    "duration": 19,
    "start_time": "2023-07-14T11:38:18.970Z"
   },
   {
    "duration": 28,
    "start_time": "2023-07-14T11:38:45.904Z"
   },
   {
    "duration": 14,
    "start_time": "2023-07-14T11:39:24.774Z"
   },
   {
    "duration": 9,
    "start_time": "2023-07-14T11:39:44.359Z"
   },
   {
    "duration": 13,
    "start_time": "2023-07-14T11:39:56.622Z"
   },
   {
    "duration": 29,
    "start_time": "2023-07-14T11:41:38.113Z"
   },
   {
    "duration": 24,
    "start_time": "2023-07-14T11:42:23.928Z"
   },
   {
    "duration": 28,
    "start_time": "2023-07-14T11:43:00.122Z"
   },
   {
    "duration": 32,
    "start_time": "2023-07-14T11:43:05.860Z"
   },
   {
    "duration": 36,
    "start_time": "2023-07-14T11:43:20.179Z"
   },
   {
    "duration": 31,
    "start_time": "2023-07-14T11:44:58.650Z"
   },
   {
    "duration": 32,
    "start_time": "2023-07-14T11:45:30.030Z"
   },
   {
    "duration": 840,
    "start_time": "2023-07-14T12:35:55.477Z"
   },
   {
    "duration": 39,
    "start_time": "2023-07-14T12:35:56.319Z"
   },
   {
    "duration": 33,
    "start_time": "2023-07-14T12:35:56.360Z"
   },
   {
    "duration": 20,
    "start_time": "2023-07-14T12:35:56.394Z"
   },
   {
    "duration": 16,
    "start_time": "2023-07-14T12:35:56.416Z"
   },
   {
    "duration": 16,
    "start_time": "2023-07-14T12:35:56.434Z"
   },
   {
    "duration": 17,
    "start_time": "2023-07-14T12:35:56.452Z"
   },
   {
    "duration": 18,
    "start_time": "2023-07-14T12:35:56.470Z"
   },
   {
    "duration": 14,
    "start_time": "2023-07-14T12:35:56.490Z"
   },
   {
    "duration": 13,
    "start_time": "2023-07-14T12:35:56.506Z"
   },
   {
    "duration": 18,
    "start_time": "2023-07-14T12:35:56.522Z"
   },
   {
    "duration": 386,
    "start_time": "2023-07-14T12:35:56.541Z"
   },
   {
    "duration": 182,
    "start_time": "2023-07-14T12:35:56.929Z"
   },
   {
    "duration": 269,
    "start_time": "2023-07-14T12:35:57.113Z"
   },
   {
    "duration": 546,
    "start_time": "2023-07-14T12:35:57.383Z"
   },
   {
    "duration": 39,
    "start_time": "2023-07-14T12:35:57.930Z"
   },
   {
    "duration": 12,
    "start_time": "2023-07-14T12:35:57.971Z"
   },
   {
    "duration": 1068,
    "start_time": "2023-07-14T12:35:57.984Z"
   },
   {
    "duration": 38,
    "start_time": "2023-07-14T12:35:59.055Z"
   },
   {
    "duration": 9,
    "start_time": "2023-07-14T12:40:10.357Z"
   },
   {
    "duration": 1101,
    "start_time": "2023-07-14T12:40:46.469Z"
   },
   {
    "duration": 8,
    "start_time": "2023-07-14T12:41:10.040Z"
   },
   {
    "duration": 6,
    "start_time": "2023-07-14T12:41:55.394Z"
   },
   {
    "duration": 8,
    "start_time": "2023-07-14T12:42:07.086Z"
   },
   {
    "duration": 63,
    "start_time": "2023-07-14T12:43:08.961Z"
   },
   {
    "duration": 12,
    "start_time": "2023-07-14T12:43:13.878Z"
   },
   {
    "duration": 9,
    "start_time": "2023-07-14T12:43:24.465Z"
   },
   {
    "duration": 10,
    "start_time": "2023-07-14T12:43:35.531Z"
   },
   {
    "duration": 8,
    "start_time": "2023-07-14T12:43:40.715Z"
   },
   {
    "duration": 11,
    "start_time": "2023-07-14T12:43:58.481Z"
   },
   {
    "duration": 7,
    "start_time": "2023-07-14T12:48:15.571Z"
   },
   {
    "duration": 8,
    "start_time": "2023-07-14T12:48:27.609Z"
   },
   {
    "duration": 8,
    "start_time": "2023-07-14T12:49:30.246Z"
   },
   {
    "duration": 9,
    "start_time": "2023-07-14T12:54:35.747Z"
   },
   {
    "duration": 8,
    "start_time": "2023-07-14T12:55:37.585Z"
   },
   {
    "duration": 1216,
    "start_time": "2023-07-14T14:21:31.200Z"
   },
   {
    "duration": 9,
    "start_time": "2023-07-14T14:22:06.249Z"
   },
   {
    "duration": 7,
    "start_time": "2023-07-14T14:22:25.225Z"
   },
   {
    "duration": 8,
    "start_time": "2023-07-14T14:22:38.556Z"
   },
   {
    "duration": 9,
    "start_time": "2023-07-14T14:22:53.347Z"
   },
   {
    "duration": 8,
    "start_time": "2023-07-14T14:23:17.662Z"
   },
   {
    "duration": 890,
    "start_time": "2023-07-14T14:39:04.768Z"
   },
   {
    "duration": 89,
    "start_time": "2023-07-14T14:39:05.660Z"
   },
   {
    "duration": 76,
    "start_time": "2023-07-14T14:39:05.751Z"
   },
   {
    "duration": 60,
    "start_time": "2023-07-14T14:39:05.829Z"
   },
   {
    "duration": 17,
    "start_time": "2023-07-14T14:39:05.891Z"
   },
   {
    "duration": 41,
    "start_time": "2023-07-14T14:39:05.910Z"
   },
   {
    "duration": 35,
    "start_time": "2023-07-14T14:39:05.953Z"
   },
   {
    "duration": 41,
    "start_time": "2023-07-14T14:39:05.990Z"
   },
   {
    "duration": 41,
    "start_time": "2023-07-14T14:39:06.033Z"
   },
   {
    "duration": 45,
    "start_time": "2023-07-14T14:39:06.077Z"
   },
   {
    "duration": 33,
    "start_time": "2023-07-14T14:39:06.124Z"
   },
   {
    "duration": 622,
    "start_time": "2023-07-14T14:39:06.158Z"
   },
   {
    "duration": 184,
    "start_time": "2023-07-14T14:39:06.782Z"
   },
   {
    "duration": 274,
    "start_time": "2023-07-14T14:39:06.968Z"
   },
   {
    "duration": 638,
    "start_time": "2023-07-14T14:39:07.245Z"
   },
   {
    "duration": 39,
    "start_time": "2023-07-14T14:39:07.884Z"
   },
   {
    "duration": 12,
    "start_time": "2023-07-14T14:39:07.925Z"
   },
   {
    "duration": 1271,
    "start_time": "2023-07-14T14:39:07.938Z"
   },
   {
    "duration": 35,
    "start_time": "2023-07-14T14:39:09.211Z"
   },
   {
    "duration": 9,
    "start_time": "2023-07-14T14:39:09.248Z"
   },
   {
    "duration": 42,
    "start_time": "2023-07-14T14:39:09.259Z"
   },
   {
    "duration": 35,
    "start_time": "2023-07-14T14:39:09.303Z"
   },
   {
    "duration": 51,
    "start_time": "2023-07-15T13:11:55.164Z"
   },
   {
    "duration": 821,
    "start_time": "2023-07-15T13:12:04.107Z"
   },
   {
    "duration": 84,
    "start_time": "2023-07-15T13:12:04.930Z"
   },
   {
    "duration": 69,
    "start_time": "2023-07-15T13:12:05.016Z"
   },
   {
    "duration": 140,
    "start_time": "2023-07-15T13:12:05.087Z"
   },
   {
    "duration": 0,
    "start_time": "2023-07-15T13:12:05.229Z"
   },
   {
    "duration": 0,
    "start_time": "2023-07-15T13:12:05.230Z"
   },
   {
    "duration": 0,
    "start_time": "2023-07-15T13:12:05.231Z"
   },
   {
    "duration": 0,
    "start_time": "2023-07-15T13:12:05.232Z"
   },
   {
    "duration": 0,
    "start_time": "2023-07-15T13:12:05.233Z"
   },
   {
    "duration": 0,
    "start_time": "2023-07-15T13:12:05.234Z"
   },
   {
    "duration": 0,
    "start_time": "2023-07-15T13:12:05.235Z"
   },
   {
    "duration": 0,
    "start_time": "2023-07-15T13:12:05.236Z"
   },
   {
    "duration": 0,
    "start_time": "2023-07-15T13:12:05.237Z"
   },
   {
    "duration": 0,
    "start_time": "2023-07-15T13:12:05.238Z"
   },
   {
    "duration": 0,
    "start_time": "2023-07-15T13:12:05.239Z"
   },
   {
    "duration": 0,
    "start_time": "2023-07-15T13:12:05.241Z"
   },
   {
    "duration": 0,
    "start_time": "2023-07-15T13:12:05.241Z"
   },
   {
    "duration": 0,
    "start_time": "2023-07-15T13:12:05.243Z"
   },
   {
    "duration": 0,
    "start_time": "2023-07-15T13:12:05.244Z"
   },
   {
    "duration": 0,
    "start_time": "2023-07-15T13:12:05.244Z"
   },
   {
    "duration": 0,
    "start_time": "2023-07-15T13:12:05.246Z"
   },
   {
    "duration": 0,
    "start_time": "2023-07-15T13:12:05.247Z"
   },
   {
    "duration": 35,
    "start_time": "2023-07-15T13:12:25.488Z"
   },
   {
    "duration": 46,
    "start_time": "2023-07-15T13:12:51.509Z"
   },
   {
    "duration": 41,
    "start_time": "2023-07-15T13:13:20.664Z"
   },
   {
    "duration": 9,
    "start_time": "2023-07-15T13:18:38.336Z"
   },
   {
    "duration": 7,
    "start_time": "2023-07-15T13:18:41.662Z"
   },
   {
    "duration": 5,
    "start_time": "2023-07-15T13:19:06.517Z"
   },
   {
    "duration": 806,
    "start_time": "2023-07-15T13:19:14.911Z"
   },
   {
    "duration": 43,
    "start_time": "2023-07-15T13:19:15.719Z"
   },
   {
    "duration": 37,
    "start_time": "2023-07-15T13:19:15.763Z"
   },
   {
    "duration": 26,
    "start_time": "2023-07-15T13:19:15.802Z"
   },
   {
    "duration": 16,
    "start_time": "2023-07-15T13:19:15.830Z"
   },
   {
    "duration": 11,
    "start_time": "2023-07-15T13:19:15.847Z"
   },
   {
    "duration": 8,
    "start_time": "2023-07-15T13:19:15.860Z"
   },
   {
    "duration": 7,
    "start_time": "2023-07-15T13:19:15.869Z"
   },
   {
    "duration": 14,
    "start_time": "2023-07-15T13:19:15.878Z"
   },
   {
    "duration": 38,
    "start_time": "2023-07-15T13:19:15.893Z"
   },
   {
    "duration": 8,
    "start_time": "2023-07-15T13:19:15.933Z"
   },
   {
    "duration": 11,
    "start_time": "2023-07-15T13:19:15.942Z"
   },
   {
    "duration": 491,
    "start_time": "2023-07-15T13:19:15.955Z"
   },
   {
    "duration": 174,
    "start_time": "2023-07-15T13:19:16.448Z"
   },
   {
    "duration": 227,
    "start_time": "2023-07-15T13:19:16.624Z"
   },
   {
    "duration": 609,
    "start_time": "2023-07-15T13:19:16.852Z"
   },
   {
    "duration": 32,
    "start_time": "2023-07-15T13:19:17.462Z"
   },
   {
    "duration": 24,
    "start_time": "2023-07-15T13:19:17.496Z"
   },
   {
    "duration": 1033,
    "start_time": "2023-07-15T13:19:17.522Z"
   },
   {
    "duration": 28,
    "start_time": "2023-07-15T13:19:18.556Z"
   },
   {
    "duration": 7,
    "start_time": "2023-07-15T13:19:18.586Z"
   },
   {
    "duration": 25,
    "start_time": "2023-07-15T13:19:18.595Z"
   },
   {
    "duration": 10,
    "start_time": "2023-07-15T13:19:18.622Z"
   },
   {
    "duration": 80,
    "start_time": "2023-07-15T13:40:09.876Z"
   },
   {
    "duration": 109,
    "start_time": "2023-07-15T15:12:23.903Z"
   },
   {
    "duration": 208,
    "start_time": "2023-07-15T15:12:41.636Z"
   },
   {
    "duration": 269,
    "start_time": "2023-07-15T15:16:01.223Z"
   },
   {
    "duration": 105,
    "start_time": "2023-07-15T15:16:16.851Z"
   },
   {
    "duration": 126,
    "start_time": "2023-07-15T15:16:33.760Z"
   },
   {
    "duration": 108,
    "start_time": "2023-07-15T15:18:07.893Z"
   },
   {
    "duration": 70,
    "start_time": "2023-07-15T15:18:20.522Z"
   },
   {
    "duration": 78,
    "start_time": "2023-07-15T15:19:12.984Z"
   },
   {
    "duration": 533,
    "start_time": "2023-07-15T15:27:38.044Z"
   },
   {
    "duration": 535,
    "start_time": "2023-07-15T15:28:40.647Z"
   },
   {
    "duration": 121,
    "start_time": "2023-07-15T15:29:22.595Z"
   },
   {
    "duration": 207,
    "start_time": "2023-07-15T15:29:32.096Z"
   },
   {
    "duration": 277,
    "start_time": "2023-07-15T15:30:16.019Z"
   },
   {
    "duration": 216,
    "start_time": "2023-07-15T15:30:38.918Z"
   },
   {
    "duration": 789,
    "start_time": "2023-07-15T15:30:52.037Z"
   },
   {
    "duration": 45,
    "start_time": "2023-07-15T15:30:52.828Z"
   },
   {
    "duration": 38,
    "start_time": "2023-07-15T15:30:52.874Z"
   },
   {
    "duration": 24,
    "start_time": "2023-07-15T15:30:52.914Z"
   },
   {
    "duration": 15,
    "start_time": "2023-07-15T15:30:52.940Z"
   },
   {
    "duration": 18,
    "start_time": "2023-07-15T15:30:52.957Z"
   },
   {
    "duration": 7,
    "start_time": "2023-07-15T15:30:52.977Z"
   },
   {
    "duration": 21,
    "start_time": "2023-07-15T15:30:52.985Z"
   },
   {
    "duration": 9,
    "start_time": "2023-07-15T15:30:53.008Z"
   },
   {
    "duration": 10,
    "start_time": "2023-07-15T15:30:53.020Z"
   },
   {
    "duration": 8,
    "start_time": "2023-07-15T15:30:53.031Z"
   },
   {
    "duration": 17,
    "start_time": "2023-07-15T15:30:53.041Z"
   },
   {
    "duration": 408,
    "start_time": "2023-07-15T15:30:53.060Z"
   },
   {
    "duration": 96,
    "start_time": "2023-07-15T15:30:53.471Z"
   },
   {
    "duration": 167,
    "start_time": "2023-07-15T15:30:53.568Z"
   },
   {
    "duration": 238,
    "start_time": "2023-07-15T15:30:53.736Z"
   },
   {
    "duration": 236,
    "start_time": "2023-07-15T15:30:53.976Z"
   },
   {
    "duration": 33,
    "start_time": "2023-07-15T15:30:54.214Z"
   },
   {
    "duration": 11,
    "start_time": "2023-07-15T15:30:54.249Z"
   },
   {
    "duration": 1209,
    "start_time": "2023-07-15T15:30:54.262Z"
   },
   {
    "duration": 34,
    "start_time": "2023-07-15T15:30:55.472Z"
   },
   {
    "duration": 9,
    "start_time": "2023-07-15T15:30:55.521Z"
   },
   {
    "duration": 39,
    "start_time": "2023-07-15T15:30:55.531Z"
   },
   {
    "duration": 45,
    "start_time": "2023-07-15T15:30:55.572Z"
   },
   {
    "duration": 212,
    "start_time": "2023-07-15T15:32:28.459Z"
   },
   {
    "duration": 260,
    "start_time": "2023-07-15T15:32:42.095Z"
   },
   {
    "duration": 208,
    "start_time": "2023-07-15T15:33:55.981Z"
   },
   {
    "duration": 212,
    "start_time": "2023-07-15T15:34:15.247Z"
   },
   {
    "duration": 215,
    "start_time": "2023-07-15T15:34:21.206Z"
   },
   {
    "duration": 215,
    "start_time": "2023-07-15T15:34:54.307Z"
   },
   {
    "duration": 318,
    "start_time": "2023-07-15T15:35:28.751Z"
   },
   {
    "duration": 141,
    "start_time": "2023-07-15T15:35:42.456Z"
   },
   {
    "duration": 143,
    "start_time": "2023-07-15T15:35:49.392Z"
   },
   {
    "duration": 237,
    "start_time": "2023-07-15T15:37:08.019Z"
   },
   {
    "duration": 147,
    "start_time": "2023-07-15T15:37:34.774Z"
   },
   {
    "duration": 141,
    "start_time": "2023-07-15T15:38:14.260Z"
   },
   {
    "duration": 148,
    "start_time": "2023-07-15T15:40:06.354Z"
   },
   {
    "duration": 238,
    "start_time": "2023-07-15T15:45:27.796Z"
   },
   {
    "duration": 207,
    "start_time": "2023-07-15T15:58:54.551Z"
   },
   {
    "duration": 19,
    "start_time": "2023-07-15T16:08:49.840Z"
   },
   {
    "duration": 16,
    "start_time": "2023-07-15T16:09:21.289Z"
   },
   {
    "duration": 4,
    "start_time": "2023-07-15T16:09:45.062Z"
   },
   {
    "duration": 3,
    "start_time": "2023-07-15T16:09:56.142Z"
   },
   {
    "duration": 4,
    "start_time": "2023-07-15T16:10:17.786Z"
   },
   {
    "duration": 4,
    "start_time": "2023-07-15T16:11:01.422Z"
   },
   {
    "duration": 3,
    "start_time": "2023-07-15T16:11:09.461Z"
   },
   {
    "duration": 15,
    "start_time": "2023-07-15T16:11:13.882Z"
   },
   {
    "duration": 3,
    "start_time": "2023-07-15T16:11:16.812Z"
   },
   {
    "duration": 2,
    "start_time": "2023-07-15T16:13:06.317Z"
   },
   {
    "duration": 3,
    "start_time": "2023-07-15T16:13:10.602Z"
   },
   {
    "duration": 802,
    "start_time": "2023-07-15T16:13:15.719Z"
   },
   {
    "duration": 44,
    "start_time": "2023-07-15T16:13:16.522Z"
   },
   {
    "duration": 36,
    "start_time": "2023-07-15T16:13:16.568Z"
   },
   {
    "duration": 24,
    "start_time": "2023-07-15T16:13:16.607Z"
   },
   {
    "duration": 12,
    "start_time": "2023-07-15T16:13:16.632Z"
   },
   {
    "duration": 19,
    "start_time": "2023-07-15T16:13:16.645Z"
   },
   {
    "duration": 12,
    "start_time": "2023-07-15T16:13:16.666Z"
   },
   {
    "duration": 10,
    "start_time": "2023-07-15T16:13:16.679Z"
   },
   {
    "duration": 9,
    "start_time": "2023-07-15T16:13:16.690Z"
   },
   {
    "duration": 11,
    "start_time": "2023-07-15T16:13:16.701Z"
   },
   {
    "duration": 13,
    "start_time": "2023-07-15T16:13:16.713Z"
   },
   {
    "duration": 15,
    "start_time": "2023-07-15T16:13:16.727Z"
   },
   {
    "duration": 364,
    "start_time": "2023-07-15T16:13:16.743Z"
   },
   {
    "duration": 87,
    "start_time": "2023-07-15T16:13:17.108Z"
   },
   {
    "duration": 160,
    "start_time": "2023-07-15T16:13:17.197Z"
   },
   {
    "duration": 219,
    "start_time": "2023-07-15T16:13:17.359Z"
   },
   {
    "duration": 233,
    "start_time": "2023-07-15T16:13:17.580Z"
   },
   {
    "duration": 3,
    "start_time": "2023-07-15T16:13:17.820Z"
   },
   {
    "duration": 14,
    "start_time": "2023-07-15T16:13:17.825Z"
   },
   {
    "duration": 6,
    "start_time": "2023-07-15T16:13:17.840Z"
   },
   {
    "duration": 20,
    "start_time": "2023-07-15T16:13:17.848Z"
   },
   {
    "duration": 12,
    "start_time": "2023-07-15T16:13:17.870Z"
   },
   {
    "duration": 1066,
    "start_time": "2023-07-15T16:13:17.883Z"
   },
   {
    "duration": 26,
    "start_time": "2023-07-15T16:13:18.951Z"
   },
   {
    "duration": 6,
    "start_time": "2023-07-15T16:13:18.978Z"
   },
   {
    "duration": 6,
    "start_time": "2023-07-15T16:13:18.986Z"
   },
   {
    "duration": 7,
    "start_time": "2023-07-15T16:13:18.993Z"
   },
   {
    "duration": 1226,
    "start_time": "2023-07-15T16:15:29.283Z"
   },
   {
    "duration": 1132,
    "start_time": "2023-07-15T16:15:54.853Z"
   },
   {
    "duration": 1064,
    "start_time": "2023-07-15T16:16:30.316Z"
   },
   {
    "duration": 1206,
    "start_time": "2023-07-15T16:16:35.407Z"
   },
   {
    "duration": 1070,
    "start_time": "2023-07-15T16:17:01.990Z"
   },
   {
    "duration": 1048,
    "start_time": "2023-07-15T16:17:42.627Z"
   },
   {
    "duration": 1059,
    "start_time": "2023-07-15T16:17:46.281Z"
   },
   {
    "duration": 715,
    "start_time": "2023-07-15T16:19:16.234Z"
   },
   {
    "duration": 1023,
    "start_time": "2023-07-15T16:19:20.443Z"
   },
   {
    "duration": 647,
    "start_time": "2023-07-15T16:19:51.197Z"
   },
   {
    "duration": 1094,
    "start_time": "2023-07-15T16:20:17.492Z"
   },
   {
    "duration": 1046,
    "start_time": "2023-07-15T16:21:38.614Z"
   },
   {
    "duration": 743,
    "start_time": "2023-07-15T16:22:00.286Z"
   },
   {
    "duration": 767,
    "start_time": "2023-07-15T16:22:14.667Z"
   },
   {
    "duration": 1033,
    "start_time": "2023-07-15T16:25:07.246Z"
   },
   {
    "duration": 1244,
    "start_time": "2023-07-15T16:25:29.890Z"
   },
   {
    "duration": 1190,
    "start_time": "2023-07-15T16:26:36.535Z"
   },
   {
    "duration": 812,
    "start_time": "2023-07-15T20:37:39.803Z"
   },
   {
    "duration": 122,
    "start_time": "2023-07-15T20:37:40.617Z"
   },
   {
    "duration": 167,
    "start_time": "2023-07-15T20:37:40.741Z"
   },
   {
    "duration": 65,
    "start_time": "2023-07-15T20:37:40.910Z"
   },
   {
    "duration": 14,
    "start_time": "2023-07-15T20:37:40.977Z"
   },
   {
    "duration": 10,
    "start_time": "2023-07-15T20:37:40.992Z"
   },
   {
    "duration": 6,
    "start_time": "2023-07-15T20:37:41.004Z"
   },
   {
    "duration": 6,
    "start_time": "2023-07-15T20:37:41.011Z"
   },
   {
    "duration": 6,
    "start_time": "2023-07-15T20:37:41.018Z"
   },
   {
    "duration": 33,
    "start_time": "2023-07-15T20:37:41.026Z"
   },
   {
    "duration": 6,
    "start_time": "2023-07-15T20:37:41.061Z"
   },
   {
    "duration": 14,
    "start_time": "2023-07-15T20:37:41.069Z"
   },
   {
    "duration": 600,
    "start_time": "2023-07-15T20:37:41.084Z"
   },
   {
    "duration": 101,
    "start_time": "2023-07-15T20:37:41.686Z"
   },
   {
    "duration": 189,
    "start_time": "2023-07-15T20:37:41.789Z"
   },
   {
    "duration": 302,
    "start_time": "2023-07-15T20:37:41.980Z"
   },
   {
    "duration": 289,
    "start_time": "2023-07-15T20:37:42.285Z"
   },
   {
    "duration": 5,
    "start_time": "2023-07-15T20:37:42.576Z"
   },
   {
    "duration": 5,
    "start_time": "2023-07-15T20:37:42.582Z"
   },
   {
    "duration": 5,
    "start_time": "2023-07-15T20:37:42.589Z"
   },
   {
    "duration": 21,
    "start_time": "2023-07-15T20:37:42.596Z"
   },
   {
    "duration": 40,
    "start_time": "2023-07-15T20:37:42.619Z"
   },
   {
    "duration": 1316,
    "start_time": "2023-07-15T20:37:42.661Z"
   },
   {
    "duration": 150,
    "start_time": "2023-07-15T20:37:43.979Z"
   },
   {
    "duration": 9,
    "start_time": "2023-07-15T20:37:44.131Z"
   },
   {
    "duration": 20,
    "start_time": "2023-07-15T20:37:44.143Z"
   },
   {
    "duration": 19,
    "start_time": "2023-07-15T20:37:44.165Z"
   },
   {
    "duration": 4433,
    "start_time": "2023-07-15T22:21:37.910Z"
   },
   {
    "duration": 60,
    "start_time": "2023-07-15T22:21:55.321Z"
   },
   {
    "duration": 8,
    "start_time": "2023-07-15T22:22:57.445Z"
   },
   {
    "duration": 866,
    "start_time": "2023-07-15T22:23:03.272Z"
   },
   {
    "duration": 100,
    "start_time": "2023-07-15T22:23:04.140Z"
   },
   {
    "duration": 85,
    "start_time": "2023-07-15T22:23:04.241Z"
   },
   {
    "duration": 67,
    "start_time": "2023-07-15T22:23:04.327Z"
   },
   {
    "duration": 16,
    "start_time": "2023-07-15T22:23:04.396Z"
   },
   {
    "duration": 29,
    "start_time": "2023-07-15T22:23:04.414Z"
   },
   {
    "duration": 15,
    "start_time": "2023-07-15T22:23:04.445Z"
   },
   {
    "duration": 22,
    "start_time": "2023-07-15T22:23:04.462Z"
   },
   {
    "duration": 13,
    "start_time": "2023-07-15T22:23:04.486Z"
   },
   {
    "duration": 20,
    "start_time": "2023-07-15T22:23:04.501Z"
   },
   {
    "duration": 20,
    "start_time": "2023-07-15T22:23:04.522Z"
   },
   {
    "duration": 17,
    "start_time": "2023-07-15T22:23:04.544Z"
   },
   {
    "duration": 781,
    "start_time": "2023-07-15T22:23:04.562Z"
   },
   {
    "duration": 0,
    "start_time": "2023-07-15T22:23:05.346Z"
   },
   {
    "duration": 0,
    "start_time": "2023-07-15T22:23:05.347Z"
   },
   {
    "duration": 0,
    "start_time": "2023-07-15T22:23:05.348Z"
   },
   {
    "duration": 0,
    "start_time": "2023-07-15T22:23:05.349Z"
   },
   {
    "duration": 0,
    "start_time": "2023-07-15T22:23:05.352Z"
   },
   {
    "duration": 0,
    "start_time": "2023-07-15T22:23:05.353Z"
   },
   {
    "duration": 0,
    "start_time": "2023-07-15T22:23:05.355Z"
   },
   {
    "duration": 0,
    "start_time": "2023-07-15T22:23:05.357Z"
   },
   {
    "duration": 0,
    "start_time": "2023-07-15T22:23:05.358Z"
   },
   {
    "duration": 0,
    "start_time": "2023-07-15T22:23:05.360Z"
   },
   {
    "duration": 1,
    "start_time": "2023-07-15T22:23:05.361Z"
   },
   {
    "duration": 0,
    "start_time": "2023-07-15T22:23:05.363Z"
   },
   {
    "duration": 0,
    "start_time": "2023-07-15T22:23:05.364Z"
   },
   {
    "duration": 0,
    "start_time": "2023-07-15T22:23:05.366Z"
   },
   {
    "duration": 152,
    "start_time": "2023-07-15T22:23:47.748Z"
   },
   {
    "duration": 220,
    "start_time": "2023-07-15T22:24:13.334Z"
   },
   {
    "duration": 146,
    "start_time": "2023-07-15T22:24:33.420Z"
   },
   {
    "duration": 17,
    "start_time": "2023-07-15T22:24:55.684Z"
   },
   {
    "duration": 9,
    "start_time": "2023-07-15T22:25:06.318Z"
   },
   {
    "duration": 151,
    "start_time": "2023-07-15T22:25:24.971Z"
   },
   {
    "duration": 129,
    "start_time": "2023-07-15T22:26:03.256Z"
   },
   {
    "duration": 135,
    "start_time": "2023-07-15T22:26:16.573Z"
   },
   {
    "duration": 149,
    "start_time": "2023-07-15T22:26:37.665Z"
   },
   {
    "duration": 11,
    "start_time": "2023-07-15T22:26:55.818Z"
   },
   {
    "duration": 189,
    "start_time": "2023-07-15T22:27:17.080Z"
   },
   {
    "duration": 232,
    "start_time": "2023-07-15T22:27:34.022Z"
   },
   {
    "duration": 15,
    "start_time": "2023-07-15T22:28:32.217Z"
   },
   {
    "duration": 166,
    "start_time": "2023-07-15T22:28:44.122Z"
   },
   {
    "duration": 91,
    "start_time": "2023-07-15T22:29:04.953Z"
   },
   {
    "duration": 1242,
    "start_time": "2023-07-15T22:29:11.227Z"
   },
   {
    "duration": 153,
    "start_time": "2023-07-15T22:29:20.282Z"
   },
   {
    "duration": 163,
    "start_time": "2023-07-15T22:32:16.036Z"
   },
   {
    "duration": 155,
    "start_time": "2023-07-15T22:32:37.147Z"
   },
   {
    "duration": 124,
    "start_time": "2023-07-15T22:33:11.563Z"
   },
   {
    "duration": 158,
    "start_time": "2023-07-15T22:33:49.243Z"
   },
   {
    "duration": 867,
    "start_time": "2023-07-16T16:41:11.057Z"
   },
   {
    "duration": 108,
    "start_time": "2023-07-16T16:41:11.926Z"
   },
   {
    "duration": 168,
    "start_time": "2023-07-16T16:41:12.035Z"
   },
   {
    "duration": 66,
    "start_time": "2023-07-16T16:41:12.205Z"
   },
   {
    "duration": 14,
    "start_time": "2023-07-16T16:41:12.273Z"
   },
   {
    "duration": 11,
    "start_time": "2023-07-16T16:41:12.289Z"
   },
   {
    "duration": 6,
    "start_time": "2023-07-16T16:41:12.302Z"
   },
   {
    "duration": 6,
    "start_time": "2023-07-16T16:41:12.309Z"
   },
   {
    "duration": 7,
    "start_time": "2023-07-16T16:41:12.316Z"
   },
   {
    "duration": 38,
    "start_time": "2023-07-16T16:41:12.325Z"
   },
   {
    "duration": 10,
    "start_time": "2023-07-16T16:41:12.364Z"
   },
   {
    "duration": 8,
    "start_time": "2023-07-16T16:41:12.376Z"
   },
   {
    "duration": 597,
    "start_time": "2023-07-16T16:41:12.386Z"
   },
   {
    "duration": 102,
    "start_time": "2023-07-16T16:41:12.985Z"
   },
   {
    "duration": 176,
    "start_time": "2023-07-16T16:41:13.089Z"
   },
   {
    "duration": 271,
    "start_time": "2023-07-16T16:41:13.267Z"
   },
   {
    "duration": 274,
    "start_time": "2023-07-16T16:41:13.539Z"
   },
   {
    "duration": 4,
    "start_time": "2023-07-16T16:41:13.814Z"
   },
   {
    "duration": 5,
    "start_time": "2023-07-16T16:41:13.819Z"
   },
   {
    "duration": 18,
    "start_time": "2023-07-16T16:41:13.826Z"
   },
   {
    "duration": 31,
    "start_time": "2023-07-16T16:41:13.845Z"
   },
   {
    "duration": 13,
    "start_time": "2023-07-16T16:41:13.879Z"
   },
   {
    "duration": 1274,
    "start_time": "2023-07-16T16:41:13.893Z"
   },
   {
    "duration": 135,
    "start_time": "2023-07-16T16:41:15.169Z"
   },
   {
    "duration": 8,
    "start_time": "2023-07-16T16:41:15.306Z"
   },
   {
    "duration": 7,
    "start_time": "2023-07-16T16:41:15.316Z"
   },
   {
    "duration": 8,
    "start_time": "2023-07-16T16:41:15.325Z"
   },
   {
    "duration": 48,
    "start_time": "2023-07-16T17:52:22.144Z"
   },
   {
    "duration": 959,
    "start_time": "2023-07-16T17:52:28.233Z"
   },
   {
    "duration": 93,
    "start_time": "2023-07-16T17:52:29.194Z"
   },
   {
    "duration": 85,
    "start_time": "2023-07-16T17:52:29.289Z"
   },
   {
    "duration": 62,
    "start_time": "2023-07-16T17:52:29.376Z"
   },
   {
    "duration": 55,
    "start_time": "2023-07-16T17:52:29.440Z"
   },
   {
    "duration": 34,
    "start_time": "2023-07-16T17:52:29.496Z"
   },
   {
    "duration": 6,
    "start_time": "2023-07-16T17:52:29.532Z"
   },
   {
    "duration": 11,
    "start_time": "2023-07-16T17:52:29.540Z"
   },
   {
    "duration": 8,
    "start_time": "2023-07-16T17:52:29.553Z"
   },
   {
    "duration": 8,
    "start_time": "2023-07-16T17:52:29.562Z"
   },
   {
    "duration": 10,
    "start_time": "2023-07-16T17:52:29.571Z"
   },
   {
    "duration": 38,
    "start_time": "2023-07-16T17:52:29.583Z"
   },
   {
    "duration": 93,
    "start_time": "2023-07-16T17:52:29.622Z"
   },
   {
    "duration": 0,
    "start_time": "2023-07-16T17:52:29.716Z"
   },
   {
    "duration": 0,
    "start_time": "2023-07-16T17:52:29.718Z"
   },
   {
    "duration": 0,
    "start_time": "2023-07-16T17:52:29.719Z"
   },
   {
    "duration": 0,
    "start_time": "2023-07-16T17:52:29.720Z"
   },
   {
    "duration": 0,
    "start_time": "2023-07-16T17:52:29.721Z"
   },
   {
    "duration": 0,
    "start_time": "2023-07-16T17:52:29.722Z"
   },
   {
    "duration": 0,
    "start_time": "2023-07-16T17:52:29.723Z"
   },
   {
    "duration": 0,
    "start_time": "2023-07-16T17:52:29.724Z"
   },
   {
    "duration": 0,
    "start_time": "2023-07-16T17:52:29.725Z"
   },
   {
    "duration": 0,
    "start_time": "2023-07-16T17:52:29.725Z"
   },
   {
    "duration": 0,
    "start_time": "2023-07-16T17:52:29.726Z"
   },
   {
    "duration": 0,
    "start_time": "2023-07-16T17:52:29.727Z"
   },
   {
    "duration": 0,
    "start_time": "2023-07-16T17:52:29.728Z"
   },
   {
    "duration": 0,
    "start_time": "2023-07-16T17:52:29.729Z"
   },
   {
    "duration": 11,
    "start_time": "2023-07-16T18:18:42.788Z"
   },
   {
    "duration": 981,
    "start_time": "2023-07-16T18:18:51.342Z"
   },
   {
    "duration": 49,
    "start_time": "2023-07-16T18:18:52.326Z"
   },
   {
    "duration": 42,
    "start_time": "2023-07-16T18:18:52.377Z"
   },
   {
    "duration": 27,
    "start_time": "2023-07-16T18:18:52.421Z"
   },
   {
    "duration": 14,
    "start_time": "2023-07-16T18:18:52.451Z"
   },
   {
    "duration": 17,
    "start_time": "2023-07-16T18:18:52.466Z"
   },
   {
    "duration": 7,
    "start_time": "2023-07-16T18:18:52.484Z"
   },
   {
    "duration": 10,
    "start_time": "2023-07-16T18:18:52.493Z"
   },
   {
    "duration": 11,
    "start_time": "2023-07-16T18:18:52.505Z"
   },
   {
    "duration": 9,
    "start_time": "2023-07-16T18:18:52.518Z"
   },
   {
    "duration": 9,
    "start_time": "2023-07-16T18:18:52.551Z"
   },
   {
    "duration": 23,
    "start_time": "2023-07-16T18:18:52.562Z"
   },
   {
    "duration": 98,
    "start_time": "2023-07-16T18:18:52.586Z"
   },
   {
    "duration": 0,
    "start_time": "2023-07-16T18:18:52.686Z"
   },
   {
    "duration": 1,
    "start_time": "2023-07-16T18:18:52.687Z"
   },
   {
    "duration": 0,
    "start_time": "2023-07-16T18:18:52.689Z"
   },
   {
    "duration": 0,
    "start_time": "2023-07-16T18:18:52.690Z"
   },
   {
    "duration": 0,
    "start_time": "2023-07-16T18:18:52.691Z"
   },
   {
    "duration": 0,
    "start_time": "2023-07-16T18:18:52.692Z"
   },
   {
    "duration": 0,
    "start_time": "2023-07-16T18:18:52.693Z"
   },
   {
    "duration": 0,
    "start_time": "2023-07-16T18:18:52.695Z"
   },
   {
    "duration": 0,
    "start_time": "2023-07-16T18:18:52.695Z"
   },
   {
    "duration": 0,
    "start_time": "2023-07-16T18:18:52.696Z"
   },
   {
    "duration": 0,
    "start_time": "2023-07-16T18:18:52.697Z"
   },
   {
    "duration": 0,
    "start_time": "2023-07-16T18:18:52.699Z"
   },
   {
    "duration": 0,
    "start_time": "2023-07-16T18:18:52.700Z"
   },
   {
    "duration": 0,
    "start_time": "2023-07-16T18:18:52.700Z"
   },
   {
    "duration": 10,
    "start_time": "2023-07-16T18:19:22.504Z"
   },
   {
    "duration": 9,
    "start_time": "2023-07-16T18:19:40.644Z"
   },
   {
    "duration": 885,
    "start_time": "2023-07-16T18:19:51.722Z"
   },
   {
    "duration": 48,
    "start_time": "2023-07-16T18:19:52.609Z"
   },
   {
    "duration": 42,
    "start_time": "2023-07-16T18:19:52.658Z"
   },
   {
    "duration": 25,
    "start_time": "2023-07-16T18:19:52.701Z"
   },
   {
    "duration": 14,
    "start_time": "2023-07-16T18:19:52.729Z"
   },
   {
    "duration": 10,
    "start_time": "2023-07-16T18:19:52.752Z"
   },
   {
    "duration": 6,
    "start_time": "2023-07-16T18:19:52.764Z"
   },
   {
    "duration": 11,
    "start_time": "2023-07-16T18:19:52.771Z"
   },
   {
    "duration": 11,
    "start_time": "2023-07-16T18:19:52.783Z"
   },
   {
    "duration": 17,
    "start_time": "2023-07-16T18:19:52.795Z"
   },
   {
    "duration": 10,
    "start_time": "2023-07-16T18:19:52.814Z"
   },
   {
    "duration": 18,
    "start_time": "2023-07-16T18:19:52.826Z"
   },
   {
    "duration": 107,
    "start_time": "2023-07-16T18:19:52.846Z"
   },
   {
    "duration": 0,
    "start_time": "2023-07-16T18:19:52.955Z"
   },
   {
    "duration": 0,
    "start_time": "2023-07-16T18:19:52.956Z"
   },
   {
    "duration": 0,
    "start_time": "2023-07-16T18:19:52.957Z"
   },
   {
    "duration": 0,
    "start_time": "2023-07-16T18:19:52.958Z"
   },
   {
    "duration": 0,
    "start_time": "2023-07-16T18:19:52.959Z"
   },
   {
    "duration": 0,
    "start_time": "2023-07-16T18:19:52.960Z"
   },
   {
    "duration": 0,
    "start_time": "2023-07-16T18:19:52.961Z"
   },
   {
    "duration": 0,
    "start_time": "2023-07-16T18:19:52.962Z"
   },
   {
    "duration": 0,
    "start_time": "2023-07-16T18:19:52.963Z"
   },
   {
    "duration": 0,
    "start_time": "2023-07-16T18:19:52.964Z"
   },
   {
    "duration": 0,
    "start_time": "2023-07-16T18:19:52.965Z"
   },
   {
    "duration": 0,
    "start_time": "2023-07-16T18:19:52.967Z"
   },
   {
    "duration": 0,
    "start_time": "2023-07-16T18:19:52.967Z"
   },
   {
    "duration": 0,
    "start_time": "2023-07-16T18:19:52.968Z"
   },
   {
    "duration": 10,
    "start_time": "2023-07-16T18:20:02.520Z"
   },
   {
    "duration": 23,
    "start_time": "2023-07-16T18:20:15.312Z"
   },
   {
    "duration": 8,
    "start_time": "2023-07-16T18:20:19.821Z"
   },
   {
    "duration": 9,
    "start_time": "2023-07-16T18:20:56.454Z"
   },
   {
    "duration": 7,
    "start_time": "2023-07-16T18:21:12.839Z"
   },
   {
    "duration": 8,
    "start_time": "2023-07-16T18:28:35.417Z"
   },
   {
    "duration": 13,
    "start_time": "2023-07-16T18:30:20.996Z"
   },
   {
    "duration": 898,
    "start_time": "2023-07-16T18:30:27.226Z"
   },
   {
    "duration": 49,
    "start_time": "2023-07-16T18:30:28.126Z"
   },
   {
    "duration": 44,
    "start_time": "2023-07-16T18:30:28.177Z"
   },
   {
    "duration": 32,
    "start_time": "2023-07-16T18:30:28.224Z"
   },
   {
    "duration": 20,
    "start_time": "2023-07-16T18:30:28.258Z"
   },
   {
    "duration": 14,
    "start_time": "2023-07-16T18:30:28.280Z"
   },
   {
    "duration": 9,
    "start_time": "2023-07-16T18:30:28.296Z"
   },
   {
    "duration": 16,
    "start_time": "2023-07-16T18:30:28.307Z"
   },
   {
    "duration": 12,
    "start_time": "2023-07-16T18:30:28.352Z"
   },
   {
    "duration": 10,
    "start_time": "2023-07-16T18:30:28.368Z"
   },
   {
    "duration": 15,
    "start_time": "2023-07-16T18:30:28.380Z"
   },
   {
    "duration": 20,
    "start_time": "2023-07-16T18:30:28.397Z"
   },
   {
    "duration": 120,
    "start_time": "2023-07-16T18:30:28.419Z"
   },
   {
    "duration": 0,
    "start_time": "2023-07-16T18:30:28.542Z"
   },
   {
    "duration": 0,
    "start_time": "2023-07-16T18:30:28.543Z"
   },
   {
    "duration": 0,
    "start_time": "2023-07-16T18:30:28.544Z"
   },
   {
    "duration": 0,
    "start_time": "2023-07-16T18:30:28.552Z"
   },
   {
    "duration": 0,
    "start_time": "2023-07-16T18:30:28.554Z"
   },
   {
    "duration": 0,
    "start_time": "2023-07-16T18:30:28.555Z"
   },
   {
    "duration": 1,
    "start_time": "2023-07-16T18:30:28.556Z"
   },
   {
    "duration": 0,
    "start_time": "2023-07-16T18:30:28.559Z"
   },
   {
    "duration": 0,
    "start_time": "2023-07-16T18:30:28.560Z"
   },
   {
    "duration": 0,
    "start_time": "2023-07-16T18:30:28.562Z"
   },
   {
    "duration": 0,
    "start_time": "2023-07-16T18:30:28.563Z"
   },
   {
    "duration": 0,
    "start_time": "2023-07-16T18:30:28.565Z"
   },
   {
    "duration": 0,
    "start_time": "2023-07-16T18:30:28.566Z"
   },
   {
    "duration": 0,
    "start_time": "2023-07-16T18:30:28.567Z"
   },
   {
    "duration": 11,
    "start_time": "2023-07-16T18:30:30.352Z"
   },
   {
    "duration": 11,
    "start_time": "2023-07-16T18:30:33.533Z"
   },
   {
    "duration": 12,
    "start_time": "2023-07-16T18:30:51.068Z"
   },
   {
    "duration": 625,
    "start_time": "2023-07-16T18:31:04.338Z"
   },
   {
    "duration": 852,
    "start_time": "2023-07-16T18:31:12.685Z"
   },
   {
    "duration": 49,
    "start_time": "2023-07-16T18:31:13.539Z"
   },
   {
    "duration": 42,
    "start_time": "2023-07-16T18:31:13.590Z"
   },
   {
    "duration": 27,
    "start_time": "2023-07-16T18:31:13.633Z"
   },
   {
    "duration": 15,
    "start_time": "2023-07-16T18:31:13.662Z"
   },
   {
    "duration": 20,
    "start_time": "2023-07-16T18:31:13.678Z"
   },
   {
    "duration": 6,
    "start_time": "2023-07-16T18:31:13.700Z"
   },
   {
    "duration": 10,
    "start_time": "2023-07-16T18:31:13.707Z"
   },
   {
    "duration": 10,
    "start_time": "2023-07-16T18:31:13.719Z"
   },
   {
    "duration": 27,
    "start_time": "2023-07-16T18:31:13.730Z"
   },
   {
    "duration": 11,
    "start_time": "2023-07-16T18:31:13.759Z"
   },
   {
    "duration": 10,
    "start_time": "2023-07-16T18:31:13.772Z"
   },
   {
    "duration": 437,
    "start_time": "2023-07-16T18:31:13.783Z"
   },
   {
    "duration": 99,
    "start_time": "2023-07-16T18:31:14.223Z"
   },
   {
    "duration": 195,
    "start_time": "2023-07-16T18:31:14.324Z"
   },
   {
    "duration": 294,
    "start_time": "2023-07-16T18:31:14.521Z"
   },
   {
    "duration": 284,
    "start_time": "2023-07-16T18:31:14.817Z"
   },
   {
    "duration": 4,
    "start_time": "2023-07-16T18:31:15.102Z"
   },
   {
    "duration": 9,
    "start_time": "2023-07-16T18:31:15.108Z"
   },
   {
    "duration": 6,
    "start_time": "2023-07-16T18:31:15.119Z"
   },
   {
    "duration": 38,
    "start_time": "2023-07-16T18:31:15.126Z"
   },
   {
    "duration": 13,
    "start_time": "2023-07-16T18:31:15.166Z"
   },
   {
    "duration": 1325,
    "start_time": "2023-07-16T18:31:15.181Z"
   },
   {
    "duration": 45,
    "start_time": "2023-07-16T18:31:16.508Z"
   },
   {
    "duration": 9,
    "start_time": "2023-07-16T18:31:16.555Z"
   },
   {
    "duration": 8,
    "start_time": "2023-07-16T18:31:16.567Z"
   },
   {
    "duration": 12,
    "start_time": "2023-07-16T18:31:16.577Z"
   },
   {
    "duration": 9,
    "start_time": "2023-07-16T18:32:04.100Z"
   },
   {
    "duration": 8,
    "start_time": "2023-07-16T18:33:16.000Z"
   },
   {
    "duration": 113,
    "start_time": "2023-07-16T18:33:22.806Z"
   },
   {
    "duration": 10,
    "start_time": "2023-07-16T18:33:34.054Z"
   },
   {
    "duration": 10,
    "start_time": "2023-07-16T18:34:01.708Z"
   },
   {
    "duration": 9,
    "start_time": "2023-07-16T18:35:14.714Z"
   },
   {
    "duration": 8,
    "start_time": "2023-07-16T18:36:20.447Z"
   },
   {
    "duration": 8,
    "start_time": "2023-07-16T18:36:34.855Z"
   },
   {
    "duration": 7,
    "start_time": "2023-07-16T18:36:45.619Z"
   },
   {
    "duration": 8,
    "start_time": "2023-07-16T18:37:38.532Z"
   },
   {
    "duration": 9,
    "start_time": "2023-07-16T18:38:28.421Z"
   },
   {
    "duration": 9,
    "start_time": "2023-07-16T18:40:04.933Z"
   },
   {
    "duration": 9,
    "start_time": "2023-07-16T18:40:24.727Z"
   },
   {
    "duration": 9,
    "start_time": "2023-07-16T18:42:26.425Z"
   },
   {
    "duration": 7,
    "start_time": "2023-07-16T18:44:59.228Z"
   },
   {
    "duration": 8,
    "start_time": "2023-07-16T18:45:15.962Z"
   },
   {
    "duration": 8,
    "start_time": "2023-07-16T18:53:31.097Z"
   },
   {
    "duration": 10,
    "start_time": "2023-07-16T18:54:03.658Z"
   },
   {
    "duration": 876,
    "start_time": "2023-07-17T08:36:38.988Z"
   },
   {
    "duration": 47,
    "start_time": "2023-07-17T08:36:39.866Z"
   },
   {
    "duration": 62,
    "start_time": "2023-07-17T08:36:39.914Z"
   },
   {
    "duration": 32,
    "start_time": "2023-07-17T08:36:39.977Z"
   },
   {
    "duration": 48,
    "start_time": "2023-07-17T08:36:40.012Z"
   },
   {
    "duration": 117,
    "start_time": "2023-07-17T08:36:40.062Z"
   },
   {
    "duration": 9,
    "start_time": "2023-07-17T08:36:40.181Z"
   },
   {
    "duration": 20,
    "start_time": "2023-07-17T08:36:40.191Z"
   },
   {
    "duration": 49,
    "start_time": "2023-07-17T08:36:40.213Z"
   },
   {
    "duration": 10,
    "start_time": "2023-07-17T08:36:40.264Z"
   },
   {
    "duration": 15,
    "start_time": "2023-07-17T08:36:40.276Z"
   },
   {
    "duration": 35,
    "start_time": "2023-07-17T08:36:40.293Z"
   },
   {
    "duration": 503,
    "start_time": "2023-07-17T08:36:40.330Z"
   },
   {
    "duration": 108,
    "start_time": "2023-07-17T08:36:40.836Z"
   },
   {
    "duration": 193,
    "start_time": "2023-07-17T08:36:40.946Z"
   },
   {
    "duration": 277,
    "start_time": "2023-07-17T08:36:41.141Z"
   },
   {
    "duration": 276,
    "start_time": "2023-07-17T08:36:41.420Z"
   },
   {
    "duration": 4,
    "start_time": "2023-07-17T08:36:41.698Z"
   },
   {
    "duration": 10,
    "start_time": "2023-07-17T08:36:41.703Z"
   },
   {
    "duration": 14,
    "start_time": "2023-07-17T08:36:41.727Z"
   },
   {
    "duration": 44,
    "start_time": "2023-07-17T08:36:41.743Z"
   },
   {
    "duration": 14,
    "start_time": "2023-07-17T08:36:41.788Z"
   },
   {
    "duration": 1277,
    "start_time": "2023-07-17T08:36:41.803Z"
   },
   {
    "duration": 44,
    "start_time": "2023-07-17T08:36:43.082Z"
   },
   {
    "duration": 12,
    "start_time": "2023-07-17T08:36:43.127Z"
   },
   {
    "duration": 33,
    "start_time": "2023-07-17T08:36:43.140Z"
   },
   {
    "duration": 9,
    "start_time": "2023-07-17T08:36:43.175Z"
   }
  ],
  "kernelspec": {
   "display_name": "Python 3 (ipykernel)",
   "language": "python",
   "name": "python3"
  },
  "language_info": {
   "codemirror_mode": {
    "name": "ipython",
    "version": 3
   },
   "file_extension": ".py",
   "mimetype": "text/x-python",
   "name": "python",
   "nbconvert_exporter": "python",
   "pygments_lexer": "ipython3",
   "version": "3.9.5"
  },
  "toc": {
   "base_numbering": 1,
   "nav_menu": {},
   "number_sections": true,
   "sideBar": true,
   "skip_h1_title": true,
   "title_cell": "Table of Contents",
   "title_sidebar": "Contents",
   "toc_cell": false,
   "toc_position": {},
   "toc_section_display": true,
   "toc_window_display": false
  }
 },
 "nbformat": 4,
 "nbformat_minor": 5
}
