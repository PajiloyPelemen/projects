{
 "cells": [
  {
   "cell_type": "markdown",
   "metadata": {},
   "source": [
    "<div style=\"border:solid Chocolate 2px; padding: 40px\">\n",
    "\n",
    "<b> Евгений, привет!👋</b>\n",
    "\n",
    "Меня зовут Алексей Гриб, и я буду ревьюером твоего проекта. \n",
    "\n",
    "Сразу хочу предложить в дальнейшем общаться на \"ты\" - надеюсь, так будет комфортнее:) Но если это неудобно, обязательно дай знать, и мы придумаем что-нибудь ещё!\n",
    "    \n",
    "Цель ревью - не искать ошибки в твоём проекте, а помочь тебе сделать твою работу ещё лучше, устранив недочёты и приблизив её к реальным задачам специалиста по работе с данными. Поэтому не расстраивайся, если что-то не получилось с первого раза - это нормально, и это поможет тебе вырасти!\n",
    "    \n",
    "Ты можешь найти мои комментарии, обозначенные <font color='green'>зеленым</font>, <font color='gold'>желтым</font> и <font color='red'>красным</font> цветами, например:\n",
    "\n",
    "<br/>\n",
    "\n",
    "<div class=\"alert alert-success\">\n",
    "<h2> Комментарий ревьюера <a class=\"tocSkip\"> </h2>\n",
    "\n",
    "<b>Все отлично!👍:</b> похвала, рекомендации «со звёздочкой», полезные лайфхаки, которые сделают и без того красивое решение ещё более элегантным.\n",
    "</div>\n",
    "\n",
    "<br/>\n",
    "\n",
    "<div class=\"alert alert-warning\">\n",
    "    <h2> Комментарий ревьюера <a class=\"tocSkip\"> </h2>\n",
    "    \n",
    "<b>Некоторые замечания и рекомендации⚠️:</b> некритичные ошибки или развивающие рекомендации на будущее. \n",
    "</div>\n",
    "\n",
    "\n",
    "<br/>\n",
    "<div class=\"alert alert-block alert-danger\">\n",
    "<h2> Комментарий ревьюера <a class=\"tocSkip\"></h2>\n",
    "\n",
    "    \n",
    "<b>На доработку❌:</b>\n",
    "Критичные ошибки, которые обязательно нужно исправить.\n",
    "</div>\n",
    "\n",
    "Я не смогу принять проект, если в нём будет хотя бы одна критичная ошибка или несколько некритичных ошибок - тогда проект нужно будет немного доработать. Но это нестрашно - я обязательно дам тебе подсказку или укажу верное направление.\n",
    "    \n",
    "Пожалуйста, не удаляй мои комментарии, они будут особенно полезны для нашей работы в случае повторной проверки проекта. \n",
    "    \n",
    "Ты также можешь задавать свои вопросы, реагировать на мои комментарии, делать пометки и пояснения - полная творческая свобода! Но маленькая просьба - пускай они будут отличаться от моих комментариев, это поможет избежать путаницы в нашем общении:)\n",
    "Например, вот так:\n",
    "    \n",
    "<div class=\"alert alert-info\">\n",
    "<h2> Комментарий студента <a class=\"tocSkip\"> </h2>\n",
    "\n",
    "*твой текст*\n",
    "</div>\n",
    "    \n",
    "Давай посмотрим на твой проект!"
   ]
  },
  {
   "cell_type": "markdown",
   "metadata": {},
   "source": [
    "# Исследование пользователей приложения"
   ]
  },
  {
   "cell_type": "markdown",
   "metadata": {},
   "source": [
    "\n",
    "<div class=\"alert alert-info\">\n",
    "<h2> Комментарий студента <a class=\"tocSkip\"> </h2>\n",
    "\n",
    "Вы работаете в стартапе, который продаёт продукты питания. Нужно разобраться, как ведут себя пользователи вашего мобильного приложения. \n",
    "Изучите воронку продаж. Узнайте, как пользователи доходят до покупки. Сколько пользователей доходит до покупки, а сколько — «застревает» на предыдущих шагах? На каких именно?\n",
    "После этого исследуйте результаты A/A/B-эксперимента. Дизайнеры захотели поменять шрифты во всём приложении, а менеджеры испугались, что пользователям будет непривычно. Договорились принять решение по результатам A/A/B-теста. Пользователей разбили на 3 группы: 2 контрольные со старыми шрифтами и одну экспериментальную — с новыми. Выясните, какой шрифт лучше.\n",
    "</div>"
   ]
  },
  {
   "cell_type": "markdown",
   "metadata": {},
   "source": [
    "Цель - изучить поведение пользователей и сделать выводы о результатах эксперимента."
   ]
  },
  {
   "cell_type": "markdown",
   "metadata": {},
   "source": [
    "Задачи:\n",
    "1) Открыть и подготовить данные\n",
    "2) Изучить и проверить данные\n",
    "3) Изучить воронку событий\n",
    "4) Изучить результаты эксперимента"
   ]
  },
  {
   "cell_type": "markdown",
   "metadata": {},
   "source": [
    "Каждая запись в логе — это действие пользователя, или событие. \n",
    "EventName — название события;\n",
    "DeviceIDHash — уникальный идентификатор пользователя;\n",
    "EventTimestamp — время события;\n",
    "ExpId — номер эксперимента: 246 и 247 — контрольные группы, а 248 — экспериментальная."
   ]
  },
  {
   "cell_type": "markdown",
   "metadata": {},
   "source": [
    "<div class=\"alert alert-block alert-danger\">\n",
    "<h2> Комментарий ревьюера <a class=\"tocSkip\"></h2>\n",
    "\n",
    "    \n",
    "<b>На доработку❌:</b>\n",
    "В твоём проекте полностью отсутствует вступление - это важная часть проекта, которая позволяет сформировать о нём первое представление. Хорошее вступление должно содержать: \n",
    "- краткое описание проекта (можно скопировать из вводной части проекта в тренажёре);\n",
    "- цель проекта (что-то глобальное, ради чего делаем проект - нужно сформулировать самостоятельно);\n",
    "- задачи проекта (маленькие шаги по достижению цели проекта, в нашем проекте это могут быть этапы самого проекта в соответствии с его разделами);\n",
    "- описание данных (можно также скопировать из вводной части).\n",
    "</div>"
   ]
  },
  {
   "cell_type": "markdown",
   "metadata": {},
   "source": [
    "<div class=\"alert alert-success\">\n",
    "<h2> Комментарий ревьюера v.2 <a class=\"tocSkip\"> </h2>\n",
    "\n",
    "<b>Все отлично!👍:</b> Учтено."
   ]
  },
  {
   "cell_type": "markdown",
   "metadata": {},
   "source": [
    "## Получение и подготовка данных"
   ]
  },
  {
   "cell_type": "code",
   "execution_count": 1,
   "metadata": {},
   "outputs": [],
   "source": [
    "import pandas as pd\n",
    "from scipy import stats as st\n",
    "import matplotlib.pyplot as plt\n",
    "import numpy as np\n",
    "import math as mth"
   ]
  },
  {
   "cell_type": "markdown",
   "metadata": {},
   "source": [
    "<div class=\"alert alert-success\">\n",
    "<h2> Комментарий ревьюера <a class=\"tocSkip\"> </h2>\n",
    "\n",
    "<b>Все отлично!👍:</b> Библиотеки импортировали - отлично!"
   ]
  },
  {
   "cell_type": "code",
   "execution_count": 2,
   "metadata": {},
   "outputs": [
    {
     "data": {
      "text/html": [
       "<div>\n",
       "<style scoped>\n",
       "    .dataframe tbody tr th:only-of-type {\n",
       "        vertical-align: middle;\n",
       "    }\n",
       "\n",
       "    .dataframe tbody tr th {\n",
       "        vertical-align: top;\n",
       "    }\n",
       "\n",
       "    .dataframe thead th {\n",
       "        text-align: right;\n",
       "    }\n",
       "</style>\n",
       "<table border=\"1\" class=\"dataframe\">\n",
       "  <thead>\n",
       "    <tr style=\"text-align: right;\">\n",
       "      <th></th>\n",
       "      <th>EventName</th>\n",
       "      <th>DeviceIDHash</th>\n",
       "      <th>EventTimestamp</th>\n",
       "      <th>ExpId</th>\n",
       "    </tr>\n",
       "  </thead>\n",
       "  <tbody>\n",
       "    <tr>\n",
       "      <th>0</th>\n",
       "      <td>MainScreenAppear</td>\n",
       "      <td>4575588528974610257</td>\n",
       "      <td>1564029816</td>\n",
       "      <td>246</td>\n",
       "    </tr>\n",
       "    <tr>\n",
       "      <th>1</th>\n",
       "      <td>MainScreenAppear</td>\n",
       "      <td>7416695313311560658</td>\n",
       "      <td>1564053102</td>\n",
       "      <td>246</td>\n",
       "    </tr>\n",
       "    <tr>\n",
       "      <th>2</th>\n",
       "      <td>PaymentScreenSuccessful</td>\n",
       "      <td>3518123091307005509</td>\n",
       "      <td>1564054127</td>\n",
       "      <td>248</td>\n",
       "    </tr>\n",
       "    <tr>\n",
       "      <th>3</th>\n",
       "      <td>CartScreenAppear</td>\n",
       "      <td>3518123091307005509</td>\n",
       "      <td>1564054127</td>\n",
       "      <td>248</td>\n",
       "    </tr>\n",
       "    <tr>\n",
       "      <th>4</th>\n",
       "      <td>PaymentScreenSuccessful</td>\n",
       "      <td>6217807653094995999</td>\n",
       "      <td>1564055322</td>\n",
       "      <td>248</td>\n",
       "    </tr>\n",
       "    <tr>\n",
       "      <th>...</th>\n",
       "      <td>...</td>\n",
       "      <td>...</td>\n",
       "      <td>...</td>\n",
       "      <td>...</td>\n",
       "    </tr>\n",
       "    <tr>\n",
       "      <th>244121</th>\n",
       "      <td>MainScreenAppear</td>\n",
       "      <td>4599628364049201812</td>\n",
       "      <td>1565212345</td>\n",
       "      <td>247</td>\n",
       "    </tr>\n",
       "    <tr>\n",
       "      <th>244122</th>\n",
       "      <td>MainScreenAppear</td>\n",
       "      <td>5849806612437486590</td>\n",
       "      <td>1565212439</td>\n",
       "      <td>246</td>\n",
       "    </tr>\n",
       "    <tr>\n",
       "      <th>244123</th>\n",
       "      <td>MainScreenAppear</td>\n",
       "      <td>5746969938801999050</td>\n",
       "      <td>1565212483</td>\n",
       "      <td>246</td>\n",
       "    </tr>\n",
       "    <tr>\n",
       "      <th>244124</th>\n",
       "      <td>MainScreenAppear</td>\n",
       "      <td>5746969938801999050</td>\n",
       "      <td>1565212498</td>\n",
       "      <td>246</td>\n",
       "    </tr>\n",
       "    <tr>\n",
       "      <th>244125</th>\n",
       "      <td>OffersScreenAppear</td>\n",
       "      <td>5746969938801999050</td>\n",
       "      <td>1565212517</td>\n",
       "      <td>246</td>\n",
       "    </tr>\n",
       "  </tbody>\n",
       "</table>\n",
       "<p>244126 rows × 4 columns</p>\n",
       "</div>"
      ],
      "text/plain": [
       "                      EventName         DeviceIDHash  EventTimestamp  ExpId\n",
       "0              MainScreenAppear  4575588528974610257      1564029816    246\n",
       "1              MainScreenAppear  7416695313311560658      1564053102    246\n",
       "2       PaymentScreenSuccessful  3518123091307005509      1564054127    248\n",
       "3              CartScreenAppear  3518123091307005509      1564054127    248\n",
       "4       PaymentScreenSuccessful  6217807653094995999      1564055322    248\n",
       "...                         ...                  ...             ...    ...\n",
       "244121         MainScreenAppear  4599628364049201812      1565212345    247\n",
       "244122         MainScreenAppear  5849806612437486590      1565212439    246\n",
       "244123         MainScreenAppear  5746969938801999050      1565212483    246\n",
       "244124         MainScreenAppear  5746969938801999050      1565212498    246\n",
       "244125       OffersScreenAppear  5746969938801999050      1565212517    246\n",
       "\n",
       "[244126 rows x 4 columns]"
      ]
     },
     "execution_count": 2,
     "metadata": {},
     "output_type": "execute_result"
    }
   ],
   "source": [
    "logs = pd.read_csv(\"/datasets/logs_exp.csv\",sep=\"\\t\")\n",
    "logs"
   ]
  },
  {
   "cell_type": "markdown",
   "metadata": {},
   "source": [
    "<div class=\"alert alert-success\">\n",
    "<h2> Комментарий ревьюера <a class=\"tocSkip\"> </h2>\n",
    "\n",
    "<b>Все отлично!👍</b> \n",
    "    \n",
    "Данные загрузили.\n",
    "    \n",
    "При считывании данных из файла здорово перестраховывать себя от ошибок, связанных, например, с неверным указанием пути к файлу. А иногда бывает, что работаешь с файлом локально, выгружаешь его на сервер, ожидая, что он будет принимать данные, которые лежат на том же сервере, а код падает с ошибкой, потому что путь к файлу не поменялся с локального на серверный.\n",
    "    \n",
    "Для этого, например, можно использовать конструкцию `try-except`: сначала пробуешь локальный путь, при возникновении ошибки используется серверный путь (подробнее можешь почитать тут: https://pythonworld.ru/tipy-dannyx-v-python/isklyucheniya-v-python-konstrukciya-try-except-dlya-obrabotki-isklyuchenij.html).\n",
    "    \n",
    "Но еще лучше использовать библиотеку `os` - её использование позволит тебе проверять существование указанных директорий (что может быть актуально при одновременной работа на локальном и сетевом окружении) и загружать данные из существующей директории, избегая ошибок. Как пример:\n",
    "    \n",
    "    import os\n",
    "\n",
    "    pth1 = '/folder_1/data.csv'\n",
    "    pth2 = '/folder_2/data.csv'\n",
    "    \n",
    "    if os.path.exists(pth1):\n",
    "        query_1 = pd.read_csv(pth1)\n",
    "    elif os.path.exists(pth2):\n",
    "        query_1 = pd.read_csv(pth2)\n",
    "    else:\n",
    "        print('Something is wrong')\n",
    "\n",
    "Ещё на этапе считывания данных можно спарсить дату: за это действие отвечает параметр `parse_dates` метода `read_csv()`, в него нужно передать список с названием полей-дат, и в большинстве случаев дата будет корректно преобразована в нужный формат сразу:)\n",
    "Также на этапе считывания данных задать индекс-столбец- за это действие отвечает параметр `index_col`."
   ]
  },
  {
   "cell_type": "code",
   "execution_count": 3,
   "metadata": {},
   "outputs": [
    {
     "name": "stdout",
     "output_type": "stream",
     "text": [
      "<class 'pandas.core.frame.DataFrame'>\n",
      "RangeIndex: 244126 entries, 0 to 244125\n",
      "Data columns (total 4 columns):\n",
      " #   Column           Non-Null Count   Dtype \n",
      "---  ------           --------------   ----- \n",
      " 0   event_name       244126 non-null  object\n",
      " 1   device_id_hash   244126 non-null  int64 \n",
      " 2   event_timestamp  244126 non-null  int64 \n",
      " 3   exp_id           244126 non-null  int64 \n",
      "dtypes: int64(3), object(1)\n",
      "memory usage: 7.5+ MB\n"
     ]
    }
   ],
   "source": [
    "logs=logs.rename(columns={\"EventName\":\"event_name\",\"DeviceIDHash\":\"device_id_hash\",\"EventTimestamp\":\"event_timestamp\",\"ExpId\":\"exp_id\"})\n",
    "logs.info()"
   ]
  },
  {
   "cell_type": "markdown",
   "metadata": {},
   "source": [
    "<div class=\"alert alert-success\">\n",
    "<h2> Комментарий ревьюера <a class=\"tocSkip\"> </h2>\n",
    "\n",
    "<b>Все отлично!👍:</b> Столбцы преобразованы. Круто, что используешь `.rename()` - метод позволяет изменять точечно столбцы, а не переназначать весь массив."
   ]
  },
  {
   "cell_type": "code",
   "execution_count": 4,
   "metadata": {},
   "outputs": [
    {
     "data": {
      "text/plain": [
       "413"
      ]
     },
     "execution_count": 4,
     "metadata": {},
     "output_type": "execute_result"
    }
   ],
   "source": [
    "logs.duplicated().sum()"
   ]
  },
  {
   "cell_type": "code",
   "execution_count": 5,
   "metadata": {},
   "outputs": [
    {
     "data": {
      "text/html": [
       "<div>\n",
       "<style scoped>\n",
       "    .dataframe tbody tr th:only-of-type {\n",
       "        vertical-align: middle;\n",
       "    }\n",
       "\n",
       "    .dataframe tbody tr th {\n",
       "        vertical-align: top;\n",
       "    }\n",
       "\n",
       "    .dataframe thead th {\n",
       "        text-align: right;\n",
       "    }\n",
       "</style>\n",
       "<table border=\"1\" class=\"dataframe\">\n",
       "  <thead>\n",
       "    <tr style=\"text-align: right;\">\n",
       "      <th></th>\n",
       "      <th>event_name</th>\n",
       "      <th>device_id_hash</th>\n",
       "      <th>event_timestamp</th>\n",
       "      <th>exp_id</th>\n",
       "    </tr>\n",
       "  </thead>\n",
       "  <tbody>\n",
       "    <tr>\n",
       "      <th>453</th>\n",
       "      <td>MainScreenAppear</td>\n",
       "      <td>5613408041324010552</td>\n",
       "      <td>1564474784</td>\n",
       "      <td>248</td>\n",
       "    </tr>\n",
       "    <tr>\n",
       "      <th>2350</th>\n",
       "      <td>CartScreenAppear</td>\n",
       "      <td>1694940645335807244</td>\n",
       "      <td>1564609899</td>\n",
       "      <td>248</td>\n",
       "    </tr>\n",
       "    <tr>\n",
       "      <th>3573</th>\n",
       "      <td>MainScreenAppear</td>\n",
       "      <td>434103746454591587</td>\n",
       "      <td>1564628377</td>\n",
       "      <td>248</td>\n",
       "    </tr>\n",
       "    <tr>\n",
       "      <th>4076</th>\n",
       "      <td>MainScreenAppear</td>\n",
       "      <td>3761373764179762633</td>\n",
       "      <td>1564631266</td>\n",
       "      <td>247</td>\n",
       "    </tr>\n",
       "    <tr>\n",
       "      <th>4803</th>\n",
       "      <td>MainScreenAppear</td>\n",
       "      <td>2835328739789306622</td>\n",
       "      <td>1564634641</td>\n",
       "      <td>248</td>\n",
       "    </tr>\n",
       "    <tr>\n",
       "      <th>...</th>\n",
       "      <td>...</td>\n",
       "      <td>...</td>\n",
       "      <td>...</td>\n",
       "      <td>...</td>\n",
       "    </tr>\n",
       "    <tr>\n",
       "      <th>242329</th>\n",
       "      <td>MainScreenAppear</td>\n",
       "      <td>8870358373313968633</td>\n",
       "      <td>1565206004</td>\n",
       "      <td>247</td>\n",
       "    </tr>\n",
       "    <tr>\n",
       "      <th>242332</th>\n",
       "      <td>PaymentScreenSuccessful</td>\n",
       "      <td>4718002964983105693</td>\n",
       "      <td>1565206005</td>\n",
       "      <td>247</td>\n",
       "    </tr>\n",
       "    <tr>\n",
       "      <th>242360</th>\n",
       "      <td>PaymentScreenSuccessful</td>\n",
       "      <td>2382591782303281935</td>\n",
       "      <td>1565206049</td>\n",
       "      <td>246</td>\n",
       "    </tr>\n",
       "    <tr>\n",
       "      <th>242362</th>\n",
       "      <td>CartScreenAppear</td>\n",
       "      <td>2382591782303281935</td>\n",
       "      <td>1565206049</td>\n",
       "      <td>246</td>\n",
       "    </tr>\n",
       "    <tr>\n",
       "      <th>242635</th>\n",
       "      <td>MainScreenAppear</td>\n",
       "      <td>4097782667445790512</td>\n",
       "      <td>1565206618</td>\n",
       "      <td>246</td>\n",
       "    </tr>\n",
       "  </tbody>\n",
       "</table>\n",
       "<p>413 rows × 4 columns</p>\n",
       "</div>"
      ],
      "text/plain": [
       "                     event_name       device_id_hash  event_timestamp  exp_id\n",
       "453            MainScreenAppear  5613408041324010552       1564474784     248\n",
       "2350           CartScreenAppear  1694940645335807244       1564609899     248\n",
       "3573           MainScreenAppear   434103746454591587       1564628377     248\n",
       "4076           MainScreenAppear  3761373764179762633       1564631266     247\n",
       "4803           MainScreenAppear  2835328739789306622       1564634641     248\n",
       "...                         ...                  ...              ...     ...\n",
       "242329         MainScreenAppear  8870358373313968633       1565206004     247\n",
       "242332  PaymentScreenSuccessful  4718002964983105693       1565206005     247\n",
       "242360  PaymentScreenSuccessful  2382591782303281935       1565206049     246\n",
       "242362         CartScreenAppear  2382591782303281935       1565206049     246\n",
       "242635         MainScreenAppear  4097782667445790512       1565206618     246\n",
       "\n",
       "[413 rows x 4 columns]"
      ]
     },
     "execution_count": 5,
     "metadata": {},
     "output_type": "execute_result"
    }
   ],
   "source": [
    "logs[logs.duplicated()]"
   ]
  },
  {
   "cell_type": "markdown",
   "metadata": {},
   "source": [
    "<div class=\"alert alert-info\">\n",
    "<h2> Комментарий студента <a class=\"tocSkip\"> </h2>\n",
    "\n",
    "Дубликатов нет, но можно все равно их убрать. Upd. Странно, наверное заново полностью не перезапускал. Дубликаты есть, но их не много и это скорее всего ошибка ситстемы - точно совпадает и время и событие, поэтому уберем\n",
    "</div>"
   ]
  },
  {
   "cell_type": "code",
   "execution_count": 6,
   "metadata": {},
   "outputs": [
    {
     "data": {
      "text/plain": [
       "event_name         0\n",
       "device_id_hash     0\n",
       "event_timestamp    0\n",
       "exp_id             0\n",
       "dtype: int64"
      ]
     },
     "execution_count": 6,
     "metadata": {},
     "output_type": "execute_result"
    }
   ],
   "source": [
    "logs = logs.drop_duplicates()\n",
    "logs.isna().sum()"
   ]
  },
  {
   "cell_type": "markdown",
   "metadata": {},
   "source": [
    "<div class=\"alert alert-success\">\n",
    "<h2> Комментарий ревьюера <a class=\"tocSkip\"> </h2>\n",
    "\n",
    "<b>Все отлично!👍</b> Проверили пропуски и дубликаты - молодец, что следишь за качеством данных. Полезным решением было бы также проверить долю дубликатов от общего числа строк таблицы - так мы смогли бы понять масштаб проблемы."
   ]
  },
  {
   "cell_type": "markdown",
   "metadata": {},
   "source": [
    "<div class=\"alert alert-block alert-danger\">\n",
    "<h2> Комментарий ревьюера <a class=\"tocSkip\"></h2>\n",
    "\n",
    "    \n",
    "<b>На доработку❌:</b>\n",
    "Перед удалением дубликатов их стоит посчитать и вывести на экран, чтобы убедиться в актуальности проблемы."
   ]
  },
  {
   "attachments": {
    "%D0%A1%D0%BD%D0%B8%D0%BC%D0%BE%D0%BA%20%D1%8D%D0%BA%D1%80%D0%B0%D0%BD%D0%B0%202023-10-05%20%D0%B2%2015.16.37.png": {
     "image/png": "[encoded data removed]"
    }
   },
   "cell_type": "markdown",
   "metadata": {},
   "source": [
    "<div class=\"alert alert-block alert-danger\">\n",
    "<h2> Комментарий ревьюера v.2 <a class=\"tocSkip\"></h2>\n",
    "\n",
    "    \n",
    "<b>На доработку❌:</b>\n",
    "\n",
    "Ну как же нет дубликатов, если есть?\n",
    "    \n",
    "![%D0%A1%D0%BD%D0%B8%D0%BC%D0%BE%D0%BA%20%D1%8D%D0%BA%D1%80%D0%B0%D0%BD%D0%B0%202023-10-05%20%D0%B2%2015.16.37.png](attachment:%D0%A1%D0%BD%D0%B8%D0%BC%D0%BE%D0%BA%20%D1%8D%D0%BA%D1%80%D0%B0%D0%BD%D0%B0%202023-10-05%20%D0%B2%2015.16.37.png)"
   ]
  },
  {
   "cell_type": "markdown",
   "metadata": {},
   "source": [
    "<div class=\"alert alert-success\">\n",
    "<h2> Комментарий ревьюера v.3 <a class=\"tocSkip\"> </h2>\n",
    "\n",
    "<b>Все отлично!👍:</b> Учтено."
   ]
  },
  {
   "cell_type": "code",
   "execution_count": 7,
   "metadata": {},
   "outputs": [
    {
     "name": "stdout",
     "output_type": "stream",
     "text": [
      "<class 'pandas.core.frame.DataFrame'>\n",
      "Int64Index: 243713 entries, 0 to 244125\n",
      "Data columns (total 6 columns):\n",
      " #   Column           Non-Null Count   Dtype         \n",
      "---  ------           --------------   -----         \n",
      " 0   event_name       243713 non-null  object        \n",
      " 1   device_id_hash   243713 non-null  int64         \n",
      " 2   event_timestamp  243713 non-null  int64         \n",
      " 3   exp_id           243713 non-null  int64         \n",
      " 4   datetime         243713 non-null  datetime64[ns]\n",
      " 5   date             243713 non-null  datetime64[ns]\n",
      "dtypes: datetime64[ns](2), int64(3), object(1)\n",
      "memory usage: 13.0+ MB\n"
     ]
    }
   ],
   "source": [
    "logs[\"datetime\"] = pd.to_datetime(logs[\"event_timestamp\"],unit='s')\n",
    "logs[\"date\"] =  pd.to_datetime(logs[\"datetime\"].apply(lambda x: x.date()))\n",
    "logs.info()"
   ]
  },
  {
   "cell_type": "markdown",
   "metadata": {},
   "source": [
    "<div class=\"alert alert-success\">\n",
    "<h2> Комментарий ревьюера <a class=\"tocSkip\"> </h2>\n",
    "\n",
    "<b>Все отлично!👍:</b> Признак времени события привели в нужный формат, выделили признак-дату - порядок!"
   ]
  },
  {
   "cell_type": "code",
   "execution_count": 8,
   "metadata": {},
   "outputs": [
    {
     "data": {
      "text/html": [
       "<div>\n",
       "<style scoped>\n",
       "    .dataframe tbody tr th:only-of-type {\n",
       "        vertical-align: middle;\n",
       "    }\n",
       "\n",
       "    .dataframe tbody tr th {\n",
       "        vertical-align: top;\n",
       "    }\n",
       "\n",
       "    .dataframe thead th {\n",
       "        text-align: right;\n",
       "    }\n",
       "</style>\n",
       "<table border=\"1\" class=\"dataframe\">\n",
       "  <thead>\n",
       "    <tr style=\"text-align: right;\">\n",
       "      <th></th>\n",
       "      <th>event_name</th>\n",
       "      <th>device_id_hash</th>\n",
       "      <th>event_timestamp</th>\n",
       "      <th>exp_id</th>\n",
       "      <th>datetime</th>\n",
       "      <th>date</th>\n",
       "    </tr>\n",
       "  </thead>\n",
       "  <tbody>\n",
       "    <tr>\n",
       "      <th>0</th>\n",
       "      <td>MainScreenAppear</td>\n",
       "      <td>4575588528974610257</td>\n",
       "      <td>1564029816</td>\n",
       "      <td>246</td>\n",
       "      <td>2019-07-25 04:43:36</td>\n",
       "      <td>2019-07-25</td>\n",
       "    </tr>\n",
       "    <tr>\n",
       "      <th>1</th>\n",
       "      <td>MainScreenAppear</td>\n",
       "      <td>7416695313311560658</td>\n",
       "      <td>1564053102</td>\n",
       "      <td>246</td>\n",
       "      <td>2019-07-25 11:11:42</td>\n",
       "      <td>2019-07-25</td>\n",
       "    </tr>\n",
       "    <tr>\n",
       "      <th>2</th>\n",
       "      <td>PaymentScreenSuccessful</td>\n",
       "      <td>3518123091307005509</td>\n",
       "      <td>1564054127</td>\n",
       "      <td>248</td>\n",
       "      <td>2019-07-25 11:28:47</td>\n",
       "      <td>2019-07-25</td>\n",
       "    </tr>\n",
       "    <tr>\n",
       "      <th>3</th>\n",
       "      <td>CartScreenAppear</td>\n",
       "      <td>3518123091307005509</td>\n",
       "      <td>1564054127</td>\n",
       "      <td>248</td>\n",
       "      <td>2019-07-25 11:28:47</td>\n",
       "      <td>2019-07-25</td>\n",
       "    </tr>\n",
       "    <tr>\n",
       "      <th>4</th>\n",
       "      <td>PaymentScreenSuccessful</td>\n",
       "      <td>6217807653094995999</td>\n",
       "      <td>1564055322</td>\n",
       "      <td>248</td>\n",
       "      <td>2019-07-25 11:48:42</td>\n",
       "      <td>2019-07-25</td>\n",
       "    </tr>\n",
       "    <tr>\n",
       "      <th>...</th>\n",
       "      <td>...</td>\n",
       "      <td>...</td>\n",
       "      <td>...</td>\n",
       "      <td>...</td>\n",
       "      <td>...</td>\n",
       "      <td>...</td>\n",
       "    </tr>\n",
       "    <tr>\n",
       "      <th>244121</th>\n",
       "      <td>MainScreenAppear</td>\n",
       "      <td>4599628364049201812</td>\n",
       "      <td>1565212345</td>\n",
       "      <td>247</td>\n",
       "      <td>2019-08-07 21:12:25</td>\n",
       "      <td>2019-08-07</td>\n",
       "    </tr>\n",
       "    <tr>\n",
       "      <th>244122</th>\n",
       "      <td>MainScreenAppear</td>\n",
       "      <td>5849806612437486590</td>\n",
       "      <td>1565212439</td>\n",
       "      <td>246</td>\n",
       "      <td>2019-08-07 21:13:59</td>\n",
       "      <td>2019-08-07</td>\n",
       "    </tr>\n",
       "    <tr>\n",
       "      <th>244123</th>\n",
       "      <td>MainScreenAppear</td>\n",
       "      <td>5746969938801999050</td>\n",
       "      <td>1565212483</td>\n",
       "      <td>246</td>\n",
       "      <td>2019-08-07 21:14:43</td>\n",
       "      <td>2019-08-07</td>\n",
       "    </tr>\n",
       "    <tr>\n",
       "      <th>244124</th>\n",
       "      <td>MainScreenAppear</td>\n",
       "      <td>5746969938801999050</td>\n",
       "      <td>1565212498</td>\n",
       "      <td>246</td>\n",
       "      <td>2019-08-07 21:14:58</td>\n",
       "      <td>2019-08-07</td>\n",
       "    </tr>\n",
       "    <tr>\n",
       "      <th>244125</th>\n",
       "      <td>OffersScreenAppear</td>\n",
       "      <td>5746969938801999050</td>\n",
       "      <td>1565212517</td>\n",
       "      <td>246</td>\n",
       "      <td>2019-08-07 21:15:17</td>\n",
       "      <td>2019-08-07</td>\n",
       "    </tr>\n",
       "  </tbody>\n",
       "</table>\n",
       "<p>243713 rows × 6 columns</p>\n",
       "</div>"
      ],
      "text/plain": [
       "                     event_name       device_id_hash  event_timestamp  exp_id  \\\n",
       "0              MainScreenAppear  4575588528974610257       1564029816     246   \n",
       "1              MainScreenAppear  7416695313311560658       1564053102     246   \n",
       "2       PaymentScreenSuccessful  3518123091307005509       1564054127     248   \n",
       "3              CartScreenAppear  3518123091307005509       1564054127     248   \n",
       "4       PaymentScreenSuccessful  6217807653094995999       1564055322     248   \n",
       "...                         ...                  ...              ...     ...   \n",
       "244121         MainScreenAppear  4599628364049201812       1565212345     247   \n",
       "244122         MainScreenAppear  5849806612437486590       1565212439     246   \n",
       "244123         MainScreenAppear  5746969938801999050       1565212483     246   \n",
       "244124         MainScreenAppear  5746969938801999050       1565212498     246   \n",
       "244125       OffersScreenAppear  5746969938801999050       1565212517     246   \n",
       "\n",
       "                  datetime       date  \n",
       "0      2019-07-25 04:43:36 2019-07-25  \n",
       "1      2019-07-25 11:11:42 2019-07-25  \n",
       "2      2019-07-25 11:28:47 2019-07-25  \n",
       "3      2019-07-25 11:28:47 2019-07-25  \n",
       "4      2019-07-25 11:48:42 2019-07-25  \n",
       "...                    ...        ...  \n",
       "244121 2019-08-07 21:12:25 2019-08-07  \n",
       "244122 2019-08-07 21:13:59 2019-08-07  \n",
       "244123 2019-08-07 21:14:43 2019-08-07  \n",
       "244124 2019-08-07 21:14:58 2019-08-07  \n",
       "244125 2019-08-07 21:15:17 2019-08-07  \n",
       "\n",
       "[243713 rows x 6 columns]"
      ]
     },
     "execution_count": 8,
     "metadata": {},
     "output_type": "execute_result"
    }
   ],
   "source": [
    "logs"
   ]
  },
  {
   "cell_type": "markdown",
   "metadata": {},
   "source": [
    "<div class=\"alert alert-warning\">\n",
    "    <h2> Комментарий ревьюера <a class=\"tocSkip\"> </h2>\n",
    "\n",
    "<b>Некоторые замечания и рекомендации⚠️:</b> \n",
    "\n",
    "Здесь заканчивается стрктурный блок работы - стоит сделать промежуточные выводы о проделанной работе в блоке."
   ]
  },
  {
   "cell_type": "markdown",
   "metadata": {},
   "source": [
    "<div class=\"alert alert-info\">\n",
    "<h2> Комментарий студента <a class=\"tocSkip\"> </h2>\n",
    "Данные получены, пропусков и дубликатов нет, данные переведены в подходящий формат\n",
    "</div>"
   ]
  },
  {
   "cell_type": "markdown",
   "metadata": {},
   "source": [
    "<div class=\"alert alert-success\">\n",
    "<h2> Комментарий ревьюера v.2 <a class=\"tocSkip\"> </h2>\n",
    "\n",
    "<b>Все отлично!👍:</b> Учтено."
   ]
  },
  {
   "cell_type": "markdown",
   "metadata": {},
   "source": [
    "## Изучение и проверка данных"
   ]
  },
  {
   "cell_type": "markdown",
   "metadata": {},
   "source": [
    "Всего событий в логе:"
   ]
  },
  {
   "cell_type": "code",
   "execution_count": 9,
   "metadata": {},
   "outputs": [
    {
     "data": {
      "text/plain": [
       "243713"
      ]
     },
     "execution_count": 9,
     "metadata": {},
     "output_type": "execute_result"
    }
   ],
   "source": [
    "events = logs[\"event_name\"].count()\n",
    "events"
   ]
  },
  {
   "cell_type": "markdown",
   "metadata": {},
   "source": [
    "<div class=\"alert alert-block alert-danger\">\n",
    "<h2> Комментарий ревьюера <a class=\"tocSkip\"></h2>\n",
    "\n",
    "    \n",
    "<b>На доработку❌:</b>\n",
    "Результат не выведен на экран."
   ]
  },
  {
   "cell_type": "markdown",
   "metadata": {},
   "source": [
    "<div class=\"alert alert-success\">\n",
    "<h2> Комментарий ревьюера v.2 <a class=\"tocSkip\"> </h2>\n",
    "\n",
    "<b>Все отлично!👍:</b> Учтено."
   ]
  },
  {
   "cell_type": "markdown",
   "metadata": {},
   "source": [
    "Всего типов событий в логе:"
   ]
  },
  {
   "cell_type": "code",
   "execution_count": 10,
   "metadata": {},
   "outputs": [
    {
     "data": {
      "text/plain": [
       "array(['MainScreenAppear', 'PaymentScreenSuccessful', 'CartScreenAppear',\n",
       "       'OffersScreenAppear', 'Tutorial'], dtype=object)"
      ]
     },
     "execution_count": 10,
     "metadata": {},
     "output_type": "execute_result"
    }
   ],
   "source": [
    "logs[\"event_name\"].unique() #5"
   ]
  },
  {
   "cell_type": "markdown",
   "metadata": {},
   "source": [
    "Всего пользователей в логе:"
   ]
  },
  {
   "cell_type": "code",
   "execution_count": 11,
   "metadata": {},
   "outputs": [
    {
     "data": {
      "text/plain": [
       "7551"
      ]
     },
     "execution_count": 11,
     "metadata": {},
     "output_type": "execute_result"
    }
   ],
   "source": [
    "users = len(logs[\"device_id_hash\"].unique())\n",
    "users"
   ]
  },
  {
   "cell_type": "markdown",
   "metadata": {},
   "source": [
    "<div class=\"alert alert-block alert-danger\">\n",
    "<h2> Комментарий ревьюера <a class=\"tocSkip\"></h2>\n",
    "\n",
    "    \n",
    "<b>На доработку❌:</b>\n",
    "Результат не выведен на экран."
   ]
  },
  {
   "cell_type": "markdown",
   "metadata": {},
   "source": [
    "<div class=\"alert alert-success\">\n",
    "<h2> Комментарий ревьюера v.2 <a class=\"tocSkip\"> </h2>\n",
    "\n",
    "<b>Все отлично!👍:</b> Учтено."
   ]
  },
  {
   "cell_type": "markdown",
   "metadata": {},
   "source": [
    "В среднем событий на пользователя:"
   ]
  },
  {
   "cell_type": "code",
   "execution_count": 12,
   "metadata": {
    "scrolled": true
   },
   "outputs": [
    {
     "name": "stdout",
     "output_type": "stream",
     "text": [
      "32 mean\n",
      "20.0 median\n",
      "2307 max\n",
      "1 min\n"
     ]
    }
   ],
   "source": [
    "\n",
    "print(round(logs.groupby(\"device_id_hash\",as_index = False)[\"event_name\"].count()[\"event_name\"].mean()),\"mean\")\n",
    "print(logs.groupby(\"device_id_hash\",as_index = False)[\"event_name\"].count()[\"event_name\"].median(),\"median\")\n",
    "print(logs.groupby(\"device_id_hash\",as_index = False)[\"event_name\"].count()[\"event_name\"].max(),\"max\")\n",
    "print(logs.groupby(\"device_id_hash\",as_index = False)[\"event_name\"].count()[\"event_name\"].min(),\"min\")\n"
   ]
  },
  {
   "cell_type": "markdown",
   "metadata": {},
   "source": [
    "Распределение немного смещено в большую сторону, есть выбросы"
   ]
  },
  {
   "cell_type": "markdown",
   "metadata": {},
   "source": [
    "<div class=\"alert alert-success\">\n",
    "<h2> Комментарий ревьюера <a class=\"tocSkip\"> </h2>\n",
    "\n",
    "<b>Все отлично!👍:</b> Среднее количество событий на пользователя определено верно."
   ]
  },
  {
   "cell_type": "markdown",
   "metadata": {},
   "source": [
    "<div class=\"alert alert-warning\">\n",
    "    <h2> Комментарий ревьюера <a class=\"tocSkip\"> </h2>\n",
    "    \n",
    "<b>Некоторые замечания и рекомендации⚠️:</b> Когда мы говорим количество событий, их стоит округлять до целого: событие может быть либо совершено целиком, либо не совершено. \n",
    "        \n",
    "Также просто среднее количество событий мало говорит нам об особенностях распределения количества событий на пользователя. Чтобы получить наиболее полную картину, стоит:\n",
    "- посчитать медианное количество событий на пользователя и сравнить со средним - это даст понимание того, какой характер имеет распределение: нормальное или смещённое;\n",
    "- посчитать минимальное и максимальное количество событий на пользователя - это даст понимание того, есть ли в данных аномальные пользователи.\n",
    "        \n",
    "Давай немного расширим анализ по этому направлению?\n",
    "        \n",
    "</div>"
   ]
  },
  {
   "cell_type": "markdown",
   "metadata": {},
   "source": [
    "<div class=\"alert alert-warning\">\n",
    "    <h2> Комментарий ревьюера v.2 <a class=\"tocSkip\"> </h2>\n",
    "    \n",
    "<b>Некоторые замечания и рекомендации⚠️:</b> Осталось округлить среднее:)"
   ]
  },
  {
   "cell_type": "markdown",
   "metadata": {},
   "source": [
    "<div class=\"alert alert-success\">\n",
    "<h2> Комментарий ревьюера v.3 <a class=\"tocSkip\"> </h2>\n",
    "\n",
    "<b>Все отлично!👍:</b> Учтено."
   ]
  },
  {
   "cell_type": "markdown",
   "metadata": {},
   "source": [
    "Максимальная и минимальная дата"
   ]
  },
  {
   "cell_type": "code",
   "execution_count": 13,
   "metadata": {},
   "outputs": [
    {
     "name": "stdout",
     "output_type": "stream",
     "text": [
      "первая дата 2019-07-25 00:00:00\n",
      "последняя дата 2019-08-07 00:00:00\n"
     ]
    }
   ],
   "source": [
    "print(\"первая дата\",logs[\"date\"].min())\n",
    "print(\"последняя дата\",logs[\"date\"].max())"
   ]
  },
  {
   "cell_type": "markdown",
   "metadata": {},
   "source": [
    "Как меняется количество данных"
   ]
  },
  {
   "cell_type": "code",
   "execution_count": 14,
   "metadata": {},
   "outputs": [
    {
     "data": {
      "image/png": "[encoded data removed]",
      "text/plain": [
       "<Figure size 432x288 with 1 Axes>"
      ]
     },
     "metadata": {
      "needs_background": "light"
     },
     "output_type": "display_data"
    },
    {
     "data": {
      "image/png": "[encoded data removed]",
      "text/plain": [
       "<Figure size 432x288 with 1 Axes>"
      ]
     },
     "metadata": {
      "needs_background": "light"
     },
     "output_type": "display_data"
    },
    {
     "data": {
      "image/png": "[encoded data removed]",
      "text/plain": [
       "<Figure size 432x288 with 1 Axes>"
      ]
     },
     "metadata": {
      "needs_background": "light"
     },
     "output_type": "display_data"
    }
   ],
   "source": [
    "for group in logs[\"exp_id\"].unique():\n",
    "    logs.query(\"exp_id == @group\").groupby(\"date\",as_index=False).count().plot.bar(x=\"date\",y=\"event_name\")\n",
    "    plt.ylabel(\"количество данных\")\n",
    "    plt.xlabel(\"дата\")\n",
    "    plt.title(f\"Группа {group}\");"
   ]
  },
  {
   "cell_type": "markdown",
   "metadata": {},
   "source": [
    "Основная чать данных начинается с 1 августа, все что до этого можно отбросить"
   ]
  },
  {
   "cell_type": "code",
   "execution_count": 15,
   "metadata": {},
   "outputs": [],
   "source": [
    "main_logs = logs.query(\"date >= '2019-08-01'\").copy()"
   ]
  },
  {
   "cell_type": "markdown",
   "metadata": {},
   "source": [
    "<div class=\"alert alert-success\">\n",
    "<h2> Комментарий ревьюера <a class=\"tocSkip\"> </h2>\n",
    "\n",
    "<b>Все отлично!👍:</b> Оценили период проведения теста, нашли и отбросили нерелевантный период - молодец, что используешь гистограммы для поиска нерелевантного периода."
   ]
  },
  {
   "cell_type": "markdown",
   "metadata": {},
   "source": [
    "<div class=\"alert alert-warning\">\n",
    "    <h2> Комментарий ревьюера <a class=\"tocSkip\"> </h2>\n",
    "    \n",
    "<b>Некоторые замечания и рекомендации⚠️:</b> \n",
    "\n",
    "Делая копию или срез какой-то таблицы, стоит использовать метод `copy()`: используя простое присвивание вида `a=b`, мы в переменную `a` помещаем не новый и самостоятельный объект в памяти, а всего лишь новую ссылку на объект в памяти, на который ссылается `b`. Как итог, внеся изменения в `a`, ты увидишь их и в `b`, и наоборот. Метод `copy()` позволяет создавать именно новые объекты в памяти."
   ]
  },
  {
   "cell_type": "markdown",
   "metadata": {},
   "source": [
    "<div class=\"alert alert-success\">\n",
    "<h2> Комментарий ревьюера v.2 <a class=\"tocSkip\"> </h2>\n",
    "\n",
    "<b>Все отлично!👍:</b> Учтено."
   ]
  },
  {
   "cell_type": "code",
   "execution_count": 16,
   "metadata": {},
   "outputs": [
    {
     "name": "stdout",
     "output_type": "stream",
     "text": [
      "Потеря событий: 2826 , 1.1595606307418973 %\n",
      "Потеря пользователей: 17 , 0.22513574361011787 %\n"
     ]
    }
   ],
   "source": [
    "lost_events = events - main_logs[\"event_name\"].count()\n",
    "lost_users = users - len(main_logs[\"device_id_hash\"].unique())\n",
    "print(\"Потеря событий:\",lost_events,\",\",lost_events*100/events,\"%\")\n",
    "print(\"Потеря пользователей:\",lost_users,\",\",lost_users*100/users,\"%\")"
   ]
  },
  {
   "cell_type": "markdown",
   "metadata": {},
   "source": [
    "<div class=\"alert alert-success\">\n",
    "<h2> Комментарий ревьюера <a class=\"tocSkip\"> </h2>\n",
    "\n",
    "<b>Все отлично!👍:</b> Оценили потери пользователей и событий в абсолютном и относительном выражении - отличное решение, которое поможет получить полное представление о масштабах потерь."
   ]
  },
  {
   "cell_type": "markdown",
   "metadata": {},
   "source": [
    "Потери допустимые, продолжаем"
   ]
  },
  {
   "cell_type": "code",
   "execution_count": 17,
   "metadata": {},
   "outputs": [
    {
     "data": {
      "text/plain": [
       "exp_id\n",
       "246    2484\n",
       "247    2513\n",
       "248    2537\n",
       "Name: device_id_hash, dtype: int64"
      ]
     },
     "execution_count": 17,
     "metadata": {},
     "output_type": "execute_result"
    }
   ],
   "source": [
    "main_logs.groupby(\"exp_id\")[\"device_id_hash\"].nunique()"
   ]
  },
  {
   "cell_type": "markdown",
   "metadata": {},
   "source": [
    "Все пользователи на месте"
   ]
  },
  {
   "cell_type": "markdown",
   "metadata": {},
   "source": [
    "<div class=\"alert alert-block alert-danger\">\n",
    "<h2> Комментарий ревьюера <a class=\"tocSkip\"></h2>\n",
    "\n",
    "    \n",
    "<b>На доработку❌:</b> Обрати внимание, что посчитаны не пользователи, а строки, то есть события."
   ]
  },
  {
   "cell_type": "markdown",
   "metadata": {},
   "source": [
    "<div class=\"alert alert-success\">\n",
    "<h2> Комментарий ревьюера v.2 <a class=\"tocSkip\"> </h2>\n",
    "\n",
    "<b>Все отлично!👍:</b> Учтено."
   ]
  },
  {
   "cell_type": "markdown",
   "metadata": {},
   "source": [
    "<div class=\"alert alert-warning\">\n",
    "    <h2> Комментарий ревьюера <a class=\"tocSkip\"> </h2>\n",
    "\n",
    "<b>Некоторые замечания и рекомендации⚠️:</b> \n",
    "\n",
    "Здесь заканчивается стрктурный блок работы - стоит сделать промежуточные выводы о проделанной работе в блоке."
   ]
  },
  {
   "cell_type": "markdown",
   "metadata": {},
   "source": [
    "\n",
    "<div class=\"alert alert-info\">\n",
    "<h2> Комментарий студента <a class=\"tocSkip\"> </h2>\n",
    "Не все дни оказались одинаково полезны, оставил данные 01.08 - 07.08. Потеряли 1% строк и 17 пользователей. Группы остались примерно одинакового размера\n",
    "</div>"
   ]
  },
  {
   "cell_type": "markdown",
   "metadata": {},
   "source": [
    "<div class=\"alert alert-success\">\n",
    "<h2> Комментарий ревьюера v.2 <a class=\"tocSkip\"> </h2>\n",
    "\n",
    "<b>Все отлично!👍:</b> Учтено."
   ]
  },
  {
   "cell_type": "markdown",
   "metadata": {},
   "source": [
    "## Изучение воронки событий"
   ]
  },
  {
   "cell_type": "markdown",
   "metadata": {},
   "source": [
    "Как часто встречаются события?"
   ]
  },
  {
   "cell_type": "code",
   "execution_count": 18,
   "metadata": {},
   "outputs": [
    {
     "data": {
      "text/plain": [
       "event_name\n",
       "MainScreenAppear           117328\n",
       "OffersScreenAppear          46333\n",
       "CartScreenAppear            42303\n",
       "PaymentScreenSuccessful     33918\n",
       "Tutorial                     1005\n",
       "Name: device_id_hash, dtype: int64"
      ]
     },
     "execution_count": 18,
     "metadata": {},
     "output_type": "execute_result"
    }
   ],
   "source": [
    "main_logs.groupby(\"event_name\").count()[\"device_id_hash\"].sort_values(ascending=False)"
   ]
  },
  {
   "cell_type": "markdown",
   "metadata": {},
   "source": [
    "<div class=\"alert alert-success\">\n",
    "<h2> Комментарий ревьюера <a class=\"tocSkip\"> </h2>\n",
    "\n",
    "<b>Все отлично!👍</b>\n",
    "    \n",
    "Оценили частоту совершения каждого из событий - тут всё верно."
   ]
  },
  {
   "cell_type": "markdown",
   "metadata": {},
   "source": [
    "<div class=\"alert alert-block alert-danger\">\n",
    "<h2> Комментарий ревьюера <a class=\"tocSkip\"></h2>\n",
    "\n",
    "    \n",
    "<b>На доработку❌:</b>\n",
    "\n",
    "Стоит добавить промежуточный вывод по итогу анализа: расчёты, которые не сопровождаются выводом аналитика, имеют немного ценности для заказчика, так как он не всегда может интерпретировать выводы самостоятельно."
   ]
  },
  {
   "cell_type": "markdown",
   "metadata": {},
   "source": [
    "\n",
    "<div class=\"alert alert-info\">\n",
    "<h2> Комментарий студента <a class=\"tocSkip\"> </h2>\n",
    "Не то, что бы здесь уже есть что анализировать, но ок. Из получившейся таблицы видно воронку и потери событий в ней. Больше всего событий происходит на главном экране, но предложения и корзину видят сильно меньше людей. + довольно большая потеря событий при переходе с корзины на страницу с готовой покупкой. Люди забывают, что они что-то хотели купить или оплата неудобная?\n",
    "</div>"
   ]
  },
  {
   "cell_type": "markdown",
   "metadata": {},
   "source": [
    "<div class=\"alert alert-success\">\n",
    "<h2> Комментарий ревьюера v.2 <a class=\"tocSkip\"> </h2>\n",
    "\n",
    "<b>Все отлично!👍:</b> Учтено."
   ]
  },
  {
   "cell_type": "markdown",
   "metadata": {},
   "source": [
    "Сколько уникальных пользователей хоть раз совершали это событыие?"
   ]
  },
  {
   "cell_type": "code",
   "execution_count": 19,
   "metadata": {},
   "outputs": [
    {
     "name": "stdout",
     "output_type": "stream",
     "text": [
      "event_name\n",
      "MainScreenAppear           7419\n",
      "OffersScreenAppear         4593\n",
      "CartScreenAppear           3734\n",
      "PaymentScreenSuccessful    3539\n",
      "Tutorial                    840\n",
      "Name: device_id_hash, dtype: int64\n",
      "MainScreenAppear 98.47358640828246\n",
      "OffersScreenAppear 60.96363153703212\n",
      "CartScreenAppear 49.5619856649854\n",
      "PaymentScreenSuccessful 46.973719139899124\n",
      "Tutorial 11.149455800371648\n"
     ]
    }
   ],
   "source": [
    "funnel = main_logs.groupby(\"event_name\")[\"device_id_hash\"].nunique().sort_values(ascending=False)\n",
    "print(funnel)\n",
    "total = main_logs[\"device_id_hash\"].nunique()\n",
    "print(\"MainScreenAppear\",funnel[0]*100/total)\n",
    "print(\"OffersScreenAppear\",funnel[1]*100/total)\n",
    "print(\"CartScreenAppear\",funnel[2]*100/total)\n",
    "print(\"PaymentScreenSuccessful\",funnel[3]*100/total)\n",
    "print(\"Tutorial\",funnel[4]*100/total)"
   ]
  },
  {
   "cell_type": "markdown",
   "metadata": {},
   "source": [
    "<div class=\"alert alert-block alert-danger\">\n",
    "<h2> Комментарий ревьюера <a class=\"tocSkip\"></h2>\n",
    "\n",
    "    \n",
    "<b>На доработку❌:</b>\n",
    "\n",
    "Посчитаны только пользователи на каждом этапе воронки, но нет оценки доли этих пользователей - см.условие проекта."
   ]
  },
  {
   "cell_type": "markdown",
   "metadata": {},
   "source": [
    "<div class=\"alert alert-success\">\n",
    "<h2> Комментарий ревьюера v.2 <a class=\"tocSkip\"> </h2>\n",
    "\n",
    "<b>Все отлично!👍:</b> Учтено."
   ]
  },
  {
   "cell_type": "markdown",
   "metadata": {},
   "source": [
    "<div class=\"alert alert-warning\">\n",
    "    <h2> Комментарий ревьюера <a class=\"tocSkip\"> </h2>\n",
    "    \n",
    "<b>Некоторые замечания и рекомендации⚠️:</b> \n",
    "\n",
    "Обрати также внимание на первый этап воронки, когда посчитаешь долю - будет ли логичным полученное значение и как оно могло получиться?"
   ]
  },
  {
   "cell_type": "markdown",
   "metadata": {},
   "source": [
    "<div class=\"alert alert-info\">\n",
    "<h2> Комментарий студента <a class=\"tocSkip\"> </h2>\n",
    "Некоторые пользователи пропустили главный экран, возможно они пользовались приложением до начала экперимента или перешли по прямой ссылке на предложение (если такой функционал есть).\n",
    "</div>"
   ]
  },
  {
   "cell_type": "markdown",
   "metadata": {},
   "source": [
    "<div class=\"alert alert-success\">\n",
    "<h2> Комментарий ревьюера v.2 <a class=\"tocSkip\"> </h2>\n",
    "\n",
    "<b>Все отлично!👍:</b> Верно, это основная гипотеза - наличие ссылки, ведущей сразу на товар в обход главного экрана. То, что это мобильное приложение, не отменяет этот сценарий - это может быть внешняя ссылка:)\n",
    "    \n",
    "Ещё гипотезы:\n",
    "- техническая ошибка: событие на самом деле было совершено, но по каким-то причинам не было отслежено (на практике примеры таких пользователей стоит показать разработчикам и убедиться, что нет ошибки);\n",
    "- разные периоды анализа: ранее мы отфильтровали нерелевантный период по дате совершения события, поэтому потерянные события с главным экраном просто могли остаться в нерелевантном периоде эксперимента (это можно проверить самостоятельно)."
   ]
  },
  {
   "cell_type": "markdown",
   "metadata": {},
   "source": [
    "Предполагаю, что события идут так: MainScreenAppear -> OffersScreenAppear -> CartScreenAppear -> PaymentScreenSuccessful. tutorial - не обязательно событие, скорее всего кнопочка обучения где-нибудь в углу экрана."
   ]
  },
  {
   "cell_type": "markdown",
   "metadata": {},
   "source": [
    "<div class=\"alert alert-success\">\n",
    "<h2> Комментарий ревьюера <a class=\"tocSkip\"> </h2>\n",
    "\n",
    "<b>Все отлично!👍:</b> Последовательность событий определена верно! Также верно определена роль события `Tutorial` в воронке - действительно это событие может быть вызвано на любом этапе воронки, поэтому как обязательное событие его не стоит рассматривать."
   ]
  },
  {
   "cell_type": "code",
   "execution_count": 20,
   "metadata": {},
   "outputs": [
    {
     "name": "stdout",
     "output_type": "stream",
     "text": [
      "Потери MainScreenAppear -> OffersScreenAppear: 2826 пользователей, 38.091386979377276% этот этап\n",
      "Потери OffersScreenAppear -> CartScreenAppear: 859 пользователей, 18.702373176573047% этот этап\n",
      "Потери CartScreenAppear -> PaymentScreenSuccessful: 195 пользователей, 5.222281735404392% этот этап\n"
     ]
    }
   ],
   "source": [
    "print(f\"Потери MainScreenAppear -> OffersScreenAppear: {funnel[0]-funnel[1]} пользователей, \\\n",
    "{(funnel[0]-funnel[1])*100/funnel[0]}% этот этап\")\n",
    "print(f\"Потери OffersScreenAppear -> CartScreenAppear: {funnel[1]-funnel[2]} пользователей, \\\n",
    "{(funnel[1]-funnel[2])*100/funnel[1]}% этот этап\")\n",
    "print(f\"Потери CartScreenAppear -> PaymentScreenSuccessful: {funnel[2]-funnel[3]} пользователей, \\\n",
    "{(funnel[2]-funnel[3])*100/funnel[2]}% этот этап\")\n"
   ]
  },
  {
   "cell_type": "markdown",
   "metadata": {},
   "source": [
    "<div class=\"alert alert-success\">\n",
    "<h2> Комментарий ревьюера <a class=\"tocSkip\"> </h2>\n",
    "\n",
    "<b>Все отлично!👍:</b> Было бы полезно также построить воронку в `plotly` - это интерактивные графики, которые дают дополнительную аналитику при взаимодействии с ними, и в целом сами по себе они довольно визуально красивые, поэтому пользуются популярностью при анализе воронок событий. \n",
    "    \n",
    "На график также легко добавляются основные конверсии - их можно отобразить на графике воронки, используя параметр `textinfo()` со значением `value+percent initial+percent previous`.\n",
    "    \n",
    "Также не забудь, пожалуйста, про оформление графика - нужно подписать ось Y и дать графику название. За это отвечает метод `.update_layout()` с параметрами `title` и `yaxis_title` соответственно.\n",
    "    \n",
    "Рекомендую посмотреть вот этот туториал по работе с воронками в `plotly`: https://plotly.com/python/funnel-charts/. Тут есть очень много хороших примеров, которые ты можешь взять за основу для этого проекта:)"
   ]
  },
  {
   "cell_type": "markdown",
   "metadata": {},
   "source": [
    "Больше всего теряем на первом этапе -  MainScreenAppear -> OffersScreenAppear"
   ]
  },
  {
   "cell_type": "markdown",
   "metadata": {},
   "source": [
    "<div class=\"alert alert-success\">\n",
    "<h2> Комментарий ревьюера <a class=\"tocSkip\"> </h2>\n",
    "\n",
    "<b>Все отлично!👍:</b> Верно, именно здесь происходит наибольший отвал. Полезно также было бы порассуждать о причинах."
   ]
  },
  {
   "cell_type": "code",
   "execution_count": 21,
   "metadata": {},
   "outputs": [
    {
     "data": {
      "text/plain": [
       "0.47"
      ]
     },
     "execution_count": 21,
     "metadata": {},
     "output_type": "execute_result"
    }
   ],
   "source": [
    "round(funnel[3]/total,2)"
   ]
  },
  {
   "cell_type": "markdown",
   "metadata": {},
   "source": [
    "47 % пользователей доходит от захода на сайт до покупки"
   ]
  },
  {
   "cell_type": "markdown",
   "metadata": {},
   "source": [
    "<div class=\"alert alert-block alert-danger\">\n",
    "<h2> Комментарий ревьюера <a class=\"tocSkip\"></h2>\n",
    "\n",
    "    \n",
    "<b>На доработку❌:</b>\n",
    "\n",
    "Оценка выполнена неверно: нам нужно поделить количество пользователей, совершивших покупку, на количество пользователей в эксперименте."
   ]
  },
  {
   "cell_type": "markdown",
   "metadata": {},
   "source": [
    "<div class=\"alert alert-info\">\n",
    "<h2> Комментарий студента <a class=\"tocSkip\"> </h2>\n",
    "51,5 % пользователей доходит от захода на сайт до покупки. Upd. Доля пользователей, дошедших до покупки = 0.47\n",
    "</div>"
   ]
  },
  {
   "cell_type": "markdown",
   "metadata": {},
   "source": [
    "<div class=\"alert alert-block alert-danger\">\n",
    "<h2> Комментарий ревьюера v.2 <a class=\"tocSkip\"></h2>\n",
    "\n",
    "    \n",
    "<b>На доработку❌:</b>\n",
    "\n",
    "Ты считаешь относительную разницу, нужно посчитать долю - для этого одно нужно просто поделить на другое."
   ]
  },
  {
   "cell_type": "markdown",
   "metadata": {},
   "source": [
    "<div class=\"alert alert-success\">\n",
    "<h2> Комментарий ревьюера v.3 <a class=\"tocSkip\"> </h2>\n",
    "\n",
    "<b>Все отлично!👍:</b> Учтено."
   ]
  },
  {
   "cell_type": "markdown",
   "metadata": {},
   "source": [
    "## Изучение результатов эксперимента"
   ]
  },
  {
   "cell_type": "markdown",
   "metadata": {},
   "source": [
    "Количество пользователей по группам"
   ]
  },
  {
   "cell_type": "code",
   "execution_count": 22,
   "metadata": {},
   "outputs": [
    {
     "data": {
      "text/plain": [
       "exp_id\n",
       "248    2537\n",
       "247    2513\n",
       "246    2484\n",
       "Name: device_id_hash, dtype: int64"
      ]
     },
     "execution_count": 22,
     "metadata": {},
     "output_type": "execute_result"
    }
   ],
   "source": [
    "main_logs.groupby(\"exp_id\")[\"device_id_hash\"].nunique().sort_values(ascending=False)"
   ]
  },
  {
   "cell_type": "markdown",
   "metadata": {},
   "source": [
    "<div class=\"alert alert-success\">\n",
    "<h2> Комментарий ревьюера <a class=\"tocSkip\"> </h2>\n",
    "\n",
    "<b>Все отлично!👍:</b> Пользователи по группам посчитаны корректно."
   ]
  },
  {
   "cell_type": "code",
   "execution_count": 23,
   "metadata": {},
   "outputs": [],
   "source": [
    "# for user in main_logs[\"device_id_hash\"].unique():\n",
    "#     count = 0\n",
    "#     if user in main_logs.query(\"exp_id == 246\")[\"device_id_hash\"]:\n",
    "#         count+=1\n",
    "#     if user in main_logs.query(\"exp_id == 247\")[\"device_id_hash\"]:\n",
    "#         count+=1\n",
    "#     if user in main_logs.query(\"exp_id == 248\")[\"device_id_hash\"]:\n",
    "#         count+=1\n",
    "#     if count > 1:\n",
    "#         print(user)"
   ]
  },
  {
   "cell_type": "markdown",
   "metadata": {},
   "source": [
    "<div class=\"alert alert-info\">\n",
    "<h2> Комментарий студента <a class=\"tocSkip\"> </h2>\n",
    "Таких пользователей нет, но код не самый оптимизированный\n",
    "</div>"
   ]
  },
  {
   "cell_type": "markdown",
   "metadata": {},
   "source": [
    "<div class=\"alert alert-block alert-danger\">\n",
    "<h2> Комментарий ревьюера <a class=\"tocSkip\"></h2>\n",
    "\n",
    "    \n",
    "<b>На доработку❌:</b>\n",
    "\n",
    "Очень важно также проверить, нет ли в данных пользователей, участвовавших в нескольких группах теста одновременно - это иногда случается в реальных А/В тестах из-за технических ошибок в распределяющей системе, и такие моменты важно отлавливать, потому что пользователи, участвующие в нескольких группах, не позволят проверсти корректное сравнение конверсии между группами: если, например, пользователь, участвующий в обоих группах, совершил целевое событие, мы не сможем оценить, повлияло на это нововведение в системе, или это стандартное повдение пользователя.\n",
    "    \n",
    "Если такие пользователи найдутся, тебе, как аналитику, важно сделать вывод и принять решение о том, как дальше работать с такими пользователями - удалить из данных или продолжить работать с данными с учётом таких пользователей.\n",
    "        \n",
    "</div>\n",
    "    "
   ]
  },
  {
   "cell_type": "markdown",
   "metadata": {},
   "source": [
    "<div class=\"alert alert-success\">\n",
    "<h2> Комментарий ревьюера v.2 <a class=\"tocSkip\"> </h2>\n",
    "\n",
    "<b>Все отлично!👍:</b>Могу порекомендовать такие решения:\n",
    "- группируем данные на уровне пользователя, считаем уникальные группы и фильтруем тех, у кого их больше одной;\n",
    "- создаём массивы с уникальными пользователями групп А и В и используем метод `np.intersect1d()` для поиска пользователей, которые есть в обоих массивах;\n",
    "- создаём `pd.Series` в виде столбца `visitor_id` для каждой группы и используем `merge()` типа `inner` - в итоговой переменной останутся пользователи из обоих переменных;\n",
    "- использовать пересечение множеств: `set(a)&set(b)&set(c)`.\n",
    "    \n",
    "А вот циклами в `Pandas` лучше не пользоваться - это антипаттерн, от которого стоит избавляться: итерирование по строкам может быть ресурсозатратным, особенно если речь о больших таблицах."
   ]
  },
  {
   "cell_type": "markdown",
   "metadata": {},
   "source": [
    "проверяем группы A/A Теста\n",
    "- Нулевая гипотеза: доли уникальных посетителей, побывавших на этапе воронки, одинаковы.\n",
    "- Альтернативная гипотеза: доли уникальных посетителей, побывавших на этапе воронки, различаются. \n",
    "\n",
    "alpha = 0.05"
   ]
  },
  {
   "cell_type": "markdown",
   "metadata": {},
   "source": [
    "<div class=\"alert alert-success\">\n",
    "<h2> Комментарий ревьюера <a class=\"tocSkip\"> </h2>\n",
    "\n",
    "<b>Все отлично!👍:</b> Гипотезы сформулированы корректно, уровень значимости указан."
   ]
  },
  {
   "cell_type": "markdown",
   "metadata": {},
   "source": [
    "Смотрим все переходы с одного экрана на другой"
   ]
  },
  {
   "cell_type": "markdown",
   "metadata": {},
   "source": [
    "<div class=\"alert alert-block alert-danger\">\n",
    "<h2> Комментарий ревьюера <a class=\"tocSkip\"></h2>\n",
    "\n",
    "    \n",
    "<b>На доработку❌:</b>\n",
    "\n",
    "Нам нужно проверять отношение каждого шага воронки к общему количеству участников теста, всё в разрезе групп. То есть на одну пару групп будет 4 гипотезы (`Tutorial` не проверяем)."
   ]
  },
  {
   "cell_type": "markdown",
   "metadata": {},
   "source": [
    "<div class=\"alert alert-success\">\n",
    "<h2> Комментарий ревьюера v.2 <a class=\"tocSkip\"> </h2>\n",
    "\n",
    "<b>Все отлично!👍:</b> Учтено."
   ]
  },
  {
   "cell_type": "code",
   "execution_count": 24,
   "metadata": {},
   "outputs": [
    {
     "name": "stdout",
     "output_type": "stream",
     "text": [
      "Всего в группе -> MainScreenAppear p-значение:  0.7570597232046099\n",
      "Не получилось отвергнуть нулевую гипотезу, нет оснований считать доли разными\n",
      "Всего в группе -> OffersScreenAppear p-значение:  0.2480954578522181\n",
      "Не получилось отвергнуть нулевую гипотезу, нет оснований считать доли разными\n",
      "Всего в группе -> CartScreenAppear p-значение:  0.22883372237997213\n",
      "Не получилось отвергнуть нулевую гипотезу, нет оснований считать доли разными\n",
      "Всего в группе -> PaymentScreenSuccessful p-значение:  0.11456679313141849\n",
      "Не получилось отвергнуть нулевую гипотезу, нет оснований считать доли разными\n"
     ]
    }
   ],
   "source": [
    "def check_difference(a1,a2):\n",
    "\n",
    "    alpha = 0.05\n",
    "    for i in range(0,4):\n",
    "       # trials = np.array([a1.groupby(\"event_name\")[\"device_id_hash\"].nunique().sort_values(ascending=False)[i-1], #Главное окно\n",
    "       #           a2.groupby(\"event_name\")[\"device_id_hash\"].nunique().sort_values(ascending=False)[i-1]])\n",
    "        trials = np.array([a1[\"device_id_hash\"].nunique(),a2[\"device_id_hash\"].nunique()]) #всего пользователей\n",
    "        successes = np.array([a1.groupby(\"event_name\")[\"device_id_hash\"].nunique().sort_values(ascending=False)[i], #Окно с предложениями\n",
    "                  a2.groupby(\"event_name\")[\"device_id_hash\"].nunique().sort_values(ascending=False)[i]])\n",
    "        p1 = successes[0]/trials[0]\n",
    "        p2 = successes[1]/trials[1]\n",
    "        p_combined = (successes[0]+successes[1])/(trials[0]+trials[1])\n",
    "        difference = p1 - p2 \n",
    "        z_value = difference / mth.sqrt(p_combined * (1 - p_combined) * (1/trials[0] + 1/trials[1]))\n",
    "\n",
    "        distr = st.norm(0, 1)  \n",
    "        p_value = (1 - distr.cdf(abs(z_value))) * 2\n",
    "\n",
    "        print(\"Всего в группе\",\"->\",a1.groupby(\"event_name\")[\"device_id_hash\"].nunique().sort_values(ascending=False).index[i],'p-значение: ', p_value)\n",
    "\n",
    "        if p_value < alpha:\n",
    "            print('Отвергаем нулевую гипотезу: между долями есть значимая разница')\n",
    "        else:\n",
    "            print(\n",
    "                'Не получилось отвергнуть нулевую гипотезу, нет оснований считать доли разными'\n",
    "            ) \n",
    "a1 = main_logs.query(\"exp_id == 246\")\n",
    "a2 = main_logs.query(\"exp_id == 247\")\n",
    "check_difference(a1,a2)"
   ]
  },
  {
   "cell_type": "markdown",
   "metadata": {},
   "source": [
    "<div class=\"alert alert-success\">\n",
    "<h2> Комментарий ревьюера <a class=\"tocSkip\"> </h2>\n",
    "\n",
    "<b>Все отлично!👍:</b> Есть функция для проведения тестирования - молодец, что автоматизируешь однотипные операции. Более интересным решением было бы использование готовой реализации теста `proportions_ztest` (https://www.statsmodels.org/dev/generated/statsmodels.stats.proportion.proportions_ztest.html)."
   ]
  },
  {
   "cell_type": "markdown",
   "metadata": {},
   "source": [
    "<div class=\"alert alert-block alert-danger\">\n",
    "<h2> Комментарий ревьюера <a class=\"tocSkip\"></h2>\n",
    "\n",
    "    \n",
    "<b>На доработку❌:</b>\n",
    "\n",
    "В функцию нужно добавить функционал по выводу на экран тестируемого этапа воронки - сейчас нет понимания, какой шаг воронки оценивается."
   ]
  },
  {
   "cell_type": "markdown",
   "metadata": {},
   "source": [
    "<div class=\"alert alert-success\">\n",
    "<h2> Комментарий ревьюера v.2 <a class=\"tocSkip\"> </h2>\n",
    "\n",
    "<b>Все отлично!👍:</b> Учтено."
   ]
  },
  {
   "cell_type": "markdown",
   "metadata": {},
   "source": [
    "A/A тест прошел успешно - доли одинаковы"
   ]
  },
  {
   "cell_type": "markdown",
   "metadata": {},
   "source": [
    "<div class=\"alert alert-info\">\n",
    "<h2> Комментарий студента <a class=\"tocSkip\"> </h2>\n",
    "Разбиение трафика было корректным, значимой разницы нет. (+ подправил, теперь смотрим Все пользователи в группе -> те кто перешли на страницу\n",
    "</div>"
   ]
  },
  {
   "cell_type": "markdown",
   "metadata": {},
   "source": [
    "<div class=\"alert alert-block alert-danger\">\n",
    "<h2> Комментарий ревьюера <a class=\"tocSkip\"></h2>\n",
    "\n",
    "    \n",
    "<b>На доработку❌:</b> По результатам проведения А/А теста нужно сделать вывод о том, было ли разбиение трафика пользователей на группы теста корректным."
   ]
  },
  {
   "cell_type": "markdown",
   "metadata": {},
   "source": [
    "<div class=\"alert alert-success\">\n",
    "<h2> Комментарий ревьюера v.2 <a class=\"tocSkip\"> </h2>\n",
    "\n",
    "<b>Все отлично!👍:</b> Учтено."
   ]
  },
  {
   "cell_type": "markdown",
   "metadata": {},
   "source": [
    "Смотрим на разницу группы B и групп A\n",
    "\n",
    "Нулевая гипотеза: доли уникальных посетителей, побывавших на этапе воронки, одинаковы.\n",
    "Альтернативная гипотеза: доли уникальных посетителей, побывавших на этапе воронки, различаются. alpha = 0.05, смотрим все переходы с одного экрана на другой"
   ]
  },
  {
   "cell_type": "code",
   "execution_count": 25,
   "metadata": {},
   "outputs": [
    {
     "name": "stdout",
     "output_type": "stream",
     "text": [
      "Всего в группе -> MainScreenAppear p-значение:  0.2949721933554552\n",
      "Не получилось отвергнуть нулевую гипотезу, нет оснований считать доли разными\n",
      "Всего в группе -> OffersScreenAppear p-значение:  0.20836205402738917\n",
      "Не получилось отвергнуть нулевую гипотезу, нет оснований считать доли разными\n",
      "Всего в группе -> CartScreenAppear p-значение:  0.07842923237520116\n",
      "Не получилось отвергнуть нулевую гипотезу, нет оснований считать доли разными\n",
      "Всего в группе -> PaymentScreenSuccessful p-значение:  0.2122553275697796\n",
      "Не получилось отвергнуть нулевую гипотезу, нет оснований считать доли разными\n"
     ]
    }
   ],
   "source": [
    "a1 = main_logs.query(\"exp_id == 246\")\n",
    "a2 = main_logs.query(\"exp_id == 248\")\n",
    "check_difference(a1,a2)"
   ]
  },
  {
   "cell_type": "code",
   "execution_count": 26,
   "metadata": {},
   "outputs": [
    {
     "name": "stdout",
     "output_type": "stream",
     "text": [
      "Всего в группе -> MainScreenAppear p-значение:  0.4587053616621515\n",
      "Не получилось отвергнуть нулевую гипотезу, нет оснований считать доли разными\n",
      "Всего в группе -> OffersScreenAppear p-значение:  0.9197817830592261\n",
      "Не получилось отвергнуть нулевую гипотезу, нет оснований считать доли разными\n",
      "Всего в группе -> CartScreenAppear p-значение:  0.5786197879539783\n",
      "Не получилось отвергнуть нулевую гипотезу, нет оснований считать доли разными\n",
      "Всего в группе -> PaymentScreenSuccessful p-значение:  0.7373415053803964\n",
      "Не получилось отвергнуть нулевую гипотезу, нет оснований считать доли разными\n"
     ]
    }
   ],
   "source": [
    "a1 = main_logs.query(\"exp_id == 247\")\n",
    "a2 = main_logs.query(\"exp_id == 248\")\n",
    "check_difference(a1,a2)"
   ]
  },
  {
   "cell_type": "markdown",
   "metadata": {},
   "source": [
    "у групп 247 и 248 есть значимая разница в событиях CartScreenAppear -> PaymentScreenSuccessful"
   ]
  },
  {
   "cell_type": "markdown",
   "metadata": {},
   "source": [
    "<div class=\"alert alert-info\">\n",
    "<h2> Комментарий студента <a class=\"tocSkip\"> </h2>\n",
    "Значимой разницы нет\n",
    "</div>"
   ]
  },
  {
   "cell_type": "code",
   "execution_count": 27,
   "metadata": {},
   "outputs": [
    {
     "name": "stdout",
     "output_type": "stream",
     "text": [
      "Всего в группе -> MainScreenAppear p-значение:  0.4587053616621515\n",
      "Не получилось отвергнуть нулевую гипотезу, нет оснований считать доли разными\n",
      "Всего в группе -> OffersScreenAppear p-значение:  0.9197817830592261\n",
      "Не получилось отвергнуть нулевую гипотезу, нет оснований считать доли разными\n",
      "Всего в группе -> CartScreenAppear p-значение:  0.5786197879539783\n",
      "Не получилось отвергнуть нулевую гипотезу, нет оснований считать доли разными\n",
      "Всего в группе -> PaymentScreenSuccessful p-значение:  0.7373415053803964\n",
      "Не получилось отвергнуть нулевую гипотезу, нет оснований считать доли разными\n"
     ]
    }
   ],
   "source": [
    "a1 = main_logs.query(\"exp_id == 247 or exp_id == 247\")\n",
    "a2 = main_logs.query(\"exp_id == 248\")\n",
    "check_difference(a1,a2)"
   ]
  },
  {
   "cell_type": "markdown",
   "metadata": {},
   "source": [
    "у групп объединенных A и B есть значимая разница в событиях CartScreenAppear -> PaymentScreenSuccessful"
   ]
  },
  {
   "cell_type": "markdown",
   "metadata": {},
   "source": [
    "<div class=\"alert alert-info\">\n",
    "<h2> Комментарий студента <a class=\"tocSkip\"> </h2>\n",
    "Значимой разницы нет\n",
    "</div>"
   ]
  },
  {
   "cell_type": "markdown",
   "metadata": {},
   "source": [
    "<div class=\"alert alert-block alert-danger\">\n",
    "<h2> Комментарий ревьюера <a class=\"tocSkip\"></h2>\n",
    "\n",
    "    \n",
    "<b>На доработку❌:</b> Результаты тестов нужно будет актуализировать."
   ]
  },
  {
   "cell_type": "markdown",
   "metadata": {},
   "source": [
    "<div class=\"alert alert-success\">\n",
    "<h2> Комментарий ревьюера v.2 <a class=\"tocSkip\"> </h2>\n",
    "\n",
    "<b>Все отлично!👍:</b> Учтено."
   ]
  },
  {
   "cell_type": "markdown",
   "metadata": {},
   "source": [
    "Уровень значимости - 0.05 или 5%. Шанс того, что мы ошибочно отклоним нулевую гипотезу всего 5%. Если смотреть на p-value тестов, то alpha в 10% или 1% не поменяла результата."
   ]
  },
  {
   "cell_type": "code",
   "execution_count": 28,
   "metadata": {},
   "outputs": [
    {
     "name": "stdout",
     "output_type": "stream",
     "text": [
      "Без изменений  0.5598733313482347\n",
      "С поправкой Бонферрони, alpha = 0.003125 Вероятность ошибки 0.048845042569365726\n"
     ]
    }
   ],
   "source": [
    "alpha = 0.05\n",
    "n=16\n",
    "print(\"Без изменений \",1-(1-alpha)**n)\n",
    "alpha /= 16\n",
    "print(\"С поправкой Бонферрони, alpha =\",alpha,\"Вероятность ошибки\",1-(1-alpha)**n)"
   ]
  },
  {
   "cell_type": "markdown",
   "metadata": {},
   "source": [
    "<div class=\"alert alert-info\">\n",
    "<h2> Комментарий студента <a class=\"tocSkip\"> </h2>\n",
    "Результаты тестов изначально выше alpha и даже со скоректированным alpha мы не сможем отвергнуть нулевую гипотезу, поэтому проводить заново тест не требуется.\n",
    "</div>"
   ]
  },
  {
   "cell_type": "markdown",
   "metadata": {},
   "source": [
    "<div class=\"alert alert-block alert-danger\">\n",
    "<h2> Комментарий ревьюера <a class=\"tocSkip\"></h2>\n",
    "\n",
    "    \n",
    "<b>На доработку❌:</b>\n",
    "    \n",
    "Вывод об оптимальности уровня значимости стоит усилить - в качестве обоснования предполагается рассуждение о проблеме множественных сравнений.\n",
    "    \n",
    "Из условий проекта мы знаем, что при уровне значимости `0.1` мы совершаем ошибку первого рода каждый десятый раз (то есть вероятность ошибки - 10%). Однако это справедливо для парных тестов, когда у нас только две группы - А и В. \n",
    "    \n",
    "В случае увеличения количества групп в тесте растёт и вероятность ошибки первого рода - именно поэтому стоит оценить вероятность такой ошибки для используемого в проекте уровня значимости и сравнить её с самим уровнем значимости. \n",
    "    \n",
    "Для этого можно использовать формулу `1-(1-alpha)**n`, где `n` - количество проверенных гипотез. Если полученная вероятность ошибки будет меньше уровня значимости - выбранный уровень значимости оптимален для данного проекта. Если нет - нужно сделать поправку на множественные сравнения.\n",
    "    \n",
    "Чаще всего в этом проекте делают поправку Бонферрони, деля уровень значимости `alpha` на количество `проведённых экспериментов` (в нашем случае на `16`). \n",
    "    \n",
    "Для скорректированного уровня значимости по аналогии оценивается вероятность ошибки первого рода и делается вывод о его оптимальности.\n",
    "    \n",
    "Далее можно пойти двумя путями:\n",
    "- заново провести тесты с скорректированным уровень значимости, проанализировать различия в результатах и сделать вывод об оптимальности нового уровня значимости;\n",
    "- сделать вывод о том, что в нашем случае полученные в ходе проведения тестов `p-values` слишком высоки, чтобы отклонить хоть одну нулевую гипотезу даже при скорректированном уровне значимости, поэтому повторно тесты проводить необязательно: результаты не изменятся, но теперь мы можем больше им доверять, так как смогли снизить вероятность ошибки (эта опция, правда, подходит только для этого проекта - в общем случае стоит идти по первому пути).\n",
    "    \n",
    "Рекомендую почитать эту статью: из неё можно узнать, как посчитать вероятность ошибки первого рода, а также какие поправки на множественные сравнения существуют и как их сделать: https://habr.com/ru/company/yandex/blog/476826/.\n",
    "    \n",
    "Важно сделать вывод об оптимальности выбранного в проекте уровня значимости.\n",
    "</div>"
   ]
  },
  {
   "cell_type": "markdown",
   "metadata": {},
   "source": [
    "<div class=\"alert alert-block alert-danger\">\n",
    "<h2> Комментарий ревьюера v.2 <a class=\"tocSkip\"></h2>\n",
    "\n",
    "    \n",
    "<b>На доработку❌:</b>\n",
    "    \n",
    "В степени должно быть совокупное количество проверенных нулевых гипотез."
   ]
  },
  {
   "cell_type": "markdown",
   "metadata": {},
   "source": [
    "<div class=\"alert alert-info\">\n",
    "<h2> Комментарий студента <a class=\"tocSkip\"> </h2>\n",
    "Поменял n\n",
    "</div>"
   ]
  },
  {
   "cell_type": "markdown",
   "metadata": {},
   "source": [
    "<div class=\"alert alert-success\">\n",
    "<h2> Комментарий ревьюера v.3 <a class=\"tocSkip\"> </h2>\n",
    "\n",
    "<b>Все отлично!👍:</b> Учтено."
   ]
  },
  {
   "cell_type": "markdown",
   "metadata": {},
   "source": [
    "Между группами есть значимая разница, можно заканчивать экперимент и объявлять B победителем"
   ]
  },
  {
   "cell_type": "markdown",
   "metadata": {},
   "source": [
    "<div class=\"alert alert-info\">\n",
    "<h2> Комментарий студента <a class=\"tocSkip\"> </h2>\n",
    "Вывод: разницы между группами нет, шрифт не увеличивает продажи, но и не уменьшает их. \n",
    "Если дизайнеры хотят поменять шрифты - пусть меняют, но денег на это выделять смысла нет\n",
    "</div>"
   ]
  },
  {
   "cell_type": "markdown",
   "metadata": {},
   "source": [
    "<div class=\"alert alert-block alert-danger\">\n",
    "<h2> Комментарий ревьюера <a class=\"tocSkip\"></h2>\n",
    "\n",
    "    \n",
    "<b>На доработку❌:</b> Результаты тестов нужно будет актуализировать."
   ]
  },
  {
   "cell_type": "markdown",
   "metadata": {},
   "source": [
    "<div class=\"alert alert-success\">\n",
    "<h2> Комментарий ревьюера v.2 <a class=\"tocSkip\"> </h2>\n",
    "\n",
    "<b>Все отлично!👍:</b> Учтено."
   ]
  },
  {
   "cell_type": "markdown",
   "metadata": {},
   "source": [
    "<div class=\"alert alert-warning\">\n",
    "    <h2> Комментарий ревьюера <a class=\"tocSkip\"> </h2>\n",
    "    \n",
    "<b>Некоторые замечания и рекомендации⚠️:</b> \n",
    "По завершении проекта стоит сделать итоговый вывод: в него можно включить основные шаги проекта, а также ключевые выводы, полученные в ходе работы над ним.\n",
    "        </div>"
   ]
  },
  {
   "cell_type": "markdown",
   "metadata": {},
   "source": [
    "<div class=\"alert alert-warning\">\n",
    "    <h2> Комментарий ревьюера v.2 <a class=\"tocSkip\"> </h2>\n",
    "    \n",
    "<b>Некоторые замечания и рекомендации⚠️:</b> Актуально."
   ]
  },
  {
   "cell_type": "markdown",
   "metadata": {},
   "source": [
    "<div class=\"alert alert-success\">\n",
    "<h2> Комментарий ревьюера v.3 <a class=\"tocSkip\"> </h2>\n",
    "\n",
    "<b>Все отлично!👍:</b> Учтено."
   ]
  },
  {
   "cell_type": "markdown",
   "metadata": {},
   "source": [
    "<div class=\"alert alert-info\">\n",
    "<h2> Комментарий студента <a class=\"tocSkip\"> </h2>\n",
    " Итог:\n",
    "   Проделанная работа:\n",
    "    Данные обработаны и подготовлены, проанализированы воронки и выявлены потери пользователей,проведен анализ А/A/B теста в ходе которого выявилось, что группы распределены верно, и новые изменения никак не влияют на продажи. Но так как первая неделя данных не полная, возможно цикл жизни пользователя дольше недели и тест стоит продолжить. предварительный вывод: шрифты не влияют на продажи\n",
    "    </div>"
   ]
  },
  {
   "cell_type": "markdown",
   "metadata": {},
   "source": [
    "<div style=\"border:solid Chocolate 2px; padding: 40px\">\n",
    "\n",
    "# Комментарий ревьюера: общий вывод по проекту.\n",
    "\n",
    "Евгений, проект получился на довольно хорошем уровне - отличная работа над проектом, молодец!\n",
    "\n",
    "Мне нравится твой аналитический подход к выполнению проекта, ты соблюдаешь структуру работы, выполняешь её последовательно - это очень хорошо! Шаги проекта выполнены по порядку согласно плану проекта, нет смысловых и структурных ям. Важно, что не забываешь про выводы.\n",
    "\n",
    "Положительно также отмечу автоматизацию процесса тестирования. \n",
    "    \n",
    "Над проектом ещё стоит поработать - есть рекомендации по дополнению некоторых твоих шагов проекта. Такие рекомендации я отметил жёлтыми комментариями. Будет здорово, если ты учтёшь их - так проект станет структурно и содержательно более совершенным.\n",
    "    \n",
    "Также в работе есть критические замечания. К этим замечаниям я оставил пояснительные комментарии красного цвета, в которых перечислил возможные варианты дальнейших действий. Уверен, ты быстро с этим управишься:)\n",
    "    \n",
    "Если о том, что нужно сделать в рамках комментариев, будут возникать вопросы - оставь их, пожалуйста, в комментариях, и я отвечу на них во время следующего ревью.\n",
    "    \n",
    "Также буду рад ответить на любые твои вопросы по проекту или на какие-либо другие, если они у тебя имеются - оставь их в комментариях, и я постараюсь ответить:)\n",
    "    \n",
    "Жду твой проект на повторном ревью. До встречи:)"
   ]
  },
  {
   "cell_type": "markdown",
   "metadata": {},
   "source": [
    "<div style=\"border:solid Chocolate 2px; padding: 40px\">\n",
    "\n",
    "# Комментарий ревьюера: общий вывод по проекту v.2.\n",
    "\n",
    "Евгений, продолжаем работу над проектом - актуальные замечания отмечены комментариями с меткой `v.2`.\n",
    "    \n",
    "Жду тебя снова:)"
   ]
  },
  {
   "cell_type": "markdown",
   "metadata": {},
   "source": [
    "<div style=\"border:solid Chocolate 2px; padding: 40px\">\n",
    "\n",
    "# Комментарий ревьюера: общий вывод по проекту v.3.\n",
    "\n",
    "Евгений, все замечания учтены - проект принят!\n",
    "    \n",
    "Спасибо за хорошую работу над проектом, желаю успехов в дальнейшем обучении:)"
   ]
  }
 ],
 "metadata": {
  "ExecuteTimeLog": [
   {
    "duration": 49,
    "start_time": "2023-09-26T22:54:17.397Z"
   },
   {
    "duration": 434,
    "start_time": "2023-09-26T22:54:22.291Z"
   },
   {
    "duration": 670,
    "start_time": "2023-09-26T22:54:22.726Z"
   },
   {
    "duration": 361,
    "start_time": "2023-09-26T22:54:27.304Z"
   },
   {
    "duration": 199,
    "start_time": "2023-09-26T22:54:43.364Z"
   },
   {
    "duration": 518,
    "start_time": "2023-09-28T11:40:58.645Z"
   },
   {
    "duration": 898,
    "start_time": "2023-09-28T11:40:59.166Z"
   },
   {
    "duration": 23,
    "start_time": "2023-09-28T11:41:00.074Z"
   },
   {
    "duration": 20,
    "start_time": "2023-09-28T11:41:34.837Z"
   },
   {
    "duration": 10,
    "start_time": "2023-09-28T11:41:42.912Z"
   },
   {
    "duration": 20,
    "start_time": "2023-09-28T11:41:45.807Z"
   },
   {
    "duration": 30,
    "start_time": "2023-09-28T11:41:57.780Z"
   },
   {
    "duration": 17,
    "start_time": "2023-09-28T11:57:00.300Z"
   },
   {
    "duration": 83,
    "start_time": "2023-09-28T11:57:11.499Z"
   },
   {
    "duration": 44,
    "start_time": "2023-09-28T11:57:23.240Z"
   },
   {
    "duration": 34,
    "start_time": "2023-09-28T11:58:00.602Z"
   },
   {
    "duration": 419,
    "start_time": "2023-09-28T11:58:08.201Z"
   },
   {
    "duration": 257,
    "start_time": "2023-09-28T11:58:08.622Z"
   },
   {
    "duration": 43,
    "start_time": "2023-09-28T11:58:08.881Z"
   },
   {
    "duration": 77,
    "start_time": "2023-09-28T11:58:08.927Z"
   },
   {
    "duration": 91,
    "start_time": "2023-09-28T11:58:59.370Z"
   },
   {
    "duration": 136,
    "start_time": "2023-09-28T12:00:04.589Z"
   },
   {
    "duration": 978,
    "start_time": "2023-09-28T12:01:04.189Z"
   },
   {
    "duration": 16,
    "start_time": "2023-09-28T12:01:17.481Z"
   },
   {
    "duration": 1088,
    "start_time": "2023-09-28T12:02:06.020Z"
   },
   {
    "duration": 16,
    "start_time": "2023-09-28T12:02:10.148Z"
   },
   {
    "duration": 11,
    "start_time": "2023-09-28T12:03:14.006Z"
   },
   {
    "duration": 133,
    "start_time": "2023-09-28T12:03:22.302Z"
   },
   {
    "duration": 114,
    "start_time": "2023-09-28T12:05:37.182Z"
   },
   {
    "duration": 115,
    "start_time": "2023-09-28T12:05:44.884Z"
   },
   {
    "duration": 105,
    "start_time": "2023-09-28T12:05:54.325Z"
   },
   {
    "duration": 482,
    "start_time": "2023-09-28T12:06:08.924Z"
   },
   {
    "duration": 217,
    "start_time": "2023-09-28T12:06:09.408Z"
   },
   {
    "duration": 42,
    "start_time": "2023-09-28T12:06:09.627Z"
   },
   {
    "duration": 115,
    "start_time": "2023-09-28T12:06:09.670Z"
   },
   {
    "duration": 879,
    "start_time": "2023-09-28T12:06:09.787Z"
   },
   {
    "duration": 14,
    "start_time": "2023-09-28T12:06:10.668Z"
   },
   {
    "duration": 16,
    "start_time": "2023-09-28T12:34:21.201Z"
   },
   {
    "duration": 95,
    "start_time": "2023-09-28T12:34:56.679Z"
   },
   {
    "duration": 23,
    "start_time": "2023-09-28T12:35:02.359Z"
   },
   {
    "duration": 27,
    "start_time": "2023-09-28T12:35:19.088Z"
   },
   {
    "duration": 11,
    "start_time": "2023-09-28T12:35:55.786Z"
   },
   {
    "duration": 7,
    "start_time": "2023-09-28T12:36:02.783Z"
   },
   {
    "duration": 7,
    "start_time": "2023-09-28T12:36:09.941Z"
   },
   {
    "duration": 38,
    "start_time": "2023-09-28T12:56:53.149Z"
   },
   {
    "duration": 48,
    "start_time": "2023-09-28T12:57:12.222Z"
   },
   {
    "duration": 26,
    "start_time": "2023-09-28T12:57:26.270Z"
   },
   {
    "duration": 35,
    "start_time": "2023-09-28T12:58:58.869Z"
   },
   {
    "duration": 6,
    "start_time": "2023-09-28T13:16:13.616Z"
   },
   {
    "duration": 6,
    "start_time": "2023-09-28T13:17:01.285Z"
   },
   {
    "duration": 25,
    "start_time": "2023-09-28T13:34:34.553Z"
   },
   {
    "duration": 19,
    "start_time": "2023-09-28T13:34:54.998Z"
   },
   {
    "duration": 34,
    "start_time": "2023-09-28T13:35:03.104Z"
   },
   {
    "duration": 862,
    "start_time": "2023-09-28T13:35:08.932Z"
   },
   {
    "duration": 1267,
    "start_time": "2023-09-28T13:36:45.467Z"
   },
   {
    "duration": 498,
    "start_time": "2023-09-28T13:37:09.048Z"
   },
   {
    "duration": 228,
    "start_time": "2023-09-28T13:37:09.548Z"
   },
   {
    "duration": 34,
    "start_time": "2023-09-28T13:37:09.778Z"
   },
   {
    "duration": 125,
    "start_time": "2023-09-28T13:37:09.814Z"
   },
   {
    "duration": 916,
    "start_time": "2023-09-28T13:37:09.943Z"
   },
   {
    "duration": 16,
    "start_time": "2023-09-28T13:37:10.861Z"
   },
   {
    "duration": 26,
    "start_time": "2023-09-28T13:37:10.879Z"
   },
   {
    "duration": 89,
    "start_time": "2023-09-28T13:37:10.907Z"
   },
   {
    "duration": 0,
    "start_time": "2023-09-28T13:37:10.998Z"
   },
   {
    "duration": 0,
    "start_time": "2023-09-28T13:37:10.999Z"
   },
   {
    "duration": 0,
    "start_time": "2023-09-28T13:37:11.000Z"
   },
   {
    "duration": 0,
    "start_time": "2023-09-28T13:37:11.001Z"
   },
   {
    "duration": 0,
    "start_time": "2023-09-28T13:37:11.002Z"
   },
   {
    "duration": 644,
    "start_time": "2023-09-28T13:42:07.391Z"
   },
   {
    "duration": 760,
    "start_time": "2023-09-28T13:42:14.670Z"
   },
   {
    "duration": 219,
    "start_time": "2023-09-28T13:42:15.433Z"
   },
   {
    "duration": 40,
    "start_time": "2023-09-28T13:42:15.654Z"
   },
   {
    "duration": 108,
    "start_time": "2023-09-28T13:42:15.697Z"
   },
   {
    "duration": 952,
    "start_time": "2023-09-28T13:42:15.807Z"
   },
   {
    "duration": 16,
    "start_time": "2023-09-28T13:42:16.761Z"
   },
   {
    "duration": 26,
    "start_time": "2023-09-28T13:42:16.779Z"
   },
   {
    "duration": 140,
    "start_time": "2023-09-28T13:42:16.807Z"
   },
   {
    "duration": 0,
    "start_time": "2023-09-28T13:42:16.949Z"
   },
   {
    "duration": 0,
    "start_time": "2023-09-28T13:42:16.950Z"
   },
   {
    "duration": 0,
    "start_time": "2023-09-28T13:42:16.951Z"
   },
   {
    "duration": 0,
    "start_time": "2023-09-28T13:42:16.952Z"
   },
   {
    "duration": 0,
    "start_time": "2023-09-28T13:42:16.954Z"
   },
   {
    "duration": 267,
    "start_time": "2023-09-28T13:42:47.479Z"
   },
   {
    "duration": 242,
    "start_time": "2023-09-28T13:44:15.500Z"
   },
   {
    "duration": 778,
    "start_time": "2023-09-28T13:45:30.243Z"
   },
   {
    "duration": 56,
    "start_time": "2023-09-28T13:49:26.379Z"
   },
   {
    "duration": 20,
    "start_time": "2023-09-28T13:49:42.107Z"
   },
   {
    "duration": 36,
    "start_time": "2023-09-28T13:49:49.533Z"
   },
   {
    "duration": 28,
    "start_time": "2023-09-28T13:50:37.851Z"
   },
   {
    "duration": 113,
    "start_time": "2023-09-28T13:51:00.141Z"
   },
   {
    "duration": 765,
    "start_time": "2023-09-28T13:51:05.574Z"
   },
   {
    "duration": 238,
    "start_time": "2023-09-28T13:51:06.341Z"
   },
   {
    "duration": 35,
    "start_time": "2023-09-28T13:51:06.581Z"
   },
   {
    "duration": 117,
    "start_time": "2023-09-28T13:51:06.618Z"
   },
   {
    "duration": 1012,
    "start_time": "2023-09-28T13:51:06.738Z"
   },
   {
    "duration": 17,
    "start_time": "2023-09-28T13:51:07.757Z"
   },
   {
    "duration": 18,
    "start_time": "2023-09-28T13:51:07.776Z"
   },
   {
    "duration": 25,
    "start_time": "2023-09-28T13:51:07.796Z"
   },
   {
    "duration": 8,
    "start_time": "2023-09-28T13:51:07.823Z"
   },
   {
    "duration": 53,
    "start_time": "2023-09-28T13:51:07.833Z"
   },
   {
    "duration": 6,
    "start_time": "2023-09-28T13:51:07.888Z"
   },
   {
    "duration": 821,
    "start_time": "2023-09-28T13:51:07.896Z"
   },
   {
    "duration": 54,
    "start_time": "2023-09-28T13:51:08.719Z"
   },
   {
    "duration": 116,
    "start_time": "2023-09-28T13:52:20.392Z"
   },
   {
    "duration": 697,
    "start_time": "2023-09-28T13:52:25.919Z"
   },
   {
    "duration": 233,
    "start_time": "2023-09-28T13:52:26.618Z"
   },
   {
    "duration": 41,
    "start_time": "2023-09-28T13:52:26.857Z"
   },
   {
    "duration": 127,
    "start_time": "2023-09-28T13:52:26.900Z"
   },
   {
    "duration": 998,
    "start_time": "2023-09-28T13:52:27.031Z"
   },
   {
    "duration": 42,
    "start_time": "2023-09-28T13:52:28.031Z"
   },
   {
    "duration": 25,
    "start_time": "2023-09-28T13:52:28.076Z"
   },
   {
    "duration": 30,
    "start_time": "2023-09-28T13:52:28.104Z"
   },
   {
    "duration": 7,
    "start_time": "2023-09-28T13:52:28.137Z"
   },
   {
    "duration": 54,
    "start_time": "2023-09-28T13:52:28.146Z"
   },
   {
    "duration": 7,
    "start_time": "2023-09-28T13:52:28.202Z"
   },
   {
    "duration": 839,
    "start_time": "2023-09-28T13:52:28.212Z"
   },
   {
    "duration": 47,
    "start_time": "2023-09-28T13:52:29.059Z"
   },
   {
    "duration": 40,
    "start_time": "2023-09-28T13:54:11.152Z"
   },
   {
    "duration": 42,
    "start_time": "2023-09-28T13:54:31.450Z"
   },
   {
    "duration": 34,
    "start_time": "2023-09-28T13:55:16.370Z"
   },
   {
    "duration": 78,
    "start_time": "2023-09-28T13:57:05.208Z"
   },
   {
    "duration": 20,
    "start_time": "2023-09-28T13:57:09.617Z"
   },
   {
    "duration": 9,
    "start_time": "2023-09-28T13:57:22.224Z"
   },
   {
    "duration": 35,
    "start_time": "2023-09-28T14:08:40.944Z"
   },
   {
    "duration": 33,
    "start_time": "2023-09-28T14:10:41.805Z"
   },
   {
    "duration": 67,
    "start_time": "2023-09-28T21:40:56.413Z"
   },
   {
    "duration": 956,
    "start_time": "2023-09-28T21:41:01.745Z"
   },
   {
    "duration": 799,
    "start_time": "2023-09-28T21:41:02.703Z"
   },
   {
    "duration": 28,
    "start_time": "2023-09-28T21:41:03.504Z"
   },
   {
    "duration": 91,
    "start_time": "2023-09-28T21:41:03.534Z"
   },
   {
    "duration": 977,
    "start_time": "2023-09-28T21:41:03.627Z"
   },
   {
    "duration": 13,
    "start_time": "2023-09-28T21:41:04.608Z"
   },
   {
    "duration": 18,
    "start_time": "2023-09-28T21:41:04.623Z"
   },
   {
    "duration": 42,
    "start_time": "2023-09-28T21:41:04.643Z"
   },
   {
    "duration": 11,
    "start_time": "2023-09-28T21:41:04.691Z"
   },
   {
    "duration": 32,
    "start_time": "2023-09-28T21:41:04.704Z"
   },
   {
    "duration": 5,
    "start_time": "2023-09-28T21:41:04.737Z"
   },
   {
    "duration": 761,
    "start_time": "2023-09-28T21:41:04.744Z"
   },
   {
    "duration": 30,
    "start_time": "2023-09-28T21:41:05.507Z"
   },
   {
    "duration": 35,
    "start_time": "2023-09-28T21:41:05.539Z"
   },
   {
    "duration": 44,
    "start_time": "2023-09-28T21:41:05.578Z"
   },
   {
    "duration": 71,
    "start_time": "2023-09-28T21:41:05.624Z"
   },
   {
    "duration": 62,
    "start_time": "2023-09-28T21:46:43.537Z"
   },
   {
    "duration": 65,
    "start_time": "2023-09-28T21:46:47.637Z"
   },
   {
    "duration": 63,
    "start_time": "2023-09-28T21:46:53.376Z"
   },
   {
    "duration": 8,
    "start_time": "2023-09-28T21:48:42.988Z"
   },
   {
    "duration": 4,
    "start_time": "2023-09-28T21:49:18.205Z"
   },
   {
    "duration": 138,
    "start_time": "2023-09-28T21:51:44.674Z"
   },
   {
    "duration": 11,
    "start_time": "2023-09-28T21:52:12.274Z"
   },
   {
    "duration": 18,
    "start_time": "2023-09-28T21:53:33.741Z"
   },
   {
    "duration": 8,
    "start_time": "2023-09-28T21:56:20.378Z"
   },
   {
    "duration": 5,
    "start_time": "2023-09-28T21:57:58.109Z"
   },
   {
    "duration": 5,
    "start_time": "2023-09-28T21:59:23.795Z"
   },
   {
    "duration": 34,
    "start_time": "2023-09-28T22:16:53.778Z"
   },
   {
    "duration": 29,
    "start_time": "2023-09-28T22:17:03.617Z"
   },
   {
    "duration": 55,
    "start_time": "2023-09-29T13:16:32.652Z"
   },
   {
    "duration": 1314,
    "start_time": "2023-09-29T13:16:39.491Z"
   },
   {
    "duration": 922,
    "start_time": "2023-09-29T13:16:40.808Z"
   },
   {
    "duration": 31,
    "start_time": "2023-09-29T13:16:41.732Z"
   },
   {
    "duration": 98,
    "start_time": "2023-09-29T13:16:41.765Z"
   },
   {
    "duration": 1011,
    "start_time": "2023-09-29T13:16:41.865Z"
   },
   {
    "duration": 20,
    "start_time": "2023-09-29T13:16:42.878Z"
   },
   {
    "duration": 24,
    "start_time": "2023-09-29T13:16:42.900Z"
   },
   {
    "duration": 40,
    "start_time": "2023-09-29T13:16:42.926Z"
   },
   {
    "duration": 5,
    "start_time": "2023-09-29T13:16:42.968Z"
   },
   {
    "duration": 30,
    "start_time": "2023-09-29T13:16:42.975Z"
   },
   {
    "duration": 7,
    "start_time": "2023-09-29T13:16:43.007Z"
   },
   {
    "duration": 840,
    "start_time": "2023-09-29T13:16:43.016Z"
   },
   {
    "duration": 33,
    "start_time": "2023-09-29T13:16:43.858Z"
   },
   {
    "duration": 13,
    "start_time": "2023-09-29T13:16:43.894Z"
   },
   {
    "duration": 65,
    "start_time": "2023-09-29T13:16:43.910Z"
   },
   {
    "duration": 171,
    "start_time": "2023-09-29T13:16:43.980Z"
   },
   {
    "duration": 0,
    "start_time": "2023-09-29T13:16:44.156Z"
   },
   {
    "duration": 0,
    "start_time": "2023-09-29T13:16:44.157Z"
   },
   {
    "duration": 0,
    "start_time": "2023-09-29T13:16:44.158Z"
   },
   {
    "duration": 1,
    "start_time": "2023-09-29T13:16:44.159Z"
   },
   {
    "duration": 1193,
    "start_time": "2023-09-29T13:18:04.922Z"
   },
   {
    "duration": 262,
    "start_time": "2023-09-29T13:18:06.117Z"
   },
   {
    "duration": 90,
    "start_time": "2023-09-29T13:18:06.380Z"
   },
   {
    "duration": 238,
    "start_time": "2023-09-29T13:18:06.472Z"
   },
   {
    "duration": 1028,
    "start_time": "2023-09-29T13:18:06.713Z"
   },
   {
    "duration": 23,
    "start_time": "2023-09-29T13:18:07.742Z"
   },
   {
    "duration": 29,
    "start_time": "2023-09-29T13:18:07.767Z"
   },
   {
    "duration": 38,
    "start_time": "2023-09-29T13:18:07.798Z"
   },
   {
    "duration": 22,
    "start_time": "2023-09-29T13:18:07.838Z"
   },
   {
    "duration": 57,
    "start_time": "2023-09-29T13:18:07.862Z"
   },
   {
    "duration": 7,
    "start_time": "2023-09-29T13:18:07.921Z"
   },
   {
    "duration": 798,
    "start_time": "2023-09-29T13:18:07.929Z"
   },
   {
    "duration": 44,
    "start_time": "2023-09-29T13:18:08.729Z"
   },
   {
    "duration": 11,
    "start_time": "2023-09-29T13:18:08.775Z"
   },
   {
    "duration": 79,
    "start_time": "2023-09-29T13:18:08.788Z"
   },
   {
    "duration": 76,
    "start_time": "2023-09-29T13:18:08.869Z"
   },
   {
    "duration": 1713,
    "start_time": "2023-09-29T13:18:08.957Z"
   },
   {
    "duration": 0,
    "start_time": "2023-09-29T13:18:10.672Z"
   },
   {
    "duration": 0,
    "start_time": "2023-09-29T13:18:10.673Z"
   },
   {
    "duration": 0,
    "start_time": "2023-09-29T13:18:10.675Z"
   },
   {
    "duration": 1233,
    "start_time": "2023-09-29T13:19:15.469Z"
   },
   {
    "duration": 263,
    "start_time": "2023-09-29T13:19:16.704Z"
   },
   {
    "duration": 37,
    "start_time": "2023-09-29T13:19:16.969Z"
   },
   {
    "duration": 117,
    "start_time": "2023-09-29T13:19:17.008Z"
   },
   {
    "duration": 881,
    "start_time": "2023-09-29T13:19:17.127Z"
   },
   {
    "duration": 18,
    "start_time": "2023-09-29T13:19:18.011Z"
   },
   {
    "duration": 36,
    "start_time": "2023-09-29T13:19:18.031Z"
   },
   {
    "duration": 36,
    "start_time": "2023-09-29T13:19:18.069Z"
   },
   {
    "duration": 11,
    "start_time": "2023-09-29T13:19:18.108Z"
   },
   {
    "duration": 38,
    "start_time": "2023-09-29T13:19:18.121Z"
   },
   {
    "duration": 7,
    "start_time": "2023-09-29T13:19:18.161Z"
   },
   {
    "duration": 786,
    "start_time": "2023-09-29T13:19:18.170Z"
   },
   {
    "duration": 40,
    "start_time": "2023-09-29T13:19:18.958Z"
   },
   {
    "duration": 14,
    "start_time": "2023-09-29T13:19:19.002Z"
   },
   {
    "duration": 68,
    "start_time": "2023-09-29T13:19:19.018Z"
   },
   {
    "duration": 178,
    "start_time": "2023-09-29T13:19:19.089Z"
   },
   {
    "duration": 0,
    "start_time": "2023-09-29T13:19:19.268Z"
   },
   {
    "duration": 0,
    "start_time": "2023-09-29T13:19:19.269Z"
   },
   {
    "duration": 0,
    "start_time": "2023-09-29T13:19:19.270Z"
   },
   {
    "duration": 0,
    "start_time": "2023-09-29T13:19:19.271Z"
   },
   {
    "duration": 1165,
    "start_time": "2023-09-29T13:19:30.021Z"
   },
   {
    "duration": 262,
    "start_time": "2023-09-29T13:19:31.188Z"
   },
   {
    "duration": 30,
    "start_time": "2023-09-29T13:19:31.452Z"
   },
   {
    "duration": 140,
    "start_time": "2023-09-29T13:19:31.484Z"
   },
   {
    "duration": 888,
    "start_time": "2023-09-29T13:19:31.626Z"
   },
   {
    "duration": 14,
    "start_time": "2023-09-29T13:19:32.516Z"
   },
   {
    "duration": 39,
    "start_time": "2023-09-29T13:19:32.532Z"
   },
   {
    "duration": 46,
    "start_time": "2023-09-29T13:19:32.573Z"
   },
   {
    "duration": 35,
    "start_time": "2023-09-29T13:19:32.621Z"
   },
   {
    "duration": 54,
    "start_time": "2023-09-29T13:19:32.658Z"
   },
   {
    "duration": 6,
    "start_time": "2023-09-29T13:19:32.714Z"
   },
   {
    "duration": 765,
    "start_time": "2023-09-29T13:19:32.721Z"
   },
   {
    "duration": 34,
    "start_time": "2023-09-29T13:19:33.488Z"
   },
   {
    "duration": 31,
    "start_time": "2023-09-29T13:19:33.525Z"
   },
   {
    "duration": 39,
    "start_time": "2023-09-29T13:19:33.558Z"
   },
   {
    "duration": 273,
    "start_time": "2023-09-29T13:19:33.598Z"
   },
   {
    "duration": 160,
    "start_time": "2023-09-29T13:19:33.873Z"
   },
   {
    "duration": 56,
    "start_time": "2023-09-29T13:19:34.035Z"
   },
   {
    "duration": 44,
    "start_time": "2023-09-29T13:19:34.093Z"
   },
   {
    "duration": 106,
    "start_time": "2023-09-29T13:19:34.139Z"
   },
   {
    "duration": 16661,
    "start_time": "2023-09-29T13:20:16.933Z"
   },
   {
    "duration": 34,
    "start_time": "2023-09-29T13:22:59.741Z"
   },
   {
    "duration": 41,
    "start_time": "2023-09-29T13:56:25.445Z"
   },
   {
    "duration": 26,
    "start_time": "2023-09-29T13:57:14.303Z"
   },
   {
    "duration": 1441,
    "start_time": "2023-09-29T14:01:31.816Z"
   },
   {
    "duration": 2963,
    "start_time": "2023-09-29T14:01:36.677Z"
   },
   {
    "duration": 1194,
    "start_time": "2023-09-29T14:02:04.821Z"
   },
   {
    "duration": 288,
    "start_time": "2023-09-29T14:02:06.017Z"
   },
   {
    "duration": 32,
    "start_time": "2023-09-29T14:02:06.307Z"
   },
   {
    "duration": 105,
    "start_time": "2023-09-29T14:02:06.357Z"
   },
   {
    "duration": 901,
    "start_time": "2023-09-29T14:02:06.465Z"
   },
   {
    "duration": 14,
    "start_time": "2023-09-29T14:02:07.368Z"
   },
   {
    "duration": 17,
    "start_time": "2023-09-29T14:02:07.384Z"
   },
   {
    "duration": 22,
    "start_time": "2023-09-29T14:02:07.403Z"
   },
   {
    "duration": 29,
    "start_time": "2023-09-29T14:02:07.427Z"
   },
   {
    "duration": 30,
    "start_time": "2023-09-29T14:02:07.458Z"
   },
   {
    "duration": 8,
    "start_time": "2023-09-29T14:02:07.490Z"
   },
   {
    "duration": 814,
    "start_time": "2023-09-29T14:02:07.501Z"
   },
   {
    "duration": 44,
    "start_time": "2023-09-29T14:02:08.317Z"
   },
   {
    "duration": 13,
    "start_time": "2023-09-29T14:02:08.364Z"
   },
   {
    "duration": 69,
    "start_time": "2023-09-29T14:02:08.379Z"
   },
   {
    "duration": 57,
    "start_time": "2023-09-29T14:02:08.449Z"
   },
   {
    "duration": 5,
    "start_time": "2023-09-29T14:02:08.507Z"
   },
   {
    "duration": 9,
    "start_time": "2023-09-29T14:02:08.515Z"
   },
   {
    "duration": 57,
    "start_time": "2023-09-29T14:02:08.527Z"
   },
   {
    "duration": 28,
    "start_time": "2023-09-29T14:02:08.586Z"
   },
   {
    "duration": 3545,
    "start_time": "2023-09-29T14:02:08.616Z"
   },
   {
    "duration": 5,
    "start_time": "2023-09-29T14:02:45.981Z"
   },
   {
    "duration": 2075,
    "start_time": "2023-09-29T14:02:51.083Z"
   },
   {
    "duration": 23,
    "start_time": "2023-09-29T14:10:21.696Z"
   },
   {
    "duration": 22,
    "start_time": "2023-09-29T14:10:31.655Z"
   },
   {
    "duration": 24,
    "start_time": "2023-09-29T14:10:35.902Z"
   },
   {
    "duration": 29,
    "start_time": "2023-09-29T14:11:00.011Z"
   },
   {
    "duration": 1185,
    "start_time": "2023-09-29T14:11:06.679Z"
   },
   {
    "duration": 282,
    "start_time": "2023-09-29T14:11:07.867Z"
   },
   {
    "duration": 38,
    "start_time": "2023-09-29T14:11:08.150Z"
   },
   {
    "duration": 120,
    "start_time": "2023-09-29T14:11:08.191Z"
   },
   {
    "duration": 959,
    "start_time": "2023-09-29T14:11:08.313Z"
   },
   {
    "duration": 15,
    "start_time": "2023-09-29T14:11:09.275Z"
   },
   {
    "duration": 15,
    "start_time": "2023-09-29T14:11:09.291Z"
   },
   {
    "duration": 48,
    "start_time": "2023-09-29T14:11:09.308Z"
   },
   {
    "duration": 6,
    "start_time": "2023-09-29T14:11:09.358Z"
   },
   {
    "duration": 42,
    "start_time": "2023-09-29T14:11:09.366Z"
   },
   {
    "duration": 6,
    "start_time": "2023-09-29T14:11:09.410Z"
   },
   {
    "duration": 762,
    "start_time": "2023-09-29T14:11:09.418Z"
   },
   {
    "duration": 33,
    "start_time": "2023-09-29T14:11:10.182Z"
   },
   {
    "duration": 12,
    "start_time": "2023-09-29T14:11:10.218Z"
   },
   {
    "duration": 61,
    "start_time": "2023-09-29T14:11:10.231Z"
   },
   {
    "duration": 78,
    "start_time": "2023-09-29T14:11:10.294Z"
   },
   {
    "duration": 5,
    "start_time": "2023-09-29T14:11:10.374Z"
   },
   {
    "duration": 25,
    "start_time": "2023-09-29T14:11:10.381Z"
   },
   {
    "duration": 42,
    "start_time": "2023-09-29T14:11:10.408Z"
   },
   {
    "duration": 122,
    "start_time": "2023-09-29T14:11:10.451Z"
   },
   {
    "duration": 23,
    "start_time": "2023-09-29T14:11:24.939Z"
   },
   {
    "duration": 64,
    "start_time": "2023-09-29T14:13:08.591Z"
   },
   {
    "duration": 113,
    "start_time": "2023-09-29T14:15:07.250Z"
   },
   {
    "duration": 37,
    "start_time": "2023-09-29T14:15:11.978Z"
   },
   {
    "duration": 35,
    "start_time": "2023-09-29T14:15:37.636Z"
   },
   {
    "duration": 38,
    "start_time": "2023-09-29T14:16:25.241Z"
   },
   {
    "duration": 37,
    "start_time": "2023-09-29T14:17:09.187Z"
   },
   {
    "duration": 29,
    "start_time": "2023-09-29T14:17:55.604Z"
   },
   {
    "duration": 34,
    "start_time": "2023-09-29T14:19:24.029Z"
   },
   {
    "duration": 38,
    "start_time": "2023-09-29T14:19:29.596Z"
   },
   {
    "duration": 1598,
    "start_time": "2023-09-29T14:20:36.786Z"
   },
   {
    "duration": 34,
    "start_time": "2023-09-29T14:20:59.849Z"
   },
   {
    "duration": 35,
    "start_time": "2023-09-29T14:22:36.591Z"
   },
   {
    "duration": 39,
    "start_time": "2023-09-29T14:22:41.353Z"
   },
   {
    "duration": 39,
    "start_time": "2023-09-29T14:22:57.610Z"
   },
   {
    "duration": 37,
    "start_time": "2023-09-29T14:23:11.489Z"
   },
   {
    "duration": 1660,
    "start_time": "2023-09-29T14:23:29.025Z"
   },
   {
    "duration": 36,
    "start_time": "2023-09-29T14:23:58.596Z"
   },
   {
    "duration": 40,
    "start_time": "2023-09-29T14:24:08.574Z"
   },
   {
    "duration": 36,
    "start_time": "2023-09-29T14:24:33.735Z"
   },
   {
    "duration": 37,
    "start_time": "2023-09-29T14:24:40.316Z"
   },
   {
    "duration": 39,
    "start_time": "2023-09-29T14:24:44.219Z"
   },
   {
    "duration": 88,
    "start_time": "2023-09-29T14:28:46.941Z"
   },
   {
    "duration": 115,
    "start_time": "2023-09-29T14:31:22.537Z"
   },
   {
    "duration": 123,
    "start_time": "2023-09-29T14:31:26.833Z"
   },
   {
    "duration": 151,
    "start_time": "2023-09-29T14:32:19.643Z"
   },
   {
    "duration": 126,
    "start_time": "2023-09-29T14:33:53.039Z"
   },
   {
    "duration": 120,
    "start_time": "2023-09-29T14:34:32.420Z"
   },
   {
    "duration": 63,
    "start_time": "2023-10-02T10:26:39.097Z"
   },
   {
    "duration": 1443,
    "start_time": "2023-10-02T10:26:45.509Z"
   },
   {
    "duration": 685,
    "start_time": "2023-10-02T10:26:46.954Z"
   },
   {
    "duration": 31,
    "start_time": "2023-10-02T10:26:47.641Z"
   },
   {
    "duration": 94,
    "start_time": "2023-10-02T10:26:47.674Z"
   },
   {
    "duration": 912,
    "start_time": "2023-10-02T10:26:47.771Z"
   },
   {
    "duration": 36,
    "start_time": "2023-10-02T10:26:48.685Z"
   },
   {
    "duration": 20,
    "start_time": "2023-10-02T10:26:48.723Z"
   },
   {
    "duration": 45,
    "start_time": "2023-10-02T10:26:48.745Z"
   },
   {
    "duration": 5,
    "start_time": "2023-10-02T10:26:48.793Z"
   },
   {
    "duration": 42,
    "start_time": "2023-10-02T10:26:48.801Z"
   },
   {
    "duration": 8,
    "start_time": "2023-10-02T10:26:48.845Z"
   },
   {
    "duration": 809,
    "start_time": "2023-10-02T10:26:48.855Z"
   },
   {
    "duration": 32,
    "start_time": "2023-10-02T10:26:49.666Z"
   },
   {
    "duration": 15,
    "start_time": "2023-10-02T10:26:49.709Z"
   },
   {
    "duration": 43,
    "start_time": "2023-10-02T10:26:49.726Z"
   },
   {
    "duration": 76,
    "start_time": "2023-10-02T10:26:49.771Z"
   },
   {
    "duration": 5,
    "start_time": "2023-10-02T10:26:49.849Z"
   },
   {
    "duration": 26,
    "start_time": "2023-10-02T10:26:49.855Z"
   },
   {
    "duration": 51,
    "start_time": "2023-10-02T10:26:49.883Z"
   },
   {
    "duration": 35,
    "start_time": "2023-10-02T10:26:49.937Z"
   },
   {
    "duration": 51,
    "start_time": "2023-10-02T10:39:58.139Z"
   },
   {
    "duration": 140,
    "start_time": "2023-10-02T10:46:29.709Z"
   },
   {
    "duration": 3,
    "start_time": "2023-10-02T10:46:44.233Z"
   },
   {
    "duration": 1214,
    "start_time": "2023-10-02T10:46:48.486Z"
   },
   {
    "duration": 299,
    "start_time": "2023-10-02T10:46:49.702Z"
   },
   {
    "duration": 53,
    "start_time": "2023-10-02T10:46:50.003Z"
   },
   {
    "duration": 170,
    "start_time": "2023-10-02T10:46:50.059Z"
   },
   {
    "duration": 975,
    "start_time": "2023-10-02T10:46:50.231Z"
   },
   {
    "duration": 17,
    "start_time": "2023-10-02T10:46:51.213Z"
   },
   {
    "duration": 17,
    "start_time": "2023-10-02T10:46:51.233Z"
   },
   {
    "duration": 37,
    "start_time": "2023-10-02T10:46:51.252Z"
   },
   {
    "duration": 35,
    "start_time": "2023-10-02T10:46:51.291Z"
   },
   {
    "duration": 47,
    "start_time": "2023-10-02T10:46:51.329Z"
   },
   {
    "duration": 7,
    "start_time": "2023-10-02T10:46:51.378Z"
   },
   {
    "duration": 837,
    "start_time": "2023-10-02T10:46:51.388Z"
   },
   {
    "duration": 35,
    "start_time": "2023-10-02T10:46:52.228Z"
   },
   {
    "duration": 12,
    "start_time": "2023-10-02T10:46:52.265Z"
   },
   {
    "duration": 64,
    "start_time": "2023-10-02T10:46:52.278Z"
   },
   {
    "duration": 87,
    "start_time": "2023-10-02T10:46:52.344Z"
   },
   {
    "duration": 6,
    "start_time": "2023-10-02T10:46:52.438Z"
   },
   {
    "duration": 44,
    "start_time": "2023-10-02T10:46:52.446Z"
   },
   {
    "duration": 157,
    "start_time": "2023-10-02T10:46:52.492Z"
   },
   {
    "duration": 330,
    "start_time": "2023-10-02T10:46:52.652Z"
   },
   {
    "duration": 1326,
    "start_time": "2023-10-02T10:48:13.325Z"
   },
   {
    "duration": 303,
    "start_time": "2023-10-02T10:48:14.655Z"
   },
   {
    "duration": 32,
    "start_time": "2023-10-02T10:48:14.960Z"
   },
   {
    "duration": 143,
    "start_time": "2023-10-02T10:48:15.013Z"
   },
   {
    "duration": 1192,
    "start_time": "2023-10-02T10:48:15.158Z"
   },
   {
    "duration": 23,
    "start_time": "2023-10-02T10:48:16.353Z"
   },
   {
    "duration": 49,
    "start_time": "2023-10-02T10:48:16.378Z"
   },
   {
    "duration": 55,
    "start_time": "2023-10-02T10:48:16.435Z"
   },
   {
    "duration": 20,
    "start_time": "2023-10-02T10:48:16.493Z"
   },
   {
    "duration": 46,
    "start_time": "2023-10-02T10:48:16.516Z"
   },
   {
    "duration": 10,
    "start_time": "2023-10-02T10:48:16.564Z"
   },
   {
    "duration": 972,
    "start_time": "2023-10-02T10:48:16.577Z"
   },
   {
    "duration": 36,
    "start_time": "2023-10-02T10:48:17.551Z"
   },
   {
    "duration": 32,
    "start_time": "2023-10-02T10:48:17.589Z"
   },
   {
    "duration": 109,
    "start_time": "2023-10-02T10:48:17.624Z"
   },
   {
    "duration": 64,
    "start_time": "2023-10-02T10:48:17.736Z"
   },
   {
    "duration": 11,
    "start_time": "2023-10-02T10:48:17.802Z"
   },
   {
    "duration": 37,
    "start_time": "2023-10-02T10:48:17.822Z"
   },
   {
    "duration": 81,
    "start_time": "2023-10-02T10:48:17.862Z"
   },
   {
    "duration": 221,
    "start_time": "2023-10-02T10:48:17.945Z"
   },
   {
    "duration": 1390,
    "start_time": "2023-10-02T10:48:35.798Z"
   },
   {
    "duration": 405,
    "start_time": "2023-10-02T10:48:37.191Z"
   },
   {
    "duration": 59,
    "start_time": "2023-10-02T10:48:37.599Z"
   },
   {
    "duration": 158,
    "start_time": "2023-10-02T10:48:37.661Z"
   },
   {
    "duration": 1498,
    "start_time": "2023-10-02T10:48:37.822Z"
   },
   {
    "duration": 24,
    "start_time": "2023-10-02T10:48:39.322Z"
   },
   {
    "duration": 26,
    "start_time": "2023-10-02T10:48:39.349Z"
   },
   {
    "duration": 59,
    "start_time": "2023-10-02T10:48:39.377Z"
   },
   {
    "duration": 9,
    "start_time": "2023-10-02T10:48:39.440Z"
   },
   {
    "duration": 56,
    "start_time": "2023-10-02T10:48:39.453Z"
   },
   {
    "duration": 10,
    "start_time": "2023-10-02T10:48:39.515Z"
   },
   {
    "duration": 941,
    "start_time": "2023-10-02T10:48:39.527Z"
   },
   {
    "duration": 60,
    "start_time": "2023-10-02T10:48:40.470Z"
   },
   {
    "duration": 12,
    "start_time": "2023-10-02T10:48:40.536Z"
   },
   {
    "duration": 83,
    "start_time": "2023-10-02T10:48:40.551Z"
   },
   {
    "duration": 60,
    "start_time": "2023-10-02T10:48:40.639Z"
   },
   {
    "duration": 8,
    "start_time": "2023-10-02T10:48:40.701Z"
   },
   {
    "duration": 80,
    "start_time": "2023-10-02T10:48:40.712Z"
   },
   {
    "duration": 126,
    "start_time": "2023-10-02T10:48:40.794Z"
   },
   {
    "duration": 137,
    "start_time": "2023-10-02T10:48:40.923Z"
   },
   {
    "duration": 265,
    "start_time": "2023-10-02T10:50:56.140Z"
   },
   {
    "duration": 61,
    "start_time": "2023-10-02T14:30:41.366Z"
   },
   {
    "duration": 1304,
    "start_time": "2023-10-02T14:30:46.831Z"
   },
   {
    "duration": 605,
    "start_time": "2023-10-02T14:30:48.137Z"
   },
   {
    "duration": 28,
    "start_time": "2023-10-02T14:30:48.744Z"
   },
   {
    "duration": 113,
    "start_time": "2023-10-02T14:30:48.774Z"
   },
   {
    "duration": 817,
    "start_time": "2023-10-02T14:30:48.889Z"
   },
   {
    "duration": 20,
    "start_time": "2023-10-02T14:30:49.707Z"
   },
   {
    "duration": 26,
    "start_time": "2023-10-02T14:30:49.729Z"
   },
   {
    "duration": 41,
    "start_time": "2023-10-02T14:30:49.757Z"
   },
   {
    "duration": 8,
    "start_time": "2023-10-02T14:30:49.801Z"
   },
   {
    "duration": 54,
    "start_time": "2023-10-02T14:30:49.812Z"
   },
   {
    "duration": 7,
    "start_time": "2023-10-02T14:30:49.868Z"
   },
   {
    "duration": 739,
    "start_time": "2023-10-02T14:30:49.877Z"
   },
   {
    "duration": 35,
    "start_time": "2023-10-02T14:30:50.618Z"
   },
   {
    "duration": 10,
    "start_time": "2023-10-02T14:30:50.655Z"
   },
   {
    "duration": 54,
    "start_time": "2023-10-02T14:30:50.667Z"
   },
   {
    "duration": 53,
    "start_time": "2023-10-02T14:30:50.724Z"
   },
   {
    "duration": 15,
    "start_time": "2023-10-02T14:30:50.779Z"
   },
   {
    "duration": 36,
    "start_time": "2023-10-02T14:30:50.795Z"
   },
   {
    "duration": 139,
    "start_time": "2023-10-02T14:30:50.833Z"
   },
   {
    "duration": 206,
    "start_time": "2023-10-02T14:30:50.974Z"
   },
   {
    "duration": 182,
    "start_time": "2023-10-02T14:34:45.960Z"
   },
   {
    "duration": 185,
    "start_time": "2023-10-02T14:35:33.261Z"
   },
   {
    "duration": 53,
    "start_time": "2023-10-02T20:12:18.776Z"
   },
   {
    "duration": 1402,
    "start_time": "2023-10-02T20:12:24.248Z"
   },
   {
    "duration": 647,
    "start_time": "2023-10-02T20:12:25.652Z"
   },
   {
    "duration": 34,
    "start_time": "2023-10-02T20:12:26.301Z"
   },
   {
    "duration": 117,
    "start_time": "2023-10-02T20:12:26.337Z"
   },
   {
    "duration": 894,
    "start_time": "2023-10-02T20:12:26.456Z"
   },
   {
    "duration": 17,
    "start_time": "2023-10-02T20:12:27.352Z"
   },
   {
    "duration": 29,
    "start_time": "2023-10-02T20:12:27.371Z"
   },
   {
    "duration": 35,
    "start_time": "2023-10-02T20:12:27.409Z"
   },
   {
    "duration": 13,
    "start_time": "2023-10-02T20:12:27.446Z"
   },
   {
    "duration": 42,
    "start_time": "2023-10-02T20:12:27.461Z"
   },
   {
    "duration": 6,
    "start_time": "2023-10-02T20:12:27.505Z"
   },
   {
    "duration": 774,
    "start_time": "2023-10-02T20:12:27.514Z"
   },
   {
    "duration": 40,
    "start_time": "2023-10-02T20:12:28.290Z"
   },
   {
    "duration": 9,
    "start_time": "2023-10-02T20:12:28.333Z"
   },
   {
    "duration": 62,
    "start_time": "2023-10-02T20:12:28.343Z"
   },
   {
    "duration": 57,
    "start_time": "2023-10-02T20:12:28.407Z"
   },
   {
    "duration": 5,
    "start_time": "2023-10-02T20:12:28.466Z"
   },
   {
    "duration": 28,
    "start_time": "2023-10-02T20:12:28.472Z"
   },
   {
    "duration": 44,
    "start_time": "2023-10-02T20:12:28.502Z"
   },
   {
    "duration": 220,
    "start_time": "2023-10-02T20:12:28.548Z"
   },
   {
    "duration": 234,
    "start_time": "2023-10-02T20:12:28.770Z"
   },
   {
    "duration": 223,
    "start_time": "2023-10-02T20:12:29.006Z"
   },
   {
    "duration": 216,
    "start_time": "2023-10-02T20:12:29.232Z"
   },
   {
    "duration": 51,
    "start_time": "2023-10-03T12:08:38.647Z"
   },
   {
    "duration": 1263,
    "start_time": "2023-10-03T12:08:45.689Z"
   },
   {
    "duration": 590,
    "start_time": "2023-10-03T12:08:46.954Z"
   },
   {
    "duration": 40,
    "start_time": "2023-10-03T12:08:47.546Z"
   },
   {
    "duration": 83,
    "start_time": "2023-10-03T12:08:47.587Z"
   },
   {
    "duration": 795,
    "start_time": "2023-10-03T12:08:47.680Z"
   },
   {
    "duration": 14,
    "start_time": "2023-10-03T12:08:48.477Z"
   },
   {
    "duration": 22,
    "start_time": "2023-10-03T12:08:48.493Z"
   },
   {
    "duration": 57,
    "start_time": "2023-10-03T12:08:48.516Z"
   },
   {
    "duration": 24,
    "start_time": "2023-10-03T12:08:48.574Z"
   },
   {
    "duration": 64,
    "start_time": "2023-10-03T12:08:48.599Z"
   },
   {
    "duration": 5,
    "start_time": "2023-10-03T12:08:48.665Z"
   },
   {
    "duration": 681,
    "start_time": "2023-10-03T12:08:48.672Z"
   },
   {
    "duration": 16,
    "start_time": "2023-10-03T12:08:49.354Z"
   },
   {
    "duration": 19,
    "start_time": "2023-10-03T12:08:49.380Z"
   },
   {
    "duration": 48,
    "start_time": "2023-10-03T12:08:49.401Z"
   },
   {
    "duration": 66,
    "start_time": "2023-10-03T12:08:49.450Z"
   },
   {
    "duration": 66,
    "start_time": "2023-10-03T12:08:49.518Z"
   },
   {
    "duration": 5,
    "start_time": "2023-10-03T12:08:49.586Z"
   },
   {
    "duration": 20,
    "start_time": "2023-10-03T12:08:49.592Z"
   },
   {
    "duration": 37,
    "start_time": "2023-10-03T12:08:49.614Z"
   },
   {
    "duration": 194,
    "start_time": "2023-10-03T12:08:49.653Z"
   },
   {
    "duration": 205,
    "start_time": "2023-10-03T12:08:49.849Z"
   },
   {
    "duration": 195,
    "start_time": "2023-10-03T12:08:50.056Z"
   },
   {
    "duration": 196,
    "start_time": "2023-10-03T12:08:50.253Z"
   },
   {
    "duration": 52,
    "start_time": "2023-10-03T13:41:58.866Z"
   },
   {
    "duration": 1342,
    "start_time": "2023-10-03T13:42:03.169Z"
   },
   {
    "duration": 625,
    "start_time": "2023-10-03T13:42:04.513Z"
   },
   {
    "duration": 30,
    "start_time": "2023-10-03T13:42:05.140Z"
   },
   {
    "duration": 170,
    "start_time": "2023-10-03T13:42:05.173Z"
   },
   {
    "duration": 138,
    "start_time": "2023-10-03T13:42:05.346Z"
   },
   {
    "duration": 1971,
    "start_time": "2023-10-03T13:42:05.487Z"
   },
   {
    "duration": 15,
    "start_time": "2023-10-03T13:42:07.459Z"
   },
   {
    "duration": 75,
    "start_time": "2023-10-03T13:42:07.476Z"
   },
   {
    "duration": 30,
    "start_time": "2023-10-03T13:42:07.552Z"
   },
   {
    "duration": 64,
    "start_time": "2023-10-03T13:42:07.585Z"
   },
   {
    "duration": 111,
    "start_time": "2023-10-03T13:42:07.652Z"
   },
   {
    "duration": 8,
    "start_time": "2023-10-03T13:42:07.765Z"
   },
   {
    "duration": 772,
    "start_time": "2023-10-03T13:42:07.775Z"
   },
   {
    "duration": 16,
    "start_time": "2023-10-03T13:42:08.549Z"
   },
   {
    "duration": 23,
    "start_time": "2023-10-03T13:42:08.567Z"
   },
   {
    "duration": 29,
    "start_time": "2023-10-03T13:42:08.592Z"
   },
   {
    "duration": 46,
    "start_time": "2023-10-03T13:42:08.623Z"
   },
   {
    "duration": 57,
    "start_time": "2023-10-03T13:42:08.671Z"
   },
   {
    "duration": 19,
    "start_time": "2023-10-03T13:42:08.730Z"
   },
   {
    "duration": 42,
    "start_time": "2023-10-03T13:42:08.751Z"
   },
   {
    "duration": 58,
    "start_time": "2023-10-03T13:42:08.795Z"
   },
   {
    "duration": 223,
    "start_time": "2023-10-03T13:42:08.855Z"
   },
   {
    "duration": 224,
    "start_time": "2023-10-03T13:42:09.080Z"
   },
   {
    "duration": 209,
    "start_time": "2023-10-03T13:42:09.306Z"
   },
   {
    "duration": 208,
    "start_time": "2023-10-03T13:42:09.517Z"
   },
   {
    "duration": 89,
    "start_time": "2023-10-03T13:42:26.335Z"
   },
   {
    "duration": 73,
    "start_time": "2023-10-03T13:42:46.507Z"
   },
   {
    "duration": 8,
    "start_time": "2023-10-03T13:50:58.502Z"
   },
   {
    "duration": 96,
    "start_time": "2023-10-03T13:57:30.299Z"
   },
   {
    "duration": 94,
    "start_time": "2023-10-03T13:58:06.878Z"
   },
   {
    "duration": 21,
    "start_time": "2023-10-03T13:59:40.540Z"
   },
   {
    "duration": 38,
    "start_time": "2023-10-03T14:00:05.102Z"
   },
   {
    "duration": 54,
    "start_time": "2023-10-03T14:18:52.370Z"
   },
   {
    "duration": 58,
    "start_time": "2023-10-03T14:40:39.732Z"
   },
   {
    "duration": 75,
    "start_time": "2023-10-03T14:41:34.061Z"
   },
   {
    "duration": 59,
    "start_time": "2023-10-03T14:43:26.819Z"
   },
   {
    "duration": 1206,
    "start_time": "2023-10-03T14:45:46.644Z"
   },
   {
    "duration": 261,
    "start_time": "2023-10-03T14:45:47.852Z"
   },
   {
    "duration": 41,
    "start_time": "2023-10-03T14:45:48.115Z"
   },
   {
    "duration": 75,
    "start_time": "2023-10-03T14:45:48.158Z"
   },
   {
    "duration": 114,
    "start_time": "2023-10-03T14:45:48.235Z"
   },
   {
    "duration": 934,
    "start_time": "2023-10-03T14:45:48.350Z"
   },
   {
    "duration": 17,
    "start_time": "2023-10-03T14:45:49.286Z"
   },
   {
    "duration": 43,
    "start_time": "2023-10-03T14:45:49.305Z"
   },
   {
    "duration": 33,
    "start_time": "2023-10-03T14:45:49.350Z"
   },
   {
    "duration": 6,
    "start_time": "2023-10-03T14:45:49.385Z"
   },
   {
    "duration": 123,
    "start_time": "2023-10-03T14:45:49.393Z"
   },
   {
    "duration": 6,
    "start_time": "2023-10-03T14:45:49.519Z"
   },
   {
    "duration": 802,
    "start_time": "2023-10-03T14:45:49.527Z"
   },
   {
    "duration": 43,
    "start_time": "2023-10-03T14:45:50.332Z"
   },
   {
    "duration": 21,
    "start_time": "2023-10-03T14:45:50.377Z"
   },
   {
    "duration": 48,
    "start_time": "2023-10-03T14:45:50.401Z"
   },
   {
    "duration": 37,
    "start_time": "2023-10-03T14:45:50.452Z"
   },
   {
    "duration": 110,
    "start_time": "2023-10-03T14:45:50.491Z"
   },
   {
    "duration": 6,
    "start_time": "2023-10-03T14:45:50.604Z"
   },
   {
    "duration": 39,
    "start_time": "2023-10-03T14:45:50.613Z"
   },
   {
    "duration": 42,
    "start_time": "2023-10-03T14:45:50.655Z"
   },
   {
    "duration": 249,
    "start_time": "2023-10-03T14:45:50.701Z"
   },
   {
    "duration": 221,
    "start_time": "2023-10-03T14:45:50.951Z"
   },
   {
    "duration": 210,
    "start_time": "2023-10-03T14:45:51.174Z"
   },
   {
    "duration": 216,
    "start_time": "2023-10-03T14:45:51.386Z"
   },
   {
    "duration": 85,
    "start_time": "2023-10-03T14:46:29.843Z"
   },
   {
    "duration": 215,
    "start_time": "2023-10-03T14:46:42.378Z"
   },
   {
    "duration": 1156,
    "start_time": "2023-10-03T14:46:47.911Z"
   },
   {
    "duration": 266,
    "start_time": "2023-10-03T14:46:49.069Z"
   },
   {
    "duration": 34,
    "start_time": "2023-10-03T14:46:49.338Z"
   },
   {
    "duration": 87,
    "start_time": "2023-10-03T14:46:49.376Z"
   },
   {
    "duration": 106,
    "start_time": "2023-10-03T14:46:49.465Z"
   },
   {
    "duration": 897,
    "start_time": "2023-10-03T14:46:49.573Z"
   },
   {
    "duration": 15,
    "start_time": "2023-10-03T14:46:50.472Z"
   },
   {
    "duration": 28,
    "start_time": "2023-10-03T14:46:50.488Z"
   },
   {
    "duration": 40,
    "start_time": "2023-10-03T14:46:50.517Z"
   },
   {
    "duration": 38,
    "start_time": "2023-10-03T14:46:50.560Z"
   },
   {
    "duration": 216,
    "start_time": "2023-10-03T14:46:50.600Z"
   },
   {
    "duration": 0,
    "start_time": "2023-10-03T14:46:50.819Z"
   },
   {
    "duration": 0,
    "start_time": "2023-10-03T14:46:50.821Z"
   },
   {
    "duration": 0,
    "start_time": "2023-10-03T14:46:50.823Z"
   },
   {
    "duration": 0,
    "start_time": "2023-10-03T14:46:50.824Z"
   },
   {
    "duration": 0,
    "start_time": "2023-10-03T14:46:50.826Z"
   },
   {
    "duration": 0,
    "start_time": "2023-10-03T14:46:50.828Z"
   },
   {
    "duration": 0,
    "start_time": "2023-10-03T14:46:50.847Z"
   },
   {
    "duration": 0,
    "start_time": "2023-10-03T14:46:50.849Z"
   },
   {
    "duration": 0,
    "start_time": "2023-10-03T14:46:50.850Z"
   },
   {
    "duration": 0,
    "start_time": "2023-10-03T14:46:50.853Z"
   },
   {
    "duration": 0,
    "start_time": "2023-10-03T14:46:50.854Z"
   },
   {
    "duration": 0,
    "start_time": "2023-10-03T14:46:50.856Z"
   },
   {
    "duration": 0,
    "start_time": "2023-10-03T14:46:50.858Z"
   },
   {
    "duration": 0,
    "start_time": "2023-10-03T14:46:50.860Z"
   },
   {
    "duration": 90,
    "start_time": "2023-10-03T14:47:01.183Z"
   },
   {
    "duration": 89,
    "start_time": "2023-10-03T14:47:19.232Z"
   },
   {
    "duration": 1141,
    "start_time": "2023-10-03T14:47:50.532Z"
   },
   {
    "duration": 266,
    "start_time": "2023-10-03T14:47:51.675Z"
   },
   {
    "duration": 33,
    "start_time": "2023-10-03T14:47:51.942Z"
   },
   {
    "duration": 91,
    "start_time": "2023-10-03T14:47:51.979Z"
   },
   {
    "duration": 115,
    "start_time": "2023-10-03T14:47:52.071Z"
   },
   {
    "duration": 879,
    "start_time": "2023-10-03T14:47:52.189Z"
   },
   {
    "duration": 15,
    "start_time": "2023-10-03T14:47:53.070Z"
   },
   {
    "duration": 34,
    "start_time": "2023-10-03T14:47:53.087Z"
   },
   {
    "duration": 35,
    "start_time": "2023-10-03T14:47:53.123Z"
   },
   {
    "duration": 6,
    "start_time": "2023-10-03T14:47:53.162Z"
   },
   {
    "duration": 108,
    "start_time": "2023-10-03T14:47:53.169Z"
   },
   {
    "duration": 7,
    "start_time": "2023-10-03T14:47:53.279Z"
   },
   {
    "duration": 810,
    "start_time": "2023-10-03T14:47:53.287Z"
   },
   {
    "duration": 23,
    "start_time": "2023-10-03T14:47:54.099Z"
   },
   {
    "duration": 35,
    "start_time": "2023-10-03T14:47:54.125Z"
   },
   {
    "duration": 68,
    "start_time": "2023-10-03T14:47:54.162Z"
   },
   {
    "duration": 41,
    "start_time": "2023-10-03T14:47:54.232Z"
   },
   {
    "duration": 71,
    "start_time": "2023-10-03T14:47:54.275Z"
   },
   {
    "duration": 6,
    "start_time": "2023-10-03T14:47:54.348Z"
   },
   {
    "duration": 50,
    "start_time": "2023-10-03T14:47:54.356Z"
   },
   {
    "duration": 66,
    "start_time": "2023-10-03T14:47:54.408Z"
   },
   {
    "duration": 220,
    "start_time": "2023-10-03T14:47:54.476Z"
   },
   {
    "duration": 211,
    "start_time": "2023-10-03T14:47:54.698Z"
   },
   {
    "duration": 237,
    "start_time": "2023-10-03T14:47:54.911Z"
   },
   {
    "duration": 239,
    "start_time": "2023-10-03T14:47:55.151Z"
   },
   {
    "duration": 4,
    "start_time": "2023-10-03T14:53:20.830Z"
   },
   {
    "duration": 170936,
    "start_time": "2023-10-03T15:40:49.597Z"
   },
   {
    "duration": 284,
    "start_time": "2023-10-03T15:47:07.843Z"
   },
   {
    "duration": 482,
    "start_time": "2023-10-03T15:47:15.245Z"
   },
   {
    "duration": 199,
    "start_time": "2023-10-03T15:47:32.764Z"
   },
   {
    "duration": 11,
    "start_time": "2023-10-04T13:07:30.464Z"
   },
   {
    "duration": 51,
    "start_time": "2023-10-04T13:07:40.522Z"
   },
   {
    "duration": 1303,
    "start_time": "2023-10-04T13:07:49.208Z"
   },
   {
    "duration": 596,
    "start_time": "2023-10-04T13:07:50.513Z"
   },
   {
    "duration": 29,
    "start_time": "2023-10-04T13:07:51.111Z"
   },
   {
    "duration": 65,
    "start_time": "2023-10-04T13:07:51.144Z"
   },
   {
    "duration": 98,
    "start_time": "2023-10-04T13:07:51.211Z"
   },
   {
    "duration": 784,
    "start_time": "2023-10-04T13:07:51.310Z"
   },
   {
    "duration": 14,
    "start_time": "2023-10-04T13:07:52.095Z"
   },
   {
    "duration": 41,
    "start_time": "2023-10-04T13:07:52.111Z"
   },
   {
    "duration": 41,
    "start_time": "2023-10-04T13:07:52.154Z"
   },
   {
    "duration": 22,
    "start_time": "2023-10-04T13:07:52.198Z"
   },
   {
    "duration": 94,
    "start_time": "2023-10-04T13:07:52.222Z"
   },
   {
    "duration": 6,
    "start_time": "2023-10-04T13:07:52.318Z"
   },
   {
    "duration": 689,
    "start_time": "2023-10-04T13:07:52.326Z"
   },
   {
    "duration": 31,
    "start_time": "2023-10-04T13:07:53.017Z"
   },
   {
    "duration": 47,
    "start_time": "2023-10-04T13:07:53.050Z"
   },
   {
    "duration": 46,
    "start_time": "2023-10-04T13:07:53.099Z"
   },
   {
    "duration": 46,
    "start_time": "2023-10-04T13:07:53.146Z"
   },
   {
    "duration": 72,
    "start_time": "2023-10-04T13:07:53.194Z"
   },
   {
    "duration": 5,
    "start_time": "2023-10-04T13:07:53.268Z"
   },
   {
    "duration": 36,
    "start_time": "2023-10-04T13:07:53.275Z"
   },
   {
    "duration": 56,
    "start_time": "2023-10-04T13:07:53.313Z"
   },
   {
    "duration": 147213,
    "start_time": "2023-10-04T13:07:53.371Z"
   },
   {
    "duration": 184,
    "start_time": "2023-10-04T13:10:20.585Z"
   },
   {
    "duration": 0,
    "start_time": "2023-10-04T13:10:20.770Z"
   },
   {
    "duration": 0,
    "start_time": "2023-10-04T13:10:20.772Z"
   },
   {
    "duration": 0,
    "start_time": "2023-10-04T13:10:20.773Z"
   },
   {
    "duration": 238,
    "start_time": "2023-10-04T13:11:44.178Z"
   },
   {
    "duration": 264,
    "start_time": "2023-10-04T13:12:35.829Z"
   },
   {
    "duration": 1077,
    "start_time": "2023-10-04T13:14:39.925Z"
   },
   {
    "duration": 252,
    "start_time": "2023-10-04T13:14:41.004Z"
   },
   {
    "duration": 26,
    "start_time": "2023-10-04T13:14:41.258Z"
   },
   {
    "duration": 76,
    "start_time": "2023-10-04T13:14:41.286Z"
   },
   {
    "duration": 88,
    "start_time": "2023-10-04T13:14:41.364Z"
   },
   {
    "duration": 753,
    "start_time": "2023-10-04T13:14:41.454Z"
   },
   {
    "duration": 12,
    "start_time": "2023-10-04T13:14:42.209Z"
   },
   {
    "duration": 26,
    "start_time": "2023-10-04T13:14:42.223Z"
   },
   {
    "duration": 42,
    "start_time": "2023-10-04T13:14:42.251Z"
   },
   {
    "duration": 13,
    "start_time": "2023-10-04T13:14:42.295Z"
   },
   {
    "duration": 89,
    "start_time": "2023-10-04T13:14:42.309Z"
   },
   {
    "duration": 50,
    "start_time": "2023-10-04T13:14:42.399Z"
   },
   {
    "duration": 812,
    "start_time": "2023-10-04T13:14:42.451Z"
   },
   {
    "duration": 22,
    "start_time": "2023-10-04T13:14:43.265Z"
   },
   {
    "duration": 18,
    "start_time": "2023-10-04T13:14:43.289Z"
   },
   {
    "duration": 51,
    "start_time": "2023-10-04T13:14:43.308Z"
   },
   {
    "duration": 29,
    "start_time": "2023-10-04T13:14:43.361Z"
   },
   {
    "duration": 66,
    "start_time": "2023-10-04T13:14:43.391Z"
   },
   {
    "duration": 4,
    "start_time": "2023-10-04T13:14:43.459Z"
   },
   {
    "duration": 11,
    "start_time": "2023-10-04T13:14:43.464Z"
   },
   {
    "duration": 35,
    "start_time": "2023-10-04T13:14:43.476Z"
   },
   {
    "duration": 2,
    "start_time": "2023-10-04T13:14:43.513Z"
   },
   {
    "duration": 304,
    "start_time": "2023-10-04T13:14:43.516Z"
   },
   {
    "duration": 264,
    "start_time": "2023-10-04T13:14:43.822Z"
   },
   {
    "duration": 259,
    "start_time": "2023-10-04T13:14:44.088Z"
   },
   {
    "duration": 314,
    "start_time": "2023-10-04T13:14:44.349Z"
   },
   {
    "duration": 142,
    "start_time": "2023-10-04T13:17:57.798Z"
   },
   {
    "duration": 189,
    "start_time": "2023-10-04T13:18:51.764Z"
   },
   {
    "duration": 228,
    "start_time": "2023-10-04T13:19:01.557Z"
   },
   {
    "duration": 191,
    "start_time": "2023-10-04T13:19:05.957Z"
   },
   {
    "duration": 192,
    "start_time": "2023-10-04T13:19:44.121Z"
   },
   {
    "duration": 1131,
    "start_time": "2023-10-04T13:20:52.909Z"
   },
   {
    "duration": 236,
    "start_time": "2023-10-04T13:20:54.042Z"
   },
   {
    "duration": 27,
    "start_time": "2023-10-04T13:20:54.280Z"
   },
   {
    "duration": 84,
    "start_time": "2023-10-04T13:20:54.308Z"
   },
   {
    "duration": 122,
    "start_time": "2023-10-04T13:20:54.394Z"
   },
   {
    "duration": 819,
    "start_time": "2023-10-04T13:20:54.519Z"
   },
   {
    "duration": 14,
    "start_time": "2023-10-04T13:20:55.339Z"
   },
   {
    "duration": 25,
    "start_time": "2023-10-04T13:20:55.354Z"
   },
   {
    "duration": 26,
    "start_time": "2023-10-04T13:20:55.380Z"
   },
   {
    "duration": 19,
    "start_time": "2023-10-04T13:20:55.409Z"
   },
   {
    "duration": 78,
    "start_time": "2023-10-04T13:20:55.430Z"
   },
   {
    "duration": 6,
    "start_time": "2023-10-04T13:20:55.510Z"
   },
   {
    "duration": 684,
    "start_time": "2023-10-04T13:20:55.517Z"
   },
   {
    "duration": 21,
    "start_time": "2023-10-04T13:20:56.203Z"
   },
   {
    "duration": 30,
    "start_time": "2023-10-04T13:20:56.226Z"
   },
   {
    "duration": 51,
    "start_time": "2023-10-04T13:20:56.258Z"
   },
   {
    "duration": 29,
    "start_time": "2023-10-04T13:20:56.311Z"
   },
   {
    "duration": 58,
    "start_time": "2023-10-04T13:20:56.341Z"
   },
   {
    "duration": 4,
    "start_time": "2023-10-04T13:20:56.401Z"
   },
   {
    "duration": 14,
    "start_time": "2023-10-04T13:20:56.407Z"
   },
   {
    "duration": 39,
    "start_time": "2023-10-04T13:20:56.423Z"
   },
   {
    "duration": 6,
    "start_time": "2023-10-04T13:20:56.464Z"
   },
   {
    "duration": 196,
    "start_time": "2023-10-04T13:20:56.471Z"
   },
   {
    "duration": 205,
    "start_time": "2023-10-04T13:20:56.669Z"
   },
   {
    "duration": 220,
    "start_time": "2023-10-04T13:20:56.877Z"
   },
   {
    "duration": 195,
    "start_time": "2023-10-04T13:20:57.099Z"
   },
   {
    "duration": 4,
    "start_time": "2023-10-04T13:39:11.784Z"
   },
   {
    "duration": 5,
    "start_time": "2023-10-04T13:40:33.379Z"
   },
   {
    "duration": 4,
    "start_time": "2023-10-04T13:42:20.176Z"
   },
   {
    "duration": 85,
    "start_time": "2023-10-04T13:52:53.896Z"
   },
   {
    "duration": 56,
    "start_time": "2023-10-05T14:27:10.545Z"
   },
   {
    "duration": 1223,
    "start_time": "2023-10-05T14:27:17.566Z"
   },
   {
    "duration": 714,
    "start_time": "2023-10-05T14:27:18.792Z"
   },
   {
    "duration": 30,
    "start_time": "2023-10-05T14:27:19.507Z"
   },
   {
    "duration": 68,
    "start_time": "2023-10-05T14:27:19.539Z"
   },
   {
    "duration": 86,
    "start_time": "2023-10-05T14:27:19.609Z"
   },
   {
    "duration": 101,
    "start_time": "2023-10-05T14:27:19.696Z"
   },
   {
    "duration": 802,
    "start_time": "2023-10-05T14:27:19.799Z"
   },
   {
    "duration": 16,
    "start_time": "2023-10-05T14:27:20.603Z"
   },
   {
    "duration": 43,
    "start_time": "2023-10-05T14:27:20.621Z"
   },
   {
    "duration": 26,
    "start_time": "2023-10-05T14:27:20.667Z"
   },
   {
    "duration": 45,
    "start_time": "2023-10-05T14:27:20.695Z"
   },
   {
    "duration": 255,
    "start_time": "2023-10-05T14:27:20.742Z"
   },
   {
    "duration": 5,
    "start_time": "2023-10-05T14:27:21.000Z"
   },
   {
    "duration": 710,
    "start_time": "2023-10-05T14:27:21.006Z"
   },
   {
    "duration": 27,
    "start_time": "2023-10-05T14:27:21.718Z"
   },
   {
    "duration": 19,
    "start_time": "2023-10-05T14:27:21.748Z"
   },
   {
    "duration": 75,
    "start_time": "2023-10-05T14:27:21.769Z"
   },
   {
    "duration": 44,
    "start_time": "2023-10-05T14:27:21.846Z"
   },
   {
    "duration": 88,
    "start_time": "2023-10-05T14:27:21.891Z"
   },
   {
    "duration": 5,
    "start_time": "2023-10-05T14:27:21.980Z"
   },
   {
    "duration": 17,
    "start_time": "2023-10-05T14:27:21.987Z"
   },
   {
    "duration": 55,
    "start_time": "2023-10-05T14:27:22.006Z"
   },
   {
    "duration": 3,
    "start_time": "2023-10-05T14:27:22.063Z"
   },
   {
    "duration": 221,
    "start_time": "2023-10-05T14:27:22.068Z"
   },
   {
    "duration": 204,
    "start_time": "2023-10-05T14:27:22.291Z"
   },
   {
    "duration": 199,
    "start_time": "2023-10-05T14:27:22.496Z"
   },
   {
    "duration": 203,
    "start_time": "2023-10-05T14:27:22.697Z"
   },
   {
    "duration": 5,
    "start_time": "2023-10-05T14:27:22.904Z"
   },
   {
    "duration": 74,
    "start_time": "2023-10-05T14:32:23.901Z"
   },
   {
    "duration": 300,
    "start_time": "2023-10-05T14:33:03.799Z"
   },
   {
    "duration": 4,
    "start_time": "2023-10-05T14:33:06.741Z"
   },
   {
    "duration": 4,
    "start_time": "2023-10-05T14:33:52.277Z"
   },
   {
    "duration": 4,
    "start_time": "2023-10-05T14:46:57.119Z"
   },
   {
    "duration": 10,
    "start_time": "2023-10-06T14:24:20.600Z"
   },
   {
    "duration": 1025,
    "start_time": "2023-10-06T14:25:02.774Z"
   },
   {
    "duration": 243,
    "start_time": "2023-10-06T14:25:03.801Z"
   },
   {
    "duration": 196,
    "start_time": "2023-10-06T14:25:04.045Z"
   },
   {
    "duration": 161,
    "start_time": "2023-10-06T14:25:04.244Z"
   },
   {
    "duration": 349,
    "start_time": "2023-10-06T14:25:04.407Z"
   },
   {
    "duration": 93,
    "start_time": "2023-10-06T14:25:04.758Z"
   },
   {
    "duration": 849,
    "start_time": "2023-10-06T14:25:04.852Z"
   },
   {
    "duration": 23,
    "start_time": "2023-10-06T14:25:05.702Z"
   },
   {
    "duration": 276,
    "start_time": "2023-10-06T14:25:05.726Z"
   },
   {
    "duration": 129,
    "start_time": "2023-10-06T14:25:06.005Z"
   },
   {
    "duration": 138,
    "start_time": "2023-10-06T14:25:06.136Z"
   },
   {
    "duration": 235,
    "start_time": "2023-10-06T14:25:06.276Z"
   },
   {
    "duration": 285,
    "start_time": "2023-10-06T14:25:06.513Z"
   },
   {
    "duration": 822,
    "start_time": "2023-10-06T14:25:06.799Z"
   },
   {
    "duration": 24,
    "start_time": "2023-10-06T14:25:07.623Z"
   },
   {
    "duration": 227,
    "start_time": "2023-10-06T14:25:07.649Z"
   },
   {
    "duration": 106,
    "start_time": "2023-10-06T14:25:07.878Z"
   },
   {
    "duration": 58,
    "start_time": "2023-10-06T14:25:07.986Z"
   },
   {
    "duration": 82,
    "start_time": "2023-10-06T14:25:08.046Z"
   },
   {
    "duration": 5,
    "start_time": "2023-10-06T14:25:08.130Z"
   },
   {
    "duration": 351,
    "start_time": "2023-10-06T14:25:08.137Z"
   },
   {
    "duration": 588,
    "start_time": "2023-10-06T14:25:08.490Z"
   },
   {
    "duration": 202,
    "start_time": "2023-10-06T14:25:09.080Z"
   },
   {
    "duration": 346,
    "start_time": "2023-10-06T14:25:09.283Z"
   },
   {
    "duration": 199,
    "start_time": "2023-10-06T14:25:09.631Z"
   },
   {
    "duration": 196,
    "start_time": "2023-10-06T14:25:09.832Z"
   },
   {
    "duration": 205,
    "start_time": "2023-10-06T14:25:10.030Z"
   },
   {
    "duration": 5,
    "start_time": "2023-10-06T14:25:10.239Z"
   }
  ],
  "kernelspec": {
   "display_name": "Python 3 (ipykernel)",
   "language": "python",
   "name": "python3"
  },
  "language_info": {
   "codemirror_mode": {
    "name": "ipython",
    "version": 3
   },
   "file_extension": ".py",
   "mimetype": "text/x-python",
   "name": "python",
   "nbconvert_exporter": "python",
   "pygments_lexer": "ipython3",
   "version": "3.9.5"
  },
  "toc": {
   "base_numbering": 1,
   "nav_menu": {},
   "number_sections": true,
   "sideBar": true,
   "skip_h1_title": true,
   "title_cell": "Table of Contents",
   "title_sidebar": "Contents",
   "toc_cell": false,
   "toc_position": {},
   "toc_section_display": true,
   "toc_window_display": true
  }
 },
 "nbformat": 4,
 "nbformat_minor": 2
}
