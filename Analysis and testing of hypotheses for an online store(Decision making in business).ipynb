{
 "cells": [
  {
   "cell_type": "markdown",
   "metadata": {},
   "source": [
    "<div class=\"alert alert-success\">\n",
    "<b> Комментарий от ревьюера 3</b>\n",
    "\n",
    "Спасибо, что учел мои комментарии. Ты приложил много усилий, чтобы довести проект до конца, надеюсь, что эта работа помогла тебе лучше понять теорию. Я принимаю проект и желаю удачи в прохождении курса!\n",
    "\n",
    "</div>"
   ]
  },
  {
   "cell_type": "markdown",
   "metadata": {},
   "source": [
    "<div class=\"alert alert-success\">\n",
    "<b> Комментарий от ревьюера 2</b>\n",
    "\n",
    "Привет еще раз. Спасибо, что доделал работу. Оформление комментариев по работе сохраняется. Только обозначим, что это вторая итерация. \n",
    "\n",
    "</div>"
   ]
  },
  {
   "cell_type": "markdown",
   "metadata": {},
   "source": [
    "Привет, Евгений.\n",
    "\n",
    
    "Мои комментарии будут в ячейках «Комментарий от ревьюера».\n",
    "\n",
    "---    \n",
    "<div class=\"alert alert-block alert-danger\">\n",
    "    \n",
    "Критическое замечание, которые следует исправить.\n",
    "</div> \n",
    "    \n",
    "<div class=\"alert alert-block alert-warning\">\n",
    "    \n",
    "Замечание\\совет на будущее.\n",
    "</div>\n",
    "    \n",
    "<div class=\"alert alert-block alert-success\">\n",
    "    \n",
    "Когда всё сделано правильно.\n",
    "</div>\n",
    "    \n",
    "---        \n",
    "    \n",
    "Если ты вносишь изменения в проект по моим рекомендациям, указывай, пожалуйста, это в своих комментариях. Будет удобно, если обозначишь свои комментарии заметным цветом или поместишь \n",
    "\n",
    "<div class=\"alert alert-info\">\n",
    "    \n",
    "в такую ячейку\n",
    "</div>\n",
    "\n",
    "Давай при работе с проектом мы будем общаться с тобой в диалоге, поэтому не удаляй и не перемещай мои комментарии, это поможет мне сделать повторную  проверку проекта быстрее.\n",
    "___"
   ]
  },
  {
   "cell_type": "markdown",
   "metadata": {},
   "source": [
    "# Анализ и проверка гипотез для интернет-магазина"
   ]
  },
  {
   "cell_type": "markdown",
   "metadata": {},
   "source": [
    "<div class=\"alert alert-warning\">\n",
    "<b>Комментарий ревьюера:</b> Вступление к проекту станет лучше, если ты добавишь краткое описание проекта, цель проекта, описание данных и план работы.\n",
    "Тогда получатель исследования сможет быстрее его понять.\n",
    "\n",
    "</div>"
   ]
  },
  {
   "cell_type": "code",
   "execution_count": 1,
   "metadata": {},
   "outputs": [],
   "source": [
    "import pandas as pd\n",
    "import matplotlib.pyplot as plt\n",
    "from pandas.plotting import register_matplotlib_converters\n",
    "import datetime as dt\n",
    "import numpy as np\n",
    "import scipy.stats as stats\n",
    "register_matplotlib_converters()\n",
    "pd.set_option('max_colwidth', 200)"
   ]
  },
  {
   "cell_type": "markdown",
   "metadata": {},
   "source": [
    "<div class=\"alert alert-block alert-success\">\n",
    "    \n",
    "<b>Комментарий ревьюера:</b> Все нужные библиотеки загружены, отлично.\n",
    "</div>"
   ]
  },
  {
   "cell_type": "markdown",
   "metadata": {},
   "source": [
    "## 1. Приоретизация гипотез"
   ]
  },
  {
   "cell_type": "code",
   "execution_count": 2,
   "metadata": {},
   "outputs": [
    {
     "name": "stdout",
     "output_type": "stream",
     "text": [
      "<class 'pandas.core.frame.DataFrame'>\n",
      "RangeIndex: 9 entries, 0 to 8\n",
      "Data columns (total 5 columns):\n",
      " #   Column      Non-Null Count  Dtype \n",
      "---  ------      --------------  ----- \n",
      " 0   Hypothesis  9 non-null      object\n",
      " 1   Reach       9 non-null      int64 \n",
      " 2   Impact      9 non-null      int64 \n",
      " 3   Confidence  9 non-null      int64 \n",
      " 4   Efforts     9 non-null      int64 \n",
      "dtypes: int64(4), object(1)\n",
      "memory usage: 488.0+ bytes\n"
     ]
    },
    {
     "data": {
      "text/html": [
       "<div>\n",
       "<style scoped>\n",
       "    .dataframe tbody tr th:only-of-type {\n",
       "        vertical-align: middle;\n",
       "    }\n",
       "\n",
       "    .dataframe tbody tr th {\n",
       "        vertical-align: top;\n",
       "    }\n",
       "\n",
       "    .dataframe thead th {\n",
       "        text-align: right;\n",
       "    }\n",
       "</style>\n",
       "<table border=\"1\" class=\"dataframe\">\n",
       "  <thead>\n",
       "    <tr style=\"text-align: right;\">\n",
       "      <th></th>\n",
       "      <th>hypothesis</th>\n",
       "      <th>reach</th>\n",
       "      <th>impact</th>\n",
       "      <th>confidence</th>\n",
       "      <th>efforts</th>\n",
       "    </tr>\n",
       "  </thead>\n",
       "  <tbody>\n",
       "    <tr>\n",
       "      <th>0</th>\n",
       "      <td>Добавить два новых канала привлечения трафика, что позволит привлекать на 30% больше пользователей</td>\n",
       "      <td>3</td>\n",
       "      <td>10</td>\n",
       "      <td>8</td>\n",
       "      <td>6</td>\n",
       "    </tr>\n",
       "    <tr>\n",
       "      <th>1</th>\n",
       "      <td>Запустить собственную службу доставки, что сократит срок доставки заказов</td>\n",
       "      <td>2</td>\n",
       "      <td>5</td>\n",
       "      <td>4</td>\n",
       "      <td>10</td>\n",
       "    </tr>\n",
       "    <tr>\n",
       "      <th>2</th>\n",
       "      <td>Добавить блоки рекомендаций товаров на сайт интернет магазина, чтобы повысить конверсию и средний чек заказа</td>\n",
       "      <td>8</td>\n",
       "      <td>3</td>\n",
       "      <td>7</td>\n",
       "      <td>3</td>\n",
       "    </tr>\n",
       "    <tr>\n",
       "      <th>3</th>\n",
       "      <td>Изменить структура категорий, что увеличит конверсию, т.к. пользователи быстрее найдут нужный товар</td>\n",
       "      <td>8</td>\n",
       "      <td>3</td>\n",
       "      <td>3</td>\n",
       "      <td>8</td>\n",
       "    </tr>\n",
       "    <tr>\n",
       "      <th>4</th>\n",
       "      <td>Изменить цвет фона главной страницы, чтобы увеличить вовлеченность пользователей</td>\n",
       "      <td>3</td>\n",
       "      <td>1</td>\n",
       "      <td>1</td>\n",
       "      <td>1</td>\n",
       "    </tr>\n",
       "    <tr>\n",
       "      <th>5</th>\n",
       "      <td>Добавить страницу отзывов клиентов о магазине, что позволит увеличить количество заказов</td>\n",
       "      <td>3</td>\n",
       "      <td>2</td>\n",
       "      <td>2</td>\n",
       "      <td>3</td>\n",
       "    </tr>\n",
       "    <tr>\n",
       "      <th>6</th>\n",
       "      <td>Показать на главной странице баннеры с актуальными акциями и распродажами, чтобы увеличить конверсию</td>\n",
       "      <td>5</td>\n",
       "      <td>3</td>\n",
       "      <td>8</td>\n",
       "      <td>3</td>\n",
       "    </tr>\n",
       "    <tr>\n",
       "      <th>7</th>\n",
       "      <td>Добавить форму подписки на все основные страницы, чтобы собрать базу клиентов для email-рассылок</td>\n",
       "      <td>10</td>\n",
       "      <td>7</td>\n",
       "      <td>8</td>\n",
       "      <td>5</td>\n",
       "    </tr>\n",
       "    <tr>\n",
       "      <th>8</th>\n",
       "      <td>Запустить акцию, дающую скидку на товар в день рождения</td>\n",
       "      <td>1</td>\n",
       "      <td>9</td>\n",
       "      <td>9</td>\n",
       "      <td>5</td>\n",
       "    </tr>\n",
       "  </tbody>\n",
       "</table>\n",
       "</div>"
      ],
      "text/plain": [
       "                                                                                                     hypothesis  \\\n",
       "0            Добавить два новых канала привлечения трафика, что позволит привлекать на 30% больше пользователей   \n",
       "1                                     Запустить собственную службу доставки, что сократит срок доставки заказов   \n",
       "2  Добавить блоки рекомендаций товаров на сайт интернет магазина, чтобы повысить конверсию и средний чек заказа   \n",
       "3           Изменить структура категорий, что увеличит конверсию, т.к. пользователи быстрее найдут нужный товар   \n",
       "4                              Изменить цвет фона главной страницы, чтобы увеличить вовлеченность пользователей   \n",
       "5                      Добавить страницу отзывов клиентов о магазине, что позволит увеличить количество заказов   \n",
       "6          Показать на главной странице баннеры с актуальными акциями и распродажами, чтобы увеличить конверсию   \n",
       "7              Добавить форму подписки на все основные страницы, чтобы собрать базу клиентов для email-рассылок   \n",
       "8                                                       Запустить акцию, дающую скидку на товар в день рождения   \n",
       "\n",
       "   reach  impact  confidence  efforts  \n",
       "0      3      10           8        6  \n",
       "1      2       5           4       10  \n",
       "2      8       3           7        3  \n",
       "3      8       3           3        8  \n",
       "4      3       1           1        1  \n",
       "5      3       2           2        3  \n",
       "6      5       3           8        3  \n",
       "7     10       7           8        5  \n",
       "8      1       9           9        5  "
      ]
     },
     "execution_count": 2,
     "metadata": {},
     "output_type": "execute_result"
    }
   ],
   "source": [
    "hyp = pd.read_csv(\"/datasets/hypothesis.csv\")\n",
    "hyp.info()\n",
    "hyp.columns = hyp.columns.str.lower()\n",
    "hyp "
   ]
  },
  {
   "cell_type": "markdown",
   "metadata": {},
   "source": [
    "<div class=\"alert alert-block alert-warning\">\n",
    "    \n",
    "\n",
    "**Комментарий от ревьюера**\n",
    "\n",
    "Удобнее вывести названия гипотез целиком: `pd.set_option('max_colwidth', 200)`\n",
    "    \n",
    "\n",
    "</div>"
   ]
  },
  {
   "cell_type": "markdown",
   "metadata": {},
   "source": [
    "<div class=\"alert alert-success\">\n",
    "<b> Комментарий от ревьюера 2</b>\n",
    "\n",
    "Молодец, что отредактировал таблицу, теперь можно легко сравнить гипотезы. \n",
    "\n",
    "</div>"
   ]
  },
  {
   "cell_type": "code",
   "execution_count": 3,
   "metadata": {},
   "outputs": [
    {
     "data": {
      "text/html": [
       "<div>\n",
       "<style scoped>\n",
       "    .dataframe tbody tr th:only-of-type {\n",
       "        vertical-align: middle;\n",
       "    }\n",
       "\n",
       "    .dataframe tbody tr th {\n",
       "        vertical-align: top;\n",
       "    }\n",
       "\n",
       "    .dataframe thead th {\n",
       "        text-align: right;\n",
       "    }\n",
       "</style>\n",
       "<table border=\"1\" class=\"dataframe\">\n",
       "  <thead>\n",
       "    <tr style=\"text-align: right;\">\n",
       "      <th></th>\n",
       "      <th>hypothesis</th>\n",
       "      <th>reach</th>\n",
       "      <th>impact</th>\n",
       "      <th>confidence</th>\n",
       "      <th>efforts</th>\n",
       "      <th>ice</th>\n",
       "      <th>rice</th>\n",
       "    </tr>\n",
       "  </thead>\n",
       "  <tbody>\n",
       "    <tr>\n",
       "      <th>8</th>\n",
       "      <td>Запустить акцию, дающую скидку на товар в день рождения</td>\n",
       "      <td>1</td>\n",
       "      <td>9</td>\n",
       "      <td>9</td>\n",
       "      <td>5</td>\n",
       "      <td>16.200000</td>\n",
       "      <td>16.2</td>\n",
       "    </tr>\n",
       "    <tr>\n",
       "      <th>0</th>\n",
       "      <td>Добавить два новых канала привлечения трафика, что позволит привлекать на 30% больше пользователей</td>\n",
       "      <td>3</td>\n",
       "      <td>10</td>\n",
       "      <td>8</td>\n",
       "      <td>6</td>\n",
       "      <td>13.333333</td>\n",
       "      <td>40.0</td>\n",
       "    </tr>\n",
       "    <tr>\n",
       "      <th>7</th>\n",
       "      <td>Добавить форму подписки на все основные страницы, чтобы собрать базу клиентов для email-рассылок</td>\n",
       "      <td>10</td>\n",
       "      <td>7</td>\n",
       "      <td>8</td>\n",
       "      <td>5</td>\n",
       "      <td>11.200000</td>\n",
       "      <td>112.0</td>\n",
       "    </tr>\n",
       "    <tr>\n",
       "      <th>6</th>\n",
       "      <td>Показать на главной странице баннеры с актуальными акциями и распродажами, чтобы увеличить конверсию</td>\n",
       "      <td>5</td>\n",
       "      <td>3</td>\n",
       "      <td>8</td>\n",
       "      <td>3</td>\n",
       "      <td>8.000000</td>\n",
       "      <td>40.0</td>\n",
       "    </tr>\n",
       "    <tr>\n",
       "      <th>2</th>\n",
       "      <td>Добавить блоки рекомендаций товаров на сайт интернет магазина, чтобы повысить конверсию и средний чек заказа</td>\n",
       "      <td>8</td>\n",
       "      <td>3</td>\n",
       "      <td>7</td>\n",
       "      <td>3</td>\n",
       "      <td>7.000000</td>\n",
       "      <td>56.0</td>\n",
       "    </tr>\n",
       "    <tr>\n",
       "      <th>1</th>\n",
       "      <td>Запустить собственную службу доставки, что сократит срок доставки заказов</td>\n",
       "      <td>2</td>\n",
       "      <td>5</td>\n",
       "      <td>4</td>\n",
       "      <td>10</td>\n",
       "      <td>2.000000</td>\n",
       "      <td>4.0</td>\n",
       "    </tr>\n",
       "    <tr>\n",
       "      <th>5</th>\n",
       "      <td>Добавить страницу отзывов клиентов о магазине, что позволит увеличить количество заказов</td>\n",
       "      <td>3</td>\n",
       "      <td>2</td>\n",
       "      <td>2</td>\n",
       "      <td>3</td>\n",
       "      <td>1.333333</td>\n",
       "      <td>4.0</td>\n",
       "    </tr>\n",
       "    <tr>\n",
       "      <th>3</th>\n",
       "      <td>Изменить структура категорий, что увеличит конверсию, т.к. пользователи быстрее найдут нужный товар</td>\n",
       "      <td>8</td>\n",
       "      <td>3</td>\n",
       "      <td>3</td>\n",
       "      <td>8</td>\n",
       "      <td>1.125000</td>\n",
       "      <td>9.0</td>\n",
       "    </tr>\n",
       "    <tr>\n",
       "      <th>4</th>\n",
       "      <td>Изменить цвет фона главной страницы, чтобы увеличить вовлеченность пользователей</td>\n",
       "      <td>3</td>\n",
       "      <td>1</td>\n",
       "      <td>1</td>\n",
       "      <td>1</td>\n",
       "      <td>1.000000</td>\n",
       "      <td>3.0</td>\n",
       "    </tr>\n",
       "  </tbody>\n",
       "</table>\n",
       "</div>"
      ],
      "text/plain": [
       "                                                                                                     hypothesis  \\\n",
       "8                                                       Запустить акцию, дающую скидку на товар в день рождения   \n",
       "0            Добавить два новых канала привлечения трафика, что позволит привлекать на 30% больше пользователей   \n",
       "7              Добавить форму подписки на все основные страницы, чтобы собрать базу клиентов для email-рассылок   \n",
       "6          Показать на главной странице баннеры с актуальными акциями и распродажами, чтобы увеличить конверсию   \n",
       "2  Добавить блоки рекомендаций товаров на сайт интернет магазина, чтобы повысить конверсию и средний чек заказа   \n",
       "1                                     Запустить собственную службу доставки, что сократит срок доставки заказов   \n",
       "5                      Добавить страницу отзывов клиентов о магазине, что позволит увеличить количество заказов   \n",
       "3           Изменить структура категорий, что увеличит конверсию, т.к. пользователи быстрее найдут нужный товар   \n",
       "4                              Изменить цвет фона главной страницы, чтобы увеличить вовлеченность пользователей   \n",
       "\n",
       "   reach  impact  confidence  efforts        ice   rice  \n",
       "8      1       9           9        5  16.200000   16.2  \n",
       "0      3      10           8        6  13.333333   40.0  \n",
       "7     10       7           8        5  11.200000  112.0  \n",
       "6      5       3           8        3   8.000000   40.0  \n",
       "2      8       3           7        3   7.000000   56.0  \n",
       "1      2       5           4       10   2.000000    4.0  \n",
       "5      3       2           2        3   1.333333    4.0  \n",
       "3      8       3           3        8   1.125000    9.0  \n",
       "4      3       1           1        1   1.000000    3.0  "
      ]
     },
     "metadata": {},
     "output_type": "display_data"
    },
    {
     "data": {
      "text/html": [
       "<div>\n",
       "<style scoped>\n",
       "    .dataframe tbody tr th:only-of-type {\n",
       "        vertical-align: middle;\n",
       "    }\n",
       "\n",
       "    .dataframe tbody tr th {\n",
       "        vertical-align: top;\n",
       "    }\n",
       "\n",
       "    .dataframe thead th {\n",
       "        text-align: right;\n",
       "    }\n",
       "</style>\n",
       "<table border=\"1\" class=\"dataframe\">\n",
       "  <thead>\n",
       "    <tr style=\"text-align: right;\">\n",
       "      <th></th>\n",
       "      <th>hypothesis</th>\n",
       "      <th>reach</th>\n",
       "      <th>impact</th>\n",
       "      <th>confidence</th>\n",
       "      <th>efforts</th>\n",
       "      <th>ice</th>\n",
       "      <th>rice</th>\n",
       "    </tr>\n",
       "  </thead>\n",
       "  <tbody>\n",
       "    <tr>\n",
       "      <th>7</th>\n",
       "      <td>Добавить форму подписки на все основные страницы, чтобы собрать базу клиентов для email-рассылок</td>\n",
       "      <td>10</td>\n",
       "      <td>7</td>\n",
       "      <td>8</td>\n",
       "      <td>5</td>\n",
       "      <td>11.200000</td>\n",
       "      <td>112.0</td>\n",
       "    </tr>\n",
       "    <tr>\n",
       "      <th>2</th>\n",
       "      <td>Добавить блоки рекомендаций товаров на сайт интернет магазина, чтобы повысить конверсию и средний чек заказа</td>\n",
       "      <td>8</td>\n",
       "      <td>3</td>\n",
       "      <td>7</td>\n",
       "      <td>3</td>\n",
       "      <td>7.000000</td>\n",
       "      <td>56.0</td>\n",
       "    </tr>\n",
       "    <tr>\n",
       "      <th>0</th>\n",
       "      <td>Добавить два новых канала привлечения трафика, что позволит привлекать на 30% больше пользователей</td>\n",
       "      <td>3</td>\n",
       "      <td>10</td>\n",
       "      <td>8</td>\n",
       "      <td>6</td>\n",
       "      <td>13.333333</td>\n",
       "      <td>40.0</td>\n",
       "    </tr>\n",
       "    <tr>\n",
       "      <th>6</th>\n",
       "      <td>Показать на главной странице баннеры с актуальными акциями и распродажами, чтобы увеличить конверсию</td>\n",
       "      <td>5</td>\n",
       "      <td>3</td>\n",
       "      <td>8</td>\n",
       "      <td>3</td>\n",
       "      <td>8.000000</td>\n",
       "      <td>40.0</td>\n",
       "    </tr>\n",
       "    <tr>\n",
       "      <th>8</th>\n",
       "      <td>Запустить акцию, дающую скидку на товар в день рождения</td>\n",
       "      <td>1</td>\n",
       "      <td>9</td>\n",
       "      <td>9</td>\n",
       "      <td>5</td>\n",
       "      <td>16.200000</td>\n",
       "      <td>16.2</td>\n",
       "    </tr>\n",
       "    <tr>\n",
       "      <th>3</th>\n",
       "      <td>Изменить структура категорий, что увеличит конверсию, т.к. пользователи быстрее найдут нужный товар</td>\n",
       "      <td>8</td>\n",
       "      <td>3</td>\n",
       "      <td>3</td>\n",
       "      <td>8</td>\n",
       "      <td>1.125000</td>\n",
       "      <td>9.0</td>\n",
       "    </tr>\n",
       "    <tr>\n",
       "      <th>1</th>\n",
       "      <td>Запустить собственную службу доставки, что сократит срок доставки заказов</td>\n",
       "      <td>2</td>\n",
       "      <td>5</td>\n",
       "      <td>4</td>\n",
       "      <td>10</td>\n",
       "      <td>2.000000</td>\n",
       "      <td>4.0</td>\n",
       "    </tr>\n",
       "    <tr>\n",
       "      <th>5</th>\n",
       "      <td>Добавить страницу отзывов клиентов о магазине, что позволит увеличить количество заказов</td>\n",
       "      <td>3</td>\n",
       "      <td>2</td>\n",
       "      <td>2</td>\n",
       "      <td>3</td>\n",
       "      <td>1.333333</td>\n",
       "      <td>4.0</td>\n",
       "    </tr>\n",
       "    <tr>\n",
       "      <th>4</th>\n",
       "      <td>Изменить цвет фона главной страницы, чтобы увеличить вовлеченность пользователей</td>\n",
       "      <td>3</td>\n",
       "      <td>1</td>\n",
       "      <td>1</td>\n",
       "      <td>1</td>\n",
       "      <td>1.000000</td>\n",
       "      <td>3.0</td>\n",
       "    </tr>\n",
       "  </tbody>\n",
       "</table>\n",
       "</div>"
      ],
      "text/plain": [
       "                                                                                                     hypothesis  \\\n",
       "7              Добавить форму подписки на все основные страницы, чтобы собрать базу клиентов для email-рассылок   \n",
       "2  Добавить блоки рекомендаций товаров на сайт интернет магазина, чтобы повысить конверсию и средний чек заказа   \n",
       "0            Добавить два новых канала привлечения трафика, что позволит привлекать на 30% больше пользователей   \n",
       "6          Показать на главной странице баннеры с актуальными акциями и распродажами, чтобы увеличить конверсию   \n",
       "8                                                       Запустить акцию, дающую скидку на товар в день рождения   \n",
       "3           Изменить структура категорий, что увеличит конверсию, т.к. пользователи быстрее найдут нужный товар   \n",
       "1                                     Запустить собственную службу доставки, что сократит срок доставки заказов   \n",
       "5                      Добавить страницу отзывов клиентов о магазине, что позволит увеличить количество заказов   \n",
       "4                              Изменить цвет фона главной страницы, чтобы увеличить вовлеченность пользователей   \n",
       "\n",
       "   reach  impact  confidence  efforts        ice   rice  \n",
       "7     10       7           8        5  11.200000  112.0  \n",
       "2      8       3           7        3   7.000000   56.0  \n",
       "0      3      10           8        6  13.333333   40.0  \n",
       "6      5       3           8        3   8.000000   40.0  \n",
       "8      1       9           9        5  16.200000   16.2  \n",
       "3      8       3           3        8   1.125000    9.0  \n",
       "1      2       5           4       10   2.000000    4.0  \n",
       "5      3       2           2        3   1.333333    4.0  \n",
       "4      3       1           1        1   1.000000    3.0  "
      ]
     },
     "execution_count": 3,
     "metadata": {},
     "output_type": "execute_result"
    }
   ],
   "source": [
    "hyp[\"ice\"] = hyp[\"impact\"] * hyp[\"confidence\"] / hyp[\"efforts\"]\n",
    "hyp[\"rice\"] = hyp[\"reach\"]*hyp[\"impact\"] * hyp[\"confidence\"] / hyp[\"efforts\"]\n",
    "display(hyp.sort_values(by=\"ice\", ascending=False))\n",
    "hyp.sort_values(by=\"rice\",ascending=False)"
   ]
  },
  {
   "cell_type": "markdown",
   "metadata": {},
   "source": [
    "<div class=\"alert alert-block alert-success\">\n",
    "    \n",
    "**Комментарий от ревьюера**\n",
    "\n",
    "Молодец, что выводишь таблицу дважды, каждый раз с сортировкой по одному из фреймворков - так различия в их работе максимально наглядны.\n",
    "</div>"
   ]
  },
  {
   "cell_type": "markdown",
   "metadata": {},
   "source": [
    " Сортировка по ICE и RICE получается разная. Например - гипотеза 8 занимает первое место при сортировки по ICE (не учитывает Reach, насколько большую аудиторию заденет изменение), но при сортировке по RICE (учитывает Reach)занимает 5. Скидка в день рождения влияет сильно, но на очень малое число пользователей (маленький Reach), тогда как форма подписки повлияет на всех, но не так сильно (большой Reach)."
   ]
  },
  {
   "cell_type": "markdown",
   "metadata": {},
   "source": [
    "<div class=\"alert alert-block alert-danger\">\n",
    "    \n",
    "**Комментарий от ревьюера**\n",
    "\n",
    "Здесь стоит добавить чуть подробнее, в чем заключается различие формул, из-за которого изменилась сортировка.\n",
    "\n",
    "</div>"
   ]
  },
  {
   "cell_type": "markdown",
   "metadata": {},
   "source": [
    "<div class=\"alert alert-success\">\n",
    "<b> Комментарий от ревьюера 2</b>\n",
    "\n",
    "Отлично, теперь различия в расчетах понятны.\n",
    "</div>"
   ]
  },
  {
   "cell_type": "markdown",
   "metadata": {},
   "source": [
    "## 2. Анализ  A/B теста"
   ]
  },
  {
   "cell_type": "code",
   "execution_count": 4,
   "metadata": {},
   "outputs": [
    {
     "data": {
      "text/plain": [
       "transactionId    0\n",
       "visitorId        0\n",
       "date             0\n",
       "revenue          0\n",
       "group            0\n",
       "dtype: int64"
      ]
     },
     "metadata": {},
     "output_type": "display_data"
    },
    {
     "data": {
      "text/plain": [
       "0"
      ]
     },
     "metadata": {},
     "output_type": "display_data"
    },
    {
     "data": {
      "text/plain": [
       "date        0\n",
       "group       0\n",
       "visitors    0\n",
       "dtype: int64"
      ]
     },
     "metadata": {},
     "output_type": "display_data"
    },
    {
     "data": {
      "text/plain": [
       "0"
      ]
     },
     "metadata": {},
     "output_type": "display_data"
    },
    {
     "name": "stdout",
     "output_type": "stream",
     "text": [
      "<class 'pandas.core.frame.DataFrame'>\n",
      "RangeIndex: 62 entries, 0 to 61\n",
      "Data columns (total 3 columns):\n",
      " #   Column    Non-Null Count  Dtype         \n",
      "---  ------    --------------  -----         \n",
      " 0   date      62 non-null     datetime64[ns]\n",
      " 1   group     62 non-null     object        \n",
      " 2   visitors  62 non-null     int64         \n",
      "dtypes: datetime64[ns](1), int64(1), object(1)\n",
      "memory usage: 1.6+ KB\n",
      "<class 'pandas.core.frame.DataFrame'>\n",
      "RangeIndex: 1197 entries, 0 to 1196\n",
      "Data columns (total 5 columns):\n",
      " #   Column         Non-Null Count  Dtype         \n",
      "---  ------         --------------  -----         \n",
      " 0   transactionId  1197 non-null   int64         \n",
      " 1   visitorId      1197 non-null   int64         \n",
      " 2   date           1197 non-null   datetime64[ns]\n",
      " 3   revenue        1197 non-null   int64         \n",
      " 4   group          1197 non-null   object        \n",
      "dtypes: datetime64[ns](1), int64(3), object(1)\n",
      "memory usage: 46.9+ KB\n"
     ]
    }
   ],
   "source": [
    "orders = pd.read_csv(\"/datasets/orders.csv\")\n",
    "orders['date'] = pd.to_datetime(orders['date'])\n",
    "visitors = pd.read_csv(\"/datasets/visitors.csv\")\n",
    "visitors['date'] = pd.to_datetime(visitors['date'])\n",
    "display(orders.isna().sum())    \n",
    "display(orders.duplicated().sum())\n",
    "display(visitors.isna().sum())    \n",
    "display(visitors.duplicated().sum())\n",
    "visitors.info()\n",
    "orders.info()"
   ]
  },
  {
   "cell_type": "markdown",
   "metadata": {},
   "source": [
    "<div class=\"alert alert-block alert-danger\">\n",
    "    \n",
    "**Комментарий от ревьюера**\n",
    "    \n",
    "При знакомстве с данными нам нужно выполнить проверку на пропуски, дубликаты и поменять формат дат, чтобы они не занимали слишком много места на графиках.\n",
    "</div>"
   ]
  },
  {
   "cell_type": "markdown",
   "metadata": {},
   "source": [
    "<div class=\"alert alert-success\">\n",
    "<b> Комментарий от ревьюера 2</b>\n",
    "\n",
    "Теперь у нас есть все необходимые проверки.\n",
    "\n",
    "</div>"
   ]
  },
  {
   "cell_type": "code",
   "execution_count": 5,
   "metadata": {},
   "outputs": [],
   "source": [
    "datesGroups = orders[['date','group']].drop_duplicates() \n",
    "ordersAggregated = datesGroups.apply(lambda x: orders[np.logical_and(orders['date'] <= x['date'], orders['group'] == x['group'])]\\\n",
    ".agg({'date' : 'max', 'group' : 'max', 'transactionId' : 'nunique', 'visitorId' : 'nunique', 'revenue' : 'sum'}), axis=1).sort_values(by=['date','group']) \n",
    "visitorsAggregated = datesGroups.apply(lambda x: visitors[np.logical_and(visitors['date'] <= x['date'], visitors['group'] == x['group'])].agg({'date' : 'max', 'group' : 'max', 'visitors' : 'sum'}), axis=1).sort_values(by=['date','group'])"
   ]
  },
  {
   "cell_type": "code",
   "execution_count": 6,
   "metadata": {},
   "outputs": [
    {
     "name": "stdout",
     "output_type": "stream",
     "text": [
      "        date group  orders  buyers  revenue  visitors\n",
      "0 2019-08-01     A      24      20   148579       719\n",
      "1 2019-08-01     B      21      20   101217       713\n",
      "2 2019-08-02     A      44      38   242401      1338\n",
      "3 2019-08-02     B      45      43   266748      1294\n",
      "4 2019-08-03     A      68      62   354874      1845\n"
     ]
    },
    {
     "data": {
      "text/plain": [
       "True"
      ]
     },
     "metadata": {},
     "output_type": "display_data"
    },
    {
     "data": {
      "text/plain": [
       "True"
      ]
     },
     "metadata": {},
     "output_type": "display_data"
    }
   ],
   "source": [
    "cumulativeData = ordersAggregated.merge(visitorsAggregated, left_on=['date', 'group'], right_on=['date', 'group'])\n",
    "cumulativeData.columns = ['date', 'group', 'orders', 'buyers', 'revenue', 'visitors']\n",
    "\n",
    "print(cumulativeData.head(5)) \n",
    "display(cumulativeData['date'].max() == orders['date'].max())\n",
    "display(cumulativeData['date'].min() == visitors['date'].min())"
   ]
  },
  {
   "cell_type": "markdown",
   "metadata": {},
   "source": [
    "<div class=\"alert alert-block alert-warning\">\n",
    "\n",
    "**Комментарий от ревьюера**\n",
    "\n",
    "Здесь можно проверить, корректно ли был создан датафрейм cumulativeData. Например, совпадают ли минимальная и максимальная даты в этом датафрейме с минимальной и максимальной датой в исходных данных.\n",
    "\n",
    "</div>"
   ]
  },
  {
   "cell_type": "markdown",
   "metadata": {},
   "source": [
    "###  График кумулятивной выручки по группам"
   ]
  },
  {
   "cell_type": "code",
   "execution_count": 7,
   "metadata": {},
   "outputs": [
    {
     "data": {
      "image/png": "[encoded data removed]",
      "text/plain": [
       "<Figure size 720x288 with 1 Axes>"
      ]
     },
     "metadata": {
      "needs_background": "light"
     },
     "output_type": "display_data"
    }
   ],
   "source": [
    "# датафрейм с кумулятивным количеством заказов и кумулятивной выручкой по дням в группе А\n",
    "cumulativeRevenueA = cumulativeData[cumulativeData['group']=='A'][['date','revenue', 'orders']]\n",
    "\n",
    "# датафрейм с кумулятивным количеством заказов и кумулятивной выручкой по дням в группе B\n",
    "cumulativeRevenueB = cumulativeData[cumulativeData['group']=='B'][['date','revenue', 'orders']]\n",
    "plt.rcParams ['figure.figsize'] = [10, 4]\n",
    "# Строим график выручки группы А\n",
    "plt.plot(cumulativeRevenueA['date'], cumulativeRevenueA['revenue'], label='A')\n",
    "\n",
    "# Строим график выручки группы B\n",
    "plt.plot(cumulativeRevenueB['date'], cumulativeRevenueB['revenue'], label='B')\n",
    "plt.title(\"График кумулятивной выручки по группам\")\n",
    "plt.ylabel(\"Выручка\")\n",
    "plt.xlabel(\"Время\")\n",
    "plt.legend();"
   ]
  },
  {
   "cell_type": "markdown",
   "metadata": {},
   "source": [
    "<div class=\"alert alert-block alert-danger\">\n",
    "    \n",
    "\n",
    "**Комментарий от ревьюера**\n",
    "\n",
    "Стоит немного увеличить размер графика (чтобы для дат было достаточно места), убрать текстовую строку перед графиком, добавить название графика и подписи осей. Этот комментарий относится ко всем графикам в проекте. \n",
    "</div>"
   ]
  },
  {
   "cell_type": "markdown",
   "metadata": {},
   "source": [
    "<div class=\"alert alert-danger\">\n",
    "<b> Комментарий от ревьюера 2</b>\n",
    "\n",
    "Добавь, пожалуйста, еще подписи осей здесь и для следующих графиков (в том числе в разделе с точечными графиками).\n",
    "\n",
    "</div>"
   ]
  },
  {
   "cell_type": "markdown",
   "metadata": {},
   "source": [
    "<div class=\"alert alert-block alert-success\">\n",
    "    \n",
    "**Комментарий от ревьюера 3**\n",
    "\n",
    "Теперь графики оформлены очень аккуратно: есть названия, подписи осей, настроен размер 👍\n",
    "</div>"
   ]
  },
  {
   "cell_type": "markdown",
   "metadata": {},
   "source": [
    "Выброс в 19 день теста в группе B, нужно чистить от аномалий. Но как будто группа B даже без аномалий выгоднее."
   ]
  },
  {
   "cell_type": "markdown",
   "metadata": {},
   "source": [
    "<div class=\"alert alert-block alert-success\">\n",
    "    \n",
    "**Комментарий от ревьюера**\n",
    "\n",
    "Верно, резкий рост в группе В может быть связан с выбросом.\n",
    "</div>"
   ]
  },
  {
   "cell_type": "markdown",
   "metadata": {},
   "source": [
    "### График кумулятивного среднего чека по группам"
   ]
  },
  {
   "cell_type": "code",
   "execution_count": 8,
   "metadata": {},
   "outputs": [
    {
     "data": {
      "image/png": "[encoded data removed]",
      "text/plain": [
       "<Figure size 720x288 with 1 Axes>"
      ]
     },
     "metadata": {
      "needs_background": "light"
     },
     "output_type": "display_data"
    }
   ],
   "source": [
    "plt.plot(cumulativeRevenueA['date'], cumulativeRevenueA['revenue']/cumulativeRevenueA['orders'], label='A')\n",
    "plt.plot(cumulativeRevenueB['date'], cumulativeRevenueB['revenue']/cumulativeRevenueB['orders'], label='B')\n",
    "plt.title(\"График кумулятивного среднего чека по группам\")\n",
    "plt.ylabel(\"Средний чек\")\n",
    "plt.xlabel(\"Время\")\n",
    "plt.legend();"
   ]
  },
  {
   "cell_type": "markdown",
   "metadata": {},
   "source": [
    "Все также большой всплеск, нужно избавляться от аномалий"
   ]
  },
  {
   "cell_type": "markdown",
   "metadata": {},
   "source": [
    "<div class=\"alert alert-block alert-success\">\n",
    "    \n",
    "**Комментарий от ревьюера**\n",
    "    \n",
    "Да, резкий рост происходит в ту же дату, что и на предыдущем графике.\n",
    "</div>"
   ]
  },
  {
   "cell_type": "markdown",
   "metadata": {},
   "source": [
    "###  График относительного изменения кумулятивного среднего чека группы B к группе A."
   ]
  },
  {
   "cell_type": "code",
   "execution_count": 9,
   "metadata": {},
   "outputs": [
    {
     "data": {
      "image/png": "[encoded data removed]",
      "text/plain": [
       "<Figure size 720x288 with 1 Axes>"
      ]
     },
     "metadata": {
      "needs_background": "light"
     },
     "output_type": "display_data"
    }
   ],
   "source": [
    "# собираем данные в одном датафрейме\n",
    "mergedCumulativeRevenue = cumulativeRevenueA.merge(cumulativeRevenueB, left_on='date', right_on='date', how='left', suffixes=['A', 'B'])\n",
    "\n",
    "# cтроим отношение средних чеков\n",
    "plt.plot(mergedCumulativeRevenue['date'], (mergedCumulativeRevenue['revenueB']/mergedCumulativeRevenue['ordersB'])/(mergedCumulativeRevenue['revenueA']/mergedCumulativeRevenue['ordersA'])-1)\n",
    "plt.title(\"График относительного изменения кумулятивного среднего чека группы B к группе A.\")\n",
    "plt.ylabel(\"Средний чек B / Средний чек A - 1\")\n",
    "plt.xlabel(\"Время\")\n",
    "# добавляем ось X\n",
    "plt.axhline(y=0, color='black', linestyle='--');"
   ]
  },
  {
   "cell_type": "markdown",
   "metadata": {},
   "source": [
    "График сильно скачет, точно есть крупные заказы и выбросы"
   ]
  },
  {
   "cell_type": "markdown",
   "metadata": {},
   "source": [
    "<div class=\"alert alert-block alert-success\">\n",
    "    \n",
    "**Комментарий от ревьюера**\n",
    "    \n",
    "Ты прав, возможно, это влияние крупных заказов и выбросов.\n",
    "</div>"
   ]
  },
  {
   "cell_type": "markdown",
   "metadata": {},
   "source": [
    "###  График кумулятивного среднего количества заказов на посетителя по группам"
   ]
  },
  {
   "cell_type": "code",
   "execution_count": 10,
   "metadata": {},
   "outputs": [
    {
     "data": {
      "image/png": "[encoded data removed]",
      "text/plain": [
       "<Figure size 720x288 with 1 Axes>"
      ]
     },
     "metadata": {
      "needs_background": "light"
     },
     "output_type": "display_data"
    }
   ],
   "source": [
    "cumulativeData['conversion'] = cumulativeData['orders']/cumulativeData['visitors']\n",
    "\n",
    "# отделяем данные по группе A\n",
    "cumulativeDataA = cumulativeData[cumulativeData['group']=='A']\n",
    "\n",
    "# отделяем данные по группе B\n",
    "cumulativeDataB = cumulativeData[cumulativeData['group']=='B']\n",
    "\n",
    "# строим графики\n",
    "plt.plot(cumulativeDataA['date'], cumulativeDataA['conversion'], label='A')\n",
    "plt.plot(cumulativeDataB['date'], cumulativeDataB['conversion'], label='B')\n",
    "plt.title(\"График кумулятивного среднего количества заказов на посетителя по группам\")\n",
    "plt.ylabel(\"Среднее количество заказов\")\n",
    "plt.xlabel(\"Время\")\n",
    "plt.legend();\n",
    "\n"
   ]
  },
  {
   "cell_type": "markdown",
   "metadata": {},
   "source": [
    "Группа B точно вырывается в лидеры"
   ]
  },
  {
   "cell_type": "markdown",
   "metadata": {},
   "source": [
    "<div class=\"alert alert-block alert-success\">\n",
    "    \n",
    "**Комментарий от ревьюера**\n",
    "    \n",
    "Да, группа В выигрывает на протяжении всего теста.\n",
    "</div>"
   ]
  },
  {
   "cell_type": "markdown",
   "metadata": {},
   "source": [
    "###  График относительного изменения кумулятивного среднего количества заказов на посетителя группы B к группе A."
   ]
  },
  {
   "cell_type": "code",
   "execution_count": 11,
   "metadata": {},
   "outputs": [
    {
     "data": {
      "image/png": "[encoded data removed]",
      "text/plain": [
       "<Figure size 720x288 with 1 Axes>"
      ]
     },
     "metadata": {
      "needs_background": "light"
     },
     "output_type": "display_data"
    }
   ],
   "source": [
    "mergedCumulativeConversions = cumulativeDataA[['date','conversion']].merge(cumulativeDataB[['date','conversion']], left_on='date', right_on='date', how='left', suffixes=['A', 'B'])\n",
    "\n",
    "plt.plot(mergedCumulativeConversions['date'], mergedCumulativeConversions['conversionB']/mergedCumulativeConversions['conversionA']-1, label=\"Относительный прирост среднего количества заказов на посетителя группы B относительно группы A\")\n",
    "plt.legend()\n",
    "plt.title(\" График относительного изменения кумулятивного среднего количества заказов на посетителя группы B к группе A.\")\n",
    "plt.axhline(y=0, color='black', linestyle='--')\n",
    "plt.axhline(y=0.15, color='grey', linestyle='--')\n",
    "plt.ylabel(\"Ср кол-во зак. В / ср кол-во зак. А - 1\")\n",
    "plt.xlabel(\"Время\");"
   ]
  },
  {
   "cell_type": "markdown",
   "metadata": {},
   "source": [
    "<div class=\"alert alert-block alert-warning\">\n",
    "    \n",
    "**Комментарий от ревьюера**\n",
    "\n",
    "Серую линию стоит перенести на значение 0.15 по оси y, так как около этого значения намечается тенденция к стабилизации.\n",
    "    \n",
    "</div>"
   ]
  },
  {
   "cell_type": "markdown",
   "metadata": {},
   "source": [
    "Среднее количество заказов на пользователя группы B выравнивается заметно большем уровне"
   ]
  },
  {
   "attachments": {
    "image.png": {
     "image/png": "[encoded data removed]"
    }
   },
   "cell_type": "markdown",
   "metadata": {},
   "source": [
    "<div class=\"alert alert-block alert-danger\">\n",
    "    \n",
    "**Комментарий от ревьюера**\n",
    "    \n",
    "Здесь и дальше ты называешь один и тот же показатель иногда \"конверсией\", а иногда \"средним количеством заказов на посетителя\". Вторая формулировка более корректная, так как для расчета среднего количества заказов на посетителя в чистом виде, нам нужны id посетителей. Поправь, пожалуйста, формулировки, это можно сделать с помощью автозамены: в меню Edit ➡ Find and Replace. \n",
    "    \n",
    "Кнопка ![image.png](attachment:image.png) позволяет сделать замены сразу во всех ячейках.\n",
    "    \n",
    "</div>"
   ]
  },
  {
   "cell_type": "markdown",
   "metadata": {},
   "source": [
    "<div class=\"alert alert-block alert-success\">\n",
    "<b>Комментарий ревьюера 2:</b> Здорово, теперь расхождения в формулировках нет.\n",
    "</div>"
   ]
  },
  {
   "cell_type": "markdown",
   "metadata": {},
   "source": [
    "### Точечный график количества заказов на пользователя"
   ]
  },
  {
   "cell_type": "code",
   "execution_count": 12,
   "metadata": {},
   "outputs": [
    {
     "data": {
      "text/plain": [
       "''"
      ]
     },
     "execution_count": 12,
     "metadata": {},
     "output_type": "execute_result"
    },
    {
     "data": {
      "image/png": "[encoded data removed]",
      "text/plain": [
       "<Figure size 720x288 with 1 Axes>"
      ]
     },
     "metadata": {
      "needs_background": "light"
     },
     "output_type": "display_data"
    }
   ],
   "source": [
    "ordersByUsers = (\n",
    "    orders.groupby('visitorId', as_index=False)\n",
    "    .agg({'transactionId': 'nunique'})\n",
    ")\n",
    "\n",
    "ordersByUsers.columns = ['userId', 'orders']\n",
    "x_values = pd.Series(range(0,len(ordersByUsers)))\n",
    "plt.title(\"Точечный график количества заказов на пользователя\")\n",
    "plt.scatter(x_values, ordersByUsers['orders'])\n",
    "plt.ylabel(\"Заказы\")\n",
    "plt.xlabel(\"Пользователь\")\n",
    ";"
   ]
  },
  {
   "cell_type": "markdown",
   "metadata": {},
   "source": [
    "Большинство людей делают 1 - 2 заказа, но есть вылеты, у которых больше 10"
   ]
  },
  {
   "cell_type": "markdown",
   "metadata": {},
   "source": [
    "### 95-й и 99-й перцентили количества заказов на пользователя"
   ]
  },
  {
   "cell_type": "code",
   "execution_count": 13,
   "metadata": {},
   "outputs": [
    {
     "data": {
      "text/plain": [
       "array([2., 4.])"
      ]
     },
     "execution_count": 13,
     "metadata": {},
     "output_type": "execute_result"
    }
   ],
   "source": [
    "np.percentile(ordersByUsers['orders'], [95, 99])"
   ]
  },
  {
   "cell_type": "markdown",
   "metadata": {},
   "source": [
    "Аномальные пользователи - те, которые сделали больше 2 заказов"
   ]
  },
  {
   "cell_type": "markdown",
   "metadata": {},
   "source": [
    "<div class=\"alert alert-block alert-success\">\n",
    "    \n",
    "**Комментарий от ревьюера**\n",
    "    \n",
    "Такое определение выбросов для количества заказов корректно.\n",
    "</div>"
   ]
  },
  {
   "cell_type": "markdown",
   "metadata": {},
   "source": [
    "###  Точечный график стоимостей заказов."
   ]
  },
  {
   "cell_type": "code",
   "execution_count": 14,
   "metadata": {},
   "outputs": [
    {
     "data": {
      "image/png": "[encoded data removed]",
      "text/plain": [
       "<Figure size 720x288 with 1 Axes>"
      ]
     },
     "metadata": {
      "needs_background": "light"
     },
     "output_type": "display_data"
    }
   ],
   "source": [
    "x_values = pd.Series(range(0,len(orders['revenue'])))\n",
    "plt.title(\"Точечный график стоимостей заказов\")\n",
    "plt.scatter(x_values, orders['revenue'])\n",
    "plt.ylabel(\"Стоимость заказа\")\n",
    "plt.xlabel(\"Заказ\");"
   ]
  },
  {
   "cell_type": "code",
   "execution_count": 15,
   "metadata": {},
   "outputs": [
    {
     "data": {
      "image/png": "[encoded data removed]",
      "text/plain": [
       "<Figure size 720x288 with 1 Axes>"
      ]
     },
     "metadata": {
      "needs_background": "light"
     },
     "output_type": "display_data"
    }
   ],
   "source": [
    "plt.title(\"Точечный график стоимостей заказов\")\n",
    "plt.ylim([0,25000])\n",
    "plt.scatter(x_values, orders['revenue']);"
   ]
  },
  {
   "cell_type": "markdown",
   "metadata": {},
   "source": [
    "Есть очень дорогие заказы, но их мало"
   ]
  },
  {
   "cell_type": "markdown",
   "metadata": {},
   "source": [
    "<div class=\"alert alert-block alert-warning\">\n",
    "    \n",
    "**Комментарий от ревьюера**\n",
    "\n",
    "Полезно добавить еще один график, ограничив значения по оси Y. Чтобы двух явных выбросов не было видно, а мы могли рассмотреть основную часть заказов.\n",
    "\n",
    "</div>"
   ]
  },
  {
   "cell_type": "markdown",
   "metadata": {},
   "source": [
    "<div class=\"alert alert-block alert-success\">\n",
    "    \n",
    "**Комментарий от ревьюера 2**\n",
    "    \n",
    "Удобно, когда можно рассмотреть и выбросы, и основную часть заказов.\n",
    "</div>"
   ]
  },
  {
   "cell_type": "markdown",
   "metadata": {},
   "source": [
    "###  95-й и 99-й перцентили стоимости заказов."
   ]
  },
  {
   "cell_type": "code",
   "execution_count": 16,
   "metadata": {},
   "outputs": [
    {
     "data": {
      "text/plain": [
       "array([28000. , 58233.2])"
      ]
     },
     "execution_count": 16,
     "metadata": {},
     "output_type": "execute_result"
    }
   ],
   "source": [
    "np.percentile(orders['revenue'], [ 95, 99])"
   ]
  },
  {
   "cell_type": "markdown",
   "metadata": {},
   "source": [
    "Заказы больше 28000 - выбросы"
   ]
  },
  {
   "cell_type": "markdown",
   "metadata": {},
   "source": [
    "<div class=\"alert alert-block alert-success\"> <b>Комментарий от ревьюера:</b> Молодец, что разобрался с аномалиями в данных и корректно освоил расчет кумулятивных метрик.\n",
    "</div>"
   ]
  },
  {
   "cell_type": "markdown",
   "metadata": {},
   "source": [
    "###   Статистическая значимость различий в среднем количестве заказов на посетителя между группами по «сырым» данным."
   ]
  },
  {
   "cell_type": "markdown",
   "metadata": {},
   "source": [
    "<div class=\"alert alert-block alert-danger\">\n",
    "    \n",
    "**Комментарий от ревьюера**\n",
    "    \n",
    "Давай оформим этот и следующие 3 вопроса о расчете статистической значимости так, чтобы их было легко понять тому, кого заинтересует твой проект. Вот что должно быть в каждом из 4 пунктов:\n",
    "\n",
    "* сформулируй нулевую и альтернативную гипотезы;\n",
    "* укажи, какое значение alpha ты будешь использовать, чтобы не искать его в коде;\n",
    "* укажи, какой метод ты используешь для проверки и почему.\n",
    "  \n",
    "</div>"
   ]
  },
  {
   "cell_type": "markdown",
   "metadata": {},
   "source": [
    "Нулевая гипотеза: статистически значимых различий в среднем числе заказов между группами нет\n",
    "Альтернативная: значимые различия есть.\n",
    "aplha: 0.05 \n",
    "метод: метод Манна-Уитни т.к. выборки большие и независимые, к тому же в них есть выбросы."
   ]
  },
  {
   "cell_type": "markdown",
   "metadata": {},
   "source": [
    "<div class=\"alert alert-block alert-success\">\n",
    "    \n",
    "**Комментарий от ревьюера 2**\n",
    "\n",
    "Так проще понять суть расчета. 👍\n",
    "</div>"
   ]
  },
  {
   "cell_type": "code",
   "execution_count": 17,
   "metadata": {},
   "outputs": [
    {
     "name": "stdout",
     "output_type": "stream",
     "text": [
      "p-value 0.017\n",
      "Относительная разница в количестве заказов 0.138\n"
     ]
    }
   ],
   "source": [
    "ordersByUsersA = (\n",
    "    orders[orders['group'] == 'A']\n",
    "    .groupby('visitorId', as_index=False)\n",
    "    .agg({'transactionId': pd.Series.nunique})\n",
    ")\n",
    "ordersByUsersA.columns = ['userId', 'orders']\n",
    "\n",
    "ordersByUsersB = (\n",
    "    orders[orders['group'] == 'B']\n",
    "    .groupby('visitorId', as_index=False)\n",
    "    .agg({'transactionId': pd.Series.nunique})\n",
    ")\n",
    "ordersByUsersB.columns = ['userId', 'orders']\n",
    "\n",
    "sampleA = pd.concat(\n",
    "    [\n",
    "        ordersByUsersA['orders'],\n",
    "        pd.Series(\n",
    "            0,\n",
    "            index=np.arange(\n",
    "                visitors.loc[visitors['group']=='A','visitors'].sum() - len(ordersByUsersA['orders'])\n",
    "            ),\n",
    "            name='orders',\n",
    "        ),\n",
    "    ],\n",
    "    axis=0,\n",
    ")\n",
    "\n",
    "sampleB = pd.concat(\n",
    "    [\n",
    "        ordersByUsersB['orders'],\n",
    "        pd.Series(\n",
    "            0,\n",
    "            index=np.arange(\n",
    "                visitors.loc[visitors['group']=='B','visitors'].sum() - len(ordersByUsersB['orders'])\n",
    "            ),\n",
    "            name='orders',\n",
    "        ),\n",
    "    ],\n",
    "    axis=0,\n",
    ")\n",
    "\n",
    "print(\"p-value\",\"{0:.3f}\".format(stats.mannwhitneyu(sampleA, sampleB)[1]))\n",
    "\n",
    "print(\"Относительная разница в количестве заказов\",\"{0:.3f}\".format(sampleB.mean() / sampleA.mean() - 1))\n"
   ]
  },
  {
   "cell_type": "markdown",
   "metadata": {},
   "source": [
    "<div class=\"alert alert-block alert-success\">\n",
    "    \n",
    "**Комментарий от ревьюера**\n",
    "\n",
    "Хорошо, что ты подписываешь выводимые числа. Так их нельзя перепутать.\n",
    "</div>"
   ]
  },
  {
   "cell_type": "markdown",
   "metadata": {},
   "source": [
    "<div class=\"alert alert-info\">\n",
    "    \n",
    "Отвергаем нулевую гипотезу - в группе B  делают значительно больше заказов, группа B выигрывает на 13,8 процентов\n",
    "</div>\n"
   ]
  },
  {
   "cell_type": "markdown",
   "metadata": {},
   "source": [
    "<div class=\"alert alert-block alert-danger\">\n",
    "    \n",
    "**Комментарий от ревьюера**\n",
    "    \n",
    "Соответственно в выводах надо указать, можем ли мы отвергнуть нулевую гипотезу.\n",
    "</div>"
   ]
  },
  {
   "cell_type": "markdown",
   "metadata": {},
   "source": [
    "<div class=\"alert alert-block alert-danger\">\n",
    "    \n",
    "**Комментарий от ревьюера 2**\n",
    "    \n",
    "Если p-value меньше alpha, мы отвергаем нулевую гипотезу.\n",
    "</div>"
   ]
  },
  {
   "cell_type": "markdown",
   "metadata": {},
   "source": [
    "<div class=\"alert alert-block alert-success\">\n",
    "    \n",
    "**Комментарий от ревьюера 3**\n",
    "\n",
    "Верно, отвергаем нулевую гипотезу: между группами есть статистически значимое различие.\n",
    "</div>"
   ]
  },
  {
   "cell_type": "markdown",
   "metadata": {},
   "source": [
    "###   Статистическая значимость различий в среднем чеке заказа между группами по «сырым» данным. "
   ]
  },
  {
   "cell_type": "markdown",
   "metadata": {},
   "source": [
    "Нулевая гипотеза: статистически значимых различий в среднем чеке между группами нет\n",
    "Альтернативная: значимые различия есть.\n",
    "aplha: 0.05 \n",
    "метод: метод Манна-Уитни т.к. выборки большие и независимые, к тому же в них есть выбросы."
   ]
  },
  {
   "cell_type": "code",
   "execution_count": 18,
   "metadata": {},
   "outputs": [
    {
     "name": "stdout",
     "output_type": "stream",
     "text": [
      "0.729\n",
      "0.259\n"
     ]
    }
   ],
   "source": [
    "print('{0:.3f}'.format(stats.mannwhitneyu(orders[orders['group']=='A']['revenue'], orders[orders['group']=='B']['revenue'])[1]))\n",
    "print('{0:.3f}'.format(orders[orders['group']=='B']['revenue'].mean()/orders[orders['group']=='A']['revenue'].mean()-1)) "
   ]
  },
  {
   "cell_type": "markdown",
   "metadata": {},
   "source": [
    "Не можем отвергнуть нулевую гипотезу.\n",
    "Пока что нельзя сказать, что различия в средних чеках есть, хотя группа B относительно A выигрывает на 25,9 процентов"
   ]
  },
  {
   "cell_type": "markdown",
   "metadata": {},
   "source": [
    "<div class=\"alert alert-block alert-success\">\n",
    "    \n",
    "**Комментарий от ревьюера**\n",
    "\n",
    "Да, по этому показателю между группами нет статистически значимых различий.\n",
    "</div>"
   ]
  },
  {
   "cell_type": "markdown",
   "metadata": {},
   "source": [
    "###   Статистическая значимость различий в среднем количестве заказов на посетителя между группами по «очищенным» данным."
   ]
  },
  {
   "cell_type": "markdown",
   "metadata": {},
   "source": [
    "<div class=\"alert alert-block alert-danger\">\n",
    "    \n",
    "**Комментарий от ревьюера**\n",
    "\n",
    "Лучше избегать ручного ввода значений при фильтрации: можно использовать непосредственно результат расчета выбранного перцентиля. \n",
    "    \n",
    "Для этого вписанные вручную числа надо заменить на такие же расчеты, как ты использовал для границы определения аномальных заказов, только там ты указываешь список перцентилей, а здесь нам нужен один.\n",
    "\n",
    "</div>"
   ]
  },
  {
   "cell_type": "markdown",
   "metadata": {},
   "source": [
    "<div class=\"alert alert-block alert-danger\">\n",
    "    \n",
    "**Комментарий от ревьюера 2**\n",
    "    \n",
    "Здесь и в следующем вопросе нужно тоже сформулировать гипотезы, чтобы для каждого расчета было полное описание. Желательно также повторить значение alpha и метод проверки. \n",
    "    \n",
    "</div>"
   ]
  },
  {
   "cell_type": "markdown",
   "metadata": {},
   "source": [
    "<div class=\"alert alert-info\">\n",
    "Нулевая гипотеза: статистически значимых различий в среднем числе заказов между группами нет\n",
    "Альтернативная: значимые различия есть.\n",
    "aplha: 0.05 \n",
    "метод: метод Манна-Уитни т.к. выборки большие и независимые.\n",
    "</div>"
   ]
  },
  {
   "cell_type": "code",
   "execution_count": 19,
   "metadata": {},
   "outputs": [
    {
     "name": "stdout",
     "output_type": "stream",
     "text": [
      "0.013\n",
      "0.173\n"
     ]
    }
   ],
   "source": [
    "usersWithManyOrders = pd.concat(\n",
    "    [\n",
    "        ordersByUsersA[ordersByUsersA['orders'] > np.percentile(ordersByUsers['orders'], 95)]['userId'],\n",
    "        ordersByUsersB[ordersByUsersB['orders'] > np.percentile(ordersByUsers['orders'], 95)]['userId'],\n",
    "    ],\n",
    "    axis=0,\n",
    ")\n",
    "usersWithExpensiveOrders = orders[orders['revenue'] > np.percentile(orders['revenue'], 95)]['visitorId']\n",
    "abnormalUsers = (\n",
    "    pd.concat([usersWithManyOrders, usersWithExpensiveOrders], axis=0)\n",
    "    .drop_duplicates()\n",
    "    .sort_values()\n",
    ")\n",
    "sampleAFiltered = pd.concat(\n",
    "    [\n",
    "        ordersByUsersA[\n",
    "            np.logical_not(ordersByUsersA['userId'].isin(abnormalUsers))\n",
    "        ]['orders'],\n",
    "        pd.Series(\n",
    "            0,\n",
    "            index=np.arange(\n",
    "                visitors.loc[visitors['group']=='A','visitors'].sum() - len(ordersByUsersA['orders'])\n",
    "            ),\n",
    "            name='orders',\n",
    "        ),\n",
    "    ],\n",
    "    axis=0,\n",
    ")\n",
    "\n",
    "sampleBFiltered = pd.concat(\n",
    "    [\n",
    "        ordersByUsersB[\n",
    "            np.logical_not(ordersByUsersB['userId'].isin(abnormalUsers))\n",
    "        ]['orders'],\n",
    "        pd.Series(\n",
    "            0,\n",
    "            index=np.arange(\n",
    "                visitors.loc[visitors['group']=='B','visitors'].sum() - len(ordersByUsersB['orders'])\n",
    "            ),\n",
    "            name='orders',\n",
    "        ),\n",
    "    ],\n",
    "    axis=0,\n",
    ") \n",
    "print('{0:.3f}'.format(stats.mannwhitneyu(sampleAFiltered, sampleBFiltered)[1]))\n",
    "print('{0:.3f}'.format(sampleBFiltered.mean()/sampleAFiltered.mean()-1)) "
   ]
  },
  {
   "cell_type": "markdown",
   "metadata": {},
   "source": [
    "<div class=\"alert alert-info\">\n",
    "Отвергаем нулевую гипотезу - в группе B  делают значительно больше заказов, группа B выигрывает на 17,3 процентов\n",
    "</div>"
   ]
  },
  {
   "cell_type": "markdown",
   "metadata": {},
   "source": [
    "<div class=\"alert alert-block alert-danger\">\n",
    "    \n",
    "**Комментарий от ревьюера 2**\n",
    "    \n",
    "В выводах надо указать, можем ли мы отвергнуть нулевую гипотезу.\n",
    "    \n",
    "</div>"
   ]
  },
  {
   "cell_type": "markdown",
   "metadata": {},
   "source": [
    "<div class=\"alert alert-block alert-success\">\n",
    "    \n",
    "**Комментарий от ревьюера 3**\n",
    "\n",
    "Верно, при анализе \"очищенных данных\" p-value стало еще меньше и все так же меньше 0.05, следовательно, между группами есть статистически значимые различия.\n",
    "</div>"
   ]
  },
  {
   "cell_type": "markdown",
   "metadata": {},
   "source": [
    "###   Статистическая значимость различий в среднем чеке заказа между группами по «очищенным» данным. "
   ]
  },
  {
   "cell_type": "markdown",
   "metadata": {},
   "source": [
    "<div class=\"alert alert-info\">\n",
    "Нулевая гипотеза: статистически значимых различий в среднем чеке между группами нет\n",
    "Альтернативная: значимые различия есть.\n",
    "aplha: 0.05 \n",
    "метод: метод Манна-Уитни т.к. выборки большие и независимые.\n",
    "</div>"
   ]
  },
  {
   "cell_type": "code",
   "execution_count": 20,
   "metadata": {},
   "outputs": [
    {
     "name": "stdout",
     "output_type": "stream",
     "text": [
      "0.738\n",
      "-0.020\n"
     ]
    }
   ],
   "source": [
    "print(\n",
    "    '{0:.3f}'.format(\n",
    "        stats.mannwhitneyu(\n",
    "            orders[\n",
    "                np.logical_and(\n",
    "                    orders['group'] == 'A',\n",
    "                    np.logical_not(orders['visitorId'].isin(abnormalUsers)),\n",
    "                )\n",
    "            ]['revenue'],\n",
    "            orders[\n",
    "                np.logical_and(\n",
    "                    orders['group'] == 'B',\n",
    "                    np.logical_not(orders['visitorId'].isin(abnormalUsers)),\n",
    "                )\n",
    "            ]['revenue'],\n",
    "        )[1]\n",
    "    )\n",
    ")\n",
    "\n",
    "print(\n",
    "    \"{0:.3f}\".format(\n",
    "        orders[\n",
    "            np.logical_and(\n",
    "                orders['group'] == 'B',\n",
    "                np.logical_not(orders['visitorId'].isin(abnormalUsers)),\n",
    "            )\n",
    "        ]['revenue'].mean()\n",
    "        / orders[\n",
    "            np.logical_and(\n",
    "                orders['group'] == 'A',\n",
    "                np.logical_not(orders['visitorId'].isin(abnormalUsers)),\n",
    "            )\n",
    "        ]['revenue'].mean()\n",
    "        - 1\n",
    "    )\n",
    ")"
   ]
  },
  {
   "cell_type": "markdown",
   "metadata": {},
   "source": [
    "<div class=\"alert alert-info\">\n",
    "Не можем отвергнуть нулевую гипотезу.\n",
    "Нельзя сказать, что различия в средних чеках есть, хотя группа А теперь совсем незначительно выигрывает\n",
    "</div>"
   ]
  },
  {
   "cell_type": "markdown",
   "metadata": {},
   "source": [
    "<div class=\"alert alert-block alert-success\">\n",
    "    \n",
    "**Комментарий от ревьюера**\n",
    "\n",
    "Да, здесь тоже результат не изменился.\n",
    "</div>"
   ]
  },
  {
   "cell_type": "code",
   "execution_count": 21,
   "metadata": {},
   "outputs": [
    {
     "data": {
      "image/png": "[encoded data removed]",
      "text/plain": [
       "<Figure size 720x288 with 1 Axes>"
      ]
     },
     "metadata": {
      "needs_background": "light"
     },
     "output_type": "display_data"
    }
   ],
   "source": [
    "orders = orders[np.logical_not(orders['visitorId'].isin(abnormalUsers))]\n",
    "datesGroups = orders[['date','group']].drop_duplicates() \n",
    "ordersAggregated = datesGroups.apply(lambda x: orders[np.logical_and(orders['date'] <= x['date'], orders['group'] == x['group'])]\\\n",
    ".agg({'date' : 'max', 'group' : 'max', 'transactionId' : 'nunique', 'visitorId' : 'nunique', 'revenue' : 'sum'}), axis=1).sort_values(by=['date','group'])\n",
    "visitorsAggregated = datesGroups.apply(lambda x: visitors[np.logical_and(visitors['date'] <= x['date'], visitors['group'] == x['group'])].agg({'date' : 'max', 'group' : 'max', 'visitors' : 'sum'}), axis=1).sort_values(by=['date','group'])\n",
    "cumulativeData = ordersAggregated.merge(visitorsAggregated, left_on=['date', 'group'], right_on=['date', 'group'])\n",
    "cumulativeData.columns = ['date', 'group', 'orders', 'buyers', 'revenue', 'visitors']\n",
    "# датафрейм с кумулятивным количеством заказов и кумулятивной выручкой по дням в группе А\n",
    "cumulativeRevenueA = cumulativeData[cumulativeData['group']=='A'][['date','revenue', 'orders']]\n",
    "\n",
    "# датафрейм с кумулятивным количеством заказов и кумулятивной выручкой по дням в группе B\n",
    "cumulativeRevenueB = cumulativeData[cumulativeData['group']=='B'][['date','revenue', 'orders']]\n",
    "# собираем данные в одном датафрейме\n",
    "mergedCumulativeRevenue = cumulativeRevenueA.merge(cumulativeRevenueB, left_on='date', right_on='date', how='left', suffixes=['A', 'B'])\n",
    "\n",
    "# cтроим отношение средних чеков\n",
    "plt.plot(mergedCumulativeRevenue['date'], (mergedCumulativeRevenue['revenueB']/mergedCumulativeRevenue['ordersB'])/(mergedCumulativeRevenue['revenueA']/mergedCumulativeRevenue['ordersA'])-1)\n",
    "\n",
    "# добавляем ось X\n",
    "plt.axhline(y=0, color='black', linestyle='--') \n",
    "plt.title(\"Средние чеки чистые\")\n",
    "plt.ylabel(\"Ср чек В / ср чек А - 1\")\n",
    "plt.xlabel(\"Время\");\n"
   ]
  },
  {
   "cell_type": "markdown",
   "metadata": {},
   "source": []
  },
  {
   "cell_type": "code",
   "execution_count": 22,
   "metadata": {},
   "outputs": [
    {
     "data": {
      "image/png": "[encoded data removed]",
      "text/plain": [
       "<Figure size 720x288 with 1 Axes>"
      ]
     },
     "metadata": {
      "needs_background": "light"
     },
     "output_type": "display_data"
    }
   ],
   "source": [
    "cumulativeData['conversion'] = cumulativeData['orders']/cumulativeData['visitors']\n",
    "\n",
    "# отделяем данные по группе A\n",
    "cumulativeDataA = cumulativeData[cumulativeData['group']=='A']\n",
    "\n",
    "# отделяем данные по группе B\n",
    "cumulativeDataB = cumulativeData[cumulativeData['group']=='B']\n",
    "mergedCumulativeConversions = cumulativeDataA[['date','conversion']].merge(cumulativeDataB[['date','conversion']], left_on='date', right_on='date', how='left', suffixes=['A', 'B'])\n",
    "\n",
    "plt.plot(mergedCumulativeConversions['date'], mergedCumulativeConversions['conversionB']/mergedCumulativeConversions['conversionA']-1, label=\"Относительный прирост среднего количества заказов на посетителя группы B относительно группы A\")\n",
    "plt.legend()\n",
    "\n",
    "plt.axhline(y=0, color='black', linestyle='--')\n",
    "plt.axhline(y=-0.1, color='grey', linestyle='--')\n",
    "plt.title(\"Чистое количество заказов на пользователя\")\n",
    "plt.ylabel(\"Ср кол-во зак В / ср кол-во зак А - 1\")\n",
    "plt.xlabel(\"Время\");"
   ]
  },
  {
   "cell_type": "markdown",
   "metadata": {},
   "source": [
    "Среднее количество заказов на пользователя группы B заметно выше даже на чистых данных, но средний чек примерно такой же => тест можно заканчивать, группа B победила"
   ]
  },
  {
   "cell_type": "markdown",
   "metadata": {},
   "source": [
    "## Вывод\n",
    "Средние чеки групп не различаются, но Среднее количество заказов на пользователя группы B выше. Можно продолжить тест и точнее выявить разницу среднего чека, но выгоднее закончить тест и объявить группу B победителем"
   ]
  },
  {
   "cell_type": "markdown",
   "metadata": {},
   "source": [
    "<div class=\"alert alert-block alert-success\">\n",
    "    \n",
    "**Комментарий от ревьюера**\n",
    "    \n",
    "Так как нам необязательно, чтобы группа В выиграла и по среднему чеку, и по среднему количеству заказов, можно объявить ее победителем.\n",
    "</div>"
   ]
  },
  {
   "cell_type": "markdown",
   "metadata": {},
   "source": [
    "<div class=\"alert alert-block alert-info\">\n",
    "\n",
    "<b>Итоговый комментарий ревьюера:</b>\n",
    "\n",
    "Благодарю тебя за выполнение проекта. Вижу ты постарался, когда работал над ним. Однако, в проекте есть несколько замечаний, которые надо исправить:\n",
    "\n",
    "* дополнить предобработку;\n",
    "* дополнить вывод по приоритизации;\n",
    "* дополнить оформление графиков;\n",
    "* разобраться со средним количеством заказов и конверсией;\n",
    "* оформить статистические расчеты;\n",
    "* не использовать ручной ввод при фильтрации.\n",
    "       \n",
    "Жду проект после доработки. Уверена, ты справишься. 💪\n",
    "</div>"
   ]
  },
  {
   "cell_type": "markdown",
   "metadata": {},
   "source": [
    "<div class=\"alert alert-block alert-info\">\n",
    "\n",
    "<b>Итоговый комментарий ревьюера 2:</b>\n",
    "\n",
    "Замечания, которые осталось исправить:\n",
    "\n",
    "* дополнить оформление графиков;\n",
    "* дополнить описание статистических расчетов.\n",
    "       \n",
    "</div>"
   ]
  },
  {
   "cell_type": "code",
   "execution_count": null,
   "metadata": {},
   "outputs": [],
   "source": []
  }
 ],
 "metadata": {
  "ExecuteTimeLog": [
   {
    "duration": 450,
    "start_time": "2023-09-19T15:08:05.878Z"
   },
   {
    "duration": 109,
    "start_time": "2023-09-19T15:08:06.331Z"
   },
   {
    "duration": 498,
    "start_time": "2023-09-19T15:08:35.747Z"
   },
   {
    "duration": 65,
    "start_time": "2023-09-19T15:08:36.247Z"
   },
   {
    "duration": 43,
    "start_time": "2023-09-19T15:18:32.298Z"
   },
   {
    "duration": 46,
    "start_time": "2023-09-19T15:20:16.399Z"
   },
   {
    "duration": 99,
    "start_time": "2023-09-19T15:20:41.197Z"
   },
   {
    "duration": 32,
    "start_time": "2023-09-19T15:20:48.648Z"
   },
   {
    "duration": 10,
    "start_time": "2023-09-19T15:24:26.389Z"
   },
   {
    "duration": 8,
    "start_time": "2023-09-19T15:25:06.599Z"
   },
   {
    "duration": 4,
    "start_time": "2023-09-19T15:25:18.210Z"
   },
   {
    "duration": 138,
    "start_time": "2023-09-19T15:25:25.976Z"
   },
   {
    "duration": 5,
    "start_time": "2023-09-19T15:25:28.927Z"
   },
   {
    "duration": 5,
    "start_time": "2023-09-19T15:25:36.050Z"
   },
   {
    "duration": 12,
    "start_time": "2023-09-19T15:26:19.340Z"
   },
   {
    "duration": 5,
    "start_time": "2023-09-19T15:26:31.701Z"
   },
   {
    "duration": 19,
    "start_time": "2023-09-19T15:26:43.278Z"
   },
   {
    "duration": 50,
    "start_time": "2023-09-19T19:25:11.994Z"
   },
   {
    "duration": 418,
    "start_time": "2023-09-19T19:25:18.133Z"
   },
   {
    "duration": 86,
    "start_time": "2023-09-19T19:25:18.553Z"
   },
   {
    "duration": 22,
    "start_time": "2023-09-19T19:25:18.641Z"
   },
   {
    "duration": 91,
    "start_time": "2023-09-19T19:25:18.665Z"
   },
   {
    "duration": 118,
    "start_time": "2023-09-19T19:26:04.699Z"
   },
   {
    "duration": 1193,
    "start_time": "2023-09-19T19:40:19.470Z"
   },
   {
    "duration": 71,
    "start_time": "2023-09-19T19:40:20.666Z"
   },
   {
    "duration": 32,
    "start_time": "2023-09-19T19:40:20.739Z"
   },
   {
    "duration": 64,
    "start_time": "2023-09-19T19:40:20.774Z"
   },
   {
    "duration": 16,
    "start_time": "2023-09-19T19:40:20.840Z"
   },
   {
    "duration": 103,
    "start_time": "2023-09-19T19:44:07.464Z"
   },
   {
    "duration": 9,
    "start_time": "2023-09-19T19:44:19.617Z"
   },
   {
    "duration": 12,
    "start_time": "2023-09-19T19:44:40.097Z"
   },
   {
    "duration": 730,
    "start_time": "2023-09-21T10:51:35.204Z"
   },
   {
    "duration": 86,
    "start_time": "2023-09-21T10:51:35.936Z"
   },
   {
    "duration": 21,
    "start_time": "2023-09-21T10:51:36.024Z"
   },
   {
    "duration": 123,
    "start_time": "2023-09-21T10:51:36.046Z"
   },
   {
    "duration": 7,
    "start_time": "2023-09-21T10:51:36.171Z"
   },
   {
    "duration": 84,
    "start_time": "2023-09-21T10:51:36.180Z"
   },
   {
    "duration": 610,
    "start_time": "2023-09-21T10:51:58.570Z"
   },
   {
    "duration": 41,
    "start_time": "2023-09-21T10:51:59.182Z"
   },
   {
    "duration": 21,
    "start_time": "2023-09-21T10:51:59.225Z"
   },
   {
    "duration": 50,
    "start_time": "2023-09-21T10:51:59.248Z"
   },
   {
    "duration": 7,
    "start_time": "2023-09-21T10:51:59.300Z"
   },
   {
    "duration": 86,
    "start_time": "2023-09-21T10:51:59.308Z"
   },
   {
    "duration": 70,
    "start_time": "2023-09-21T10:52:22.246Z"
   },
   {
    "duration": 150,
    "start_time": "2023-09-21T10:53:21.689Z"
   },
   {
    "duration": 10,
    "start_time": "2023-09-21T10:53:27.286Z"
   },
   {
    "duration": 67,
    "start_time": "2023-09-21T10:54:42.329Z"
   },
   {
    "duration": 665,
    "start_time": "2023-09-21T10:54:57.829Z"
   },
   {
    "duration": 41,
    "start_time": "2023-09-21T10:54:58.496Z"
   },
   {
    "duration": 22,
    "start_time": "2023-09-21T10:54:58.539Z"
   },
   {
    "duration": 66,
    "start_time": "2023-09-21T10:54:58.563Z"
   },
   {
    "duration": 7,
    "start_time": "2023-09-21T10:54:58.631Z"
   },
   {
    "duration": 270,
    "start_time": "2023-09-21T10:54:58.640Z"
   },
   {
    "duration": 10,
    "start_time": "2023-09-21T10:54:58.912Z"
   },
   {
    "duration": 13,
    "start_time": "2023-09-21T10:55:21.797Z"
   },
   {
    "duration": 654,
    "start_time": "2023-09-21T10:56:05.535Z"
   },
   {
    "duration": 43,
    "start_time": "2023-09-21T10:56:06.191Z"
   },
   {
    "duration": 22,
    "start_time": "2023-09-21T10:56:06.236Z"
   },
   {
    "duration": 56,
    "start_time": "2023-09-21T10:56:06.260Z"
   },
   {
    "duration": 11,
    "start_time": "2023-09-21T10:56:06.318Z"
   },
   {
    "duration": 251,
    "start_time": "2023-09-21T10:56:06.332Z"
   },
   {
    "duration": 10,
    "start_time": "2023-09-21T10:56:06.584Z"
   },
   {
    "duration": 237,
    "start_time": "2023-09-21T10:56:43.729Z"
   },
   {
    "duration": 235,
    "start_time": "2023-09-21T11:26:48.887Z"
   },
   {
    "duration": 342,
    "start_time": "2023-09-21T12:08:06.062Z"
   },
   {
    "duration": 262,
    "start_time": "2023-09-21T12:11:46.872Z"
   },
   {
    "duration": 706,
    "start_time": "2023-09-21T12:37:51.913Z"
   },
   {
    "duration": 42,
    "start_time": "2023-09-21T12:37:52.621Z"
   },
   {
    "duration": 25,
    "start_time": "2023-09-21T12:37:52.666Z"
   },
   {
    "duration": 57,
    "start_time": "2023-09-21T12:37:52.693Z"
   },
   {
    "duration": 9,
    "start_time": "2023-09-21T12:37:52.752Z"
   },
   {
    "duration": 297,
    "start_time": "2023-09-21T12:37:52.763Z"
   },
   {
    "duration": 9,
    "start_time": "2023-09-21T12:37:53.063Z"
   },
   {
    "duration": 282,
    "start_time": "2023-09-21T12:37:53.073Z"
   },
   {
    "duration": 310,
    "start_time": "2023-09-21T12:37:53.357Z"
   },
   {
    "duration": 338,
    "start_time": "2023-09-21T12:37:53.668Z"
   },
   {
    "duration": 407,
    "start_time": "2023-09-21T12:37:54.008Z"
   },
   {
    "duration": 427,
    "start_time": "2023-09-21T12:37:54.417Z"
   },
   {
    "duration": 77,
    "start_time": "2023-09-21T13:56:41.780Z"
   },
   {
    "duration": 69,
    "start_time": "2023-09-21T13:57:02.897Z"
   },
   {
    "duration": 120,
    "start_time": "2023-09-21T13:57:18.526Z"
   },
   {
    "duration": 5,
    "start_time": "2023-09-21T14:02:42.839Z"
   },
   {
    "duration": 64,
    "start_time": "2023-09-21T20:12:46.825Z"
   },
   {
    "duration": 1038,
    "start_time": "2023-09-21T20:12:52.816Z"
   },
   {
    "duration": 95,
    "start_time": "2023-09-21T20:12:53.858Z"
   },
   {
    "duration": 31,
    "start_time": "2023-09-21T20:12:53.957Z"
   },
   {
    "duration": 205,
    "start_time": "2023-09-21T20:12:53.990Z"
   },
   {
    "duration": 9,
    "start_time": "2023-09-21T20:12:54.198Z"
   },
   {
    "duration": 397,
    "start_time": "2023-09-21T20:12:54.208Z"
   },
   {
    "duration": 12,
    "start_time": "2023-09-21T20:12:54.607Z"
   },
   {
    "duration": 453,
    "start_time": "2023-09-21T20:12:54.622Z"
   },
   {
    "duration": 314,
    "start_time": "2023-09-21T20:12:55.077Z"
   },
   {
    "duration": 475,
    "start_time": "2023-09-21T20:12:55.395Z"
   },
   {
    "duration": 406,
    "start_time": "2023-09-21T20:12:55.872Z"
   },
   {
    "duration": 406,
    "start_time": "2023-09-21T20:12:56.280Z"
   },
   {
    "duration": 141,
    "start_time": "2023-09-21T20:12:56.688Z"
   },
   {
    "duration": 5,
    "start_time": "2023-09-21T20:12:56.832Z"
   },
   {
    "duration": 160,
    "start_time": "2023-09-21T20:12:56.853Z"
   },
   {
    "duration": 6,
    "start_time": "2023-09-21T20:14:05.163Z"
   },
   {
    "duration": 96,
    "start_time": "2023-09-21T20:24:03.263Z"
   },
   {
    "duration": 72,
    "start_time": "2023-09-21T20:25:43.380Z"
   },
   {
    "duration": 18,
    "start_time": "2023-09-21T20:27:21.684Z"
   },
   {
    "duration": 27,
    "start_time": "2023-09-21T20:27:32.931Z"
   },
   {
    "duration": 167,
    "start_time": "2023-09-21T20:27:38.060Z"
   },
   {
    "duration": 1302,
    "start_time": "2023-09-21T20:28:14.677Z"
   },
   {
    "duration": 59,
    "start_time": "2023-09-21T20:28:15.982Z"
   },
   {
    "duration": 37,
    "start_time": "2023-09-21T20:28:16.043Z"
   },
   {
    "duration": 60,
    "start_time": "2023-09-21T20:28:16.082Z"
   },
   {
    "duration": 18,
    "start_time": "2023-09-21T20:28:16.144Z"
   },
   {
    "duration": 318,
    "start_time": "2023-09-21T20:28:16.164Z"
   },
   {
    "duration": 12,
    "start_time": "2023-09-21T20:28:16.485Z"
   },
   {
    "duration": 359,
    "start_time": "2023-09-21T20:28:16.500Z"
   },
   {
    "duration": 326,
    "start_time": "2023-09-21T20:28:16.862Z"
   },
   {
    "duration": 412,
    "start_time": "2023-09-21T20:28:17.191Z"
   },
   {
    "duration": 324,
    "start_time": "2023-09-21T20:28:17.604Z"
   },
   {
    "duration": 436,
    "start_time": "2023-09-21T20:28:17.930Z"
   },
   {
    "duration": 148,
    "start_time": "2023-09-21T20:28:18.368Z"
   },
   {
    "duration": 5,
    "start_time": "2023-09-21T20:28:18.520Z"
   },
   {
    "duration": 170,
    "start_time": "2023-09-21T20:28:18.526Z"
   },
   {
    "duration": 6,
    "start_time": "2023-09-21T20:28:18.697Z"
   },
   {
    "duration": 213,
    "start_time": "2023-09-21T20:28:18.704Z"
   },
   {
    "duration": 122,
    "start_time": "2023-09-21T20:28:18.919Z"
   },
   {
    "duration": 241,
    "start_time": "2023-09-21T20:56:08.572Z"
   },
   {
    "duration": 1325,
    "start_time": "2023-09-21T21:00:20.174Z"
   },
   {
    "duration": 62,
    "start_time": "2023-09-21T21:00:21.501Z"
   },
   {
    "duration": 42,
    "start_time": "2023-09-21T21:00:21.565Z"
   },
   {
    "duration": 73,
    "start_time": "2023-09-21T21:00:21.610Z"
   },
   {
    "duration": 13,
    "start_time": "2023-09-21T21:00:21.686Z"
   },
   {
    "duration": 328,
    "start_time": "2023-09-21T21:00:21.700Z"
   },
   {
    "duration": 19,
    "start_time": "2023-09-21T21:00:22.030Z"
   },
   {
    "duration": 372,
    "start_time": "2023-09-21T21:00:22.059Z"
   },
   {
    "duration": 327,
    "start_time": "2023-09-21T21:00:22.433Z"
   },
   {
    "duration": 406,
    "start_time": "2023-09-21T21:00:22.766Z"
   },
   {
    "duration": 325,
    "start_time": "2023-09-21T21:00:23.175Z"
   },
   {
    "duration": 552,
    "start_time": "2023-09-21T21:00:23.503Z"
   },
   {
    "duration": 152,
    "start_time": "2023-09-21T21:00:24.057Z"
   },
   {
    "duration": 7,
    "start_time": "2023-09-21T21:00:24.211Z"
   },
   {
    "duration": 212,
    "start_time": "2023-09-21T21:00:24.219Z"
   },
   {
    "duration": 8,
    "start_time": "2023-09-21T21:00:24.434Z"
   },
   {
    "duration": 254,
    "start_time": "2023-09-21T21:00:24.444Z"
   },
   {
    "duration": 15,
    "start_time": "2023-09-21T21:00:24.703Z"
   },
   {
    "duration": 4301,
    "start_time": "2023-09-21T21:17:34.716Z"
   },
   {
    "duration": 2681,
    "start_time": "2023-09-21T21:18:05.717Z"
   },
   {
    "duration": 2306,
    "start_time": "2023-09-21T21:18:15.566Z"
   },
   {
    "duration": 37,
    "start_time": "2023-09-21T21:19:01.796Z"
   },
   {
    "duration": 3879,
    "start_time": "2023-09-21T21:19:52.035Z"
   },
   {
    "duration": 15,
    "start_time": "2023-09-21T21:20:11.485Z"
   },
   {
    "duration": 144,
    "start_time": "2023-09-21T21:26:10.981Z"
   },
   {
    "duration": 172,
    "start_time": "2023-09-21T21:26:43.975Z"
   },
   {
    "duration": 360,
    "start_time": "2023-09-21T21:27:12.540Z"
   },
   {
    "duration": 132,
    "start_time": "2023-09-21T21:30:50.977Z"
   },
   {
    "duration": 13,
    "start_time": "2023-09-21T21:31:03.445Z"
   },
   {
    "duration": 5,
    "start_time": "2023-09-21T21:31:41.227Z"
   },
   {
    "duration": 15,
    "start_time": "2023-09-21T21:33:51.712Z"
   },
   {
    "duration": 153,
    "start_time": "2023-09-21T21:35:13.000Z"
   },
   {
    "duration": 150,
    "start_time": "2023-09-21T21:41:13.657Z"
   },
   {
    "duration": 371,
    "start_time": "2023-09-21T21:47:10.893Z"
   },
   {
    "duration": 620,
    "start_time": "2023-09-21T21:48:31.183Z"
   },
   {
    "duration": 5,
    "start_time": "2023-09-21T21:50:04.702Z"
   },
   {
    "duration": 17,
    "start_time": "2023-09-21T21:51:09.339Z"
   },
   {
    "duration": 10,
    "start_time": "2023-09-21T21:52:12.561Z"
   },
   {
    "duration": 8,
    "start_time": "2023-09-21T21:53:56.063Z"
   },
   {
    "duration": 15,
    "start_time": "2023-09-21T21:54:31.395Z"
   },
   {
    "duration": 80,
    "start_time": "2023-09-21T21:55:44.677Z"
   },
   {
    "duration": 16,
    "start_time": "2023-09-21T21:56:14.162Z"
   },
   {
    "duration": 1977,
    "start_time": "2023-09-21T21:59:01.856Z"
   },
   {
    "duration": 2592,
    "start_time": "2023-09-21T21:59:11.360Z"
   },
   {
    "duration": 4,
    "start_time": "2023-09-21T22:05:46.615Z"
   },
   {
    "duration": 14,
    "start_time": "2023-09-21T22:05:52.167Z"
   },
   {
    "duration": 11,
    "start_time": "2023-09-21T22:05:59.454Z"
   },
   {
    "duration": 619,
    "start_time": "2023-09-21T22:08:14.079Z"
   },
   {
    "duration": 560,
    "start_time": "2023-09-21T22:09:10.229Z"
   },
   {
    "duration": 642,
    "start_time": "2023-09-21T22:10:10.428Z"
   },
   {
    "duration": 397,
    "start_time": "2023-09-21T22:11:48.217Z"
   },
   {
    "duration": 1281,
    "start_time": "2023-09-22T04:56:48.462Z"
   },
   {
    "duration": 48,
    "start_time": "2023-09-22T04:56:49.745Z"
   },
   {
    "duration": 27,
    "start_time": "2023-09-22T04:56:49.795Z"
   },
   {
    "duration": 79,
    "start_time": "2023-09-22T04:56:49.824Z"
   },
   {
    "duration": 264,
    "start_time": "2023-09-22T04:56:49.905Z"
   },
   {
    "duration": 10,
    "start_time": "2023-09-22T04:56:50.171Z"
   },
   {
    "duration": 288,
    "start_time": "2023-09-22T04:56:50.183Z"
   },
   {
    "duration": 251,
    "start_time": "2023-09-22T04:56:50.472Z"
   },
   {
    "duration": 373,
    "start_time": "2023-09-22T04:56:50.725Z"
   },
   {
    "duration": 275,
    "start_time": "2023-09-22T04:56:51.100Z"
   },
   {
    "duration": 389,
    "start_time": "2023-09-22T04:56:51.376Z"
   },
   {
    "duration": 126,
    "start_time": "2023-09-22T04:56:51.766Z"
   },
   {
    "duration": 6,
    "start_time": "2023-09-22T04:56:51.893Z"
   },
   {
    "duration": 150,
    "start_time": "2023-09-22T04:56:51.901Z"
   },
   {
    "duration": 6,
    "start_time": "2023-09-22T04:56:52.056Z"
   },
   {
    "duration": 169,
    "start_time": "2023-09-22T04:56:52.063Z"
   },
   {
    "duration": 11,
    "start_time": "2023-09-22T04:56:52.234Z"
   },
   {
    "duration": 39,
    "start_time": "2023-09-22T04:56:52.256Z"
   },
   {
    "duration": 15,
    "start_time": "2023-09-22T04:56:52.297Z"
   },
   {
    "duration": 647,
    "start_time": "2023-09-22T04:56:52.314Z"
   },
   {
    "duration": 488,
    "start_time": "2023-09-22T04:56:52.963Z"
   },
   {
    "duration": 1497,
    "start_time": "2023-09-22T16:28:50.081Z"
   },
   {
    "duration": 98,
    "start_time": "2023-09-22T16:28:51.581Z"
   },
   {
    "duration": 27,
    "start_time": "2023-09-22T16:28:51.681Z"
   },
   {
    "duration": 201,
    "start_time": "2023-09-22T16:28:51.711Z"
   },
   {
    "duration": 278,
    "start_time": "2023-09-22T16:28:51.913Z"
   },
   {
    "duration": 10,
    "start_time": "2023-09-22T16:28:52.193Z"
   },
   {
    "duration": 336,
    "start_time": "2023-09-22T16:28:52.205Z"
   },
   {
    "duration": 297,
    "start_time": "2023-09-22T16:28:52.543Z"
   },
   {
    "duration": 431,
    "start_time": "2023-09-22T16:28:52.843Z"
   },
   {
    "duration": 320,
    "start_time": "2023-09-22T16:28:53.279Z"
   },
   {
    "duration": 469,
    "start_time": "2023-09-22T16:28:53.602Z"
   },
   {
    "duration": 141,
    "start_time": "2023-09-22T16:28:54.073Z"
   },
   {
    "duration": 6,
    "start_time": "2023-09-22T16:28:54.216Z"
   },
   {
    "duration": 164,
    "start_time": "2023-09-22T16:28:54.224Z"
   },
   {
    "duration": 6,
    "start_time": "2023-09-22T16:28:54.390Z"
   },
   {
    "duration": 190,
    "start_time": "2023-09-22T16:28:54.398Z"
   },
   {
    "duration": 13,
    "start_time": "2023-09-22T16:28:54.590Z"
   },
   {
    "duration": 82,
    "start_time": "2023-09-22T16:28:54.605Z"
   },
   {
    "duration": 20,
    "start_time": "2023-09-22T16:28:54.690Z"
   },
   {
    "duration": 686,
    "start_time": "2023-09-22T16:28:54.713Z"
   },
   {
    "duration": 510,
    "start_time": "2023-09-22T16:28:55.401Z"
   },
   {
    "duration": 77,
    "start_time": "2023-09-22T16:31:13.094Z"
   },
   {
    "duration": 86,
    "start_time": "2023-09-22T16:34:15.780Z"
   },
   {
    "duration": 91,
    "start_time": "2023-09-22T16:34:37.591Z"
   },
   {
    "duration": 95,
    "start_time": "2023-09-22T16:35:18.256Z"
   },
   {
    "duration": 99,
    "start_time": "2023-09-22T16:35:46.437Z"
   },
   {
    "duration": 1260,
    "start_time": "2023-09-22T16:35:59.903Z"
   },
   {
    "duration": 49,
    "start_time": "2023-09-22T16:36:01.170Z"
   },
   {
    "duration": 58,
    "start_time": "2023-09-22T16:36:01.221Z"
   },
   {
    "duration": 129,
    "start_time": "2023-09-22T16:36:01.281Z"
   },
   {
    "duration": 292,
    "start_time": "2023-09-22T16:36:01.412Z"
   },
   {
    "duration": 10,
    "start_time": "2023-09-22T16:36:01.706Z"
   },
   {
    "duration": 327,
    "start_time": "2023-09-22T16:36:01.718Z"
   },
   {
    "duration": 202,
    "start_time": "2023-09-22T16:36:02.047Z"
   },
   {
    "duration": 334,
    "start_time": "2023-09-22T16:36:02.251Z"
   },
   {
    "duration": 225,
    "start_time": "2023-09-22T16:36:02.587Z"
   },
   {
    "duration": 368,
    "start_time": "2023-09-22T16:36:02.814Z"
   },
   {
    "duration": 145,
    "start_time": "2023-09-22T16:36:03.184Z"
   },
   {
    "duration": 5,
    "start_time": "2023-09-22T16:36:03.331Z"
   },
   {
    "duration": 163,
    "start_time": "2023-09-22T16:36:03.338Z"
   },
   {
    "duration": 6,
    "start_time": "2023-09-22T16:36:03.503Z"
   },
   {
    "duration": 184,
    "start_time": "2023-09-22T16:36:03.511Z"
   },
   {
    "duration": 12,
    "start_time": "2023-09-22T16:36:03.696Z"
   },
   {
    "duration": 93,
    "start_time": "2023-09-22T16:36:03.710Z"
   },
   {
    "duration": 14,
    "start_time": "2023-09-22T16:36:03.805Z"
   },
   {
    "duration": 608,
    "start_time": "2023-09-22T16:36:03.821Z"
   },
   {
    "duration": 455,
    "start_time": "2023-09-22T16:36:04.431Z"
   },
   {
    "duration": 14,
    "start_time": "2023-09-22T16:37:02.886Z"
   },
   {
    "duration": 15,
    "start_time": "2023-09-22T16:37:16.708Z"
   },
   {
    "duration": 14,
    "start_time": "2023-09-22T16:37:36.098Z"
   },
   {
    "duration": 1295,
    "start_time": "2023-09-24T20:01:05.524Z"
   },
   {
    "duration": 85,
    "start_time": "2023-09-24T20:01:06.821Z"
   },
   {
    "duration": 21,
    "start_time": "2023-09-24T20:01:06.907Z"
   },
   {
    "duration": 233,
    "start_time": "2023-09-24T20:01:06.930Z"
   },
   {
    "duration": 274,
    "start_time": "2023-09-24T20:01:07.165Z"
   },
   {
    "duration": 24,
    "start_time": "2023-09-24T20:01:07.440Z"
   },
   {
    "duration": 264,
    "start_time": "2023-09-24T20:01:07.465Z"
   },
   {
    "duration": 187,
    "start_time": "2023-09-24T20:01:07.731Z"
   },
   {
    "duration": 358,
    "start_time": "2023-09-24T20:01:07.920Z"
   },
   {
    "duration": 206,
    "start_time": "2023-09-24T20:01:08.280Z"
   },
   {
    "duration": 292,
    "start_time": "2023-09-24T20:01:08.487Z"
   },
   {
    "duration": 124,
    "start_time": "2023-09-24T20:01:08.780Z"
   },
   {
    "duration": 5,
    "start_time": "2023-09-24T20:01:08.905Z"
   },
   {
    "duration": 138,
    "start_time": "2023-09-24T20:01:08.911Z"
   },
   {
    "duration": 8,
    "start_time": "2023-09-24T20:01:09.051Z"
   },
   {
    "duration": 203,
    "start_time": "2023-09-24T20:01:09.063Z"
   },
   {
    "duration": 10,
    "start_time": "2023-09-24T20:01:09.270Z"
   },
   {
    "duration": 36,
    "start_time": "2023-09-24T20:01:09.282Z"
   },
   {
    "duration": 37,
    "start_time": "2023-09-24T20:01:09.320Z"
   },
   {
    "duration": 570,
    "start_time": "2023-09-24T20:01:09.359Z"
   },
   {
    "duration": 399,
    "start_time": "2023-09-24T20:01:09.931Z"
   },
   {
    "duration": 195,
    "start_time": "2023-09-24T20:03:11.199Z"
   },
   {
    "duration": 203,
    "start_time": "2023-09-24T20:03:39.131Z"
   },
   {
    "duration": 274,
    "start_time": "2023-09-24T20:04:10.102Z"
   },
   {
    "duration": 245,
    "start_time": "2023-09-24T20:04:35.914Z"
   },
   {
    "duration": 311,
    "start_time": "2023-09-24T20:05:01.874Z"
   },
   {
    "duration": 351,
    "start_time": "2023-09-24T20:05:23.925Z"
   },
   {
    "duration": 147,
    "start_time": "2023-09-24T20:06:22.519Z"
   },
   {
    "duration": 126,
    "start_time": "2023-09-24T20:10:21.813Z"
   },
   {
    "duration": 1082,
    "start_time": "2023-09-24T20:10:28.481Z"
   },
   {
    "duration": 42,
    "start_time": "2023-09-24T20:10:29.565Z"
   },
   {
    "duration": 18,
    "start_time": "2023-09-24T20:10:29.609Z"
   },
   {
    "duration": 86,
    "start_time": "2023-09-24T20:10:29.629Z"
   },
   {
    "duration": 277,
    "start_time": "2023-09-24T20:10:29.716Z"
   },
   {
    "duration": 13,
    "start_time": "2023-09-24T20:10:29.994Z"
   },
   {
    "duration": 329,
    "start_time": "2023-09-24T20:10:30.008Z"
   },
   {
    "duration": 205,
    "start_time": "2023-09-24T20:10:30.339Z"
   },
   {
    "duration": 309,
    "start_time": "2023-09-24T20:10:30.549Z"
   },
   {
    "duration": 219,
    "start_time": "2023-09-24T20:10:30.861Z"
   },
   {
    "duration": 342,
    "start_time": "2023-09-24T20:10:31.081Z"
   },
   {
    "duration": 158,
    "start_time": "2023-09-24T20:10:31.425Z"
   },
   {
    "duration": 4,
    "start_time": "2023-09-24T20:10:31.585Z"
   },
   {
    "duration": 218,
    "start_time": "2023-09-24T20:10:31.591Z"
   },
   {
    "duration": 6,
    "start_time": "2023-09-24T20:10:31.811Z"
   },
   {
    "duration": 251,
    "start_time": "2023-09-24T20:10:31.818Z"
   },
   {
    "duration": 12,
    "start_time": "2023-09-24T20:10:32.071Z"
   },
   {
    "duration": 89,
    "start_time": "2023-09-24T20:10:32.084Z"
   },
   {
    "duration": 47,
    "start_time": "2023-09-24T20:10:32.175Z"
   },
   {
    "duration": 644,
    "start_time": "2023-09-24T20:10:32.223Z"
   },
   {
    "duration": 413,
    "start_time": "2023-09-24T20:10:32.869Z"
   },
   {
    "duration": 179,
    "start_time": "2023-09-24T20:11:03.498Z"
   },
   {
    "duration": 551,
    "start_time": "2023-09-24T20:11:08.195Z"
   },
   {
    "duration": 310,
    "start_time": "2023-09-24T20:11:50.534Z"
   },
   {
    "duration": 263,
    "start_time": "2023-09-24T20:14:30.433Z"
   },
   {
    "duration": 175,
    "start_time": "2023-09-24T20:14:34.891Z"
   },
   {
    "duration": 166,
    "start_time": "2023-09-24T20:15:23.423Z"
   },
   {
    "duration": 159,
    "start_time": "2023-09-24T20:15:54.072Z"
   },
   {
    "duration": 183,
    "start_time": "2023-09-24T20:16:38.649Z"
   },
   {
    "duration": 169,
    "start_time": "2023-09-24T20:16:45.579Z"
   },
   {
    "duration": 1024,
    "start_time": "2023-09-24T20:17:39.321Z"
   },
   {
    "duration": 50,
    "start_time": "2023-09-24T20:17:40.349Z"
   },
   {
    "duration": 21,
    "start_time": "2023-09-24T20:17:40.401Z"
   },
   {
    "duration": 80,
    "start_time": "2023-09-24T20:17:40.424Z"
   },
   {
    "duration": 264,
    "start_time": "2023-09-24T20:17:40.506Z"
   },
   {
    "duration": 12,
    "start_time": "2023-09-24T20:17:40.771Z"
   },
   {
    "duration": 261,
    "start_time": "2023-09-24T20:17:40.784Z"
   },
   {
    "duration": 170,
    "start_time": "2023-09-24T20:17:41.049Z"
   },
   {
    "duration": 301,
    "start_time": "2023-09-24T20:17:41.220Z"
   },
   {
    "duration": 187,
    "start_time": "2023-09-24T20:17:41.523Z"
   },
   {
    "duration": 354,
    "start_time": "2023-09-24T20:17:41.711Z"
   },
   {
    "duration": 118,
    "start_time": "2023-09-24T20:17:42.067Z"
   },
   {
    "duration": 6,
    "start_time": "2023-09-24T20:17:42.186Z"
   },
   {
    "duration": 129,
    "start_time": "2023-09-24T20:17:42.193Z"
   },
   {
    "duration": 4,
    "start_time": "2023-09-24T20:17:42.324Z"
   },
   {
    "duration": 159,
    "start_time": "2023-09-24T20:17:42.330Z"
   },
   {
    "duration": 10,
    "start_time": "2023-09-24T20:17:42.491Z"
   },
   {
    "duration": 53,
    "start_time": "2023-09-24T20:17:42.502Z"
   },
   {
    "duration": 17,
    "start_time": "2023-09-24T20:17:42.556Z"
   },
   {
    "duration": 548,
    "start_time": "2023-09-24T20:17:42.575Z"
   },
   {
    "duration": 383,
    "start_time": "2023-09-24T20:17:43.125Z"
   },
   {
    "duration": 1003,
    "start_time": "2023-09-24T20:25:13.098Z"
   },
   {
    "duration": 43,
    "start_time": "2023-09-24T20:25:14.103Z"
   },
   {
    "duration": 32,
    "start_time": "2023-09-24T20:25:14.147Z"
   },
   {
    "duration": 92,
    "start_time": "2023-09-24T20:25:14.180Z"
   },
   {
    "duration": 275,
    "start_time": "2023-09-24T20:25:14.273Z"
   },
   {
    "duration": 18,
    "start_time": "2023-09-24T20:25:14.549Z"
   },
   {
    "duration": 297,
    "start_time": "2023-09-24T20:25:14.568Z"
   },
   {
    "duration": 177,
    "start_time": "2023-09-24T20:25:14.867Z"
   },
   {
    "duration": 326,
    "start_time": "2023-09-24T20:25:15.046Z"
   },
   {
    "duration": 202,
    "start_time": "2023-09-24T20:25:15.374Z"
   },
   {
    "duration": 309,
    "start_time": "2023-09-24T20:25:15.578Z"
   },
   {
    "duration": 158,
    "start_time": "2023-09-24T20:25:15.889Z"
   },
   {
    "duration": 16,
    "start_time": "2023-09-24T20:25:16.050Z"
   },
   {
    "duration": 173,
    "start_time": "2023-09-24T20:25:16.069Z"
   },
   {
    "duration": 20,
    "start_time": "2023-09-24T20:25:16.245Z"
   },
   {
    "duration": 199,
    "start_time": "2023-09-24T20:25:16.267Z"
   },
   {
    "duration": 11,
    "start_time": "2023-09-24T20:25:16.467Z"
   },
   {
    "duration": 46,
    "start_time": "2023-09-24T20:25:16.480Z"
   },
   {
    "duration": 27,
    "start_time": "2023-09-24T20:25:16.528Z"
   },
   {
    "duration": 538,
    "start_time": "2023-09-24T20:25:16.556Z"
   },
   {
    "duration": 376,
    "start_time": "2023-09-24T20:25:17.095Z"
   },
   {
    "duration": 130,
    "start_time": "2023-09-24T20:26:08.760Z"
   },
   {
    "duration": 987,
    "start_time": "2023-09-24T20:26:22.307Z"
   },
   {
    "duration": 41,
    "start_time": "2023-09-24T20:26:23.296Z"
   },
   {
    "duration": 28,
    "start_time": "2023-09-24T20:26:23.338Z"
   },
   {
    "duration": 76,
    "start_time": "2023-09-24T20:26:23.367Z"
   },
   {
    "duration": 277,
    "start_time": "2023-09-24T20:26:23.444Z"
   },
   {
    "duration": 12,
    "start_time": "2023-09-24T20:26:23.723Z"
   },
   {
    "duration": 255,
    "start_time": "2023-09-24T20:26:23.749Z"
   },
   {
    "duration": 175,
    "start_time": "2023-09-24T20:26:24.005Z"
   },
   {
    "duration": 278,
    "start_time": "2023-09-24T20:26:24.181Z"
   },
   {
    "duration": 201,
    "start_time": "2023-09-24T20:26:24.462Z"
   },
   {
    "duration": 312,
    "start_time": "2023-09-24T20:26:24.665Z"
   },
   {
    "duration": 134,
    "start_time": "2023-09-24T20:26:24.979Z"
   },
   {
    "duration": 5,
    "start_time": "2023-09-24T20:26:25.114Z"
   },
   {
    "duration": 172,
    "start_time": "2023-09-24T20:26:25.121Z"
   },
   {
    "duration": 5,
    "start_time": "2023-09-24T20:26:25.294Z"
   },
   {
    "duration": 168,
    "start_time": "2023-09-24T20:26:25.300Z"
   },
   {
    "duration": 9,
    "start_time": "2023-09-24T20:26:25.469Z"
   },
   {
    "duration": 54,
    "start_time": "2023-09-24T20:26:25.479Z"
   },
   {
    "duration": 28,
    "start_time": "2023-09-24T20:26:25.535Z"
   },
   {
    "duration": 598,
    "start_time": "2023-09-24T20:26:25.565Z"
   },
   {
    "duration": 401,
    "start_time": "2023-09-24T20:26:26.169Z"
   },
   {
    "duration": 117,
    "start_time": "2023-09-24T20:27:09.489Z"
   },
   {
    "duration": 1057,
    "start_time": "2023-09-24T20:28:04.966Z"
   },
   {
    "duration": 54,
    "start_time": "2023-09-24T20:28:06.025Z"
   },
   {
    "duration": 24,
    "start_time": "2023-09-24T20:28:06.080Z"
   },
   {
    "duration": 86,
    "start_time": "2023-09-24T20:28:06.106Z"
   },
   {
    "duration": 272,
    "start_time": "2023-09-24T20:28:06.194Z"
   },
   {
    "duration": 12,
    "start_time": "2023-09-24T20:28:06.468Z"
   },
   {
    "duration": 262,
    "start_time": "2023-09-24T20:28:06.482Z"
   },
   {
    "duration": 173,
    "start_time": "2023-09-24T20:28:06.746Z"
   },
   {
    "duration": 308,
    "start_time": "2023-09-24T20:28:06.921Z"
   },
   {
    "duration": 197,
    "start_time": "2023-09-24T20:28:07.233Z"
   },
   {
    "duration": 341,
    "start_time": "2023-09-24T20:28:07.432Z"
   },
   {
    "duration": 123,
    "start_time": "2023-09-24T20:28:07.774Z"
   },
   {
    "duration": 5,
    "start_time": "2023-09-24T20:28:07.898Z"
   },
   {
    "duration": 158,
    "start_time": "2023-09-24T20:28:07.904Z"
   },
   {
    "duration": 117,
    "start_time": "2023-09-24T20:28:08.064Z"
   },
   {
    "duration": 5,
    "start_time": "2023-09-24T20:28:08.183Z"
   },
   {
    "duration": 238,
    "start_time": "2023-09-24T20:28:08.189Z"
   },
   {
    "duration": 34,
    "start_time": "2023-09-24T20:28:08.429Z"
   },
   {
    "duration": 43,
    "start_time": "2023-09-24T20:28:08.466Z"
   },
   {
    "duration": 12,
    "start_time": "2023-09-24T20:28:08.510Z"
   },
   {
    "duration": 538,
    "start_time": "2023-09-24T20:28:08.524Z"
   },
   {
    "duration": 304,
    "start_time": "2023-09-24T20:28:09.065Z"
   },
   {
    "duration": 998,
    "start_time": "2023-09-24T21:42:09.911Z"
   },
   {
    "duration": 55,
    "start_time": "2023-09-24T21:42:10.911Z"
   },
   {
    "duration": 20,
    "start_time": "2023-09-24T21:42:10.967Z"
   },
   {
    "duration": 80,
    "start_time": "2023-09-24T21:42:10.989Z"
   },
   {
    "duration": 264,
    "start_time": "2023-09-24T21:42:11.072Z"
   },
   {
    "duration": 30,
    "start_time": "2023-09-24T21:42:11.337Z"
   },
   {
    "duration": 253,
    "start_time": "2023-09-24T21:42:11.369Z"
   },
   {
    "duration": 170,
    "start_time": "2023-09-24T21:42:11.624Z"
   },
   {
    "duration": 275,
    "start_time": "2023-09-24T21:42:11.796Z"
   },
   {
    "duration": 195,
    "start_time": "2023-09-24T21:42:12.072Z"
   },
   {
    "duration": 308,
    "start_time": "2023-09-24T21:42:12.268Z"
   },
   {
    "duration": 126,
    "start_time": "2023-09-24T21:42:12.578Z"
   },
   {
    "duration": 5,
    "start_time": "2023-09-24T21:42:12.706Z"
   },
   {
    "duration": 148,
    "start_time": "2023-09-24T21:42:12.713Z"
   },
   {
    "duration": 133,
    "start_time": "2023-09-24T21:42:12.863Z"
   },
   {
    "duration": 5,
    "start_time": "2023-09-24T21:42:12.998Z"
   },
   {
    "duration": 231,
    "start_time": "2023-09-24T21:42:13.005Z"
   },
   {
    "duration": 25,
    "start_time": "2023-09-24T21:42:13.238Z"
   },
   {
    "duration": 32,
    "start_time": "2023-09-24T21:42:13.265Z"
   },
   {
    "duration": 12,
    "start_time": "2023-09-24T21:42:13.298Z"
   },
   {
    "duration": 527,
    "start_time": "2023-09-24T21:42:13.311Z"
   },
   {
    "duration": 325,
    "start_time": "2023-09-24T21:42:13.839Z"
   },
   {
    "duration": 1374,
    "start_time": "2023-09-25T02:30:02.702Z"
   },
   {
    "duration": 87,
    "start_time": "2023-09-25T02:30:04.078Z"
   },
   {
    "duration": 28,
    "start_time": "2023-09-25T02:30:04.167Z"
   },
   {
    "duration": 172,
    "start_time": "2023-09-25T02:30:04.197Z"
   },
   {
    "duration": 313,
    "start_time": "2023-09-25T02:30:04.371Z"
   },
   {
    "duration": 25,
    "start_time": "2023-09-25T02:30:04.686Z"
   },
   {
    "duration": 298,
    "start_time": "2023-09-25T02:30:04.714Z"
   },
   {
    "duration": 180,
    "start_time": "2023-09-25T02:30:05.014Z"
   },
   {
    "duration": 338,
    "start_time": "2023-09-25T02:30:05.196Z"
   },
   {
    "duration": 210,
    "start_time": "2023-09-25T02:30:05.537Z"
   },
   {
    "duration": 306,
    "start_time": "2023-09-25T02:30:05.748Z"
   },
   {
    "duration": 137,
    "start_time": "2023-09-25T02:30:06.055Z"
   },
   {
    "duration": 6,
    "start_time": "2023-09-25T02:30:06.201Z"
   },
   {
    "duration": 161,
    "start_time": "2023-09-25T02:30:06.208Z"
   },
   {
    "duration": 221,
    "start_time": "2023-09-25T02:30:06.371Z"
   },
   {
    "duration": 10,
    "start_time": "2023-09-25T02:30:06.594Z"
   },
   {
    "duration": 173,
    "start_time": "2023-09-25T02:30:06.605Z"
   },
   {
    "duration": 24,
    "start_time": "2023-09-25T02:30:06.780Z"
   },
   {
    "duration": 37,
    "start_time": "2023-09-25T02:30:06.806Z"
   },
   {
    "duration": 28,
    "start_time": "2023-09-25T02:30:06.845Z"
   },
   {
    "duration": 555,
    "start_time": "2023-09-25T02:30:06.875Z"
   },
   {
    "duration": 297,
    "start_time": "2023-09-25T02:30:07.433Z"
   },
   {
    "duration": 53,
    "start_time": "2023-09-25T11:24:58.988Z"
   },
   {
    "duration": 1232,
    "start_time": "2023-09-25T11:25:04.766Z"
   },
   {
    "duration": 86,
    "start_time": "2023-09-25T11:25:05.999Z"
   },
   {
    "duration": 21,
    "start_time": "2023-09-25T11:25:06.087Z"
   },
   {
    "duration": 186,
    "start_time": "2023-09-25T11:25:06.110Z"
   },
   {
    "duration": 264,
    "start_time": "2023-09-25T11:25:06.298Z"
   },
   {
    "duration": 13,
    "start_time": "2023-09-25T11:25:06.564Z"
   },
   {
    "duration": 266,
    "start_time": "2023-09-25T11:25:06.578Z"
   },
   {
    "duration": 188,
    "start_time": "2023-09-25T11:25:06.845Z"
   },
   {
    "duration": 330,
    "start_time": "2023-09-25T11:25:07.035Z"
   },
   {
    "duration": 190,
    "start_time": "2023-09-25T11:25:07.367Z"
   },
   {
    "duration": 306,
    "start_time": "2023-09-25T11:25:07.559Z"
   },
   {
    "duration": 122,
    "start_time": "2023-09-25T11:25:07.866Z"
   },
   {
    "duration": 58,
    "start_time": "2023-09-25T11:25:07.990Z"
   },
   {
    "duration": 276,
    "start_time": "2023-09-25T11:25:08.051Z"
   },
   {
    "duration": 125,
    "start_time": "2023-09-25T11:25:08.329Z"
   },
   {
    "duration": 5,
    "start_time": "2023-09-25T11:25:08.456Z"
   },
   {
    "duration": 224,
    "start_time": "2023-09-25T11:25:08.462Z"
   },
   {
    "duration": 9,
    "start_time": "2023-09-25T11:25:08.687Z"
   },
   {
    "duration": 45,
    "start_time": "2023-09-25T11:25:08.698Z"
   },
   {
    "duration": 14,
    "start_time": "2023-09-25T11:25:08.745Z"
   },
   {
    "duration": 557,
    "start_time": "2023-09-25T11:25:08.760Z"
   },
   {
    "duration": 332,
    "start_time": "2023-09-25T11:25:09.319Z"
   },
   {
    "duration": 184,
    "start_time": "2023-09-25T11:26:00.021Z"
   },
   {
    "duration": 270,
    "start_time": "2023-09-25T11:26:52.589Z"
   },
   {
    "duration": 195,
    "start_time": "2023-09-25T11:27:23.784Z"
   },
   {
    "duration": 354,
    "start_time": "2023-09-25T11:28:27.230Z"
   },
   {
    "duration": 300,
    "start_time": "2023-09-25T11:28:48.576Z"
   },
   {
    "duration": 297,
    "start_time": "2023-09-25T11:29:01.995Z"
   },
   {
    "duration": 152,
    "start_time": "2023-09-25T11:29:49.720Z"
   },
   {
    "duration": 143,
    "start_time": "2023-09-25T11:30:14.996Z"
   },
   {
    "duration": 602,
    "start_time": "2023-09-25T11:31:08.051Z"
   },
   {
    "duration": 335,
    "start_time": "2023-09-25T11:31:43.431Z"
   },
   {
    "duration": 1056,
    "start_time": "2023-09-25T11:31:55.245Z"
   },
   {
    "duration": 47,
    "start_time": "2023-09-25T11:31:56.302Z"
   },
   {
    "duration": 20,
    "start_time": "2023-09-25T11:31:56.350Z"
   },
   {
    "duration": 73,
    "start_time": "2023-09-25T11:31:56.372Z"
   },
   {
    "duration": 249,
    "start_time": "2023-09-25T11:31:56.446Z"
   },
   {
    "duration": 11,
    "start_time": "2023-09-25T11:31:56.697Z"
   },
   {
    "duration": 265,
    "start_time": "2023-09-25T11:31:56.710Z"
   },
   {
    "duration": 184,
    "start_time": "2023-09-25T11:31:56.977Z"
   },
   {
    "duration": 285,
    "start_time": "2023-09-25T11:31:57.162Z"
   },
   {
    "duration": 195,
    "start_time": "2023-09-25T11:31:57.449Z"
   },
   {
    "duration": 316,
    "start_time": "2023-09-25T11:31:57.646Z"
   },
   {
    "duration": 130,
    "start_time": "2023-09-25T11:31:57.964Z"
   },
   {
    "duration": 5,
    "start_time": "2023-09-25T11:31:58.095Z"
   },
   {
    "duration": 145,
    "start_time": "2023-09-25T11:31:58.102Z"
   },
   {
    "duration": 130,
    "start_time": "2023-09-25T11:31:58.249Z"
   },
   {
    "duration": 5,
    "start_time": "2023-09-25T11:31:58.381Z"
   },
   {
    "duration": 233,
    "start_time": "2023-09-25T11:31:58.387Z"
   },
   {
    "duration": 9,
    "start_time": "2023-09-25T11:31:58.622Z"
   },
   {
    "duration": 52,
    "start_time": "2023-09-25T11:31:58.632Z"
   },
   {
    "duration": 14,
    "start_time": "2023-09-25T11:31:58.685Z"
   },
   {
    "duration": 531,
    "start_time": "2023-09-25T11:31:58.701Z"
   },
   {
    "duration": 324,
    "start_time": "2023-09-25T11:31:59.234Z"
   },
   {
    "duration": 1254,
    "start_time": "2023-09-25T12:17:06.880Z"
   },
   {
    "duration": 74,
    "start_time": "2023-09-25T12:17:08.136Z"
   },
   {
    "duration": 23,
    "start_time": "2023-09-25T12:17:08.211Z"
   },
   {
    "duration": 157,
    "start_time": "2023-09-25T12:17:08.236Z"
   },
   {
    "duration": 262,
    "start_time": "2023-09-25T12:17:08.395Z"
   },
   {
    "duration": 12,
    "start_time": "2023-09-25T12:17:08.659Z"
   },
   {
    "duration": 285,
    "start_time": "2023-09-25T12:17:08.672Z"
   },
   {
    "duration": 201,
    "start_time": "2023-09-25T12:17:08.959Z"
   },
   {
    "duration": 339,
    "start_time": "2023-09-25T12:17:09.161Z"
   },
   {
    "duration": 214,
    "start_time": "2023-09-25T12:17:09.502Z"
   },
   {
    "duration": 350,
    "start_time": "2023-09-25T12:17:09.717Z"
   },
   {
    "duration": 147,
    "start_time": "2023-09-25T12:17:10.069Z"
   },
   {
    "duration": 4,
    "start_time": "2023-09-25T12:17:10.218Z"
   },
   {
    "duration": 148,
    "start_time": "2023-09-25T12:17:10.224Z"
   },
   {
    "duration": 135,
    "start_time": "2023-09-25T12:17:10.374Z"
   },
   {
    "duration": 5,
    "start_time": "2023-09-25T12:17:10.511Z"
   },
   {
    "duration": 242,
    "start_time": "2023-09-25T12:17:10.518Z"
   },
   {
    "duration": 10,
    "start_time": "2023-09-25T12:17:10.762Z"
   },
   {
    "duration": 31,
    "start_time": "2023-09-25T12:17:10.774Z"
   },
   {
    "duration": 11,
    "start_time": "2023-09-25T12:17:10.806Z"
   },
   {
    "duration": 560,
    "start_time": "2023-09-25T12:17:10.819Z"
   },
   {
    "duration": 301,
    "start_time": "2023-09-25T12:17:11.380Z"
   }
  ],
  "kernelspec": {
   "display_name": "Python 3 (ipykernel)",
   "language": "python",
   "name": "python3"
  },
  "language_info": {
   "codemirror_mode": {
    "name": "ipython",
    "version": 3
   },
   "file_extension": ".py",
   "mimetype": "text/x-python",
   "name": "python",
   "nbconvert_exporter": "python",
   "pygments_lexer": "ipython3",
   "version": "3.9.5"
  },
  "toc": {
   "base_numbering": 1,
   "nav_menu": {
    "height": "433.989px",
    "width": "667px"
   },
   "number_sections": true,
   "sideBar": true,
   "skip_h1_title": true,
   "title_cell": "Table of Contents",
   "title_sidebar": "Contents",
   "toc_cell": false,
   "toc_position": {},
   "toc_section_display": true,
   "toc_window_display": false
  }
 },
 "nbformat": 4,
 "nbformat_minor": 2
}
